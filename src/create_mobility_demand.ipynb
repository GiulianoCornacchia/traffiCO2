{
 "cells": [
  {
   "cell_type": "code",
   "execution_count": 1,
   "id": "91715cbc",
   "metadata": {},
   "outputs": [],
   "source": [
    "import pandas as pd\n",
    "import numpy as np\n",
    "import geopandas as gpd\n",
    "import sumolib\n",
    "from utils import *\n",
    "import json\n",
    "from itertools import groupby\n",
    "\n",
    "\n",
    "import warnings\n",
    "warnings.filterwarnings(\"ignore\")\n"
   ]
  },
  {
   "cell_type": "markdown",
   "id": "ab819c2f",
   "metadata": {},
   "source": [
    "### Create Mobility Demand"
   ]
  },
  {
   "cell_type": "markdown",
   "id": "85d4a11d",
   "metadata": {},
   "source": [
    "#### File paths"
   ]
  },
  {
   "cell_type": "code",
   "execution_count": 2,
   "id": "e9147b54",
   "metadata": {},
   "outputs": [],
   "source": [
    "#od matrix\n",
    "od_matrix_path = \"./data/od_matrix.npy\"\n",
    "\n",
    "#dict tile-edges\n",
    "dict_tile_edges_path = \"./data/dict_tile_edges.json\"\n",
    "\n",
    "#road network\n",
    "road_network_path = \"../sumo_simulation_data/milan_medium_v5.net.xml\"\n",
    "\n",
    "#output filename\n",
    "mobility_demand_save_path = \"../sumo_simulation_data/mobility_demands/\""
   ]
  },
  {
   "cell_type": "markdown",
   "id": "48c0740d",
   "metadata": {},
   "source": [
    "#### Load the OD matrix"
   ]
  },
  {
   "cell_type": "code",
   "execution_count": 3,
   "id": "d200b719",
   "metadata": {},
   "outputs": [],
   "source": [
    "od_matrix = np.load(od_matrix_path)"
   ]
  },
  {
   "cell_type": "markdown",
   "id": "6cadb4fa",
   "metadata": {},
   "source": [
    "#### Load the dict tile-edges"
   ]
  },
  {
   "cell_type": "code",
   "execution_count": 4,
   "id": "3563811f",
   "metadata": {},
   "outputs": [],
   "source": [
    "with open(dict_tile_edges_path, 'r') as f:\n",
    "    dict_tile_edges = json.load(f)"
   ]
  },
  {
   "cell_type": "markdown",
   "id": "0dbdcb3f",
   "metadata": {},
   "source": [
    "#### Load the road network"
   ]
  },
  {
   "cell_type": "code",
   "execution_count": 5,
   "id": "1689fc1b",
   "metadata": {},
   "outputs": [],
   "source": [
    "road_network = sumolib.net.readNet(road_network_path, withInternal=False)"
   ]
  },
  {
   "cell_type": "markdown",
   "id": "bcca656a",
   "metadata": {},
   "source": [
    "#### Create the Mobility Demand"
   ]
  },
  {
   "cell_type": "code",
   "execution_count": 6,
   "id": "4e998d6e",
   "metadata": {},
   "outputs": [],
   "source": [
    "n_veichles = 10\n",
    "filename = mobility_demand_save_path+\"mobility_demand\""
   ]
  },
  {
   "cell_type": "code",
   "execution_count": 7,
   "id": "32271a71",
   "metadata": {},
   "outputs": [
    {
     "name": "stderr",
     "output_type": "stream",
     "text": [
      "100%|██████████████████████████████████████████████████████████████████████████████████| 10/10 [00:02<00:00,  3.39it/s]\n"
     ]
    }
   ],
   "source": [
    "od_pairs, departure_times, dict_mobility_demand = create_mobility_demand(n_veichles, dict_tile_edges, od_matrix, \n",
    "                                                                         road_network, filename, timing=\"start\", \n",
    "                                                                         time_range=(0, 3601))"
   ]
  },
  {
   "cell_type": "code",
   "execution_count": 8,
   "id": "7e97429a",
   "metadata": {},
   "outputs": [
    {
     "name": "stdout",
     "output_type": "stream",
     "text": [
      "Created the mobility demand: ../sumo_simulation_data/mobility_demands/mobility_demand.rou.xml\n"
     ]
    }
   ],
   "source": [
    "print(\"Created the mobility demand: \"+mobility_demand_save_path+\"mobility_demand.rou.xml\")"
   ]
  }
 ],
 "metadata": {
  "kernelspec": {
   "display_name": "Python 3 (ipykernel)",
   "language": "python",
   "name": "python3"
  },
  "language_info": {
   "codemirror_mode": {
    "name": "ipython",
    "version": 3
   },
   "file_extension": ".py",
   "mimetype": "text/x-python",
   "name": "python",
   "nbconvert_exporter": "python",
   "pygments_lexer": "ipython3",
   "version": "3.9.7"
  }
 },
 "nbformat": 4,
 "nbformat_minor": 5
}
