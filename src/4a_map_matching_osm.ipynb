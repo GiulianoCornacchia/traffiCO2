{
 "cells": [
  {
   "cell_type": "markdown",
   "id": "90f43a2e",
   "metadata": {},
   "source": [
    "# 4a Map Matching Routed Paths OpenStreetMap\n",
    "\n",
    "The goal of the following notebook is to mapmatch the Routed Paths into the SUMO road network.\n",
    "___"
   ]
  },
  {
   "cell_type": "code",
   "execution_count": null,
   "id": "0b416c23",
   "metadata": {},
   "outputs": [],
   "source": [
    "import warnings\n",
    "warnings.filterwarnings(\"ignore\")\n",
    "\n",
    "import json\n",
    "import sumolib\n",
    "from tqdm import tqdm\n",
    "from mapmatch import sumo_map_matching, tdf_from_edgelist\n",
    "from utils import create_xml_vehicles\n",
    "import folium"
   ]
  },
  {
   "cell_type": "markdown",
   "id": "7b326491",
   "metadata": {},
   "source": [
    "#### File paths"
   ]
  },
  {
   "cell_type": "code",
   "execution_count": null,
   "id": "f36f900c",
   "metadata": {},
   "outputs": [],
   "source": [
    "# road network path\n",
    "road_network_path = \"../sumo_simulation_data/milan_road_network.net.xml\"\n",
    "\n",
    "\n",
    "# osm routed paths path\n",
    "osm_routed_paths_path = \"../data/dicts_suggestion/dict_results_osm_[0_20].json\"\n",
    "\n",
    "\n",
    "# dict mobility demand path\n",
    "dict_mobility_demand_path = \"../data/dict_mobility_demand.json\"\n",
    "\n",
    "\n",
    "# output routed paths path\n",
    "output_routed_paths_filename = \"../sumo_simulation_data/routed_paths/routed_paths_osm.rou.xml\""
   ]
  },
  {
   "cell_type": "markdown",
   "id": "4a53075e",
   "metadata": {},
   "source": [
    "####  Load road networks"
   ]
  },
  {
   "cell_type": "code",
   "execution_count": null,
   "id": "a14baad6",
   "metadata": {},
   "outputs": [],
   "source": [
    "road_network = sumolib.net.readNet(road_network_path, withInternal=False)\n",
    "road_network_int = sumolib.net.readNet(road_network_path, withInternal=True)"
   ]
  },
  {
   "cell_type": "markdown",
   "id": "31f51a27",
   "metadata": {},
   "source": [
    "#### Load the GPS routed paths"
   ]
  },
  {
   "cell_type": "code",
   "execution_count": null,
   "id": "b4c4046f",
   "metadata": {},
   "outputs": [],
   "source": [
    "with open(osm_routed_paths_path, 'r') as f:\n",
    "    gps_osm_routed_paths = json.load(f)\n",
    "\n",
    "print(str(len(gps_osm_routed_paths))+\" GPS routed paths.\")"
   ]
  },
  {
   "cell_type": "markdown",
   "id": "cf2b443a",
   "metadata": {},
   "source": [
    "####  Load mobility demand dictionary"
   ]
  },
  {
   "cell_type": "code",
   "execution_count": null,
   "id": "ffff5c85",
   "metadata": {},
   "outputs": [],
   "source": [
    "with open(dict_mobility_demand_path) as json_file:\n",
    "    dict_md = json.load(json_file)\n",
    "    \n",
    "print(str(len(dict_md))+\" mobility demands.\")\n",
    "\n",
    "list_id_vehicles = [v_id for v_id in dict_md.keys() if \"vehicle\" in v_id]"
   ]
  },
  {
   "cell_type": "code",
   "execution_count": null,
   "id": "cbb2169c",
   "metadata": {},
   "outputs": [],
   "source": [
    "#specify the range of vehicles for which to apply the map matching\n",
    "\n",
    "id_from, id_to =  0, len(list_id_vehicles)\n",
    "\n",
    "print(\"from id \"+str(id_from)+\" to id \"+str(id_to))"
   ]
  },
  {
   "cell_type": "markdown",
   "id": "a513fb21",
   "metadata": {},
   "source": [
    "#### Apply the map-matching algorithm"
   ]
  },
  {
   "cell_type": "code",
   "execution_count": null,
   "id": "7acb1e7d",
   "metadata": {},
   "outputs": [],
   "source": [
    "dict_map_matched = {}\n",
    "\n",
    "pbar = tqdm(total=len(list_id_vehicles[id_from: id_to]))\n",
    "\n",
    "for v in list_id_vehicles[id_from: id_to]:\n",
    "    \n",
    "    points = gps_osm_routed_paths[v]['points']\n",
    "    edge_from = dict_md[v]['edges'][0]\n",
    "    edge_to = dict_md[v]['edges'][1]\n",
    "        \n",
    "    best_edges, sspd_best, length, conf = sumo_map_matching(points, road_network, road_network_path, \n",
    "                                                            road_network_int, edge_from, edge_to, accept_th=5e-5,\n",
    "                                                            early_stop=True)\n",
    "\n",
    "    \n",
    "    dict_map_matched[v] = {'mapped_edges':best_edges, 'length':length, 'sspd':sspd_best,\n",
    "                          'best_conf': conf}\n",
    "    \n",
    "    pbar.update(1)"
   ]
  },
  {
   "cell_type": "code",
   "execution_count": null,
   "id": "e7e287c1",
   "metadata": {},
   "outputs": [],
   "source": [
    "for k in dict_map_matched:\n",
    "    print(dict_map_matched[k]['sspd']);"
   ]
  },
  {
   "cell_type": "markdown",
   "id": "b541d4b2",
   "metadata": {},
   "source": [
    "### If you want to visually inspect the map matching use the following cell"
   ]
  },
  {
   "cell_type": "code",
   "execution_count": null,
   "id": "3d9a7932",
   "metadata": {},
   "outputs": [],
   "source": [
    "v_id = \"vehicle_0\"\n",
    "\n",
    "points_traj = gps_osm_routed_paths[v_id]['points']\n",
    "\n",
    "m = folium.Map(location=[points_traj[0][1], points_traj[0][0]], tiles='cartodbpositron', zoom_start=13)\n",
    "\n",
    "# OSM path\n",
    "folium.PolyLine(locations=[list(reversed(coord)) \n",
    "                           for coord in points_traj], weigth=3, color=\"blue\").add_to(m)\n",
    "\n",
    "# map matched path\n",
    "tdf_mapmatched = tdf_from_edgelist(dict_map_matched[v_id]['mapped_edges'], road_network)\n",
    "points_mapmatched = tdf_mapmatched[['lng','lat']].values\n",
    "\n",
    "folium.PolyLine(locations=[list(reversed(coord)) \n",
    "                           for coord in points_mapmatched], weigth=3, color=\"orange\").add_to(m)\n",
    "\n",
    "m"
   ]
  },
  {
   "cell_type": "markdown",
   "id": "89044703",
   "metadata": {},
   "source": [
    "### Create a dictionary describing the mapped edges for each vehicle"
   ]
  },
  {
   "cell_type": "code",
   "execution_count": null,
   "id": "d0e534d2",
   "metadata": {},
   "outputs": [],
   "source": [
    "dict_sumo_osm = {}\n",
    "\n",
    "for ind, v_id in enumerate(list(dict_md.keys())):      \n",
    "    if \"vehicle\" in v_id:\n",
    "        new_id = \"osm_\"+v_id.split(\"_\")[1]\n",
    "        dep_time = dict_md[v_id]['time']\n",
    "        edges_v = dict_map_matched[v_id]['mapped_edges']\n",
    "        \n",
    "        dict_sumo_osm[new_id] = {'edges':str(edges_v).replace(\",\",\"\").replace(\"'\",\"\")[1:-1], 'time': dep_time}"
   ]
  },
  {
   "cell_type": "markdown",
   "id": "c41fd3f8",
   "metadata": {},
   "source": [
    "### Create a SUMO xml file that described the OSM routed paths"
   ]
  },
  {
   "cell_type": "code",
   "execution_count": null,
   "id": "9cdb4a5b",
   "metadata": {},
   "outputs": [],
   "source": [
    "create_xml_vehicles(dict_sumo_osm, output_routed_paths_filename);"
   ]
  }
 ],
 "metadata": {
  "kernelspec": {
   "display_name": "Python 3 (ipykernel)",
   "language": "python",
   "name": "python3"
  },
  "language_info": {
   "codemirror_mode": {
    "name": "ipython",
    "version": 3
   },
   "file_extension": ".py",
   "mimetype": "text/x-python",
   "name": "python",
   "nbconvert_exporter": "python",
   "pygments_lexer": "ipython3",
   "version": "3.9.7"
  }
 },
 "nbformat": 4,
 "nbformat_minor": 5
}
