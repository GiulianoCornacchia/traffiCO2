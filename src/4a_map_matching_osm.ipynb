{
 "cells": [
  {
   "cell_type": "code",
   "execution_count": 1,
   "id": "0b416c23",
   "metadata": {},
   "outputs": [],
   "source": [
    "import json\n",
    "import sumolib\n",
    "from tqdm import tqdm\n",
    "from mapmatch import sumo_map_matching, tdf_from_edgelist\n",
    "from utils import create_xml_vehicles\n",
    "import folium"
   ]
  },
  {
   "cell_type": "markdown",
   "id": "7b326491",
   "metadata": {},
   "source": [
    "#### File paths"
   ]
  },
  {
   "cell_type": "code",
   "execution_count": 8,
   "id": "f36f900c",
   "metadata": {},
   "outputs": [],
   "source": [
    "# road network path\n",
    "road_network_path = \"../sumo_simulation_data/milan_road_network.net.xml\"\n",
    "\n",
    "\n",
    "# osm routed paths path\n",
    "osm_routed_paths_path = \"../data/dicts_suggestion/dict_results_osm_[0_50].json\"\n",
    "\n",
    "\n",
    "# dict mobility demand path\n",
    "dict_mobility_demand_path = \"../data/dict_mobility_demand.json\"\n",
    "\n",
    "\n",
    "# output routed paths path\n",
    "output_routed_paths_filename = \"../sumo_simulation_data/routed_paths/routed_paths_osm.rou.xml\""
   ]
  },
  {
   "cell_type": "markdown",
   "id": "4a53075e",
   "metadata": {},
   "source": [
    "####  Load road networks"
   ]
  },
  {
   "cell_type": "code",
   "execution_count": 9,
   "id": "a14baad6",
   "metadata": {},
   "outputs": [],
   "source": [
    "road_network = sumolib.net.readNet(road_network_path, withInternal=False)\n",
    "road_network_int = sumolib.net.readNet(road_network_path, withInternal=True)"
   ]
  },
  {
   "cell_type": "markdown",
   "id": "31f51a27",
   "metadata": {},
   "source": [
    "#### Load the GPS routed paths"
   ]
  },
  {
   "cell_type": "code",
   "execution_count": 10,
   "id": "b4c4046f",
   "metadata": {},
   "outputs": [
    {
     "name": "stdout",
     "output_type": "stream",
     "text": [
      "50 GPS routed paths.\n"
     ]
    }
   ],
   "source": [
    "with open(osm_routed_paths_path, 'r') as f:\n",
    "    gps_osm_routed_paths = json.load(f)\n",
    "\n",
    "print(str(len(gps_osm_routed_paths))+\" GPS routed paths.\")"
   ]
  },
  {
   "cell_type": "markdown",
   "id": "cf2b443a",
   "metadata": {},
   "source": [
    "####  Load mobility demand dictionary"
   ]
  },
  {
   "cell_type": "code",
   "execution_count": 13,
   "id": "ffff5c85",
   "metadata": {},
   "outputs": [
    {
     "name": "stdout",
     "output_type": "stream",
     "text": [
      "50 mobility demands.\n"
     ]
    }
   ],
   "source": [
    "with open(dict_mobility_demand_path) as json_file:\n",
    "    dict_md = json.load(json_file)\n",
    "    \n",
    "print(str(len(dict_md))+\" mobility demands.\")\n",
    "\n",
    "list_id_vehicles = [v_id for v_id in dict_md.keys() if \"vehicle\" in v_id]"
   ]
  },
  {
   "cell_type": "code",
   "execution_count": 14,
   "id": "cbb2169c",
   "metadata": {},
   "outputs": [
    {
     "name": "stdout",
     "output_type": "stream",
     "text": [
      "from id 0 to id 50\n"
     ]
    }
   ],
   "source": [
    "#specify the range of vehicles for which to apply the map matching\n",
    "\n",
    "id_from, id_to =  0, len(list_id_vehicles)\n",
    "\n",
    "print(\"from id \"+str(id_from)+\" to id \"+str(id_to))"
   ]
  },
  {
   "cell_type": "markdown",
   "id": "a513fb21",
   "metadata": {},
   "source": [
    "#### Apply the map-matching algorithm"
   ]
  },
  {
   "cell_type": "code",
   "execution_count": 20,
   "id": "7acb1e7d",
   "metadata": {},
   "outputs": [
    {
     "name": "stderr",
     "output_type": "stream",
     "text": [
      "\n",
      "100%|██████████████████████████████████████████████████████████████████████████████████| 50/50 [07:38<00:00,  9.17s/it]\u001b[A\n",
      "\n",
      "  2%|█▋                                                                                 | 1/50 [00:00<00:41,  1.17it/s]\u001b[A\n",
      "  4%|███▎                                                                               | 2/50 [00:01<00:26,  1.81it/s]\u001b[A"
     ]
    },
    {
     "ename": "KeyboardInterrupt",
     "evalue": "",
     "output_type": "error",
     "traceback": [
      "\u001b[1;31m---------------------------------------------------------------------------\u001b[0m",
      "\u001b[1;31mKeyboardInterrupt\u001b[0m                         Traceback (most recent call last)",
      "\u001b[1;32m~\\AppData\\Local\\Temp/ipykernel_10636/3241700292.py\u001b[0m in \u001b[0;36m<module>\u001b[1;34m\u001b[0m\n\u001b[0;32m      9\u001b[0m     \u001b[0medge_to\u001b[0m \u001b[1;33m=\u001b[0m \u001b[0mdict_md\u001b[0m\u001b[1;33m[\u001b[0m\u001b[0mv\u001b[0m\u001b[1;33m]\u001b[0m\u001b[1;33m[\u001b[0m\u001b[1;34m'edges'\u001b[0m\u001b[1;33m]\u001b[0m\u001b[1;33m[\u001b[0m\u001b[1;36m1\u001b[0m\u001b[1;33m]\u001b[0m\u001b[1;33m\u001b[0m\u001b[1;33m\u001b[0m\u001b[0m\n\u001b[0;32m     10\u001b[0m \u001b[1;33m\u001b[0m\u001b[0m\n\u001b[1;32m---> 11\u001b[1;33m     best_edges, sspd_best, length, conf = sumo_map_matching(points, road_network, road_network_path, \n\u001b[0m\u001b[0;32m     12\u001b[0m                                                             \u001b[0mroad_network_int\u001b[0m\u001b[1;33m,\u001b[0m \u001b[0medge_from\u001b[0m\u001b[1;33m,\u001b[0m \u001b[0medge_to\u001b[0m\u001b[1;33m,\u001b[0m \u001b[0maccept_th\u001b[0m\u001b[1;33m=\u001b[0m\u001b[1;36m5e-5\u001b[0m\u001b[1;33m,\u001b[0m\u001b[1;33m\u001b[0m\u001b[1;33m\u001b[0m\u001b[0m\n\u001b[0;32m     13\u001b[0m                                                             early_stop=True)\n",
      "\u001b[1;32m~\\Documents\\GitHub\\traffiCO2\\src\\mapmatch.py\u001b[0m in \u001b[0;36msumo_map_matching\u001b[1;34m(points, road_network, road_network_path, road_network_int, edge_from, edge_to, accept_th, early_stop)\u001b[0m\n\u001b[0;32m    136\u001b[0m     \u001b[1;31m# 3 AUTOADAPTING MAP MATCHING\u001b[0m\u001b[1;33m\u001b[0m\u001b[1;33m\u001b[0m\u001b[0m\n\u001b[0;32m    137\u001b[0m \u001b[1;33m\u001b[0m\u001b[0m\n\u001b[1;32m--> 138\u001b[1;33m     aa_edge_list, sspd_aa, dist, alg = autoadapting_map_matching(points, road_network, \n\u001b[0m\u001b[0;32m    139\u001b[0m                                                             \u001b[0mroad_network_int\u001b[0m\u001b[1;33m,\u001b[0m \u001b[0medge_from\u001b[0m\u001b[1;33m,\u001b[0m \u001b[0medge_to\u001b[0m\u001b[1;33m,\u001b[0m \u001b[0mfastest\u001b[0m\u001b[1;33m=\u001b[0m\u001b[1;32mTrue\u001b[0m\u001b[1;33m,\u001b[0m\u001b[1;33m\u001b[0m\u001b[1;33m\u001b[0m\u001b[0m\n\u001b[0;32m    140\u001b[0m                                                               accept_th=5e-5, early_stop=True)\n",
      "\u001b[1;32m~\\Documents\\GitHub\\traffiCO2\\src\\mapmatch.py\u001b[0m in \u001b[0;36mautoadapting_map_matching\u001b[1;34m(points, road_network, road_network_int, edge_from, edge_to, fastest, accept_th, early_stop)\u001b[0m\n\u001b[0;32m    177\u001b[0m \u001b[1;33m\u001b[0m\u001b[0m\n\u001b[0;32m    178\u001b[0m             \u001b[1;31m#compute sspd\u001b[0m\u001b[1;33m\u001b[0m\u001b[1;33m\u001b[0m\u001b[0m\n\u001b[1;32m--> 179\u001b[1;33m             \u001b[0msspd\u001b[0m \u001b[1;33m=\u001b[0m \u001b[0me_sspd\u001b[0m\u001b[1;33m(\u001b[0m\u001b[0mpoints_traj\u001b[0m\u001b[1;33m,\u001b[0m \u001b[0mnp\u001b[0m\u001b[1;33m.\u001b[0m\u001b[0marray\u001b[0m\u001b[1;33m(\u001b[0m\u001b[0mpoints\u001b[0m\u001b[1;33m)\u001b[0m\u001b[1;33m)\u001b[0m\u001b[1;33m\u001b[0m\u001b[1;33m\u001b[0m\u001b[0m\n\u001b[0m\u001b[0;32m    180\u001b[0m             \u001b[1;31m#print(sspd)\u001b[0m\u001b[1;33m\u001b[0m\u001b[1;33m\u001b[0m\u001b[0m\n\u001b[0;32m    181\u001b[0m \u001b[1;33m\u001b[0m\u001b[0m\n",
      "\u001b[1;32m~\\Documents\\GitHub\\traffiCO2\\src\\mapmatch.py\u001b[0m in \u001b[0;36me_sspd\u001b[1;34m(t1, t2)\u001b[0m\n\u001b[0;32m    401\u001b[0m     \u001b[0mt2_dist\u001b[0m \u001b[1;33m=\u001b[0m \u001b[1;33m[\u001b[0m\u001b[0meucl_dist\u001b[0m\u001b[1;33m(\u001b[0m\u001b[0mt2\u001b[0m\u001b[1;33m[\u001b[0m\u001b[0mit2\u001b[0m\u001b[1;33m]\u001b[0m\u001b[1;33m,\u001b[0m \u001b[0mt2\u001b[0m\u001b[1;33m[\u001b[0m\u001b[0mit2\u001b[0m \u001b[1;33m+\u001b[0m \u001b[1;36m1\u001b[0m\u001b[1;33m]\u001b[0m\u001b[1;33m)\u001b[0m \u001b[1;32mfor\u001b[0m \u001b[0mit2\u001b[0m \u001b[1;32min\u001b[0m \u001b[0mrange\u001b[0m\u001b[1;33m(\u001b[0m\u001b[0ml_t2\u001b[0m \u001b[1;33m-\u001b[0m \u001b[1;36m1\u001b[0m\u001b[1;33m)\u001b[0m\u001b[1;33m]\u001b[0m\u001b[1;33m\u001b[0m\u001b[1;33m\u001b[0m\u001b[0m\n\u001b[0;32m    402\u001b[0m \u001b[1;33m\u001b[0m\u001b[0m\n\u001b[1;32m--> 403\u001b[1;33m     \u001b[0msspd\u001b[0m \u001b[1;33m=\u001b[0m \u001b[1;33m(\u001b[0m\u001b[0me_spd\u001b[0m\u001b[1;33m(\u001b[0m\u001b[0mt1\u001b[0m\u001b[1;33m,\u001b[0m \u001b[0mt2\u001b[0m\u001b[1;33m,\u001b[0m \u001b[0mmdist\u001b[0m\u001b[1;33m,\u001b[0m \u001b[0ml_t1\u001b[0m\u001b[1;33m,\u001b[0m \u001b[0ml_t2\u001b[0m\u001b[1;33m,\u001b[0m \u001b[0mt2_dist\u001b[0m\u001b[1;33m)\u001b[0m \u001b[1;33m+\u001b[0m \u001b[0me_spd\u001b[0m\u001b[1;33m(\u001b[0m\u001b[0mt2\u001b[0m\u001b[1;33m,\u001b[0m \u001b[0mt1\u001b[0m\u001b[1;33m,\u001b[0m \u001b[0mmdist\u001b[0m\u001b[1;33m.\u001b[0m\u001b[0mT\u001b[0m\u001b[1;33m,\u001b[0m \u001b[0ml_t2\u001b[0m\u001b[1;33m,\u001b[0m \u001b[0ml_t1\u001b[0m\u001b[1;33m,\u001b[0m \u001b[0mt1_dist\u001b[0m\u001b[1;33m)\u001b[0m\u001b[1;33m)\u001b[0m \u001b[1;33m/\u001b[0m \u001b[1;36m2\u001b[0m\u001b[1;33m\u001b[0m\u001b[1;33m\u001b[0m\u001b[0m\n\u001b[0m\u001b[0;32m    404\u001b[0m     \u001b[1;32mreturn\u001b[0m \u001b[0msspd\u001b[0m\u001b[1;33m\u001b[0m\u001b[1;33m\u001b[0m\u001b[0m\n\u001b[0;32m    405\u001b[0m \u001b[1;33m\u001b[0m\u001b[0m\n",
      "\u001b[1;32m~\\Documents\\GitHub\\traffiCO2\\src\\mapmatch.py\u001b[0m in \u001b[0;36me_spd\u001b[1;34m(t1, t2, mdist, l_t1, l_t2, t2_dist)\u001b[0m\n\u001b[0;32m    390\u001b[0m \u001b[1;32mdef\u001b[0m \u001b[0me_spd\u001b[0m\u001b[1;33m(\u001b[0m\u001b[0mt1\u001b[0m\u001b[1;33m,\u001b[0m \u001b[0mt2\u001b[0m\u001b[1;33m,\u001b[0m \u001b[0mmdist\u001b[0m\u001b[1;33m,\u001b[0m \u001b[0ml_t1\u001b[0m\u001b[1;33m,\u001b[0m \u001b[0ml_t2\u001b[0m\u001b[1;33m,\u001b[0m \u001b[0mt2_dist\u001b[0m\u001b[1;33m)\u001b[0m\u001b[1;33m:\u001b[0m\u001b[1;33m\u001b[0m\u001b[1;33m\u001b[0m\u001b[0m\n\u001b[0;32m    391\u001b[0m \u001b[1;33m\u001b[0m\u001b[0m\n\u001b[1;32m--> 392\u001b[1;33m     \u001b[0mspd\u001b[0m \u001b[1;33m=\u001b[0m \u001b[0msum\u001b[0m\u001b[1;33m(\u001b[0m\u001b[1;33m[\u001b[0m\u001b[0mpoint_to_trajectory\u001b[0m\u001b[1;33m(\u001b[0m\u001b[0mt1\u001b[0m\u001b[1;33m[\u001b[0m\u001b[0mi1\u001b[0m\u001b[1;33m]\u001b[0m\u001b[1;33m,\u001b[0m \u001b[0mt2\u001b[0m\u001b[1;33m,\u001b[0m \u001b[0mmdist\u001b[0m\u001b[1;33m[\u001b[0m\u001b[0mi1\u001b[0m\u001b[1;33m]\u001b[0m\u001b[1;33m,\u001b[0m \u001b[0mt2_dist\u001b[0m\u001b[1;33m,\u001b[0m \u001b[0ml_t2\u001b[0m\u001b[1;33m)\u001b[0m \u001b[1;32mfor\u001b[0m \u001b[0mi1\u001b[0m \u001b[1;32min\u001b[0m \u001b[0mrange\u001b[0m\u001b[1;33m(\u001b[0m\u001b[0ml_t1\u001b[0m\u001b[1;33m)\u001b[0m\u001b[1;33m]\u001b[0m\u001b[1;33m)\u001b[0m \u001b[1;33m/\u001b[0m \u001b[0ml_t1\u001b[0m\u001b[1;33m\u001b[0m\u001b[1;33m\u001b[0m\u001b[0m\n\u001b[0m\u001b[0;32m    393\u001b[0m     \u001b[1;32mreturn\u001b[0m \u001b[0mspd\u001b[0m\u001b[1;33m\u001b[0m\u001b[1;33m\u001b[0m\u001b[0m\n\u001b[0;32m    394\u001b[0m \u001b[1;33m\u001b[0m\u001b[0m\n",
      "\u001b[1;32m~\\Documents\\GitHub\\traffiCO2\\src\\mapmatch.py\u001b[0m in \u001b[0;36m<listcomp>\u001b[1;34m(.0)\u001b[0m\n\u001b[0;32m    390\u001b[0m \u001b[1;32mdef\u001b[0m \u001b[0me_spd\u001b[0m\u001b[1;33m(\u001b[0m\u001b[0mt1\u001b[0m\u001b[1;33m,\u001b[0m \u001b[0mt2\u001b[0m\u001b[1;33m,\u001b[0m \u001b[0mmdist\u001b[0m\u001b[1;33m,\u001b[0m \u001b[0ml_t1\u001b[0m\u001b[1;33m,\u001b[0m \u001b[0ml_t2\u001b[0m\u001b[1;33m,\u001b[0m \u001b[0mt2_dist\u001b[0m\u001b[1;33m)\u001b[0m\u001b[1;33m:\u001b[0m\u001b[1;33m\u001b[0m\u001b[1;33m\u001b[0m\u001b[0m\n\u001b[0;32m    391\u001b[0m \u001b[1;33m\u001b[0m\u001b[0m\n\u001b[1;32m--> 392\u001b[1;33m     \u001b[0mspd\u001b[0m \u001b[1;33m=\u001b[0m \u001b[0msum\u001b[0m\u001b[1;33m(\u001b[0m\u001b[1;33m[\u001b[0m\u001b[0mpoint_to_trajectory\u001b[0m\u001b[1;33m(\u001b[0m\u001b[0mt1\u001b[0m\u001b[1;33m[\u001b[0m\u001b[0mi1\u001b[0m\u001b[1;33m]\u001b[0m\u001b[1;33m,\u001b[0m \u001b[0mt2\u001b[0m\u001b[1;33m,\u001b[0m \u001b[0mmdist\u001b[0m\u001b[1;33m[\u001b[0m\u001b[0mi1\u001b[0m\u001b[1;33m]\u001b[0m\u001b[1;33m,\u001b[0m \u001b[0mt2_dist\u001b[0m\u001b[1;33m,\u001b[0m \u001b[0ml_t2\u001b[0m\u001b[1;33m)\u001b[0m \u001b[1;32mfor\u001b[0m \u001b[0mi1\u001b[0m \u001b[1;32min\u001b[0m \u001b[0mrange\u001b[0m\u001b[1;33m(\u001b[0m\u001b[0ml_t1\u001b[0m\u001b[1;33m)\u001b[0m\u001b[1;33m]\u001b[0m\u001b[1;33m)\u001b[0m \u001b[1;33m/\u001b[0m \u001b[0ml_t1\u001b[0m\u001b[1;33m\u001b[0m\u001b[1;33m\u001b[0m\u001b[0m\n\u001b[0m\u001b[0;32m    393\u001b[0m     \u001b[1;32mreturn\u001b[0m \u001b[0mspd\u001b[0m\u001b[1;33m\u001b[0m\u001b[1;33m\u001b[0m\u001b[0m\n\u001b[0;32m    394\u001b[0m \u001b[1;33m\u001b[0m\u001b[0m\n",
      "\u001b[1;32m~\\Documents\\GitHub\\traffiCO2\\src\\mapmatch.py\u001b[0m in \u001b[0;36mpoint_to_trajectory\u001b[1;34m(p, t, mdist_p, t_dist, l_t)\u001b[0m\n\u001b[0;32m    412\u001b[0m \u001b[1;33m\u001b[0m\u001b[0m\n\u001b[0;32m    413\u001b[0m     dpt = min(\n\u001b[1;32m--> 414\u001b[1;33m         [point_to_seg(p, t[it], t[it + 1], mdist_p[it], mdist_p[it + 1], t_dist[it]) for it in range(l_t - 1)])\n\u001b[0m\u001b[0;32m    415\u001b[0m     \u001b[1;32mreturn\u001b[0m \u001b[0mdpt\u001b[0m\u001b[1;33m\u001b[0m\u001b[1;33m\u001b[0m\u001b[0m\n\u001b[0;32m    416\u001b[0m \u001b[1;33m\u001b[0m\u001b[0m\n",
      "\u001b[1;32m~\\Documents\\GitHub\\traffiCO2\\src\\mapmatch.py\u001b[0m in \u001b[0;36m<listcomp>\u001b[1;34m(.0)\u001b[0m\n\u001b[0;32m    412\u001b[0m \u001b[1;33m\u001b[0m\u001b[0m\n\u001b[0;32m    413\u001b[0m     dpt = min(\n\u001b[1;32m--> 414\u001b[1;33m         [point_to_seg(p, t[it], t[it + 1], mdist_p[it], mdist_p[it + 1], t_dist[it]) for it in range(l_t - 1)])\n\u001b[0m\u001b[0;32m    415\u001b[0m     \u001b[1;32mreturn\u001b[0m \u001b[0mdpt\u001b[0m\u001b[1;33m\u001b[0m\u001b[1;33m\u001b[0m\u001b[0m\n\u001b[0;32m    416\u001b[0m \u001b[1;33m\u001b[0m\u001b[0m\n",
      "\u001b[1;32m~\\Documents\\GitHub\\traffiCO2\\src\\mapmatch.py\u001b[0m in \u001b[0;36mpoint_to_seg\u001b[1;34m(p, s1, s2, dps1, dps2, ds)\u001b[0m\n\u001b[0;32m    439\u001b[0m             \u001b[0mix\u001b[0m \u001b[1;33m=\u001b[0m \u001b[0mp1x\u001b[0m \u001b[1;33m+\u001b[0m \u001b[0mu\u001b[0m \u001b[1;33m*\u001b[0m \u001b[0mx_diff\u001b[0m\u001b[1;33m\u001b[0m\u001b[1;33m\u001b[0m\u001b[0m\n\u001b[0;32m    440\u001b[0m             \u001b[0miy\u001b[0m \u001b[1;33m=\u001b[0m \u001b[0mp1y\u001b[0m \u001b[1;33m+\u001b[0m \u001b[0mu\u001b[0m \u001b[1;33m*\u001b[0m \u001b[0my_diff\u001b[0m\u001b[1;33m\u001b[0m\u001b[1;33m\u001b[0m\u001b[0m\n\u001b[1;32m--> 441\u001b[1;33m             \u001b[0mdpl\u001b[0m \u001b[1;33m=\u001b[0m \u001b[0meucl_dist\u001b[0m\u001b[1;33m(\u001b[0m\u001b[0mp\u001b[0m\u001b[1;33m,\u001b[0m \u001b[0mnp\u001b[0m\u001b[1;33m.\u001b[0m\u001b[0marray\u001b[0m\u001b[1;33m(\u001b[0m\u001b[1;33m[\u001b[0m\u001b[0mix\u001b[0m\u001b[1;33m,\u001b[0m \u001b[0miy\u001b[0m\u001b[1;33m]\u001b[0m\u001b[1;33m)\u001b[0m\u001b[1;33m)\u001b[0m\u001b[1;33m\u001b[0m\u001b[1;33m\u001b[0m\u001b[0m\n\u001b[0m\u001b[0;32m    442\u001b[0m \u001b[1;33m\u001b[0m\u001b[0m\n\u001b[0;32m    443\u001b[0m     \u001b[1;32mreturn\u001b[0m \u001b[0mdpl\u001b[0m\u001b[1;33m\u001b[0m\u001b[1;33m\u001b[0m\u001b[0m\n",
      "\u001b[1;32m~\\Documents\\GitHub\\traffiCO2\\src\\mapmatch.py\u001b[0m in \u001b[0;36meucl_dist\u001b[1;34m(x, y)\u001b[0m\n\u001b[0;32m    385\u001b[0m \u001b[1;32mdef\u001b[0m \u001b[0meucl_dist\u001b[0m\u001b[1;33m(\u001b[0m\u001b[0mx\u001b[0m\u001b[1;33m,\u001b[0m \u001b[0my\u001b[0m\u001b[1;33m)\u001b[0m\u001b[1;33m:\u001b[0m\u001b[1;33m\u001b[0m\u001b[1;33m\u001b[0m\u001b[0m\n\u001b[0;32m    386\u001b[0m \u001b[1;33m\u001b[0m\u001b[0m\n\u001b[1;32m--> 387\u001b[1;33m     \u001b[0mdist\u001b[0m \u001b[1;33m=\u001b[0m \u001b[0mnp\u001b[0m\u001b[1;33m.\u001b[0m\u001b[0mlinalg\u001b[0m\u001b[1;33m.\u001b[0m\u001b[0mnorm\u001b[0m\u001b[1;33m(\u001b[0m\u001b[0mx\u001b[0m \u001b[1;33m-\u001b[0m \u001b[0my\u001b[0m\u001b[1;33m)\u001b[0m\u001b[1;33m\u001b[0m\u001b[1;33m\u001b[0m\u001b[0m\n\u001b[0m\u001b[0;32m    388\u001b[0m     \u001b[1;32mreturn\u001b[0m \u001b[0mdist\u001b[0m\u001b[1;33m\u001b[0m\u001b[1;33m\u001b[0m\u001b[0m\n\u001b[0;32m    389\u001b[0m \u001b[1;33m\u001b[0m\u001b[0m\n",
      "\u001b[1;32m~\\Anaconda3\\envs\\sk_dev\\lib\\site-packages\\numpy\\core\\overrides.py\u001b[0m in \u001b[0;36mnorm\u001b[1;34m(*args, **kwargs)\u001b[0m\n",
      "\u001b[1;32m~\\Anaconda3\\envs\\sk_dev\\lib\\site-packages\\numpy\\linalg\\linalg.py\u001b[0m in \u001b[0;36mnorm\u001b[1;34m(x, ord, axis, keepdims)\u001b[0m\n\u001b[0;32m   2514\u001b[0m                 \u001b[0msqnorm\u001b[0m \u001b[1;33m=\u001b[0m \u001b[0mdot\u001b[0m\u001b[1;33m(\u001b[0m\u001b[0mx\u001b[0m\u001b[1;33m.\u001b[0m\u001b[0mreal\u001b[0m\u001b[1;33m,\u001b[0m \u001b[0mx\u001b[0m\u001b[1;33m.\u001b[0m\u001b[0mreal\u001b[0m\u001b[1;33m)\u001b[0m \u001b[1;33m+\u001b[0m \u001b[0mdot\u001b[0m\u001b[1;33m(\u001b[0m\u001b[0mx\u001b[0m\u001b[1;33m.\u001b[0m\u001b[0mimag\u001b[0m\u001b[1;33m,\u001b[0m \u001b[0mx\u001b[0m\u001b[1;33m.\u001b[0m\u001b[0mimag\u001b[0m\u001b[1;33m)\u001b[0m\u001b[1;33m\u001b[0m\u001b[1;33m\u001b[0m\u001b[0m\n\u001b[0;32m   2515\u001b[0m             \u001b[1;32melse\u001b[0m\u001b[1;33m:\u001b[0m\u001b[1;33m\u001b[0m\u001b[1;33m\u001b[0m\u001b[0m\n\u001b[1;32m-> 2516\u001b[1;33m                 \u001b[0msqnorm\u001b[0m \u001b[1;33m=\u001b[0m \u001b[0mdot\u001b[0m\u001b[1;33m(\u001b[0m\u001b[0mx\u001b[0m\u001b[1;33m,\u001b[0m \u001b[0mx\u001b[0m\u001b[1;33m)\u001b[0m\u001b[1;33m\u001b[0m\u001b[1;33m\u001b[0m\u001b[0m\n\u001b[0m\u001b[0;32m   2517\u001b[0m             \u001b[0mret\u001b[0m \u001b[1;33m=\u001b[0m \u001b[0msqrt\u001b[0m\u001b[1;33m(\u001b[0m\u001b[0msqnorm\u001b[0m\u001b[1;33m)\u001b[0m\u001b[1;33m\u001b[0m\u001b[1;33m\u001b[0m\u001b[0m\n\u001b[0;32m   2518\u001b[0m             \u001b[1;32mif\u001b[0m \u001b[0mkeepdims\u001b[0m\u001b[1;33m:\u001b[0m\u001b[1;33m\u001b[0m\u001b[1;33m\u001b[0m\u001b[0m\n",
      "\u001b[1;32m~\\Anaconda3\\envs\\sk_dev\\lib\\site-packages\\numpy\\core\\overrides.py\u001b[0m in \u001b[0;36mdot\u001b[1;34m(*args, **kwargs)\u001b[0m\n",
      "\u001b[1;31mKeyboardInterrupt\u001b[0m: "
     ]
    }
   ],
   "source": [
    "dict_map_matched = {}\n",
    "\n",
    "pbar = tqdm(total=len(list_id_vehicles[id_from: id_to]))\n",
    "\n",
    "for v in list_id_vehicles[id_from: id_to]:\n",
    "    \n",
    "    points = gps_osm_routed_paths[v]['points']\n",
    "    edge_from = dict_md[v]['edges'][0]\n",
    "    edge_to = dict_md[v]['edges'][1]\n",
    "    \n",
    "    best_edges, sspd_best, length, conf = sumo_map_matching(points, road_network, road_network_path, \n",
    "                                                            road_network_int, edge_from, edge_to, accept_th=5e-5,\n",
    "                                                            early_stop=True)\n",
    "\n",
    "    \n",
    "    dict_map_matched[v] = {'mapped_edges':best_edges, 'length':length, 'sspd':sspd_best,\n",
    "                          'best_conf': conf}\n",
    "    pbar.update(1)"
   ]
  },
  {
   "cell_type": "code",
   "execution_count": 16,
   "id": "e7e287c1",
   "metadata": {},
   "outputs": [],
   "source": [
    "#for k in dict_map_matched:\n",
    "#    print(dict_map_matched[k]['sspd']);"
   ]
  },
  {
   "cell_type": "markdown",
   "id": "b541d4b2",
   "metadata": {},
   "source": [
    "### If you want to visually inspect the map matching use the following cell"
   ]
  },
  {
   "cell_type": "code",
   "execution_count": 17,
   "id": "3d9a7932",
   "metadata": {
    "collapsed": true
   },
   "outputs": [
    {
     "data": {
      "text/html": [
       "<div style=\"width:100%;\"><div style=\"position:relative;width:100%;height:0;padding-bottom:60%;\"><span style=\"color:#565656\">Make this Notebook Trusted to load map: File -> Trust Notebook</span><iframe src=\"about:blank\" style=\"position:absolute;width:100%;height:100%;left:0;top:0;border:none !important;\" data-html=%3C%21DOCTYPE%20html%3E%0A%3Chead%3E%20%20%20%20%0A%20%20%20%20%3Cmeta%20http-equiv%3D%22content-type%22%20content%3D%22text/html%3B%20charset%3DUTF-8%22%20/%3E%0A%20%20%20%20%0A%20%20%20%20%20%20%20%20%3Cscript%3E%0A%20%20%20%20%20%20%20%20%20%20%20%20L_NO_TOUCH%20%3D%20false%3B%0A%20%20%20%20%20%20%20%20%20%20%20%20L_DISABLE_3D%20%3D%20false%3B%0A%20%20%20%20%20%20%20%20%3C/script%3E%0A%20%20%20%20%0A%20%20%20%20%3Cstyle%3Ehtml%2C%20body%20%7Bwidth%3A%20100%25%3Bheight%3A%20100%25%3Bmargin%3A%200%3Bpadding%3A%200%3B%7D%3C/style%3E%0A%20%20%20%20%3Cstyle%3E%23map%20%7Bposition%3Aabsolute%3Btop%3A0%3Bbottom%3A0%3Bright%3A0%3Bleft%3A0%3B%7D%3C/style%3E%0A%20%20%20%20%3Cscript%20src%3D%22https%3A//cdn.jsdelivr.net/npm/leaflet%401.6.0/dist/leaflet.js%22%3E%3C/script%3E%0A%20%20%20%20%3Cscript%20src%3D%22https%3A//code.jquery.com/jquery-1.12.4.min.js%22%3E%3C/script%3E%0A%20%20%20%20%3Cscript%20src%3D%22https%3A//maxcdn.bootstrapcdn.com/bootstrap/3.2.0/js/bootstrap.min.js%22%3E%3C/script%3E%0A%20%20%20%20%3Cscript%20src%3D%22https%3A//cdnjs.cloudflare.com/ajax/libs/Leaflet.awesome-markers/2.0.2/leaflet.awesome-markers.js%22%3E%3C/script%3E%0A%20%20%20%20%3Clink%20rel%3D%22stylesheet%22%20href%3D%22https%3A//cdn.jsdelivr.net/npm/leaflet%401.6.0/dist/leaflet.css%22/%3E%0A%20%20%20%20%3Clink%20rel%3D%22stylesheet%22%20href%3D%22https%3A//maxcdn.bootstrapcdn.com/bootstrap/3.2.0/css/bootstrap.min.css%22/%3E%0A%20%20%20%20%3Clink%20rel%3D%22stylesheet%22%20href%3D%22https%3A//maxcdn.bootstrapcdn.com/bootstrap/3.2.0/css/bootstrap-theme.min.css%22/%3E%0A%20%20%20%20%3Clink%20rel%3D%22stylesheet%22%20href%3D%22https%3A//maxcdn.bootstrapcdn.com/font-awesome/4.6.3/css/font-awesome.min.css%22/%3E%0A%20%20%20%20%3Clink%20rel%3D%22stylesheet%22%20href%3D%22https%3A//cdnjs.cloudflare.com/ajax/libs/Leaflet.awesome-markers/2.0.2/leaflet.awesome-markers.css%22/%3E%0A%20%20%20%20%3Clink%20rel%3D%22stylesheet%22%20href%3D%22https%3A//cdn.jsdelivr.net/gh/python-visualization/folium/folium/templates/leaflet.awesome.rotate.min.css%22/%3E%0A%20%20%20%20%0A%20%20%20%20%20%20%20%20%20%20%20%20%3Cmeta%20name%3D%22viewport%22%20content%3D%22width%3Ddevice-width%2C%0A%20%20%20%20%20%20%20%20%20%20%20%20%20%20%20%20initial-scale%3D1.0%2C%20maximum-scale%3D1.0%2C%20user-scalable%3Dno%22%20/%3E%0A%20%20%20%20%20%20%20%20%20%20%20%20%3Cstyle%3E%0A%20%20%20%20%20%20%20%20%20%20%20%20%20%20%20%20%23map_0418265742894a0fb421375b9f920efb%20%7B%0A%20%20%20%20%20%20%20%20%20%20%20%20%20%20%20%20%20%20%20%20position%3A%20relative%3B%0A%20%20%20%20%20%20%20%20%20%20%20%20%20%20%20%20%20%20%20%20width%3A%20100.0%25%3B%0A%20%20%20%20%20%20%20%20%20%20%20%20%20%20%20%20%20%20%20%20height%3A%20100.0%25%3B%0A%20%20%20%20%20%20%20%20%20%20%20%20%20%20%20%20%20%20%20%20left%3A%200.0%25%3B%0A%20%20%20%20%20%20%20%20%20%20%20%20%20%20%20%20%20%20%20%20top%3A%200.0%25%3B%0A%20%20%20%20%20%20%20%20%20%20%20%20%20%20%20%20%7D%0A%20%20%20%20%20%20%20%20%20%20%20%20%3C/style%3E%0A%20%20%20%20%20%20%20%20%0A%3C/head%3E%0A%3Cbody%3E%20%20%20%20%0A%20%20%20%20%0A%20%20%20%20%20%20%20%20%20%20%20%20%3Cdiv%20class%3D%22folium-map%22%20id%3D%22map_0418265742894a0fb421375b9f920efb%22%20%3E%3C/div%3E%0A%20%20%20%20%20%20%20%20%0A%3C/body%3E%0A%3Cscript%3E%20%20%20%20%0A%20%20%20%20%0A%20%20%20%20%20%20%20%20%20%20%20%20var%20map_0418265742894a0fb421375b9f920efb%20%3D%20L.map%28%0A%20%20%20%20%20%20%20%20%20%20%20%20%20%20%20%20%22map_0418265742894a0fb421375b9f920efb%22%2C%0A%20%20%20%20%20%20%20%20%20%20%20%20%20%20%20%20%7B%0A%20%20%20%20%20%20%20%20%20%20%20%20%20%20%20%20%20%20%20%20center%3A%20%5B45.463741%2C%209.142024%5D%2C%0A%20%20%20%20%20%20%20%20%20%20%20%20%20%20%20%20%20%20%20%20crs%3A%20L.CRS.EPSG3857%2C%0A%20%20%20%20%20%20%20%20%20%20%20%20%20%20%20%20%20%20%20%20zoom%3A%2013%2C%0A%20%20%20%20%20%20%20%20%20%20%20%20%20%20%20%20%20%20%20%20zoomControl%3A%20true%2C%0A%20%20%20%20%20%20%20%20%20%20%20%20%20%20%20%20%20%20%20%20preferCanvas%3A%20false%2C%0A%20%20%20%20%20%20%20%20%20%20%20%20%20%20%20%20%7D%0A%20%20%20%20%20%20%20%20%20%20%20%20%29%3B%0A%0A%20%20%20%20%20%20%20%20%20%20%20%20%0A%0A%20%20%20%20%20%20%20%20%0A%20%20%20%20%0A%20%20%20%20%20%20%20%20%20%20%20%20var%20tile_layer_21d82a521c6640d5a73b99c04ba9468a%20%3D%20L.tileLayer%28%0A%20%20%20%20%20%20%20%20%20%20%20%20%20%20%20%20%22https%3A//cartodb-basemaps-%7Bs%7D.global.ssl.fastly.net/light_all/%7Bz%7D/%7Bx%7D/%7By%7D.png%22%2C%0A%20%20%20%20%20%20%20%20%20%20%20%20%20%20%20%20%7B%22attribution%22%3A%20%22%5Cu0026copy%3B%20%5Cu003ca%20href%3D%5C%22http%3A//www.openstreetmap.org/copyright%5C%22%5Cu003eOpenStreetMap%5Cu003c/a%5Cu003e%20contributors%20%5Cu0026copy%3B%20%5Cu003ca%20href%3D%5C%22http%3A//cartodb.com/attributions%5C%22%5Cu003eCartoDB%5Cu003c/a%5Cu003e%2C%20CartoDB%20%5Cu003ca%20href%20%3D%5C%22http%3A//cartodb.com/attributions%5C%22%5Cu003eattributions%5Cu003c/a%5Cu003e%22%2C%20%22detectRetina%22%3A%20false%2C%20%22maxNativeZoom%22%3A%2018%2C%20%22maxZoom%22%3A%2018%2C%20%22minZoom%22%3A%200%2C%20%22noWrap%22%3A%20false%2C%20%22opacity%22%3A%201%2C%20%22subdomains%22%3A%20%22abc%22%2C%20%22tms%22%3A%20false%7D%0A%20%20%20%20%20%20%20%20%20%20%20%20%29.addTo%28map_0418265742894a0fb421375b9f920efb%29%3B%0A%20%20%20%20%20%20%20%20%0A%20%20%20%20%0A%20%20%20%20%20%20%20%20%20%20%20%20var%20poly_line_d8c5397defd14737bbc3a72fbff60cf1%20%3D%20L.polyline%28%0A%20%20%20%20%20%20%20%20%20%20%20%20%20%20%20%20%5B%5B45.463741%2C%209.142024%5D%2C%20%5B45.46347%2C%209.142145%5D%2C%20%5B45.463207%2C%209.142268%5D%2C%20%5B45.46288%2C%209.142469%5D%2C%20%5B45.462512%2C%209.142694%5D%2C%20%5B45.462148%2C%209.142897%5D%2C%20%5B45.461659%2C%209.143214%5D%2C%20%5B45.461638%2C%209.143228%5D%2C%20%5B45.461598%2C%209.143253%5D%2C%20%5B45.461984%2C%209.144536%5D%2C%20%5B45.462017%2C%209.144643%5D%2C%20%5B45.462056%2C%209.144782%5D%2C%20%5B45.462062%2C%209.144802%5D%2C%20%5B45.462667%2C%209.146798%5D%2C%20%5B45.462982%2C%209.147841%5D%2C%20%5B45.463012%2C%209.14794%5D%2C%20%5B45.463053%2C%209.14807%5D%2C%20%5B45.463098%2C%209.148206%5D%2C%20%5B45.463176%2C%209.148154%5D%2C%20%5B45.464923%2C%209.147129%5D%2C%20%5B45.464986%2C%209.147092%5D%2C%20%5B45.465905%2C%209.14655%5D%2C%20%5B45.46601%2C%209.146488%5D%2C%20%5B45.466113%2C%209.146459%5D%2C%20%5B45.466692%2C%209.14628%5D%2C%20%5B45.466782%2C%209.146415%5D%2C%20%5B45.46688%2C%209.146533%5D%2C%20%5B45.466905%2C%209.146547%5D%2C%20%5B45.466928%2C%209.146549%5D%2C%20%5B45.467137%2C%209.146477%5D%2C%20%5B45.467162%2C%209.14645%5D%2C%20%5B45.467186%2C%209.146389%5D%2C%20%5B45.467242%2C%209.146155%5D%2C%20%5B45.467258%2C%209.146095%5D%2C%20%5B45.468295%2C%209.145778%5D%2C%20%5B45.468674%2C%209.145659%5D%2C%20%5B45.469212%2C%209.145489%5D%2C%20%5B45.4699%2C%209.145278%5D%2C%20%5B45.470009%2C%209.14527%5D%2C%20%5B45.470061%2C%209.145286%5D%2C%20%5B45.470099%2C%209.14531%5D%2C%20%5B45.47011%2C%209.145345%5D%2C%20%5B45.470144%2C%209.145407%5D%2C%20%5B45.470225%2C%209.145507%5D%2C%20%5B45.470243%2C%209.145523%5D%2C%20%5B45.470259%2C%209.145536%5D%2C%20%5B45.470315%2C%209.145571%5D%2C%20%5B45.47039%2C%209.145601%5D%2C%20%5B45.470447%2C%209.145601%5D%2C%20%5B45.470606%2C%209.145562%5D%2C%20%5B45.470673%2C%209.145692%5D%2C%20%5B45.470762%2C%209.145827%5D%2C%20%5B45.470894%2C%209.146034%5D%2C%20%5B45.471521%2C%209.147007%5D%2C%20%5B45.471574%2C%209.147091%5D%2C%20%5B45.471633%2C%209.147177%5D%2C%20%5B45.47216%2C%209.147979%5D%2C%20%5B45.472688%2C%209.148802%5D%2C%20%5B45.472735%2C%209.148874%5D%2C%20%5B45.472788%2C%209.148957%5D%2C%20%5B45.473862%2C%209.150585%5D%2C%20%5B45.47392%2C%209.150673%5D%2C%20%5B45.473993%2C%209.150779%5D%2C%20%5B45.474102%2C%209.15095%5D%2C%20%5B45.474128%2C%209.151023%5D%2C%20%5B45.474141%2C%209.151096%5D%2C%20%5B45.474135%2C%209.151246%5D%2C%20%5B45.474174%2C%209.151384%5D%2C%20%5B45.474226%2C%209.151442%5D%2C%20%5B45.474306%2C%209.151425%5D%2C%20%5B45.474445%2C%209.151435%5D%2C%20%5B45.47447%2C%209.151436%5D%2C%20%5B45.474669%2C%209.151442%5D%2C%20%5B45.475381%2C%209.151481%5D%2C%20%5B45.475549%2C%209.15149%5D%2C%20%5B45.476138%2C%209.151516%5D%2C%20%5B45.476961%2C%209.151568%5D%2C%20%5B45.477135%2C%209.151577%5D%2C%20%5B45.477602%2C%209.151597%5D%2C%20%5B45.477946%2C%209.151617%5D%2C%20%5B45.478197%2C%209.15163%5D%2C%20%5B45.479831%2C%209.151719%5D%2C%20%5B45.480252%2C%209.151743%5D%2C%20%5B45.480458%2C%209.151696%5D%2C%20%5B45.48066%2C%209.151527%5D%2C%20%5B45.480765%2C%209.151395%5D%2C%20%5B45.48085%2C%209.151322%5D%2C%20%5B45.48099%2C%209.151282%5D%2C%20%5B45.481064%2C%209.151285%5D%2C%20%5B45.481131%2C%209.151296%5D%2C%20%5B45.481324%2C%209.151584%5D%2C%20%5B45.481418%2C%209.151724%5D%2C%20%5B45.481641%2C%209.152058%5D%2C%20%5B45.481842%2C%209.152357%5D%2C%20%5B45.482586%2C%209.153495%5D%2C%20%5B45.482627%2C%209.153557%5D%2C%20%5B45.48269%2C%209.153657%5D%2C%20%5B45.482738%2C%209.153727%5D%2C%20%5B45.482779%2C%209.153789%5D%2C%20%5B45.483922%2C%209.155513%5D%2C%20%5B45.483993%2C%209.15562%5D%2C%20%5B45.483949%2C%209.155682%5D%2C%20%5B45.48388%2C%209.155829%5D%2C%20%5B45.483834%2C%209.156036%5D%2C%20%5B45.483829%2C%209.1561%5D%2C%20%5B45.483829%2C%209.156176%5D%2C%20%5B45.483867%2C%209.156414%5D%2C%20%5B45.483934%2C%209.156577%5D%2C%20%5B45.483979%2C%209.156647%5D%2C%20%5B45.484019%2C%209.156697%5D%2C%20%5B45.484159%2C%209.156805%5D%2C%20%5B45.484316%2C%209.156843%5D%2C%20%5B45.484474%2C%209.156807%5D%2C%20%5B45.484615%2C%209.156701%5D%2C%20%5B45.484656%2C%209.156652%5D%2C%20%5B45.484722%2C%209.156764%5D%2C%20%5B45.485829%2C%209.158457%5D%2C%20%5B45.485884%2C%209.158544%5D%2C%20%5B45.485937%2C%209.158622%5D%2C%20%5B45.485961%2C%209.158655%5D%2C%20%5B45.485984%2C%209.158687%5D%2C%20%5B45.486051%2C%209.158787%5D%2C%20%5B45.486174%2C%209.158642%5D%2C%20%5B45.486373%2C%209.158381%5D%2C%20%5B45.487192%2C%209.157291%5D%2C%20%5B45.487589%2C%209.156767%5D%2C%20%5B45.487622%2C%209.156723%5D%2C%20%5B45.487638%2C%209.156701%5D%2C%20%5B45.487644%2C%209.156694%5D%2C%20%5B45.48775%2C%209.156556%5D%2C%20%5B45.487769%2C%209.156529%5D%2C%20%5B45.487785%2C%209.156504%5D%2C%20%5B45.487935%2C%209.156225%5D%2C%20%5B45.487947%2C%209.1562%5D%2C%20%5B45.487964%2C%209.156166%5D%2C%20%5B45.48798%2C%209.156135%5D%2C%20%5B45.488071%2C%209.155955%5D%2C%20%5B45.488138%2C%209.155919%5D%2C%20%5B45.488351%2C%209.155687%5D%2C%20%5B45.488426%2C%209.155547%5D%5D%2C%0A%20%20%20%20%20%20%20%20%20%20%20%20%20%20%20%20%7B%22bubblingMouseEvents%22%3A%20true%2C%20%22color%22%3A%20%22blue%22%2C%20%22dashArray%22%3A%20null%2C%20%22dashOffset%22%3A%20null%2C%20%22fill%22%3A%20false%2C%20%22fillColor%22%3A%20%22blue%22%2C%20%22fillOpacity%22%3A%200.2%2C%20%22fillRule%22%3A%20%22evenodd%22%2C%20%22lineCap%22%3A%20%22round%22%2C%20%22lineJoin%22%3A%20%22round%22%2C%20%22noClip%22%3A%20false%2C%20%22opacity%22%3A%201.0%2C%20%22smoothFactor%22%3A%201.0%2C%20%22stroke%22%3A%20true%2C%20%22weight%22%3A%203%7D%0A%20%20%20%20%20%20%20%20%20%20%20%20%29.addTo%28map_0418265742894a0fb421375b9f920efb%29%3B%0A%20%20%20%20%20%20%20%20%0A%20%20%20%20%0A%20%20%20%20%20%20%20%20%20%20%20%20var%20poly_line_fa315f2325654022a53b6ed369ee9164%20%3D%20L.polyline%28%0A%20%20%20%20%20%20%20%20%20%20%20%20%20%20%20%20%5B%5B45.46426865108721%2C%209.141756825405748%5D%2C%20%5B45.46320758497618%2C%209.142267995812894%5D%2C%20%5B45.46320758497618%2C%209.142267995812894%5D%2C%20%5B45.462148259495386%2C%209.142896829952011%5D%2C%20%5B45.462148259495386%2C%209.142896829952011%5D%2C%20%5B45.46159792457648%2C%209.143257553294626%5D%2C%20%5B45.46159792457648%2C%209.143257553294626%5D%2C%20%5B45.46201680389885%2C%209.144643507395045%5D%2C%20%5B45.46201680389885%2C%209.144643507395045%5D%2C%20%5B45.4630544791714%2C%209.148072194099276%5D%2C%20%5B45.4630544791714%2C%209.148072194099276%5D%2C%20%5B45.46492335521015%2C%209.147129216852793%5D%2C%20%5B45.46492335521015%2C%209.147129216852793%5D%2C%20%5B45.46597307088996%2C%209.146360973537067%5D%2C%20%5B45.46597307088996%2C%209.146360973537067%5D%2C%20%5B45.466691649627975%2C%209.146279939879435%5D%2C%20%5B45.466691649627975%2C%209.146279939879435%5D%2C%20%5B45.46690553484666%2C%209.146547594502438%5D%2C%20%5B45.46690553484666%2C%209.146547594502438%5D%2C%20%5B45.46695280357346%2C%209.14604587802504%5D%2C%20%5B45.46695280357346%2C%209.14604587802504%5D%2C%20%5B45.467257701151134%2C%209.146094892319237%5D%2C%20%5B45.467257701151134%2C%209.146094892319237%5D%2C%20%5B45.46829477238471%2C%209.14577826987157%5D%2C%20%5B45.46829477238471%2C%209.14577826987157%5D%2C%20%5B45.46921245205621%2C%209.14548896106981%5D%2C%20%5B45.46921245205621%2C%209.14548896106981%5D%2C%20%5B45.470099566567676%2C%209.145309967474502%5D%2C%20%5B45.470099566567676%2C%209.145309967474502%5D%2C%20%5B45.4701103230311%2C%209.145345303624582%5D%2C%20%5B45.4701103230311%2C%209.145345303624582%5D%2C%20%5B45.47039011357871%2C%209.145601498998357%5D%2C%20%5B45.47039011357871%2C%209.145601498998357%5D%2C%20%5B45.47060574255846%2C%209.145561756087023%5D%2C%20%5B45.47060574255846%2C%209.145561756087023%5D%2C%20%5B45.47157438120472%2C%209.147090870392633%5D%2C%20%5B45.47157438120472%2C%209.147090870392633%5D%2C%20%5B45.47273466295791%2C%209.148874492453599%5D%2C%20%5B45.47273466295791%2C%209.148874492453599%5D%2C%20%5B45.473919830635694%2C%209.150672711082503%5D%2C%20%5B45.473919830635694%2C%209.150672711082503%5D%2C%20%5B45.47414151005779%2C%209.151096394453182%5D%2C%20%5B45.47414151005779%2C%209.151096394453182%5D%2C%20%5B45.47413492097709%2C%209.151246192818899%5D%2C%20%5B45.47413492097709%2C%209.151246192818899%5D%2C%20%5B45.47417398395303%2C%209.151383703345038%5D%2C%20%5B45.47417398395303%2C%209.151383703345038%5D%2C%20%5B45.474266180061576%2C%209.15143346250046%5D%2C%20%5B45.474266180061576%2C%209.15143346250046%5D%2C%20%5B45.4753808218561%2C%209.151481611176402%5D%2C%20%5B45.4753808218561%2C%209.151481611176402%5D%2C%20%5B45.47696086369257%2C%209.151567729360725%5D%2C%20%5B45.47696086369257%2C%209.151567729360725%5D%2C%20%5B45.47771483601623%2C%209.151541986308759%5D%2C%20%5B45.47771483601623%2C%209.151541986308759%5D%2C%20%5B45.4781966417116%2C%209.151630154285886%5D%2C%20%5B45.4781966417116%2C%209.151630154285886%5D%2C%20%5B45.479831225618874%2C%209.151719370379379%5D%2C%20%5B45.479831225618874%2C%209.151719370379379%5D%2C%20%5B45.48076534730425%2C%209.151394828339546%5D%2C%20%5B45.48076534730425%2C%209.151394828339546%5D%2C%20%5B45.48113065606746%2C%209.151295618479853%5D%2C%20%5B45.48113065606746%2C%209.151295618479853%5D%2C%20%5B45.48269055659216%2C%209.153656777370829%5D%2C%20%5B45.48269055659216%2C%209.153656777370829%5D%2C%20%5B45.48399306790871%2C%209.155619654055489%5D%2C%20%5B45.48399306790871%2C%209.155619654055489%5D%2C%20%5B45.48382922063438%2C%209.156100590096308%5D%2C%20%5B45.48382922063438%2C%209.156100590096308%5D%2C%20%5B45.48397897168312%2C%209.156647268207236%5D%2C%20%5B45.48397897168312%2C%209.156647268207236%5D%2C%20%5B45.48465585220738%2C%209.156652215255873%5D%2C%20%5B45.48465585220738%2C%209.156652215255873%5D%2C%20%5B45.485884060731344%2C%209.15854400020286%5D%2C%20%5B45.485884060731344%2C%209.15854400020286%5D%2C%20%5B45.48605060473269%2C%209.158786961940034%5D%2C%20%5B45.48605060473269%2C%209.158786961940034%5D%2C%20%5B45.487192040723194%2C%209.157291151172968%5D%2C%20%5B45.487192040723194%2C%209.157291151172968%5D%2C%20%5B45.48763867901727%2C%209.156701049218778%5D%2C%20%5B45.48763867901727%2C%209.156701049218778%5D%2C%20%5B45.48774690219688%2C%209.156810891016617%5D%2C%20%5B45.48774690219688%2C%209.156810891016617%5D%2C%20%5B45.48775724470261%2C%209.156817318180115%5D%2C%20%5B45.48775724470261%2C%209.156817318180115%5D%2C%20%5B45.487992874375976%2C%209.156832304632632%5D%2C%20%5B45.487992874375976%2C%209.156832304632632%5D%2C%20%5B45.48812318636997%2C%209.156719156732622%5D%2C%20%5B45.48812318636997%2C%209.156719156732622%5D%2C%20%5B45.488219283380445%2C%209.156482294118074%5D%2C%20%5B45.488219283380445%2C%209.156482294118074%5D%2C%20%5B45.48820591186342%2C%209.156189844860371%5D%2C%20%5B45.48820591186342%2C%209.156189844860371%5D%2C%20%5B45.4880708553208%2C%209.155955030493507%5D%2C%20%5B45.4880708553208%2C%209.155955030493507%5D%2C%20%5B45.48835061652719%2C%209.15568719208211%5D%2C%20%5B45.48835061652719%2C%209.15568719208211%5D%2C%20%5B45.48850113649902%2C%209.15540760617205%5D%5D%2C%0A%20%20%20%20%20%20%20%20%20%20%20%20%20%20%20%20%7B%22bubblingMouseEvents%22%3A%20true%2C%20%22color%22%3A%20%22orange%22%2C%20%22dashArray%22%3A%20null%2C%20%22dashOffset%22%3A%20null%2C%20%22fill%22%3A%20false%2C%20%22fillColor%22%3A%20%22orange%22%2C%20%22fillOpacity%22%3A%200.2%2C%20%22fillRule%22%3A%20%22evenodd%22%2C%20%22lineCap%22%3A%20%22round%22%2C%20%22lineJoin%22%3A%20%22round%22%2C%20%22noClip%22%3A%20false%2C%20%22opacity%22%3A%201.0%2C%20%22smoothFactor%22%3A%201.0%2C%20%22stroke%22%3A%20true%2C%20%22weight%22%3A%203%7D%0A%20%20%20%20%20%20%20%20%20%20%20%20%29.addTo%28map_0418265742894a0fb421375b9f920efb%29%3B%0A%20%20%20%20%20%20%20%20%0A%3C/script%3E onload=\"this.contentDocument.open();this.contentDocument.write(    decodeURIComponent(this.getAttribute('data-html')));this.contentDocument.close();\" allowfullscreen webkitallowfullscreen mozallowfullscreen></iframe></div></div>"
      ],
      "text/plain": [
       "<folium.folium.Map at 0x2565aa68fd0>"
      ]
     },
     "execution_count": 17,
     "metadata": {},
     "output_type": "execute_result"
    }
   ],
   "source": [
    "v_id = \"vehicle_0\"\n",
    "\n",
    "points_traj = gps_osm_routed_paths[v_id]['points']\n",
    "\n",
    "m = folium.Map(location=[points_traj[0][1], points_traj[0][0]], tiles='cartodbpositron', zoom_start=13)\n",
    "\n",
    "# OSM path\n",
    "folium.PolyLine(locations=[list(reversed(coord)) \n",
    "                           for coord in points_traj], weigth=3, color=\"blue\").add_to(m)\n",
    "\n",
    "# map matched path\n",
    "tdf_mapmatched = tdf_from_edgelist(dict_map_matched[v_id]['mapped_edges'], road_network)\n",
    "points_mapmatched = tdf_mapmatched[['lng','lat']].values\n",
    "\n",
    "folium.PolyLine(locations=[list(reversed(coord)) \n",
    "                           for coord in points_mapmatched], weigth=3, color=\"orange\").add_to(m)\n",
    "\n",
    "m"
   ]
  },
  {
   "cell_type": "markdown",
   "id": "89044703",
   "metadata": {},
   "source": [
    "### Create a dictionary describing the mapped edges for each vehicle"
   ]
  },
  {
   "cell_type": "code",
   "execution_count": 18,
   "id": "d0e534d2",
   "metadata": {},
   "outputs": [],
   "source": [
    "dict_sumo_osm = {}\n",
    "\n",
    "for ind, v_id in enumerate(list(dict_md.keys())):      \n",
    "    if \"vehicle\" in v_id:\n",
    "        new_id = \"osm_\"+v_id.split(\"_\")[1]\n",
    "        dep_time = dict_md[v_id]['time']\n",
    "        edges_v = dict_map_matched[v_id]['mapped_edges']\n",
    "        \n",
    "        dict_sumo_osm[new_id] = {'edges':str(edges_v).replace(\",\",\"\").replace(\"'\",\"\")[1:-1], 'time': dep_time}"
   ]
  },
  {
   "cell_type": "markdown",
   "id": "c41fd3f8",
   "metadata": {},
   "source": [
    "### Create a SUMO xml file that described the OSM routed paths"
   ]
  },
  {
   "cell_type": "code",
   "execution_count": 19,
   "id": "9cdb4a5b",
   "metadata": {},
   "outputs": [],
   "source": [
    "create_xml_vehicles(dict_sumo_osm, output_routed_paths_filename);"
   ]
  }
 ],
 "metadata": {
  "kernelspec": {
   "display_name": "Python 3 (ipykernel)",
   "language": "python",
   "name": "python3"
  },
  "language_info": {
   "codemirror_mode": {
    "name": "ipython",
    "version": 3
   },
   "file_extension": ".py",
   "mimetype": "text/x-python",
   "name": "python",
   "nbconvert_exporter": "python",
   "pygments_lexer": "ipython3",
   "version": "3.9.7"
  }
 },
 "nbformat": 4,
 "nbformat_minor": 5
}
