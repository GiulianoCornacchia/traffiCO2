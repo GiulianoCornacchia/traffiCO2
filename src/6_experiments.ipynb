{
 "cells": [
  {
   "cell_type": "code",
   "execution_count": 1,
   "id": "e0b6523a",
   "metadata": {},
   "outputs": [],
   "source": [
    "import os\n",
    "from tqdm import tqdm"
   ]
  },
  {
   "cell_type": "markdown",
   "id": "66e748ba",
   "metadata": {},
   "source": [
    "# Main Experiments\n",
    "\n",
    "Study the impact of different percentages of routed vehicle with respect to CO2 emissions"
   ]
  },
  {
   "cell_type": "markdown",
   "id": "f74d5b36",
   "metadata": {},
   "source": [
    "#### Paths & Parameters"
   ]
  },
  {
   "cell_type": "code",
   "execution_count": 2,
   "id": "f0dcb3a5",
   "metadata": {},
   "outputs": [],
   "source": [
    "# road network path\n",
    "net_path = \"../sumo_simulation_data/milan_road_network.net.xml\"\n",
    "\n",
    "# path to folder containing the sumo simulation script\n",
    "path_sumo_script = \"../sumo_simulation_scripts/\"\n",
    "\n",
    "# SUMO options\n",
    "opt =  '\"-W --ignore-junction-blocker 20 --time-to-impatience 30 --time-to-teleport 120 --scale 1\"' #"
   ]
  },
  {
   "cell_type": "markdown",
   "id": "b6419af8",
   "metadata": {},
   "source": [
    "## 1. Experiments OSM"
   ]
  },
  {
   "cell_type": "markdown",
   "id": "46c85c2a",
   "metadata": {},
   "source": [
    "### File paths"
   ]
  },
  {
   "cell_type": "code",
   "execution_count": 8,
   "id": "5b4d9da8",
   "metadata": {},
   "outputs": [],
   "source": [
    "# folder containing the mixed OSM routed paths to simulate using SUMO\n",
    "\n",
    "demand_folder_path_osm = \"../sumo_simulation_data/routed_paths/mixed_paths_osm/\"\n",
    "\n",
    "# where to save the simulation oputputs\n",
    "save_dir = \"../sim_outputs/outputs_main_experiment/outputs_main_experiment_osm/\"\n",
    "\n",
    "# the prefix of the folder resulting from a simulation\n",
    "fold_prfx = \"main_exp\""
   ]
  },
  {
   "cell_type": "markdown",
   "id": "22c3e675",
   "metadata": {},
   "source": [
    "### Load the OSM routed paths"
   ]
  },
  {
   "cell_type": "code",
   "execution_count": 4,
   "id": "3a97a8d3",
   "metadata": {},
   "outputs": [],
   "source": [
    "routed_paths_osm = [demand_folder_path_osm+f for f in os.listdir(demand_folder_path_osm) if \".rou.xml\" in f] "
   ]
  },
  {
   "cell_type": "markdown",
   "id": "30541cbc",
   "metadata": {},
   "source": [
    "### Launch the OSM experiments"
   ]
  },
  {
   "cell_type": "code",
   "execution_count": 9,
   "id": "5525f9d6",
   "metadata": {},
   "outputs": [
    {
     "name": "stderr",
     "output_type": "stream",
     "text": [
      "\n",
      "100%|██████████████████████████████████████████████████████████████████████████████████| 11/11 [00:38<00:00,  3.46s/it]\u001b[A\n",
      "\n",
      "  9%|███████▌                                                                           | 1/11 [00:20<03:22, 20.30s/it]\u001b[A\n",
      " 18%|███████████████                                                                    | 2/11 [00:38<02:53, 19.29s/it]\u001b[A\n",
      " 27%|██████████████████████▋                                                            | 3/11 [00:56<02:28, 18.57s/it]\u001b[A\n",
      " 36%|██████████████████████████████▏                                                    | 4/11 [01:13<02:06, 18.11s/it]\u001b[A\n",
      " 45%|█████████████████████████████████████▋                                             | 5/11 [01:31<01:47, 17.98s/it]\u001b[A\n",
      " 55%|█████████████████████████████████████████████▎                                     | 6/11 [01:47<01:26, 17.23s/it]\u001b[A\n",
      " 64%|████████████████████████████████████████████████████▊                              | 7/11 [02:02<01:06, 16.64s/it]\u001b[A\n",
      " 73%|████████████████████████████████████████████████████████████▎                      | 8/11 [02:17<00:48, 16.06s/it]\u001b[A\n",
      " 82%|███████████████████████████████████████████████████████████████████▉               | 9/11 [02:33<00:32, 16.07s/it]\u001b[A\n",
      " 91%|██████████████████████████████████████████████████████████████████████████▌       | 10/11 [02:49<00:15, 15.80s/it]\u001b[A\n",
      "100%|██████████████████████████████████████████████████████████████████████████████████| 11/11 [03:05<00:00, 15.85s/it]\u001b[A"
     ]
    }
   ],
   "source": [
    "# traj co2 ttime vpedge\n",
    "\n",
    "pbar = tqdm(total=len(routed_paths_osm))\n",
    "\n",
    "for demand_path in routed_paths_osm:\n",
    "    \n",
    "    !cd {path_sumo_script} && python run_sumo.py {net_path} {demand_path} 0 none real real real {save_dir} {fold_prfx} {opt} >> foo0.txt\n",
    "    pbar.update(1)"
   ]
  },
  {
   "cell_type": "markdown",
   "id": "b9371798",
   "metadata": {},
   "source": [
    "## 2. Experiment TomTom"
   ]
  },
  {
   "cell_type": "markdown",
   "id": "e6451721",
   "metadata": {},
   "source": [
    "### File paths"
   ]
  },
  {
   "cell_type": "code",
   "execution_count": 14,
   "id": "fdd98363",
   "metadata": {},
   "outputs": [],
   "source": [
    "# folder containing the mixed OSM routed paths to simulate using SUMO\n",
    "\n",
    "demand_folder_path_tomtom = \"../sumo_simulation_data/routed_paths/mixed_paths_tomtom/\"\n",
    "\n",
    "# where to save the simulation oputputs\n",
    "save_dir = \"../sim_outputs/outputs_main_experiment/outputs_main_experiment_tomtom/\"\n",
    "\n",
    "# the prefix of the folder resulting from a simulation\n",
    "fold_prfx = \"main_exp\""
   ]
  },
  {
   "cell_type": "markdown",
   "id": "212166cb",
   "metadata": {},
   "source": [
    "### Load the TomTom routed paths"
   ]
  },
  {
   "cell_type": "code",
   "execution_count": 15,
   "id": "1f5a8060",
   "metadata": {},
   "outputs": [],
   "source": [
    "routed_paths_tomtom = [demand_folder_path_tomtom+f for f in os.listdir(demand_folder_path_tomtom) if \".rou.xml\" in f] "
   ]
  },
  {
   "cell_type": "markdown",
   "id": "d11b4ccb",
   "metadata": {},
   "source": [
    "### Launch the TomTom experiments"
   ]
  },
  {
   "cell_type": "code",
   "execution_count": 17,
   "id": "4f11abe0",
   "metadata": {},
   "outputs": [
    {
     "name": "stderr",
     "output_type": "stream",
     "text": [
      "100%|██████████████████████████████████████████████████████████████████████████████████| 11/11 [09:27<00:00, 51.55s/it]\n",
      "100%|██████████████████████████████████████████████████████████████████████████████████| 11/11 [03:03<00:00, 16.69s/it]"
     ]
    }
   ],
   "source": [
    "# traj co2 ttime vpedge\n",
    "\n",
    "pbar = tqdm(total=len(routed_paths_osm))\n",
    "\n",
    "for demand_path in routed_paths_osm:\n",
    "    \n",
    "    !cd {path_sumo_script} && python run_sumo.py {net_path} {demand_path} 0 none real real real {save_dir} {fold_prfx} {opt} >> foo0.txt\n",
    "    pbar.update(1)"
   ]
  },
  {
   "cell_type": "code",
   "execution_count": null,
   "id": "33f9aed2",
   "metadata": {},
   "outputs": [],
   "source": []
  }
 ],
 "metadata": {
  "kernelspec": {
   "display_name": "Python 3 (ipykernel)",
   "language": "python",
   "name": "python3"
  },
  "language_info": {
   "codemirror_mode": {
    "name": "ipython",
    "version": 3
   },
   "file_extension": ".py",
   "mimetype": "text/x-python",
   "name": "python",
   "nbconvert_exporter": "python",
   "pygments_lexer": "ipython3",
   "version": "3.9.7"
  }
 },
 "nbformat": 4,
 "nbformat_minor": 5
}
