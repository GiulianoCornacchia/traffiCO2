{
 "cells": [
  {
   "cell_type": "code",
   "execution_count": 21,
   "id": "c0da9142",
   "metadata": {},
   "outputs": [],
   "source": [
    "import pandas as pd\n",
    "import skmob\n",
    "import geopandas as gpd\n",
    "from skmob.preprocessing import *\n",
    "from skmob.measures.individual import *\n",
    "from skmob.preprocessing import detection\n",
    "from preprocess_utils import *"
   ]
  },
  {
   "cell_type": "markdown",
   "id": "4e3f6e05",
   "metadata": {},
   "source": [
    "### Preprocessing parameters"
   ]
  },
  {
   "cell_type": "code",
   "execution_count": 23,
   "id": "549559fa",
   "metadata": {},
   "outputs": [],
   "source": [
    "dataset_path = '../data/MilanoData.csv'\n",
    "max_speed_kmh = 270\n",
    "spatial_radius_km_compress = 0.02 # 20 meters\n",
    "spatial_radius_km_stops = 0.100\n",
    "minutes_for_a_stop = 20\n",
    "\n",
    "shape_path = \"../data/milan_medium.geojson\"\n",
    "\n",
    "#only the hour of the day is important\n",
    "lower_time = pd.to_datetime(\"1994-10-14 15:00:00\").time()\n",
    "upper_time = pd.to_datetime(\"1994-10-14 16:00:00\").time()"
   ]
  },
  {
   "cell_type": "markdown",
   "id": "49f2f127",
   "metadata": {},
   "source": [
    "### 1. Data Loading"
   ]
  },
  {
   "cell_type": "code",
   "execution_count": 6,
   "id": "1ebf6ad2",
   "metadata": {},
   "outputs": [
    {
     "data": {
      "text/html": [
       "<div>\n",
       "<style scoped>\n",
       "    .dataframe tbody tr th:only-of-type {\n",
       "        vertical-align: middle;\n",
       "    }\n",
       "\n",
       "    .dataframe tbody tr th {\n",
       "        vertical-align: top;\n",
       "    }\n",
       "\n",
       "    .dataframe thead th {\n",
       "        text-align: right;\n",
       "    }\n",
       "</style>\n",
       "<table border=\"1\" class=\"dataframe\">\n",
       "  <thead>\n",
       "    <tr style=\"text-align: right;\">\n",
       "      <th></th>\n",
       "      <th>userid</th>\n",
       "      <th>datetime</th>\n",
       "      <th>lat</th>\n",
       "      <th>lon</th>\n",
       "    </tr>\n",
       "  </thead>\n",
       "  <tbody>\n",
       "    <tr>\n",
       "      <th>0</th>\n",
       "      <td>1059</td>\n",
       "      <td>2007-04-05 07:47:02</td>\n",
       "      <td>45.474777</td>\n",
       "      <td>9.210948</td>\n",
       "    </tr>\n",
       "    <tr>\n",
       "      <th>1</th>\n",
       "      <td>1059</td>\n",
       "      <td>2007-04-05 08:16:00</td>\n",
       "      <td>45.474777</td>\n",
       "      <td>9.210948</td>\n",
       "    </tr>\n",
       "  </tbody>\n",
       "</table>\n",
       "</div>"
      ],
      "text/plain": [
       "   userid            datetime        lat       lon\n",
       "0    1059 2007-04-05 07:47:02  45.474777  9.210948\n",
       "1    1059 2007-04-05 08:16:00  45.474777  9.210948"
      ]
     },
     "execution_count": 6,
     "metadata": {},
     "output_type": "execute_result"
    }
   ],
   "source": [
    "#loading the dataset\n",
    "\n",
    "df_traj = pd.read_csv(dataset_path, sep=',', parse_dates=['datetime'])\n",
    "df_traj[:2]"
   ]
  },
  {
   "cell_type": "code",
   "execution_count": 7,
   "id": "357768bc",
   "metadata": {},
   "outputs": [
    {
     "name": "stdout",
     "output_type": "stream",
     "text": [
      "# of users: 17087\n",
      "# of points: 1806293\n",
      "from: 2007-04-01 00:00:02\n",
      "to: 2007-04-07 23:59:25\n"
     ]
    }
   ],
   "source": [
    "# print some statistics\n",
    "print(\"# of users: \"+str(len(df_traj['userid'].unique())))\n",
    "print(\"# of points: \"+str(len(df_traj)))\n",
    "print(\"from: \"+str(df_traj['datetime'].min()))\n",
    "print(\"to: \"+str(df_traj['datetime'].max()))"
   ]
  },
  {
   "cell_type": "markdown",
   "id": "88f69f5b",
   "metadata": {},
   "source": [
    "Convert the `DataFrame` into a `TrajDataFrame`"
   ]
  },
  {
   "cell_type": "code",
   "execution_count": 9,
   "id": "8686adaa",
   "metadata": {},
   "outputs": [],
   "source": [
    "tdf_traj = skmob.TrajDataFrame(df_traj, latitude='lat', longitude='lon', \n",
    "                          datetime='datetime', user_id='userid')\n",
    "\n",
    "tdf_traj = tdf_traj.sort_by_uid_and_datetime()"
   ]
  },
  {
   "cell_type": "markdown",
   "id": "912e14ee",
   "metadata": {},
   "source": [
    "### 2. Data Cleaning\n",
    "\n",
    "Execution time: $\\approx 2min$"
   ]
  },
  {
   "cell_type": "code",
   "execution_count": 10,
   "id": "86ca2ca4",
   "metadata": {},
   "outputs": [
    {
     "name": "stdout",
     "output_type": "stream",
     "text": [
      "Filtered 2 points.\n",
      "1806291\n",
      "Wall time: 1min 53s\n"
     ]
    }
   ],
   "source": [
    "%%time\n",
    "\n",
    "tdf_filtered = skmob.preprocessing.filtering.filter(tdf_traj, max_speed_kmh=max_speed_kmh, \n",
    "                                    include_loops=False)\n",
    "\n",
    "print(\"Filtered \"+str(len(tdf_traj)-len(tdf_filtered))+\" points.\")\n",
    "print(len(tdf_filtered))"
   ]
  },
  {
   "cell_type": "markdown",
   "id": "d9019649",
   "metadata": {},
   "source": [
    "Merge together all points that are closer than spatial_radius_km=0.05 kilometers from each other.<br>\n",
    "Execution time: $\\approx 3 min$"
   ]
  },
  {
   "cell_type": "code",
   "execution_count": 13,
   "id": "2554529f",
   "metadata": {},
   "outputs": [
    {
     "name": "stdout",
     "output_type": "stream",
     "text": [
      "Compressed 105941 points.\n",
      "Radius: 0.02\n",
      "Wall time: 3min 51s\n"
     ]
    }
   ],
   "source": [
    "%%time\n",
    "\n",
    "tdf_compressed = compression.compress(tdf_filtered, \n",
    "                                      spatial_radius_km=spatial_radius_km_compress)\n",
    "\n",
    "print(\"Compressed \"+str(len(tdf_filtered)-len(tdf_compressed))+\" points.\")\n",
    "print(\"Radius: \"+str(spatial_radius_km_compress))"
   ]
  },
  {
   "cell_type": "markdown",
   "id": "a85918f9",
   "metadata": {},
   "source": [
    "### 3. Trajectory segmentation with Stop detection"
   ]
  },
  {
   "cell_type": "markdown",
   "id": "632e9033",
   "metadata": {},
   "source": [
    "#### Stop detection"
   ]
  },
  {
   "cell_type": "markdown",
   "id": "907ade89",
   "metadata": {},
   "source": [
    "A stop is detected when the individual spends at least minutes_for_a_stop minutes within a distance stop_radius_factor * spatial_radius km from a given trajectory point. The stop’s coordinates are the median latitude and longitude values of the points found within the specified distance <br>\n",
    "Parameters: <br>\n",
    "`minutes_for_a_stop = 20.0` <br>\n",
    "`spatial_radius_km = 0.1`<br><br>\n",
    "Execution time: $\\approx 2min$"
   ]
  },
  {
   "cell_type": "code",
   "execution_count": 14,
   "id": "c210c4f6",
   "metadata": {},
   "outputs": [
    {
     "name": "stdout",
     "output_type": "stream",
     "text": [
      "Wall time: 2min 34s\n"
     ]
    }
   ],
   "source": [
    "%%time\n",
    "\n",
    "stdf = detection.stay_locations(tdf_traj, stop_radius_factor=None, \n",
    "                           minutes_for_a_stop=minutes_for_a_stop, \n",
    "                       spatial_radius_km=spatial_radius_km_stops, leaving_time=True)"
   ]
  },
  {
   "cell_type": "markdown",
   "id": "e59a6170",
   "metadata": {},
   "source": [
    "#### Trajectory segmentation\n",
    "Execution time: $\\approx 4 min$"
   ]
  },
  {
   "cell_type": "code",
   "execution_count": 16,
   "id": "d89adce5",
   "metadata": {},
   "outputs": [
    {
     "name": "stdout",
     "output_type": "stream",
     "text": [
      "Wall time: 8min\n"
     ]
    }
   ],
   "source": [
    "%%time\n",
    "\n",
    "traj_seg = split_trajectories_in_tdf(tdf_compressed, stdf)\n",
    "\n",
    "# create an UNIQUE traj_id as uid+'_'+tid\n",
    "traj_ids = []\n",
    "for uid, tid in zip(traj_seg['uid'], traj_seg['tid']):\n",
    "    traj_ids.append(str(uid)+\"_\"+str(tid))\n",
    "\n",
    "traj_seg = traj_seg.drop(\"tid\", axis=1)\n",
    "traj_seg['traj_id'] = traj_ids"
   ]
  },
  {
   "cell_type": "code",
   "execution_count": 19,
   "id": "f1339856",
   "metadata": {},
   "outputs": [
    {
     "name": "stdout",
     "output_type": "stream",
     "text": [
      "# of users: 15090\n",
      "# of points: 1593114\n",
      "from: 2007-04-01 00:00:02\n",
      "to: 2007-04-07 23:59:25\n"
     ]
    }
   ],
   "source": [
    "# print some statistics\n",
    "print(\"# of users: \"+str(len(traj_seg['uid'].unique())))\n",
    "print(\"# of points: \"+str(len(traj_seg)))\n",
    "print(\"from: \"+str(traj_seg['datetime'].min()))\n",
    "print(\"to: \"+str(traj_seg['datetime'].max()))"
   ]
  },
  {
   "cell_type": "markdown",
   "id": "ed3e8f34",
   "metadata": {},
   "source": [
    "### 4. Filter by geographic area"
   ]
  },
  {
   "cell_type": "code",
   "execution_count": 24,
   "id": "2e7fab7e",
   "metadata": {},
   "outputs": [],
   "source": [
    "milan_medium = gpd.read_file(shape_path)"
   ]
  },
  {
   "cell_type": "code",
   "execution_count": 25,
   "id": "cb8baf57",
   "metadata": {
    "collapsed": true
   },
   "outputs": [
    {
     "data": {
      "text/html": [
       "<div style=\"width:100%;\"><div style=\"position:relative;width:100%;height:0;padding-bottom:60%;\"><span style=\"color:#565656\">Make this Notebook Trusted to load map: File -> Trust Notebook</span><iframe src=\"about:blank\" style=\"position:absolute;width:100%;height:100%;left:0;top:0;border:none !important;\" data-html=%3C%21DOCTYPE%20html%3E%0A%3Chead%3E%20%20%20%20%0A%20%20%20%20%3Cmeta%20http-equiv%3D%22content-type%22%20content%3D%22text/html%3B%20charset%3DUTF-8%22%20/%3E%0A%20%20%20%20%0A%20%20%20%20%20%20%20%20%3Cscript%3E%0A%20%20%20%20%20%20%20%20%20%20%20%20L_NO_TOUCH%20%3D%20false%3B%0A%20%20%20%20%20%20%20%20%20%20%20%20L_DISABLE_3D%20%3D%20false%3B%0A%20%20%20%20%20%20%20%20%3C/script%3E%0A%20%20%20%20%0A%20%20%20%20%3Cstyle%3Ehtml%2C%20body%20%7Bwidth%3A%20100%25%3Bheight%3A%20100%25%3Bmargin%3A%200%3Bpadding%3A%200%3B%7D%3C/style%3E%0A%20%20%20%20%3Cstyle%3E%23map%20%7Bposition%3Aabsolute%3Btop%3A0%3Bbottom%3A0%3Bright%3A0%3Bleft%3A0%3B%7D%3C/style%3E%0A%20%20%20%20%3Cscript%20src%3D%22https%3A//cdn.jsdelivr.net/npm/leaflet%401.6.0/dist/leaflet.js%22%3E%3C/script%3E%0A%20%20%20%20%3Cscript%20src%3D%22https%3A//code.jquery.com/jquery-1.12.4.min.js%22%3E%3C/script%3E%0A%20%20%20%20%3Cscript%20src%3D%22https%3A//maxcdn.bootstrapcdn.com/bootstrap/3.2.0/js/bootstrap.min.js%22%3E%3C/script%3E%0A%20%20%20%20%3Cscript%20src%3D%22https%3A//cdnjs.cloudflare.com/ajax/libs/Leaflet.awesome-markers/2.0.2/leaflet.awesome-markers.js%22%3E%3C/script%3E%0A%20%20%20%20%3Clink%20rel%3D%22stylesheet%22%20href%3D%22https%3A//cdn.jsdelivr.net/npm/leaflet%401.6.0/dist/leaflet.css%22/%3E%0A%20%20%20%20%3Clink%20rel%3D%22stylesheet%22%20href%3D%22https%3A//maxcdn.bootstrapcdn.com/bootstrap/3.2.0/css/bootstrap.min.css%22/%3E%0A%20%20%20%20%3Clink%20rel%3D%22stylesheet%22%20href%3D%22https%3A//maxcdn.bootstrapcdn.com/bootstrap/3.2.0/css/bootstrap-theme.min.css%22/%3E%0A%20%20%20%20%3Clink%20rel%3D%22stylesheet%22%20href%3D%22https%3A//maxcdn.bootstrapcdn.com/font-awesome/4.6.3/css/font-awesome.min.css%22/%3E%0A%20%20%20%20%3Clink%20rel%3D%22stylesheet%22%20href%3D%22https%3A//cdnjs.cloudflare.com/ajax/libs/Leaflet.awesome-markers/2.0.2/leaflet.awesome-markers.css%22/%3E%0A%20%20%20%20%3Clink%20rel%3D%22stylesheet%22%20href%3D%22https%3A//cdn.jsdelivr.net/gh/python-visualization/folium/folium/templates/leaflet.awesome.rotate.min.css%22/%3E%0A%20%20%20%20%0A%20%20%20%20%20%20%20%20%20%20%20%20%3Cmeta%20name%3D%22viewport%22%20content%3D%22width%3Ddevice-width%2C%0A%20%20%20%20%20%20%20%20%20%20%20%20%20%20%20%20initial-scale%3D1.0%2C%20maximum-scale%3D1.0%2C%20user-scalable%3Dno%22%20/%3E%0A%20%20%20%20%20%20%20%20%20%20%20%20%3Cstyle%3E%0A%20%20%20%20%20%20%20%20%20%20%20%20%20%20%20%20%23map_b0d72cceeee64ff4a693814451540f45%20%7B%0A%20%20%20%20%20%20%20%20%20%20%20%20%20%20%20%20%20%20%20%20position%3A%20relative%3B%0A%20%20%20%20%20%20%20%20%20%20%20%20%20%20%20%20%20%20%20%20width%3A%20100.0%25%3B%0A%20%20%20%20%20%20%20%20%20%20%20%20%20%20%20%20%20%20%20%20height%3A%20100.0%25%3B%0A%20%20%20%20%20%20%20%20%20%20%20%20%20%20%20%20%20%20%20%20left%3A%200.0%25%3B%0A%20%20%20%20%20%20%20%20%20%20%20%20%20%20%20%20%20%20%20%20top%3A%200.0%25%3B%0A%20%20%20%20%20%20%20%20%20%20%20%20%20%20%20%20%7D%0A%20%20%20%20%20%20%20%20%20%20%20%20%3C/style%3E%0A%20%20%20%20%20%20%20%20%0A%3C/head%3E%0A%3Cbody%3E%20%20%20%20%0A%20%20%20%20%0A%20%20%20%20%20%20%20%20%20%20%20%20%3Cdiv%20class%3D%22folium-map%22%20id%3D%22map_b0d72cceeee64ff4a693814451540f45%22%20%3E%3C/div%3E%0A%20%20%20%20%20%20%20%20%0A%3C/body%3E%0A%3Cscript%3E%20%20%20%20%0A%20%20%20%20%0A%20%20%20%20%20%20%20%20%20%20%20%20var%20map_b0d72cceeee64ff4a693814451540f45%20%3D%20L.map%28%0A%20%20%20%20%20%20%20%20%20%20%20%20%20%20%20%20%22map_b0d72cceeee64ff4a693814451540f45%22%2C%0A%20%20%20%20%20%20%20%20%20%20%20%20%20%20%20%20%7B%0A%20%20%20%20%20%20%20%20%20%20%20%20%20%20%20%20%20%20%20%20center%3A%20%5B45.47121892944325%2C%209.181094541151925%5D%2C%0A%20%20%20%20%20%20%20%20%20%20%20%20%20%20%20%20%20%20%20%20crs%3A%20L.CRS.EPSG3857%2C%0A%20%20%20%20%20%20%20%20%20%20%20%20%20%20%20%20%20%20%20%20zoom%3A%2010%2C%0A%20%20%20%20%20%20%20%20%20%20%20%20%20%20%20%20%20%20%20%20zoomControl%3A%20true%2C%0A%20%20%20%20%20%20%20%20%20%20%20%20%20%20%20%20%20%20%20%20preferCanvas%3A%20false%2C%0A%20%20%20%20%20%20%20%20%20%20%20%20%20%20%20%20%7D%0A%20%20%20%20%20%20%20%20%20%20%20%20%29%3B%0A%20%20%20%20%20%20%20%20%20%20%20%20L.control.scale%28%29.addTo%28map_b0d72cceeee64ff4a693814451540f45%29%3B%0A%0A%20%20%20%20%20%20%20%20%20%20%20%20%0A%0A%20%20%20%20%20%20%20%20%0A%20%20%20%20%0A%20%20%20%20%20%20%20%20%20%20%20%20var%20tile_layer_33221503a3844967a3606151997a663a%20%3D%20L.tileLayer%28%0A%20%20%20%20%20%20%20%20%20%20%20%20%20%20%20%20%22https%3A//cartodb-basemaps-%7Bs%7D.global.ssl.fastly.net/light_all/%7Bz%7D/%7Bx%7D/%7By%7D.png%22%2C%0A%20%20%20%20%20%20%20%20%20%20%20%20%20%20%20%20%7B%22attribution%22%3A%20%22%5Cu0026copy%3B%20%5Cu003ca%20href%3D%5C%22http%3A//www.openstreetmap.org/copyright%5C%22%5Cu003eOpenStreetMap%5Cu003c/a%5Cu003e%20contributors%20%5Cu0026copy%3B%20%5Cu003ca%20href%3D%5C%22http%3A//cartodb.com/attributions%5C%22%5Cu003eCartoDB%5Cu003c/a%5Cu003e%2C%20CartoDB%20%5Cu003ca%20href%20%3D%5C%22http%3A//cartodb.com/attributions%5C%22%5Cu003eattributions%5Cu003c/a%5Cu003e%22%2C%20%22detectRetina%22%3A%20false%2C%20%22maxNativeZoom%22%3A%2018%2C%20%22maxZoom%22%3A%2018%2C%20%22minZoom%22%3A%200%2C%20%22noWrap%22%3A%20false%2C%20%22opacity%22%3A%201%2C%20%22subdomains%22%3A%20%22abc%22%2C%20%22tms%22%3A%20false%7D%0A%20%20%20%20%20%20%20%20%20%20%20%20%29.addTo%28map_b0d72cceeee64ff4a693814451540f45%29%3B%0A%20%20%20%20%20%20%20%20%0A%20%20%20%20%0A%20%20%20%20%20%20%20%20function%20geo_json_fa0869ade01a4acbbaba7ac14c82ac59_styler%28feature%29%20%7B%0A%20%20%20%20%20%20%20%20%20%20%20%20switch%28feature.id%29%20%7B%0A%20%20%20%20%20%20%20%20%20%20%20%20%20%20%20%20default%3A%0A%20%20%20%20%20%20%20%20%20%20%20%20%20%20%20%20%20%20%20%20return%20%7B%22color%22%3A%20%22black%22%2C%20%22fillColor%22%3A%20%22blue%22%2C%20%22fillOpacity%22%3A%200.25%2C%20%22opacity%22%3A%200.2%2C%20%22weight%22%3A%201%7D%3B%0A%20%20%20%20%20%20%20%20%20%20%20%20%7D%0A%20%20%20%20%20%20%20%20%7D%0A%0A%20%20%20%20%20%20%20%20function%20geo_json_fa0869ade01a4acbbaba7ac14c82ac59_onEachFeature%28feature%2C%20layer%29%20%7B%0A%20%20%20%20%20%20%20%20%20%20%20%20layer.on%28%7B%0A%20%20%20%20%20%20%20%20%20%20%20%20%7D%29%3B%0A%20%20%20%20%20%20%20%20%7D%3B%0A%20%20%20%20%20%20%20%20var%20geo_json_fa0869ade01a4acbbaba7ac14c82ac59%20%3D%20L.geoJson%28null%2C%20%7B%0A%20%20%20%20%20%20%20%20%20%20%20%20%20%20%20%20onEachFeature%3A%20geo_json_fa0869ade01a4acbbaba7ac14c82ac59_onEachFeature%2C%0A%20%20%20%20%20%20%20%20%20%20%20%20%0A%20%20%20%20%20%20%20%20%20%20%20%20%20%20%20%20style%3A%20geo_json_fa0869ade01a4acbbaba7ac14c82ac59_styler%2C%0A%20%20%20%20%20%20%20%20%7D%29%3B%0A%0A%20%20%20%20%20%20%20%20function%20geo_json_fa0869ade01a4acbbaba7ac14c82ac59_add%20%28data%29%20%7B%0A%20%20%20%20%20%20%20%20%20%20%20%20geo_json_fa0869ade01a4acbbaba7ac14c82ac59%0A%20%20%20%20%20%20%20%20%20%20%20%20%20%20%20%20.addData%28data%29%0A%20%20%20%20%20%20%20%20%20%20%20%20%20%20%20%20.addTo%28map_b0d72cceeee64ff4a693814451540f45%29%3B%0A%20%20%20%20%20%20%20%20%7D%0A%20%20%20%20%20%20%20%20%20%20%20%20geo_json_fa0869ade01a4acbbaba7ac14c82ac59_add%28%7B%22features%22%3A%20%5B%7B%22geometry%22%3A%20%7B%22coordinates%22%3A%20%5B%5B%5B9.161567687988281%2C%2045.4430306465745%5D%2C%20%5B9.180107116699219%2C%2045.4419466695916%5D%2C%20%5B9.192123413085938%2C%2045.444355479047836%5D%2C%20%5B9.217185974121094%2C%2045.44531897403259%5D%2C%20%5B9.220104217529297%2C%2045.45302634150112%5D%2C%20%5B9.220962524414062%2C%2045.4773458122711%5D%2C%20%5B9.220962524414062%2C%2045.490103317553015%5D%2C%20%5B9.196929931640625%2C%2045.4986468234261%5D%2C%20%5B9.180450439453125%2C%2045.500331305403584%5D%2C%20%5B9.163799285888672%2C%2045.500331305403584%5D%2C%20%5B9.145774841308594%2C%2045.49226939943249%5D%2C%20%5B9.140281677246094%2C%2045.48637264792543%5D%2C%20%5B9.13787841796875%2C%2045.47229015256657%5D%2C%20%5B9.145431518554688%2C%2045.4568796302966%5D%2C%20%5B9.150581359863281%2C%2045.4468846182856%5D%2C%20%5B9.161567687988281%2C%2045.4430306465745%5D%5D%5D%2C%20%22type%22%3A%20%22Polygon%22%7D%2C%20%22id%22%3A%20%220%22%2C%20%22type%22%3A%20%22Feature%22%7D%5D%2C%20%22type%22%3A%20%22FeatureCollection%22%7D%29%3B%0A%0A%20%20%20%20%20%20%20%20%0A%3C/script%3E onload=\"this.contentDocument.open();this.contentDocument.write(    decodeURIComponent(this.getAttribute('data-html')));this.contentDocument.close();\" allowfullscreen webkitallowfullscreen mozallowfullscreen></iframe></div></div>"
      ],
      "text/plain": [
       "<folium.folium.Map at 0x294bf723a60>"
      ]
     },
     "execution_count": 25,
     "metadata": {},
     "output_type": "execute_result"
    }
   ],
   "source": [
    "from skmob.utils.plot import *\n",
    "# style of the tessellation\n",
    "tex_style = {'fillColor':'blue', 'color':'black', 'opacity': 0.2}\n",
    "plot_gdf(milan_medium, style_func_args=tex_style, zoom=10, popup_features=['tile_ID'])"
   ]
  },
  {
   "cell_type": "markdown",
   "id": "76d47da6",
   "metadata": {},
   "source": [
    "Keep only the trajectories with at least one GPS points inside the geographic area of interest."
   ]
  },
  {
   "cell_type": "code",
   "execution_count": 28,
   "id": "0f12cbd4",
   "metadata": {},
   "outputs": [
    {
     "name": "stderr",
     "output_type": "stream",
     "text": [
      "C:\\Users\\giuli\\Anaconda3\\envs\\sk_dev\\lib\\site-packages\\geopandas\\array.py:275: ShapelyDeprecationWarning: The array interface is deprecated and will no longer work in Shapely 2.0. Convert the '.coords' to a numpy array instead.\n",
      "  return GeometryArray(vectorized.points_from_xy(x, y, z), crs=crs)\n"
     ]
    },
    {
     "name": "stdout",
     "output_type": "stream",
     "text": [
      "Wall time: 2min 1s\n"
     ]
    }
   ],
   "source": [
    "%%time\n",
    "\n",
    "id_all_in, id_atleast_one_in = filter_in_shape(traj_seg, milan_medium, drop=False)"
   ]
  },
  {
   "cell_type": "code",
   "execution_count": 30,
   "id": "5166465d",
   "metadata": {},
   "outputs": [
    {
     "name": "stdout",
     "output_type": "stream",
     "text": [
      "7797\n"
     ]
    }
   ],
   "source": [
    "#take the trajectories with at least TWO points inside the region\n",
    "\n",
    "traj_inside = traj_seg[traj_seg['uid'].isin(id_atleast_one_in)]\n",
    "gb = traj_inside.groupby(\"uid\", as_index=False).count()\n",
    "\n",
    "ids_traj_mobility = gb[gb['lat']>1]['uid']\n",
    "traj_filtered_area = traj_inside[traj_inside['uid'].isin(ids_traj_mobility)]\n",
    "\n",
    "print(len(traj_filtered_area['uid'].unique()))"
   ]
  },
  {
   "cell_type": "markdown",
   "id": "a3549ef9",
   "metadata": {},
   "source": [
    "### 5. Trajectory segmentation$^2$\n",
    "\n",
    "Cut the trajectories wrt to the boundaries\n"
   ]
  },
  {
   "cell_type": "code",
   "execution_count": 35,
   "id": "89386df3",
   "metadata": {},
   "outputs": [
    {
     "name": "stdout",
     "output_type": "stream",
     "text": [
      "Wall time: 1.56 s\n"
     ]
    }
   ],
   "source": [
    "%%time\n",
    "\n",
    "res = segment_trajectories_area(traj_filtered_area)\n",
    "\n",
    "traj_segmented_2 = traj_filtered_area.drop(['uid'], axis=1)\n",
    "traj_segmented_2['uid'] = res"
   ]
  },
  {
   "cell_type": "markdown",
   "id": "75f5e917",
   "metadata": {},
   "source": [
    "Filter 1. Keep only the sub-trajectories INSIDE the geographic region"
   ]
  },
  {
   "cell_type": "code",
   "execution_count": 36,
   "id": "2dbe1b3a",
   "metadata": {},
   "outputs": [
    {
     "name": "stdout",
     "output_type": "stream",
     "text": [
      "Trajectories: 32192\n"
     ]
    }
   ],
   "source": [
    "ids_filter1 = list(traj_segmented_2[traj_segmented_2['isin']==True]['uid'].unique())\n",
    "df_traj_f1 = traj_segmented_2[traj_segmented_2['uid'].isin(ids_filter1)]\n",
    "print(\"Trajectories: \"+str(len(ids_filter1)))"
   ]
  },
  {
   "cell_type": "markdown",
   "id": "14e6923e",
   "metadata": {},
   "source": [
    "Filter 2. Keep only the sub-trajectories with at least 2 GPS points"
   ]
  },
  {
   "cell_type": "code",
   "execution_count": 38,
   "id": "158d6432",
   "metadata": {},
   "outputs": [
    {
     "name": "stdout",
     "output_type": "stream",
     "text": [
      "Trajectories: 27149\n"
     ]
    }
   ],
   "source": [
    "gb = df_traj_f1.groupby(\"uid\", as_index=False).count()\n",
    "ids_filter2 = list(gb[gb['isin']>1].uid.unique())\n",
    "df_traj_f2 = df_traj_f1[df_traj_f1['uid'].isin(ids_filter2)]\n",
    "print(\"Trajectories: \"+str(len(ids_filter2)))"
   ]
  },
  {
   "cell_type": "markdown",
   "id": "b67e8c82",
   "metadata": {},
   "source": [
    "Filter 3. Keep only working days"
   ]
  },
  {
   "cell_type": "code",
   "execution_count": 40,
   "id": "5f448127",
   "metadata": {},
   "outputs": [
    {
     "data": {
      "text/html": [
       "<div>\n",
       "<style scoped>\n",
       "    .dataframe tbody tr th:only-of-type {\n",
       "        vertical-align: middle;\n",
       "    }\n",
       "\n",
       "    .dataframe tbody tr th {\n",
       "        vertical-align: top;\n",
       "    }\n",
       "\n",
       "    .dataframe thead th {\n",
       "        text-align: right;\n",
       "    }\n",
       "</style>\n",
       "<table border=\"1\" class=\"dataframe\">\n",
       "  <thead>\n",
       "    <tr style=\"text-align: right;\">\n",
       "      <th></th>\n",
       "      <th>uid</th>\n",
       "      <th>datetime</th>\n",
       "      <th>lat</th>\n",
       "      <th>lng</th>\n",
       "      <th>traj_id</th>\n",
       "      <th>points</th>\n",
       "      <th>isin</th>\n",
       "      <th>day_number</th>\n",
       "    </tr>\n",
       "  </thead>\n",
       "  <tbody>\n",
       "    <tr>\n",
       "      <th>0</th>\n",
       "      <td>100000_16000</td>\n",
       "      <td>2007-04-01 13:27:53</td>\n",
       "      <td>45.481099</td>\n",
       "      <td>9.205389</td>\n",
       "      <td>100000_2</td>\n",
       "      <td>POINT (9.20539 45.48110)</td>\n",
       "      <td>True</td>\n",
       "      <td>6</td>\n",
       "    </tr>\n",
       "    <tr>\n",
       "      <th>1</th>\n",
       "      <td>100000_16002</td>\n",
       "      <td>2007-04-01 18:12:54</td>\n",
       "      <td>45.487850</td>\n",
       "      <td>9.157280</td>\n",
       "      <td>100000_3</td>\n",
       "      <td>POINT (9.15728 45.48785)</td>\n",
       "      <td>True</td>\n",
       "      <td>6</td>\n",
       "    </tr>\n",
       "  </tbody>\n",
       "</table>\n",
       "</div>"
      ],
      "text/plain": [
       "            uid            datetime        lat       lng   traj_id  \\\n",
       "0  100000_16000 2007-04-01 13:27:53  45.481099  9.205389  100000_2   \n",
       "1  100000_16002 2007-04-01 18:12:54  45.487850  9.157280  100000_3   \n",
       "\n",
       "                     points  isin  day_number  \n",
       "0  POINT (9.20539 45.48110)  True           6  \n",
       "1  POINT (9.15728 45.48785)  True           6  "
      ]
     },
     "execution_count": 40,
     "metadata": {},
     "output_type": "execute_result"
    }
   ],
   "source": [
    "trips_grouped = df_traj_f2.groupby(['uid'], as_index=False).first()\n",
    "trips_grouped['day_number'] = trips_grouped['datetime'].apply(lambda d: d.weekday())\n",
    "trips_grouped[:2]"
   ]
  },
  {
   "cell_type": "code",
   "execution_count": 42,
   "id": "26dc2bee",
   "metadata": {},
   "outputs": [
    {
     "name": "stdout",
     "output_type": "stream",
     "text": [
      "21037\n"
     ]
    }
   ],
   "source": [
    "tid_2_keep = trips_grouped[trips_grouped['day_number']<5]['uid'].unique()\n",
    "traj_d_week = df_traj_f2[df_traj_f2['uid'].isin(tid_2_keep)]\n",
    "print(len(traj_d_week['uid'].unique()))"
   ]
  },
  {
   "cell_type": "markdown",
   "id": "b5ba28f0",
   "metadata": {},
   "source": [
    "### 6. Save the pre-processed dataset"
   ]
  },
  {
   "cell_type": "code",
   "execution_count": 47,
   "id": "04c5f3cb",
   "metadata": {},
   "outputs": [],
   "source": [
    "traj_d_week.to_csv(\"../data/milan_dataset_preprocessed.csv\", index=False)"
   ]
  },
  {
   "cell_type": "code",
   "execution_count": null,
   "id": "7e347381",
   "metadata": {},
   "outputs": [],
   "source": []
  }
 ],
 "metadata": {
  "kernelspec": {
   "display_name": "Python 3 (ipykernel)",
   "language": "python",
   "name": "python3"
  },
  "language_info": {
   "codemirror_mode": {
    "name": "ipython",
    "version": 3
   },
   "file_extension": ".py",
   "mimetype": "text/x-python",
   "name": "python",
   "nbconvert_exporter": "python",
   "pygments_lexer": "ipython3",
   "version": "3.9.7"
  }
 },
 "nbformat": 4,
 "nbformat_minor": 5
}
