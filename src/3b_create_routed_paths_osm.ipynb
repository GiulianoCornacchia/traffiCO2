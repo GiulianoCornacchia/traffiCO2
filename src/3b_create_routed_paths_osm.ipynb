{
 "cells": [
  {
   "cell_type": "code",
   "execution_count": 2,
   "id": "f34258b4",
   "metadata": {},
   "outputs": [],
   "source": [
    "from utils import *\n",
    "import json\n",
    "import sumolib\n",
    "\n",
    "import warnings\n",
    "warnings.filterwarnings(\"ignore\")"
   ]
  },
  {
   "cell_type": "markdown",
   "id": "a9ba4aae",
   "metadata": {},
   "source": [
    "Openrouteservice’s directions can be used all around the globe. Consume rich route instructions in your applications for cars, trucks, different bike profiles, walking, hiking or wheelchair. Make use of plenty of options, ranging from different kinds of road restrictions to vehicle dimensions."
   ]
  },
  {
   "cell_type": "markdown",
   "id": "b965e713",
   "metadata": {},
   "source": [
    "#### Load road network"
   ]
  },
  {
   "cell_type": "code",
   "execution_count": 3,
   "id": "de8d99a4",
   "metadata": {},
   "outputs": [],
   "source": [
    "road_network_path = \"../sumo_simulation_data/milan_road_network.net.xml\"\n",
    "road_network = sumolib.net.readNet(road_network_path, withInternal=False)"
   ]
  },
  {
   "cell_type": "markdown",
   "id": "b0baa1a8",
   "metadata": {},
   "source": [
    "#### OSM routing API"
   ]
  },
  {
   "cell_type": "code",
   "execution_count": 4,
   "id": "adc90169",
   "metadata": {},
   "outputs": [],
   "source": [
    "osm_api_key = \"\""
   ]
  },
  {
   "cell_type": "code",
   "execution_count": 5,
   "id": "5221bb90",
   "metadata": {},
   "outputs": [],
   "source": [
    "# dict mobility demand path\n",
    "\n",
    "dict_mobility_demand_path = \"../data/dict_mobility_demand.json\""
   ]
  },
  {
   "cell_type": "code",
   "execution_count": 6,
   "id": "53a6c5f6",
   "metadata": {},
   "outputs": [],
   "source": [
    "with open(dict_mobility_demand_path) as json_file:\n",
    "    dict_mobility_demand = json.load(json_file)\n",
    "    \n",
    "vehicle_list_all = [v_id for v_id in dict_mobility_demand.keys() if \"vehicle\" in v_id]"
   ]
  },
  {
   "cell_type": "code",
   "execution_count": 7,
   "id": "4f80b87e",
   "metadata": {},
   "outputs": [],
   "source": [
    "id_from = 0\n",
    "id_to = len(vehicle_list_all)\n",
    "\n",
    "vehicle_list = vehicle_list_all[id_from:id_to]"
   ]
  },
  {
   "cell_type": "markdown",
   "id": "68469a97",
   "metadata": {},
   "source": [
    "### Get the routing suggestions from OSM"
   ]
  },
  {
   "cell_type": "code",
   "execution_count": 8,
   "id": "72d01b17",
   "metadata": {
    "scrolled": false
   },
   "outputs": [],
   "source": [
    "dict_results_osm = create_routed_demand_osm(dict_mobility_demand, vehicle_list, road_network, osm_api_key)"
   ]
  },
  {
   "cell_type": "markdown",
   "id": "fd51cbb4",
   "metadata": {},
   "source": [
    "### Visualize some suggestions"
   ]
  },
  {
   "cell_type": "code",
   "execution_count": 9,
   "id": "b17486a4",
   "metadata": {
    "scrolled": true
   },
   "outputs": [
    {
     "data": {
      "text/html": [
       "<div style=\"width:100%;\"><div style=\"position:relative;width:100%;height:0;padding-bottom:60%;\"><span style=\"color:#565656\">Make this Notebook Trusted to load map: File -> Trust Notebook</span><iframe src=\"about:blank\" style=\"position:absolute;width:100%;height:100%;left:0;top:0;border:none !important;\" data-html=%3C%21DOCTYPE%20html%3E%0A%3Chead%3E%20%20%20%20%0A%20%20%20%20%3Cmeta%20http-equiv%3D%22content-type%22%20content%3D%22text/html%3B%20charset%3DUTF-8%22%20/%3E%0A%20%20%20%20%0A%20%20%20%20%20%20%20%20%3Cscript%3E%0A%20%20%20%20%20%20%20%20%20%20%20%20L_NO_TOUCH%20%3D%20false%3B%0A%20%20%20%20%20%20%20%20%20%20%20%20L_DISABLE_3D%20%3D%20false%3B%0A%20%20%20%20%20%20%20%20%3C/script%3E%0A%20%20%20%20%0A%20%20%20%20%3Cstyle%3Ehtml%2C%20body%20%7Bwidth%3A%20100%25%3Bheight%3A%20100%25%3Bmargin%3A%200%3Bpadding%3A%200%3B%7D%3C/style%3E%0A%20%20%20%20%3Cstyle%3E%23map%20%7Bposition%3Aabsolute%3Btop%3A0%3Bbottom%3A0%3Bright%3A0%3Bleft%3A0%3B%7D%3C/style%3E%0A%20%20%20%20%3Cscript%20src%3D%22https%3A//cdn.jsdelivr.net/npm/leaflet%401.6.0/dist/leaflet.js%22%3E%3C/script%3E%0A%20%20%20%20%3Cscript%20src%3D%22https%3A//code.jquery.com/jquery-1.12.4.min.js%22%3E%3C/script%3E%0A%20%20%20%20%3Cscript%20src%3D%22https%3A//maxcdn.bootstrapcdn.com/bootstrap/3.2.0/js/bootstrap.min.js%22%3E%3C/script%3E%0A%20%20%20%20%3Cscript%20src%3D%22https%3A//cdnjs.cloudflare.com/ajax/libs/Leaflet.awesome-markers/2.0.2/leaflet.awesome-markers.js%22%3E%3C/script%3E%0A%20%20%20%20%3Clink%20rel%3D%22stylesheet%22%20href%3D%22https%3A//cdn.jsdelivr.net/npm/leaflet%401.6.0/dist/leaflet.css%22/%3E%0A%20%20%20%20%3Clink%20rel%3D%22stylesheet%22%20href%3D%22https%3A//maxcdn.bootstrapcdn.com/bootstrap/3.2.0/css/bootstrap.min.css%22/%3E%0A%20%20%20%20%3Clink%20rel%3D%22stylesheet%22%20href%3D%22https%3A//maxcdn.bootstrapcdn.com/bootstrap/3.2.0/css/bootstrap-theme.min.css%22/%3E%0A%20%20%20%20%3Clink%20rel%3D%22stylesheet%22%20href%3D%22https%3A//maxcdn.bootstrapcdn.com/font-awesome/4.6.3/css/font-awesome.min.css%22/%3E%0A%20%20%20%20%3Clink%20rel%3D%22stylesheet%22%20href%3D%22https%3A//cdnjs.cloudflare.com/ajax/libs/Leaflet.awesome-markers/2.0.2/leaflet.awesome-markers.css%22/%3E%0A%20%20%20%20%3Clink%20rel%3D%22stylesheet%22%20href%3D%22https%3A//cdn.jsdelivr.net/gh/python-visualization/folium/folium/templates/leaflet.awesome.rotate.min.css%22/%3E%0A%20%20%20%20%0A%20%20%20%20%20%20%20%20%20%20%20%20%3Cmeta%20name%3D%22viewport%22%20content%3D%22width%3Ddevice-width%2C%0A%20%20%20%20%20%20%20%20%20%20%20%20%20%20%20%20initial-scale%3D1.0%2C%20maximum-scale%3D1.0%2C%20user-scalable%3Dno%22%20/%3E%0A%20%20%20%20%20%20%20%20%20%20%20%20%3Cstyle%3E%0A%20%20%20%20%20%20%20%20%20%20%20%20%20%20%20%20%23map_24a93c1e92b043b2bc07be455b641f36%20%7B%0A%20%20%20%20%20%20%20%20%20%20%20%20%20%20%20%20%20%20%20%20position%3A%20relative%3B%0A%20%20%20%20%20%20%20%20%20%20%20%20%20%20%20%20%20%20%20%20width%3A%20100.0%25%3B%0A%20%20%20%20%20%20%20%20%20%20%20%20%20%20%20%20%20%20%20%20height%3A%20100.0%25%3B%0A%20%20%20%20%20%20%20%20%20%20%20%20%20%20%20%20%20%20%20%20left%3A%200.0%25%3B%0A%20%20%20%20%20%20%20%20%20%20%20%20%20%20%20%20%20%20%20%20top%3A%200.0%25%3B%0A%20%20%20%20%20%20%20%20%20%20%20%20%20%20%20%20%7D%0A%20%20%20%20%20%20%20%20%20%20%20%20%3C/style%3E%0A%20%20%20%20%20%20%20%20%0A%3C/head%3E%0A%3Cbody%3E%20%20%20%20%0A%20%20%20%20%0A%20%20%20%20%20%20%20%20%20%20%20%20%3Cdiv%20class%3D%22folium-map%22%20id%3D%22map_24a93c1e92b043b2bc07be455b641f36%22%20%3E%3C/div%3E%0A%20%20%20%20%20%20%20%20%0A%3C/body%3E%0A%3Cscript%3E%20%20%20%20%0A%20%20%20%20%0A%20%20%20%20%20%20%20%20%20%20%20%20var%20map_24a93c1e92b043b2bc07be455b641f36%20%3D%20L.map%28%0A%20%20%20%20%20%20%20%20%20%20%20%20%20%20%20%20%22map_24a93c1e92b043b2bc07be455b641f36%22%2C%0A%20%20%20%20%20%20%20%20%20%20%20%20%20%20%20%20%7B%0A%20%20%20%20%20%20%20%20%20%20%20%20%20%20%20%20%20%20%20%20center%3A%20%5B45.463741%2C%209.142024%5D%2C%0A%20%20%20%20%20%20%20%20%20%20%20%20%20%20%20%20%20%20%20%20crs%3A%20L.CRS.EPSG3857%2C%0A%20%20%20%20%20%20%20%20%20%20%20%20%20%20%20%20%20%20%20%20zoom%3A%2013%2C%0A%20%20%20%20%20%20%20%20%20%20%20%20%20%20%20%20%20%20%20%20zoomControl%3A%20true%2C%0A%20%20%20%20%20%20%20%20%20%20%20%20%20%20%20%20%20%20%20%20preferCanvas%3A%20false%2C%0A%20%20%20%20%20%20%20%20%20%20%20%20%20%20%20%20%7D%0A%20%20%20%20%20%20%20%20%20%20%20%20%29%3B%0A%0A%20%20%20%20%20%20%20%20%20%20%20%20%0A%0A%20%20%20%20%20%20%20%20%0A%20%20%20%20%0A%20%20%20%20%20%20%20%20%20%20%20%20var%20tile_layer_1becf74c9bc743c4b56cbf8be8d5b997%20%3D%20L.tileLayer%28%0A%20%20%20%20%20%20%20%20%20%20%20%20%20%20%20%20%22https%3A//cartodb-basemaps-%7Bs%7D.global.ssl.fastly.net/light_all/%7Bz%7D/%7Bx%7D/%7By%7D.png%22%2C%0A%20%20%20%20%20%20%20%20%20%20%20%20%20%20%20%20%7B%22attribution%22%3A%20%22%5Cu0026copy%3B%20%5Cu003ca%20href%3D%5C%22http%3A//www.openstreetmap.org/copyright%5C%22%5Cu003eOpenStreetMap%5Cu003c/a%5Cu003e%20contributors%20%5Cu0026copy%3B%20%5Cu003ca%20href%3D%5C%22http%3A//cartodb.com/attributions%5C%22%5Cu003eCartoDB%5Cu003c/a%5Cu003e%2C%20CartoDB%20%5Cu003ca%20href%20%3D%5C%22http%3A//cartodb.com/attributions%5C%22%5Cu003eattributions%5Cu003c/a%5Cu003e%22%2C%20%22detectRetina%22%3A%20false%2C%20%22maxNativeZoom%22%3A%2018%2C%20%22maxZoom%22%3A%2018%2C%20%22minZoom%22%3A%200%2C%20%22noWrap%22%3A%20false%2C%20%22opacity%22%3A%201%2C%20%22subdomains%22%3A%20%22abc%22%2C%20%22tms%22%3A%20false%7D%0A%20%20%20%20%20%20%20%20%20%20%20%20%29.addTo%28map_24a93c1e92b043b2bc07be455b641f36%29%3B%0A%20%20%20%20%20%20%20%20%0A%20%20%20%20%0A%20%20%20%20%20%20%20%20%20%20%20%20var%20poly_line_2267190b14e84d45af594e10f9370607%20%3D%20L.polyline%28%0A%20%20%20%20%20%20%20%20%20%20%20%20%20%20%20%20%5B%5B45.463741%2C%209.142024%5D%2C%20%5B45.46347%2C%209.142145%5D%2C%20%5B45.463207%2C%209.142268%5D%2C%20%5B45.46288%2C%209.142469%5D%2C%20%5B45.462512%2C%209.142694%5D%2C%20%5B45.462148%2C%209.142897%5D%2C%20%5B45.461659%2C%209.143214%5D%2C%20%5B45.461638%2C%209.143228%5D%2C%20%5B45.461598%2C%209.143253%5D%2C%20%5B45.461984%2C%209.144536%5D%2C%20%5B45.462017%2C%209.144643%5D%2C%20%5B45.462056%2C%209.144782%5D%2C%20%5B45.462062%2C%209.144802%5D%2C%20%5B45.462667%2C%209.146798%5D%2C%20%5B45.462982%2C%209.147841%5D%2C%20%5B45.463012%2C%209.14794%5D%2C%20%5B45.463053%2C%209.14807%5D%2C%20%5B45.463098%2C%209.148206%5D%2C%20%5B45.463176%2C%209.148154%5D%2C%20%5B45.464923%2C%209.147129%5D%2C%20%5B45.464986%2C%209.147092%5D%2C%20%5B45.465905%2C%209.14655%5D%2C%20%5B45.46601%2C%209.146488%5D%2C%20%5B45.466113%2C%209.146459%5D%2C%20%5B45.466692%2C%209.14628%5D%2C%20%5B45.466782%2C%209.146415%5D%2C%20%5B45.46688%2C%209.146533%5D%2C%20%5B45.466905%2C%209.146547%5D%2C%20%5B45.466928%2C%209.146549%5D%2C%20%5B45.467137%2C%209.146477%5D%2C%20%5B45.467162%2C%209.14645%5D%2C%20%5B45.467186%2C%209.146389%5D%2C%20%5B45.467242%2C%209.146155%5D%2C%20%5B45.467258%2C%209.146095%5D%2C%20%5B45.468295%2C%209.145778%5D%2C%20%5B45.468674%2C%209.145659%5D%2C%20%5B45.469212%2C%209.145489%5D%2C%20%5B45.4699%2C%209.145278%5D%2C%20%5B45.470009%2C%209.14527%5D%2C%20%5B45.470061%2C%209.145286%5D%2C%20%5B45.470099%2C%209.14531%5D%2C%20%5B45.47011%2C%209.145345%5D%2C%20%5B45.470144%2C%209.145407%5D%2C%20%5B45.470225%2C%209.145507%5D%2C%20%5B45.470243%2C%209.145523%5D%2C%20%5B45.470259%2C%209.145536%5D%2C%20%5B45.470315%2C%209.145571%5D%2C%20%5B45.47039%2C%209.145601%5D%2C%20%5B45.470447%2C%209.145601%5D%2C%20%5B45.470606%2C%209.145562%5D%2C%20%5B45.470673%2C%209.145692%5D%2C%20%5B45.470762%2C%209.145827%5D%2C%20%5B45.470894%2C%209.146034%5D%2C%20%5B45.471521%2C%209.147007%5D%2C%20%5B45.471574%2C%209.147091%5D%2C%20%5B45.471633%2C%209.147177%5D%2C%20%5B45.47216%2C%209.147979%5D%2C%20%5B45.472688%2C%209.148802%5D%2C%20%5B45.472735%2C%209.148874%5D%2C%20%5B45.472788%2C%209.148957%5D%2C%20%5B45.473862%2C%209.150585%5D%2C%20%5B45.47392%2C%209.150673%5D%2C%20%5B45.473993%2C%209.150779%5D%2C%20%5B45.474102%2C%209.15095%5D%2C%20%5B45.474128%2C%209.151023%5D%2C%20%5B45.474141%2C%209.151096%5D%2C%20%5B45.474135%2C%209.151246%5D%2C%20%5B45.474174%2C%209.151384%5D%2C%20%5B45.474226%2C%209.151442%5D%2C%20%5B45.474306%2C%209.151425%5D%2C%20%5B45.474445%2C%209.151435%5D%2C%20%5B45.47447%2C%209.151436%5D%2C%20%5B45.474669%2C%209.151442%5D%2C%20%5B45.475381%2C%209.151481%5D%2C%20%5B45.475549%2C%209.15149%5D%2C%20%5B45.476138%2C%209.151516%5D%2C%20%5B45.476961%2C%209.151568%5D%2C%20%5B45.477135%2C%209.151577%5D%2C%20%5B45.477602%2C%209.151597%5D%2C%20%5B45.477946%2C%209.151617%5D%2C%20%5B45.478197%2C%209.15163%5D%2C%20%5B45.479831%2C%209.151719%5D%2C%20%5B45.480252%2C%209.151743%5D%2C%20%5B45.480458%2C%209.151696%5D%2C%20%5B45.48066%2C%209.151527%5D%2C%20%5B45.480765%2C%209.151395%5D%2C%20%5B45.48085%2C%209.151322%5D%2C%20%5B45.48099%2C%209.151282%5D%2C%20%5B45.481064%2C%209.151285%5D%2C%20%5B45.481131%2C%209.151296%5D%2C%20%5B45.481324%2C%209.151584%5D%2C%20%5B45.481418%2C%209.151724%5D%2C%20%5B45.481641%2C%209.152058%5D%2C%20%5B45.481842%2C%209.152357%5D%2C%20%5B45.482586%2C%209.153495%5D%2C%20%5B45.482627%2C%209.153557%5D%2C%20%5B45.48269%2C%209.153657%5D%2C%20%5B45.482738%2C%209.153727%5D%2C%20%5B45.482779%2C%209.153789%5D%2C%20%5B45.483922%2C%209.155513%5D%2C%20%5B45.483993%2C%209.15562%5D%2C%20%5B45.483949%2C%209.155682%5D%2C%20%5B45.48388%2C%209.155829%5D%2C%20%5B45.483834%2C%209.156036%5D%2C%20%5B45.483829%2C%209.1561%5D%2C%20%5B45.483829%2C%209.156176%5D%2C%20%5B45.483867%2C%209.156414%5D%2C%20%5B45.483934%2C%209.156577%5D%2C%20%5B45.483979%2C%209.156647%5D%2C%20%5B45.484019%2C%209.156697%5D%2C%20%5B45.484159%2C%209.156805%5D%2C%20%5B45.484316%2C%209.156843%5D%2C%20%5B45.484474%2C%209.156807%5D%2C%20%5B45.484615%2C%209.156701%5D%2C%20%5B45.484656%2C%209.156652%5D%2C%20%5B45.484722%2C%209.156764%5D%2C%20%5B45.485829%2C%209.158457%5D%2C%20%5B45.485884%2C%209.158544%5D%2C%20%5B45.485937%2C%209.158622%5D%2C%20%5B45.485961%2C%209.158655%5D%2C%20%5B45.485984%2C%209.158687%5D%2C%20%5B45.486051%2C%209.158787%5D%2C%20%5B45.486174%2C%209.158642%5D%2C%20%5B45.486373%2C%209.158381%5D%2C%20%5B45.487192%2C%209.157291%5D%2C%20%5B45.487589%2C%209.156767%5D%2C%20%5B45.487622%2C%209.156723%5D%2C%20%5B45.487638%2C%209.156701%5D%2C%20%5B45.487644%2C%209.156694%5D%2C%20%5B45.48775%2C%209.156556%5D%2C%20%5B45.487769%2C%209.156529%5D%2C%20%5B45.487785%2C%209.156504%5D%2C%20%5B45.487935%2C%209.156225%5D%2C%20%5B45.487947%2C%209.1562%5D%2C%20%5B45.487964%2C%209.156166%5D%2C%20%5B45.48798%2C%209.156135%5D%2C%20%5B45.488071%2C%209.155955%5D%2C%20%5B45.488138%2C%209.155919%5D%2C%20%5B45.488351%2C%209.155687%5D%2C%20%5B45.488426%2C%209.155547%5D%5D%2C%0A%20%20%20%20%20%20%20%20%20%20%20%20%20%20%20%20%7B%22bubblingMouseEvents%22%3A%20true%2C%20%22color%22%3A%20%22blue%22%2C%20%22dashArray%22%3A%20null%2C%20%22dashOffset%22%3A%20null%2C%20%22fill%22%3A%20false%2C%20%22fillColor%22%3A%20%22blue%22%2C%20%22fillOpacity%22%3A%200.2%2C%20%22fillRule%22%3A%20%22evenodd%22%2C%20%22lineCap%22%3A%20%22round%22%2C%20%22lineJoin%22%3A%20%22round%22%2C%20%22noClip%22%3A%20false%2C%20%22opacity%22%3A%201.0%2C%20%22smoothFactor%22%3A%201.0%2C%20%22stroke%22%3A%20true%2C%20%22weight%22%3A%203%7D%0A%20%20%20%20%20%20%20%20%20%20%20%20%29.addTo%28map_24a93c1e92b043b2bc07be455b641f36%29%3B%0A%20%20%20%20%20%20%20%20%0A%3C/script%3E onload=\"this.contentDocument.open();this.contentDocument.write(    decodeURIComponent(this.getAttribute('data-html')));this.contentDocument.close();\" allowfullscreen webkitallowfullscreen mozallowfullscreen></iframe></div></div>"
      ],
      "text/plain": [
       "<folium.folium.Map at 0x2a7cf2aa880>"
      ]
     },
     "execution_count": 9,
     "metadata": {},
     "output_type": "execute_result"
    }
   ],
   "source": [
    "# the identifier of the vehicle's route we want to visualize\n",
    "\n",
    "v_id = \"vehicle_0\"\n",
    "\n",
    "points_traj = dict_results_osm[v_id]['points']\n",
    "\n",
    "m = folium.Map(location=[points_traj[0][1], points_traj[0][0]], tiles='cartodbpositron', zoom_start=13)\n",
    "\n",
    "# TomTom Suggestion\n",
    "folium.PolyLine(locations=[list(reversed(coord)) \n",
    "                           for coord in points_traj], weigth=3, color=\"blue\").add_to(m)\n",
    "m"
   ]
  },
  {
   "cell_type": "markdown",
   "id": "ccbf463a",
   "metadata": {},
   "source": [
    "### Save the OSM results into a dictionary\n",
    "\n",
    "you can merge later several OSM results with the notebook 3d\n"
   ]
  },
  {
   "cell_type": "code",
   "execution_count": 10,
   "id": "5536b361",
   "metadata": {},
   "outputs": [],
   "source": [
    "a_file = open(\"../data/dicts_suggestion/dict_results_osm_[\"+str(id_from)+\"_\"+str(id_to)+\"].json\", \"w\")\n",
    "json.dump(dict_results_osm, a_file)\n",
    "a_file.close()"
   ]
  }
 ],
 "metadata": {
  "kernelspec": {
   "display_name": "Python 3 (ipykernel)",
   "language": "python",
   "name": "python3"
  },
  "language_info": {
   "codemirror_mode": {
    "name": "ipython",
    "version": 3
   },
   "file_extension": ".py",
   "mimetype": "text/x-python",
   "name": "python",
   "nbconvert_exporter": "python",
   "pygments_lexer": "ipython3",
   "version": "3.9.7"
  }
 },
 "nbformat": 4,
 "nbformat_minor": 5
}
