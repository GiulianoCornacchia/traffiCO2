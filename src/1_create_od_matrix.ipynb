{
 "cells": [
  {
   "cell_type": "markdown",
   "id": "7833db01",
   "metadata": {},
   "source": [
    "# 1 Create OD Matrix\n",
    "\n",
    "The goal of the following notebook is to compute an OD-matrix using the preprocessed Milan Dataset.\n",
    "\n",
    "The cells denoted with the symbol \\* may be skipped if you want to use the pre-computed OD matrix\n",
    "\n",
    "___\n",
    "\n",
    "To compute the OD-Matrix M we first divide the urban environment into squared tiles of a given side. Second,\n",
    "we use real mobility data (the Milan Dataset) to estimate the flows between the tiles, thus obtaining an origin-destination matrix $M$ where an element $m_{o,d} \\in M$ describes the number of vehicles’ trips that start in tile $o$\n",
    "and end in tile $d$.\n",
    "___"
   ]
  },
  {
   "cell_type": "code",
   "execution_count": null,
   "id": "91715cbc",
   "metadata": {},
   "outputs": [],
   "source": [
    "import warnings\n",
    "warnings.filterwarnings(\"ignore\")\n",
    "\n",
    "from utils import *\n",
    "import geopandas as gpd\n",
    "import pandas as pd\n",
    "import sumolib\n",
    "from skmob.tessellation import tilers\n",
    "import json"
   ]
  },
  {
   "cell_type": "markdown",
   "id": "85d4a11d",
   "metadata": {},
   "source": [
    "#### File paths"
   ]
  },
  {
   "cell_type": "code",
   "execution_count": null,
   "id": "97f4a0dc",
   "metadata": {},
   "outputs": [],
   "source": [
    "# real mobility data path\n",
    "mobility_data_path = \"../data/milan_dataset_preprocessed.csv\"\n",
    "\n",
    "# road network path\n",
    "road_network_path = \"../sumo_simulation_data/milan_road_network.net.xml\"\n",
    "\n",
    "# shapefile path\n",
    "shapefile_path = \"../data/milan_medium.geojson\"\n",
    "\n",
    "# outputs directories\n",
    "od_matrix_path = \"../data\"\n",
    "dict_tile_edges_path =  \"../data\""
   ]
  },
  {
   "cell_type": "markdown",
   "id": "ba173ac9",
   "metadata": {},
   "source": [
    "#### Load the real mobility data *"
   ]
  },
  {
   "cell_type": "code",
   "execution_count": null,
   "id": "441ccc99",
   "metadata": {},
   "outputs": [],
   "source": [
    "traj_D = pd.read_csv(mobility_data_path)\n",
    "traj_D = skmob.TrajDataFrame(traj_D[['uid', 'datetime', 'lat', \"lng\"]], latitude='lat', longitude='lng', \n",
    "                                             user_id='uid', datetime='datetime')\n",
    "traj_D[:4]"
   ]
  },
  {
   "cell_type": "markdown",
   "id": "27a2e14f",
   "metadata": {},
   "source": [
    "#### Load the shapefile of the geographic area of interest"
   ]
  },
  {
   "cell_type": "code",
   "execution_count": null,
   "id": "4092fa4d",
   "metadata": {},
   "outputs": [],
   "source": [
    "shape = gpd.GeoDataFrame.from_file(shapefile_path)"
   ]
  },
  {
   "cell_type": "markdown",
   "id": "f090965f",
   "metadata": {},
   "source": [
    "#### Create a squared tessellation of the city (size of 1km)"
   ]
  },
  {
   "cell_type": "code",
   "execution_count": null,
   "id": "36c85c58",
   "metadata": {},
   "outputs": [],
   "source": [
    "tile_size_meters = 1000\n",
    "tessellation = tilers.tiler.get('squared', base_shape=shape, meters=tile_size_meters)"
   ]
  },
  {
   "cell_type": "markdown",
   "id": "11b095f1",
   "metadata": {},
   "source": [
    "#### Compute the OD matrix *"
   ]
  },
  {
   "cell_type": "code",
   "execution_count": null,
   "id": "7eb10f6d",
   "metadata": {},
   "outputs": [],
   "source": [
    "od_matrix = compute_od_matrix(traj_D, tessellation, traj_id=\"uid\", self_loops=True)"
   ]
  },
  {
   "cell_type": "markdown",
   "id": "48ca5326",
   "metadata": {},
   "source": [
    "#### Save the OD matrix *\n",
    "\n",
    "It will be used later to compute the Mobility Demand"
   ]
  },
  {
   "cell_type": "code",
   "execution_count": null,
   "id": "d24af419",
   "metadata": {},
   "outputs": [],
   "source": [
    "with open(od_matrix_path+'/od_matrix.npy', 'wb') as f:\n",
    "    np.save(f, od_matrix)"
   ]
  },
  {
   "cell_type": "markdown",
   "id": "c7883762",
   "metadata": {},
   "source": [
    "#### Load the road network"
   ]
  },
  {
   "cell_type": "code",
   "execution_count": null,
   "id": "2e1865ac",
   "metadata": {},
   "outputs": [],
   "source": [
    "road_network = sumolib.net.readNet(road_network_path, withInternal=False)"
   ]
  },
  {
   "cell_type": "markdown",
   "id": "3f156d9b",
   "metadata": {},
   "source": [
    "#### Assign road network edges to the corresponding tile"
   ]
  },
  {
   "cell_type": "code",
   "execution_count": null,
   "id": "19c5b4dd",
   "metadata": {},
   "outputs": [],
   "source": [
    "dict_tile_edges = create_dict_tile_edges(road_network, tessellation, exclude_roundabouts=True)"
   ]
  },
  {
   "cell_type": "code",
   "execution_count": null,
   "id": "868c35c1",
   "metadata": {},
   "outputs": [],
   "source": [
    "output_file = open(dict_tile_edges_path+\"/dict_tile_edges.json\", \"w\")\n",
    "json.dump(dict_tile_edges, output_file)\n",
    "output_file.close()"
   ]
  }
 ],
 "metadata": {
  "kernelspec": {
   "display_name": "Python 3 (ipykernel)",
   "language": "python",
   "name": "python3"
  },
  "language_info": {
   "codemirror_mode": {
    "name": "ipython",
    "version": 3
   },
   "file_extension": ".py",
   "mimetype": "text/x-python",
   "name": "python",
   "nbconvert_exporter": "python",
   "pygments_lexer": "ipython3",
   "version": "3.9.7"
  }
 },
 "nbformat": 4,
 "nbformat_minor": 5
}
