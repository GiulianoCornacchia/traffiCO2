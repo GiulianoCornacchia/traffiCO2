{
 "cells": [
  {
   "cell_type": "code",
   "execution_count": null,
   "id": "a2a4ef3f",
   "metadata": {},
   "outputs": [],
   "source": [
    "import json\n",
    "from result_utils import *"
   ]
  },
  {
   "cell_type": "markdown",
   "id": "b1dd2b75",
   "metadata": {},
   "source": [
    "## OpenStreetMap"
   ]
  },
  {
   "cell_type": "markdown",
   "id": "9e03f405",
   "metadata": {},
   "source": [
    "#### parameters"
   ]
  },
  {
   "cell_type": "code",
   "execution_count": null,
   "id": "bf411694",
   "metadata": {},
   "outputs": [],
   "source": [
    "folder_experiments_osm = \"../sim_outputs/outputs_main_experiment/exps_osm/\"\n",
    "nav_str = \"osm\"\n",
    "\n",
    "# output paths\n",
    "path_results_total_co2_osm = \"../results/dict_total_co2_osm.json\"\n",
    "path_results_alpha_osm = \"../results/dict_alpha_osm.json\"\n",
    "path_results_gini_osm = \"../results/dict_gini_osm.json\""
   ]
  },
  {
   "cell_type": "markdown",
   "id": "1c4539d9",
   "metadata": {},
   "source": [
    "Create a dictionary that associates configuration and filenames"
   ]
  },
  {
   "cell_type": "code",
   "execution_count": null,
   "id": "60fce3ed",
   "metadata": {},
   "outputs": [],
   "source": [
    "dict_exps_osm = create_dict_exps(folder_experiments_osm, \"osm\")\n",
    "\n",
    "with open(path_results_total_co2_osm, 'w') as fp:\n",
    "    json.dump(dict_exps_osm, fp)"
   ]
  },
  {
   "cell_type": "markdown",
   "id": "b16c6b37",
   "metadata": {},
   "source": [
    "#### 1. Total CO2"
   ]
  },
  {
   "cell_type": "code",
   "execution_count": null,
   "id": "4f49f4ec",
   "metadata": {},
   "outputs": [],
   "source": [
    "dict_total_co2_osm = create_dict_results_co2(dict_exps_osm, folder_experiments_osm)\n",
    "\n",
    "with open(path_results_total_co2_osm, 'w') as fp:\n",
    "    json.dump(dict_total_co2_osm, fp)"
   ]
  },
  {
   "cell_type": "markdown",
   "id": "34ca8a1e",
   "metadata": {},
   "source": [
    "#### 2. Alpha truncated powerlaw\n",
    "\n",
    "the execution time may be high"
   ]
  },
  {
   "cell_type": "code",
   "execution_count": null,
   "id": "0eef93aa",
   "metadata": {},
   "outputs": [],
   "source": [
    "dict_alphas_co2_osm = create_dict_results_alpha(dict_exps_osm, folder_experiments_osm)\n",
    "\n",
    "with open(path_results_alpha_osm, 'w') as fp:\n",
    "    json.dump(dict_alphas_co2_osm, fp)"
   ]
  },
  {
   "cell_type": "markdown",
   "id": "5a75a367",
   "metadata": {},
   "source": [
    "#### 3. Gini index"
   ]
  },
  {
   "cell_type": "code",
   "execution_count": null,
   "id": "cfeb8438",
   "metadata": {},
   "outputs": [],
   "source": [
    "dict_ginis_co2_osm = create_dict_results_gini(dict_exps_osm, folder_experiments_osm)\n",
    "\n",
    "with open(path_results_gini_osm, 'w') as fp:\n",
    "    json.dump(dict_ginis_co2_osm, fp)"
   ]
  },
  {
   "cell_type": "markdown",
   "id": "49a52d6d",
   "metadata": {},
   "source": [
    "## TomTom"
   ]
  },
  {
   "cell_type": "markdown",
   "id": "a2797a27",
   "metadata": {},
   "source": [
    "#### parameters"
   ]
  },
  {
   "cell_type": "code",
   "execution_count": null,
   "id": "c318c7e4",
   "metadata": {},
   "outputs": [],
   "source": [
    "folder_experiments_tomtom = \"../sim_outputs/outputs_main_experiment/exps_tomtom/\"\n",
    "nav_str = \"tomtom\"\n",
    "\n",
    "# output paths\n",
    "path_results_total_co2_tomtom = \"../results/dict_total_co2_tomtom.json\"\n",
    "path_results_alpha_tomtom = \"../results/dict_alpha_tomtom.json\"\n",
    "path_results_gini_tomtom = \"../results/dict_gini_tomtom.json\""
   ]
  },
  {
   "cell_type": "markdown",
   "id": "a48e298c",
   "metadata": {},
   "source": [
    "Create a dictionary that associates configuration and filenames"
   ]
  },
  {
   "cell_type": "code",
   "execution_count": null,
   "id": "44a74225",
   "metadata": {},
   "outputs": [],
   "source": [
    "dict_exps_tomtom = create_dict_exps(folder_experiments_tomtom, \"tomtom\")\n",
    "\n",
    "with open(path_results_total_co2_tomtom, 'w') as fp:\n",
    "    json.dump(dict_exps_tomtom, fp)"
   ]
  },
  {
   "cell_type": "markdown",
   "id": "eddf5183",
   "metadata": {},
   "source": [
    "#### 1. Total CO2"
   ]
  },
  {
   "cell_type": "code",
   "execution_count": null,
   "id": "f39a3253",
   "metadata": {},
   "outputs": [],
   "source": [
    "dict_total_co2_tomtom = create_dict_results_co2(dict_exps_tomtom, folder_experiments_tomtom)\n",
    "\n",
    "with open(path_results_total_co2_tomtom, 'w') as fp:\n",
    "    json.dump(dict_total_co2_tomtom, fp)"
   ]
  },
  {
   "cell_type": "markdown",
   "id": "3a0b4398",
   "metadata": {},
   "source": [
    "#### 2. Alpha truncated powerlaw\n",
    "\n",
    "the execution time may be high"
   ]
  },
  {
   "cell_type": "code",
   "execution_count": null,
   "id": "fab65771",
   "metadata": {},
   "outputs": [],
   "source": [
    "dict_alphas_co2_tomtom = create_dict_results_alpha(dict_exps_tomtom, folder_experiments_tomtom)\n",
    "\n",
    "with open(path_results_alpha_tomtom, 'w') as fp:\n",
    "    json.dump(dict_alphas_co2_tomtom, fp)"
   ]
  },
  {
   "cell_type": "markdown",
   "id": "c6749ec5",
   "metadata": {},
   "source": [
    "#### 3. Gini index"
   ]
  },
  {
   "cell_type": "code",
   "execution_count": null,
   "id": "00673b9a",
   "metadata": {},
   "outputs": [],
   "source": [
    "dict_ginis_co2_tomtom = create_dict_results_gini(dict_exps_tomtom, folder_experiments_tomtom)\n",
    "\n",
    "with open(path_results_gini_tomtom, 'w') as fp:\n",
    "    json.dump(dict_ginis_co2_tomtom, fp)"
   ]
  },
  {
   "cell_type": "code",
   "execution_count": null,
   "id": "6862b658",
   "metadata": {},
   "outputs": [],
   "source": []
  }
 ],
 "metadata": {
  "kernelspec": {
   "display_name": "Python 3 (ipykernel)",
   "language": "python",
   "name": "python3"
  },
  "language_info": {
   "codemirror_mode": {
    "name": "ipython",
    "version": 3
   },
   "file_extension": ".py",
   "mimetype": "text/x-python",
   "name": "python",
   "nbconvert_exporter": "python",
   "pygments_lexer": "ipython3",
   "version": "3.9.7"
  }
 },
 "nbformat": 4,
 "nbformat_minor": 5
}
