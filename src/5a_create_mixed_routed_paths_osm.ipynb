{
 "cells": [
  {
   "cell_type": "markdown",
   "id": "65aec87f",
   "metadata": {},
   "source": [
    "# 5a Create Mixed Routed Paths OpenStreetMap\n",
    "\n",
    "The goal of the following notebook is to generate a set of mixed Routed Paths in which we vary the percentage of routed vehicles.\n",
    "___\n",
    "Given a routing algorithm $R \\in \\{\\text{OSM}, \\text{TT}\\}$, we study its impact on the urban environment generating 11 multisets of routed paths $\\overline{D}^{(R)}_0, \\dots, \\overline{D}^{(R)}_{10}$. \n",
    "In each multiset $\\overline{D}^{(R)}_i$ ($i=0, \\dots, 10$), $(i \\cdot 10)$\\% of the paths (chosen uniformly at random among the $N$ paths) are $R$-routed ($R {\\in} \\{\\text{OSM}, \\text{TT}\\}$) and the remaining paths are routed by DR with $w=5$. \n",
    "For example, for $i=5$ and $R = \\text{TT}$, $\\overline{D}_5^{(R)}$ contains 50\\% of the paths routed by TT and the remaining vehicles routed by DR with $w=5$.\n",
    "\n",
    "Similarly, $i=7$ means that 70\\% of the vehicles are TT-routed and 30\\% are DR-routed ($w=5$).\n",
    "___"
   ]
  },
  {
   "cell_type": "code",
   "execution_count": null,
   "id": "50d420cb",
   "metadata": {},
   "outputs": [],
   "source": [
    "import warnings\n",
    "warnings.filterwarnings(\"ignore\")\n",
    "\n",
    "from utils import create_mixed_routed_paths\n",
    "import numpy as np\n",
    "import os"
   ]
  },
  {
   "cell_type": "markdown",
   "id": "1181f9d6",
   "metadata": {},
   "source": [
    "#### input paths"
   ]
  },
  {
   "cell_type": "code",
   "execution_count": null,
   "id": "e90cccae",
   "metadata": {},
   "outputs": [],
   "source": [
    "# output folder\n",
    "demands_folder = \"../sumo_simulation_data/routed_paths/mixed_paths_osm/\"\n",
    "\n",
    "if not os.path.exists(demands_folder):\n",
    "    os.makedirs(demands_folder)\n",
    "\n",
    "# routed paths duarouted\n",
    "routed_demand_duarouter_path = \"../sumo_simulation_data/routed_paths/routed_paths_duarouter.rou.xml\"\n",
    "\n",
    "# routed demand osm\n",
    "routed_demand_osm_path = \"../sumo_simulation_data/routed_paths/routed_paths_osm.rou.xml\""
   ]
  },
  {
   "cell_type": "markdown",
   "id": "809621e6",
   "metadata": {},
   "source": [
    "#### Parameters"
   ]
  },
  {
   "cell_type": "code",
   "execution_count": null,
   "id": "3c050020",
   "metadata": {},
   "outputs": [],
   "source": [
    "# number of vehicles\n",
    "n_totals = 20\n",
    "\n",
    "# number of mixed path for each configuration (number of repetitions)\n",
    "n_reps = 1\n",
    "\n",
    "prefix_nav = \"osm\"\n",
    "\n",
    "# the list of fractions of vehicles that will follow the suggestion of OSM\n",
    "# e.g., 0.4 means that the 40% of vehicles (selected at random) will follow the suggestion of OSM\n",
    "fractions = np.arange(0,1.1,0.1)"
   ]
  },
  {
   "cell_type": "markdown",
   "id": "fccc3a09",
   "metadata": {},
   "source": [
    "### Create the mixed routed paths"
   ]
  },
  {
   "cell_type": "code",
   "execution_count": null,
   "id": "42aecdb3",
   "metadata": {},
   "outputs": [],
   "source": [
    "%%time\n",
    "\n",
    "create_mixed_routed_paths(fractions, n_reps, demands_folder, routed_demand_duarouter_path, routed_demand_osm_path, \n",
    "                                           n_totals, prefix_nav)"
   ]
  }
 ],
 "metadata": {
  "kernelspec": {
   "display_name": "Python 3 (ipykernel)",
   "language": "python",
   "name": "python3"
  },
  "language_info": {
   "codemirror_mode": {
    "name": "ipython",
    "version": 3
   },
   "file_extension": ".py",
   "mimetype": "text/x-python",
   "name": "python",
   "nbconvert_exporter": "python",
   "pygments_lexer": "ipython3",
   "version": "3.9.7"
  }
 },
 "nbformat": 4,
 "nbformat_minor": 5
}
