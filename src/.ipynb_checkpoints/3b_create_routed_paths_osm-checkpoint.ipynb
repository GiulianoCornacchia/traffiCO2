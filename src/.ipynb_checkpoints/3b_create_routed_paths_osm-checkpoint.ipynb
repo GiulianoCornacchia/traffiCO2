{
 "cells": [
  {
   "cell_type": "code",
   "execution_count": 1,
   "id": "f34258b4",
   "metadata": {},
   "outputs": [],
   "source": [
    "from utils import *\n",
    "import json\n",
    "import sumolib\n",
    "\n",
    "import warnings\n",
    "warnings.filterwarnings(\"ignore\")"
   ]
  },
  {
   "cell_type": "markdown",
   "id": "a9ba4aae",
   "metadata": {},
   "source": [
    "## OpenStreetMap routing API\n",
    "\n",
    "For obtaining a **key** you need to register at https://openrouteservice.org/dev/#/signup.\n",
    "\n",
    "In the Free plan, you have **2000 free requests daily**. Once registered, on the web profile there is a counter of the daily requests made (the \"free non-tile requests\" in the \"Activity\" section).\n",
    "\n",
    "See https://openrouteservice.org/dev/#/api-docs/directions for the routing parameters that affect the routing algorithm.\n",
    "\n",
    "The **most important parameter** is `preference`, which specifies the type of optimization used when calculating routes (can be `fastest`, `shortest`, `recommended`). Default is `recommended`.\n",
    "- `fastest`: Route calculation is optimized by travel time, while keeping the routes sensible. For example, the calculation may avoid shortcuts along inconvenient side roads or long detours that only save very little time.\n",
    "- `shortest`: Route calculation is optimized by travel distance, while keeping the routes sensible. For example, straight routes are preferred over those incurring turns.\n",
    "- `recommended`: Route calculation is optimized susing an internal OpenStreetMap algorithm that takes into account both distance and travel time.\n",
    "\n",
    "In our analysis we use `recommended`.\n",
    "\n",
    "Other parameters are, for example: \n",
    "- `profile` (`driving-car`, `cycling-regular`, `foot-walking`, ...). Default is `driving-car`.\n",
    "- `geometry_simplify`"
   ]
  },
  {
   "cell_type": "markdown",
   "id": "b965e713",
   "metadata": {},
   "source": [
    "#### Load road network"
   ]
  },
  {
   "cell_type": "code",
   "execution_count": 2,
   "id": "de8d99a4",
   "metadata": {},
   "outputs": [],
   "source": [
    "road_network_path = \"../sumo_simulation_data/milan_road_network.net.xml\"\n",
    "road_network = sumolib.net.readNet(road_network_path, withInternal=False)"
   ]
  },
  {
   "cell_type": "markdown",
   "id": "b0baa1a8",
   "metadata": {},
   "source": [
    "#### OSM routing API"
   ]
  },
  {
   "cell_type": "code",
   "execution_count": 11,
   "id": "adc90169",
   "metadata": {},
   "outputs": [],
   "source": [
    "osm_api_key = \"<INSERT-YOUR-KEY-HERE>\""
   ]
  },
  {
   "cell_type": "code",
   "execution_count": 4,
   "id": "5221bb90",
   "metadata": {},
   "outputs": [],
   "source": [
    "# dict mobility demand path\n",
    "\n",
    "dict_mobility_demand_path = \"../data/dict_mobility_demand.json\""
   ]
  },
  {
   "cell_type": "code",
   "execution_count": 6,
   "id": "53a6c5f6",
   "metadata": {},
   "outputs": [],
   "source": [
    "with open(dict_mobility_demand_path) as json_file:\n",
    "    dict_mobility_demand = json.load(json_file)\n",
    "    \n",
    "vehicle_list_all = [v_id for v_id in dict_mobility_demand.keys() if \"vehicle\" in v_id]"
   ]
  },
  {
   "cell_type": "code",
   "execution_count": 9,
   "id": "4f80b87e",
   "metadata": {},
   "outputs": [],
   "source": [
    "id_from = 0\n",
    "id_to = len(vehicle_list_all)\n",
    "\n",
    "vehicle_list = vehicle_list_all[id_from:id_to]"
   ]
  },
  {
   "cell_type": "markdown",
   "id": "68469a97",
   "metadata": {},
   "source": [
    "### Get the routing suggestions from OSM"
   ]
  },
  {
   "cell_type": "code",
   "execution_count": 12,
   "id": "72d01b17",
   "metadata": {
    "scrolled": false
   },
   "outputs": [],
   "source": [
    "dict_results_osm = create_routed_demand_osm(dict_mobility_demand, vehicle_list, road_network, osm_api_key)"
   ]
  },
  {
   "cell_type": "markdown",
   "id": "fd51cbb4",
   "metadata": {},
   "source": [
    "### Visualize some suggestions"
   ]
  },
  {
   "cell_type": "code",
   "execution_count": 13,
   "id": "b17486a4",
   "metadata": {},
   "outputs": [
    {
     "data": {
      "text/html": [
       "<div style=\"width:100%;\"><div style=\"position:relative;width:100%;height:0;padding-bottom:60%;\"><span style=\"color:#565656\">Make this Notebook Trusted to load map: File -> Trust Notebook</span><iframe src=\"about:blank\" style=\"position:absolute;width:100%;height:100%;left:0;top:0;border:none !important;\" data-html=%3C%21DOCTYPE%20html%3E%0A%3Chead%3E%20%20%20%20%0A%20%20%20%20%3Cmeta%20http-equiv%3D%22content-type%22%20content%3D%22text/html%3B%20charset%3DUTF-8%22%20/%3E%0A%20%20%20%20%0A%20%20%20%20%20%20%20%20%3Cscript%3E%0A%20%20%20%20%20%20%20%20%20%20%20%20L_NO_TOUCH%20%3D%20false%3B%0A%20%20%20%20%20%20%20%20%20%20%20%20L_DISABLE_3D%20%3D%20false%3B%0A%20%20%20%20%20%20%20%20%3C/script%3E%0A%20%20%20%20%0A%20%20%20%20%3Cstyle%3Ehtml%2C%20body%20%7Bwidth%3A%20100%25%3Bheight%3A%20100%25%3Bmargin%3A%200%3Bpadding%3A%200%3B%7D%3C/style%3E%0A%20%20%20%20%3Cstyle%3E%23map%20%7Bposition%3Aabsolute%3Btop%3A0%3Bbottom%3A0%3Bright%3A0%3Bleft%3A0%3B%7D%3C/style%3E%0A%20%20%20%20%3Cscript%20src%3D%22https%3A//cdn.jsdelivr.net/npm/leaflet%401.6.0/dist/leaflet.js%22%3E%3C/script%3E%0A%20%20%20%20%3Cscript%20src%3D%22https%3A//code.jquery.com/jquery-1.12.4.min.js%22%3E%3C/script%3E%0A%20%20%20%20%3Cscript%20src%3D%22https%3A//maxcdn.bootstrapcdn.com/bootstrap/3.2.0/js/bootstrap.min.js%22%3E%3C/script%3E%0A%20%20%20%20%3Cscript%20src%3D%22https%3A//cdnjs.cloudflare.com/ajax/libs/Leaflet.awesome-markers/2.0.2/leaflet.awesome-markers.js%22%3E%3C/script%3E%0A%20%20%20%20%3Clink%20rel%3D%22stylesheet%22%20href%3D%22https%3A//cdn.jsdelivr.net/npm/leaflet%401.6.0/dist/leaflet.css%22/%3E%0A%20%20%20%20%3Clink%20rel%3D%22stylesheet%22%20href%3D%22https%3A//maxcdn.bootstrapcdn.com/bootstrap/3.2.0/css/bootstrap.min.css%22/%3E%0A%20%20%20%20%3Clink%20rel%3D%22stylesheet%22%20href%3D%22https%3A//maxcdn.bootstrapcdn.com/bootstrap/3.2.0/css/bootstrap-theme.min.css%22/%3E%0A%20%20%20%20%3Clink%20rel%3D%22stylesheet%22%20href%3D%22https%3A//maxcdn.bootstrapcdn.com/font-awesome/4.6.3/css/font-awesome.min.css%22/%3E%0A%20%20%20%20%3Clink%20rel%3D%22stylesheet%22%20href%3D%22https%3A//cdnjs.cloudflare.com/ajax/libs/Leaflet.awesome-markers/2.0.2/leaflet.awesome-markers.css%22/%3E%0A%20%20%20%20%3Clink%20rel%3D%22stylesheet%22%20href%3D%22https%3A//cdn.jsdelivr.net/gh/python-visualization/folium/folium/templates/leaflet.awesome.rotate.min.css%22/%3E%0A%20%20%20%20%0A%20%20%20%20%20%20%20%20%20%20%20%20%3Cmeta%20name%3D%22viewport%22%20content%3D%22width%3Ddevice-width%2C%0A%20%20%20%20%20%20%20%20%20%20%20%20%20%20%20%20initial-scale%3D1.0%2C%20maximum-scale%3D1.0%2C%20user-scalable%3Dno%22%20/%3E%0A%20%20%20%20%20%20%20%20%20%20%20%20%3Cstyle%3E%0A%20%20%20%20%20%20%20%20%20%20%20%20%20%20%20%20%23map_a44880dd341c4d37902e6d6ad919a038%20%7B%0A%20%20%20%20%20%20%20%20%20%20%20%20%20%20%20%20%20%20%20%20position%3A%20relative%3B%0A%20%20%20%20%20%20%20%20%20%20%20%20%20%20%20%20%20%20%20%20width%3A%20100.0%25%3B%0A%20%20%20%20%20%20%20%20%20%20%20%20%20%20%20%20%20%20%20%20height%3A%20100.0%25%3B%0A%20%20%20%20%20%20%20%20%20%20%20%20%20%20%20%20%20%20%20%20left%3A%200.0%25%3B%0A%20%20%20%20%20%20%20%20%20%20%20%20%20%20%20%20%20%20%20%20top%3A%200.0%25%3B%0A%20%20%20%20%20%20%20%20%20%20%20%20%20%20%20%20%7D%0A%20%20%20%20%20%20%20%20%20%20%20%20%3C/style%3E%0A%20%20%20%20%20%20%20%20%0A%3C/head%3E%0A%3Cbody%3E%20%20%20%20%0A%20%20%20%20%0A%20%20%20%20%20%20%20%20%20%20%20%20%3Cdiv%20class%3D%22folium-map%22%20id%3D%22map_a44880dd341c4d37902e6d6ad919a038%22%20%3E%3C/div%3E%0A%20%20%20%20%20%20%20%20%0A%3C/body%3E%0A%3Cscript%3E%20%20%20%20%0A%20%20%20%20%0A%20%20%20%20%20%20%20%20%20%20%20%20var%20map_a44880dd341c4d37902e6d6ad919a038%20%3D%20L.map%28%0A%20%20%20%20%20%20%20%20%20%20%20%20%20%20%20%20%22map_a44880dd341c4d37902e6d6ad919a038%22%2C%0A%20%20%20%20%20%20%20%20%20%20%20%20%20%20%20%20%7B%0A%20%20%20%20%20%20%20%20%20%20%20%20%20%20%20%20%20%20%20%20center%3A%20%5B45.444027%2C%209.213978%5D%2C%0A%20%20%20%20%20%20%20%20%20%20%20%20%20%20%20%20%20%20%20%20crs%3A%20L.CRS.EPSG3857%2C%0A%20%20%20%20%20%20%20%20%20%20%20%20%20%20%20%20%20%20%20%20zoom%3A%2013%2C%0A%20%20%20%20%20%20%20%20%20%20%20%20%20%20%20%20%20%20%20%20zoomControl%3A%20true%2C%0A%20%20%20%20%20%20%20%20%20%20%20%20%20%20%20%20%20%20%20%20preferCanvas%3A%20false%2C%0A%20%20%20%20%20%20%20%20%20%20%20%20%20%20%20%20%7D%0A%20%20%20%20%20%20%20%20%20%20%20%20%29%3B%0A%0A%20%20%20%20%20%20%20%20%20%20%20%20%0A%0A%20%20%20%20%20%20%20%20%0A%20%20%20%20%0A%20%20%20%20%20%20%20%20%20%20%20%20var%20tile_layer_f3609a6321a0428ba96c8537b35eb63c%20%3D%20L.tileLayer%28%0A%20%20%20%20%20%20%20%20%20%20%20%20%20%20%20%20%22https%3A//cartodb-basemaps-%7Bs%7D.global.ssl.fastly.net/light_all/%7Bz%7D/%7Bx%7D/%7By%7D.png%22%2C%0A%20%20%20%20%20%20%20%20%20%20%20%20%20%20%20%20%7B%22attribution%22%3A%20%22%5Cu0026copy%3B%20%5Cu003ca%20href%3D%5C%22http%3A//www.openstreetmap.org/copyright%5C%22%5Cu003eOpenStreetMap%5Cu003c/a%5Cu003e%20contributors%20%5Cu0026copy%3B%20%5Cu003ca%20href%3D%5C%22http%3A//cartodb.com/attributions%5C%22%5Cu003eCartoDB%5Cu003c/a%5Cu003e%2C%20CartoDB%20%5Cu003ca%20href%20%3D%5C%22http%3A//cartodb.com/attributions%5C%22%5Cu003eattributions%5Cu003c/a%5Cu003e%22%2C%20%22detectRetina%22%3A%20false%2C%20%22maxNativeZoom%22%3A%2018%2C%20%22maxZoom%22%3A%2018%2C%20%22minZoom%22%3A%200%2C%20%22noWrap%22%3A%20false%2C%20%22opacity%22%3A%201%2C%20%22subdomains%22%3A%20%22abc%22%2C%20%22tms%22%3A%20false%7D%0A%20%20%20%20%20%20%20%20%20%20%20%20%29.addTo%28map_a44880dd341c4d37902e6d6ad919a038%29%3B%0A%20%20%20%20%20%20%20%20%0A%20%20%20%20%0A%20%20%20%20%20%20%20%20%20%20%20%20var%20poly_line_5de77dfb1cf345ca8c6c99271ae89e6d%20%3D%20L.polyline%28%0A%20%20%20%20%20%20%20%20%20%20%20%20%20%20%20%20%5B%5B45.444027%2C%209.213978%5D%2C%20%5B45.444023%2C%209.213914%5D%2C%20%5B45.443736%2C%209.214033%5D%2C%20%5B45.443731%2C%209.213987%5D%2C%20%5B45.443422%2C%209.212466%5D%2C%20%5B45.443393%2C%209.212323%5D%2C%20%5B45.443327%2C%209.212357%5D%2C%20%5B45.442662%2C%209.212694%5D%2C%20%5B45.442595%2C%209.21273%5D%2C%20%5B45.442634%2C%209.212872%5D%2C%20%5B45.443106%2C%209.214573%5D%2C%20%5B45.443117%2C%209.214617%5D%2C%20%5B45.443701%2C%209.214206%5D%2C%20%5B45.443762%2C%209.214167%5D%2C%20%5B45.443795%2C%209.214345%5D%2C%20%5B45.443983%2C%209.215367%5D%2C%20%5B45.444067%2C%209.215442%5D%2C%20%5B45.444132%2C%209.215491%5D%2C%20%5B45.444189%2C%209.215502%5D%2C%20%5B45.444206%2C%209.215506%5D%2C%20%5B45.444219%2C%209.215511%5D%2C%20%5B45.444229%2C%209.215514%5D%2C%20%5B45.444292%2C%209.215516%5D%2C%20%5B45.444653%2C%209.214794%5D%2C%20%5B45.444712%2C%209.214672%5D%2C%20%5B45.444953%2C%209.214268%5D%2C%20%5B45.445623%2C%209.213162%5D%2C%20%5B45.445694%2C%209.213045%5D%2C%20%5B45.445767%2C%209.212925%5D%2C%20%5B45.445955%2C%209.212608%5D%2C%20%5B45.445979%2C%209.212571%5D%2C%20%5B45.446768%2C%209.211314%5D%2C%20%5B45.44708%2C%209.210797%5D%2C%20%5B45.447115%2C%209.210743%5D%2C%20%5B45.447185%2C%209.210627%5D%2C%20%5B45.447158%2C%209.210606%5D%2C%20%5B45.447089%2C%209.210525%5D%2C%20%5B45.447036%2C%209.210423%5D%2C%20%5B45.44703%2C%209.210405%5D%2C%20%5B45.447017%2C%209.210366%5D%2C%20%5B45.446994%2C%209.210243%5D%2C%20%5B45.446993%2C%209.210116%5D%2C%20%5B45.447%2C%209.210054%5D%2C%20%5B45.447013%2C%209.209993%5D%2C%20%5B45.447083%2C%209.209831%5D%2C%20%5B45.447188%2C%209.209716%5D%2C%20%5B45.447208%2C%209.2097%5D%2C%20%5B45.447239%2C%209.209688%5D%2C%20%5B45.447157%2C%209.209523%5D%2C%20%5B45.447098%2C%209.209381%5D%2C%20%5B45.447082%2C%209.209283%5D%2C%20%5B45.447007%2C%209.20746%5D%2C%20%5B45.447004%2C%209.207381%5D%2C%20%5B45.446994%2C%209.207131%5D%2C%20%5B45.446987%2C%209.206961%5D%2C%20%5B45.44688%2C%209.204443%5D%2C%20%5B45.446875%2C%209.204333%5D%2C%20%5B45.446868%2C%209.204164%5D%2C%20%5B45.446798%2C%209.202615%5D%2C%20%5B45.446748%2C%209.201485%5D%2C%20%5B45.446743%2C%209.201376%5D%2C%20%5B45.4466%2C%209.198267%5D%2C%20%5B45.446595%2C%209.198156%5D%2C%20%5B45.446679%2C%209.198133%5D%2C%20%5B45.44719%2C%209.197997%5D%2C%20%5B45.447745%2C%209.197838%5D%2C%20%5B45.447797%2C%209.197751%5D%2C%20%5B45.447853%2C%209.197665%5D%2C%20%5B45.447878%2C%209.197635%5D%2C%20%5B45.448456%2C%209.197489%5D%2C%20%5B45.448634%2C%209.197445%5D%2C%20%5B45.448812%2C%209.197394%5D%2C%20%5B45.449311%2C%209.19725%5D%2C%20%5B45.449352%2C%209.197237%5D%2C%20%5B45.449423%2C%209.197219%5D%2C%20%5B45.450511%2C%209.19693%5D%2C%20%5B45.450777%2C%209.196866%5D%2C%20%5B45.450796%2C%209.196862%5D%2C%20%5B45.450921%2C%209.196829%5D%2C%20%5B45.450935%2C%209.196826%5D%2C%20%5B45.450935%2C%209.196808%5D%2C%20%5B45.450941%2C%209.196604%5D%2C%20%5B45.450934%2C%209.196587%5D%2C%20%5B45.450934%2C%209.196562%5D%2C%20%5B45.450935%2C%209.196427%5D%2C%20%5B45.450934%2C%209.194823%5D%2C%20%5B45.450933%2C%209.194254%5D%2C%20%5B45.450934%2C%209.194173%5D%2C%20%5B45.450932%2C%209.193983%5D%2C%20%5B45.450931%2C%209.193894%5D%2C%20%5B45.450933%2C%209.193768%5D%2C%20%5B45.450937%2C%209.193164%5D%2C%20%5B45.450937%2C%209.192676%5D%2C%20%5B45.450938%2C%209.191848%5D%2C%20%5B45.450938%2C%209.191211%5D%2C%20%5B45.450939%2C%209.190538%5D%2C%20%5B45.450939%2C%209.190469%5D%2C%20%5B45.450943%2C%209.190363%5D%2C%20%5B45.450956%2C%209.190235%5D%2C%20%5B45.451007%2C%209.189895%5D%2C%20%5B45.451111%2C%209.189486%5D%2C%20%5B45.451194%2C%209.189168%5D%2C%20%5B45.451217%2C%209.189078%5D%2C%20%5B45.451378%2C%209.188471%5D%2C%20%5B45.45145%2C%209.188198%5D%2C%20%5B45.451597%2C%209.187621%5D%2C%20%5B45.451615%2C%209.187608%5D%2C%20%5B45.451679%2C%209.187561%5D%2C%20%5B45.451824%2C%209.18697%5D%2C%20%5B45.451801%2C%209.186858%5D%2C%20%5B45.451797%2C%209.186834%5D%2C%20%5B45.451804%2C%209.18684%5D%2C%20%5B45.451938%2C%209.186929%5D%2C%20%5B45.451988%2C%209.186945%5D%2C%20%5B45.45196%2C%209.186907%5D%2C%20%5B45.451943%2C%209.186834%5D%2C%20%5B45.451974%2C%209.186662%5D%2C%20%5B45.451976%2C%209.186654%5D%2C%20%5B45.451995%2C%209.186658%5D%2C%20%5B45.452238%2C%209.186721%5D%2C%20%5B45.452306%2C%209.186737%5D%2C%20%5B45.452353%2C%209.186747%5D%2C%20%5B45.4524%2C%209.186756%5D%2C%20%5B45.452403%2C%209.186734%5D%2C%20%5B45.452409%2C%209.186654%5D%2C%20%5B45.452466%2C%209.186007%5D%2C%20%5B45.452509%2C%209.185427%5D%2C%20%5B45.452537%2C%209.185043%5D%2C%20%5B45.452563%2C%209.184691%5D%2C%20%5B45.452575%2C%209.184522%5D%2C%20%5B45.452585%2C%209.184387%5D%2C%20%5B45.452632%2C%209.18373%5D%2C%20%5B45.45264%2C%209.18364%5D%2C%20%5B45.452708%2C%209.182752%5D%2C%20%5B45.4528%2C%209.181911%5D%2C%20%5B45.452824%2C%209.181672%5D%2C%20%5B45.452828%2C%209.18162%5D%2C%20%5B45.452879%2C%209.181348%5D%2C%20%5B45.452904%2C%209.181188%5D%2C%20%5B45.452944%2C%209.180942%5D%2C%20%5B45.452969%2C%209.180835%5D%2C%20%5B45.453046%2C%209.180406%5D%2C%20%5B45.453061%2C%209.180307%5D%2C%20%5B45.453066%2C%209.180276%5D%2C%20%5B45.453069%2C%209.180251%5D%2C%20%5B45.453086%2C%209.179775%5D%2C%20%5B45.453077%2C%209.179243%5D%2C%20%5B45.453065%2C%209.179068%5D%2C%20%5B45.453037%2C%209.178696%5D%2C%20%5B45.453031%2C%209.178594%5D%2C%20%5B45.453026%2C%209.178518%5D%2C%20%5B45.453%2C%209.178488%5D%2C%20%5B45.452991%2C%209.178375%5D%2C%20%5B45.452985%2C%209.178296%5D%2C%20%5B45.452932%2C%209.177502%5D%2C%20%5B45.452972%2C%209.1773%5D%2C%20%5B45.453037%2C%209.177186%5D%2C%20%5B45.453459%2C%209.176647%5D%2C%20%5B45.454095%2C%209.175857%5D%2C%20%5B45.454235%2C%209.175671%5D%2C%20%5B45.454562%2C%209.175248%5D%2C%20%5B45.454851%2C%209.174871%5D%2C%20%5B45.455319%2C%209.174232%5D%2C%20%5B45.45551%2C%209.174016%5D%2C%20%5B45.455804%2C%209.173697%5D%2C%20%5B45.455878%2C%209.17359%5D%2C%20%5B45.455892%2C%209.173573%5D%2C%20%5B45.455905%2C%209.173556%5D%2C%20%5B45.45597%2C%209.173466%5D%2C%20%5B45.456392%2C%209.172842%5D%2C%20%5B45.45643%2C%209.172776%5D%2C%20%5B45.456791%2C%209.172151%5D%2C%20%5B45.456854%2C%209.172048%5D%2C%20%5B45.456976%2C%209.171848%5D%2C%20%5B45.45709%2C%209.17166%5D%2C%20%5B45.457392%2C%209.171157%5D%2C%20%5B45.457443%2C%209.171072%5D%2C%20%5B45.457797%2C%209.170501%5D%2C%20%5B45.457967%2C%209.170225%5D%2C%20%5B45.458167%2C%209.169913%5D%2C%20%5B45.458271%2C%209.169733%5D%2C%20%5B45.458355%2C%209.169599%5D%2C%20%5B45.458402%2C%209.169533%5D%2C%20%5B45.458421%2C%209.169502%5D%2C%20%5B45.458596%2C%209.169229%5D%2C%20%5B45.459118%2C%209.168393%5D%2C%20%5B45.459156%2C%209.168334%5D%2C%20%5B45.459229%2C%209.168224%5D%2C%20%5B45.459354%2C%209.168028%5D%2C%20%5B45.45969%2C%209.167509%5D%2C%20%5B45.460147%2C%209.166796%5D%2C%20%5B45.460186%2C%209.166724%5D%2C%20%5B45.460221%2C%209.166657%5D%2C%20%5B45.460673%2C%209.165795%5D%2C%20%5B45.460734%2C%209.16568%5D%2C%20%5B45.461208%2C%209.164776%5D%2C%20%5B45.461224%2C%209.164748%5D%2C%20%5B45.461276%2C%209.164655%5D%2C%20%5B45.461336%2C%209.164547%5D%2C%20%5B45.461423%2C%209.16445%5D%2C%20%5B45.461505%2C%209.164383%5D%2C%20%5B45.461639%2C%209.164361%5D%2C%20%5B45.462274%2C%209.164561%5D%2C%20%5B45.462438%2C%209.164662%5D%2C%20%5B45.462642%2C%209.164864%5D%2C%20%5B45.462722%2C%209.164935%5D%2C%20%5B45.463071%2C%209.165033%5D%2C%20%5B45.463165%2C%209.165066%5D%2C%20%5B45.463548%2C%209.165199%5D%2C%20%5B45.463548%2C%209.165108%5D%2C%20%5B45.463545%2C%209.165024%5D%2C%20%5B45.463527%2C%209.164933%5D%2C%20%5B45.463494%2C%209.164871%5D%2C%20%5B45.463457%2C%209.164745%5D%2C%20%5B45.463456%2C%209.164668%5D%2C%20%5B45.463533%2C%209.164147%5D%2C%20%5B45.463539%2C%209.164106%5D%2C%20%5B45.463544%2C%209.164075%5D%2C%20%5B45.46362%2C%209.164098%5D%2C%20%5B45.464094%2C%209.164244%5D%2C%20%5B45.46533%2C%209.164595%5D%2C%20%5B45.466015%2C%209.164806%5D%2C%20%5B45.466067%2C%209.164825%5D%2C%20%5B45.466151%2C%209.164859%5D%2C%20%5B45.46617%2C%209.164864%5D%2C%20%5B45.466173%2C%209.164831%5D%2C%20%5B45.46618%2C%209.164691%5D%2C%20%5B45.466186%2C%209.164647%5D%2C%20%5B45.466255%2C%209.163706%5D%2C%20%5B45.466298%2C%209.163121%5D%2C%20%5B45.466304%2C%209.16304%5D%2C%20%5B45.466318%2C%209.163042%5D%2C%20%5B45.467663%2C%209.16326%5D%2C%20%5B45.467693%2C%209.163264%5D%2C%20%5B45.467755%2C%209.163274%5D%2C%20%5B45.468103%2C%209.163324%5D%2C%20%5B45.468157%2C%209.163332%5D%2C%20%5B45.468161%2C%209.163267%5D%2C%20%5B45.468281%2C%209.161723%5D%2C%20%5B45.468314%2C%209.161324%5D%2C%20%5B45.46833%2C%209.161136%5D%2C%20%5B45.468337%2C%209.160979%5D%2C%20%5B45.46837%2C%209.160621%5D%2C%20%5B45.468377%2C%209.160514%5D%2C%20%5B45.46838%2C%209.160468%5D%2C%20%5B45.46842%2C%209.159889%5D%2C%20%5B45.468482%2C%209.159489%5D%2C%20%5B45.468524%2C%209.158782%5D%2C%20%5B45.468497%2C%209.158638%5D%2C%20%5B45.468563%2C%209.158127%5D%2C%20%5B45.468644%2C%209.157902%5D%2C%20%5B45.468687%2C%209.157776%5D%2C%20%5B45.468727%2C%209.157663%5D%2C%20%5B45.468794%2C%209.157448%5D%2C%20%5B45.469292%2C%209.156767%5D%2C%20%5B45.469803%2C%209.156092%5D%2C%20%5B45.469855%2C%209.156027%5D%2C%20%5B45.469884%2C%209.155989%5D%2C%20%5B45.470011%2C%209.155822%5D%2C%20%5B45.470048%2C%209.155796%5D%2C%20%5B45.470159%2C%209.155716%5D%2C%20%5B45.470229%2C%209.155666%5D%2C%20%5B45.470286%2C%209.155677%5D%2C%20%5B45.470423%2C%209.155679%5D%2C%20%5B45.470482%2C%209.15565%5D%2C%20%5B45.470523%2C%209.155607%5D%2C%20%5B45.470552%2C%209.155564%5D%2C%20%5B45.470646%2C%209.155528%5D%2C%20%5B45.470746%2C%209.155502%5D%2C%20%5B45.470921%2C%209.155508%5D%2C%20%5B45.47097%2C%209.155511%5D%2C%20%5B45.472592%2C%209.155587%5D%2C%20%5B45.473057%2C%209.155609%5D%2C%20%5B45.473148%2C%209.155612%5D%2C%20%5B45.47324%2C%209.155792%5D%2C%20%5B45.473291%2C%209.155842%5D%2C%20%5B45.473421%2C%209.155897%5D%2C%20%5B45.473489%2C%209.155917%5D%2C%20%5B45.473508%2C%209.155156%5D%2C%20%5B45.473512%2C%209.155045%5D%2C%20%5B45.473549%2C%209.153876%5D%2C%20%5B45.473553%2C%209.153751%5D%2C%20%5B45.473577%2C%209.152738%5D%2C%20%5B45.473587%2C%209.152303%5D%2C%20%5B45.473612%2C%209.152135%5D%2C%20%5B45.473639%2C%209.152033%5D%2C%20%5B45.473652%2C%209.151985%5D%2C%20%5B45.473711%2C%209.151849%5D%2C%20%5B45.473794%2C%209.151722%5D%2C%20%5B45.474048%2C%209.151476%5D%2C%20%5B45.474226%2C%209.151442%5D%2C%20%5B45.474306%2C%209.151425%5D%2C%20%5B45.474445%2C%209.151435%5D%2C%20%5B45.47447%2C%209.151436%5D%2C%20%5B45.474669%2C%209.151442%5D%2C%20%5B45.475381%2C%209.151481%5D%2C%20%5B45.475549%2C%209.15149%5D%2C%20%5B45.476138%2C%209.151516%5D%2C%20%5B45.476961%2C%209.151568%5D%2C%20%5B45.477135%2C%209.151577%5D%2C%20%5B45.477602%2C%209.151597%5D%2C%20%5B45.477946%2C%209.151617%5D%2C%20%5B45.478197%2C%209.15163%5D%2C%20%5B45.479831%2C%209.151719%5D%2C%20%5B45.480252%2C%209.151743%5D%2C%20%5B45.480458%2C%209.151696%5D%2C%20%5B45.48066%2C%209.151527%5D%2C%20%5B45.480765%2C%209.151395%5D%2C%20%5B45.480942%2C%209.151165%5D%2C%20%5B45.480996%2C%209.151096%5D%2C%20%5B45.481044%2C%209.151166%5D%5D%2C%0A%20%20%20%20%20%20%20%20%20%20%20%20%20%20%20%20%7B%22bubblingMouseEvents%22%3A%20true%2C%20%22color%22%3A%20%22blue%22%2C%20%22dashArray%22%3A%20null%2C%20%22dashOffset%22%3A%20null%2C%20%22fill%22%3A%20false%2C%20%22fillColor%22%3A%20%22blue%22%2C%20%22fillOpacity%22%3A%200.2%2C%20%22fillRule%22%3A%20%22evenodd%22%2C%20%22lineCap%22%3A%20%22round%22%2C%20%22lineJoin%22%3A%20%22round%22%2C%20%22noClip%22%3A%20false%2C%20%22opacity%22%3A%201.0%2C%20%22smoothFactor%22%3A%201.0%2C%20%22stroke%22%3A%20true%2C%20%22weight%22%3A%203%7D%0A%20%20%20%20%20%20%20%20%20%20%20%20%29.addTo%28map_a44880dd341c4d37902e6d6ad919a038%29%3B%0A%20%20%20%20%20%20%20%20%0A%3C/script%3E onload=\"this.contentDocument.open();this.contentDocument.write(    decodeURIComponent(this.getAttribute('data-html')));this.contentDocument.close();\" allowfullscreen webkitallowfullscreen mozallowfullscreen></iframe></div></div>"
      ],
      "text/plain": [
       "<folium.folium.Map at 0x22843db1760>"
      ]
     },
     "execution_count": 13,
     "metadata": {},
     "output_type": "execute_result"
    }
   ],
   "source": [
    "# the identifier of the vehicle's route we want to visualize\n",
    "\n",
    "v_id = \"vehicle_0\"\n",
    "\n",
    "points_traj = dict_results_osm[v_id]['points']\n",
    "\n",
    "m = folium.Map(location=[points_traj[0][1], points_traj[0][0]], tiles='cartodbpositron', zoom_start=13)\n",
    "\n",
    "# TomTom Suggestion\n",
    "folium.PolyLine(locations=[list(reversed(coord)) \n",
    "                           for coord in points_traj], weigth=3, color=\"blue\").add_to(m)\n",
    "m"
   ]
  },
  {
   "cell_type": "markdown",
   "id": "ccbf463a",
   "metadata": {},
   "source": [
    "### Save the OSM results into a dictionary\n",
    "\n",
    "you can merge later several OSM results with the notebook 3d\n"
   ]
  },
  {
   "cell_type": "code",
   "execution_count": 14,
   "id": "5536b361",
   "metadata": {},
   "outputs": [],
   "source": [
    "a_file = open(\"../data/dicts_suggestion/dict_results_osm_[\"+str(id_from)+\"_\"+str(id_to)+\"].json\", \"w\")\n",
    "json.dump(dict_results_osm, a_file)\n",
    "a_file.close()"
   ]
  }
 ],
 "metadata": {
  "kernelspec": {
   "display_name": "Python 3 (ipykernel)",
   "language": "python",
   "name": "python3"
  },
  "language_info": {
   "codemirror_mode": {
    "name": "ipython",
    "version": 3
   },
   "file_extension": ".py",
   "mimetype": "text/x-python",
   "name": "python",
   "nbconvert_exporter": "python",
   "pygments_lexer": "ipython3",
   "version": "3.9.7"
  }
 },
 "nbformat": 4,
 "nbformat_minor": 5
}
