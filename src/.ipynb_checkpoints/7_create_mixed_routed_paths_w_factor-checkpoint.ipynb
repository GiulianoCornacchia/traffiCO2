{
 "cells": [
  {
   "cell_type": "code",
   "execution_count": 1,
   "id": "73659339",
   "metadata": {},
   "outputs": [],
   "source": [
    "import numpy as np\n",
    "from utils import create_mixed_routed_paths\n",
    "from utils import call_duarouter_command\n",
    "import os"
   ]
  },
  {
   "cell_type": "markdown",
   "id": "3d81be3a",
   "metadata": {},
   "source": [
    "### 1 create demands"
   ]
  },
  {
   "cell_type": "code",
   "execution_count": 2,
   "id": "52b16f8b",
   "metadata": {},
   "outputs": [],
   "source": [
    "# mobility demand path\n",
    "mobility_demand_filename = \"../sumo_simulation_data/mobility_demands/mobility_demand.rou.xml\"\n",
    "\n",
    "# road network path\n",
    "road_network_path = \"../sumo_simulation_data/milan_road_network.net.xml\"\n",
    "\n",
    "options_duarouter = \"--weights.random-factor WEIGHT --max-alternatives 10 \"\\\n",
    "\"--weights.interpolate true --weights.minor-penalty 0 \"\\\n",
    "\" --routing-threads 8\"\n",
    "\n",
    "output_folder = \"../sumo_simulation_data/routed_paths/base_demands_w/\""
   ]
  },
  {
   "cell_type": "markdown",
   "id": "54b14399",
   "metadata": {},
   "source": [
    "## apply duarouter for w in a given range"
   ]
  },
  {
   "cell_type": "code",
   "execution_count": 3,
   "id": "0a374936",
   "metadata": {},
   "outputs": [
    {
     "name": "stdout",
     "output_type": "stream",
     "text": [
      "../sumo_simulation_data/routed_paths/base_demands_w/demand_w_factor_w1_1820979.rou.xml\n",
      "../sumo_simulation_data/routed_paths/base_demands_w/demand_w_factor_w2p5_5775880.rou.xml\n",
      "../sumo_simulation_data/routed_paths/base_demands_w/demand_w_factor_w5_2744188.rou.xml\n"
     ]
    }
   ],
   "source": [
    "weights = [1, 2.5, 5, 7.5, 10, 12.5, 15]\n",
    "\n",
    "weights = [1, 2.5, 5]\n",
    "\n",
    "\n",
    "for weigth in weights:\n",
    "    \n",
    "    seed_dua = np.random.randint(0, 9999999)\n",
    "    #seed_dua = 3472331 \n",
    "    #print(\"rand_seed duarouter: \"+str(seed_dua))\n",
    "    \n",
    "    output_demand = output_folder+\"demand_w_factor_w\"+str(weigth).replace(\".\",\"p\")+\"_\"+str(seed_dua)+\".rou.xml\"\n",
    "    \n",
    "    options_dua_it = options_duarouter.replace(\"WEIGHT\", str(weigth))\n",
    "\n",
    "    command_str = \"duarouter --route-files \"+mobility_demand_filename+\" \"+\\\n",
    "        \" --net-file \"+road_network_path+\" \"+options_dua_it+\\\n",
    "    \" --random false --seed \"+str(seed_dua)+\\\n",
    "    \" --output-file \"+output_demand\n",
    "    \n",
    "    call_duarouter_command(command_str)\n",
    "    \n",
    "    #remove .alt file\n",
    "    os.remove(output_demand.split(\".rou\")[0]+\".rou.alt\"+output_demand.split(\".rou\")[1])\n",
    "    \n",
    "    print(output_demand)"
   ]
  },
  {
   "cell_type": "code",
   "execution_count": 4,
   "id": "9ed1bdad",
   "metadata": {},
   "outputs": [
    {
     "data": {
      "text/plain": [
       "3"
      ]
     },
     "execution_count": 4,
     "metadata": {},
     "output_type": "execute_result"
    }
   ],
   "source": [
    "demands_ws = [output_folder+f for f in os.listdir(output_folder) if not \"ipynb_checkpoints\" in f]\n",
    "len(demands_ws)"
   ]
  },
  {
   "cell_type": "markdown",
   "id": "2b1b71bb",
   "metadata": {},
   "source": [
    "### OSM: Create mixed demands for different w"
   ]
  },
  {
   "cell_type": "code",
   "execution_count": 5,
   "id": "11a5924a",
   "metadata": {},
   "outputs": [],
   "source": [
    "# routed demand osm\n",
    "routed_demand_osm_path = \"../sumo_simulation_data/routed_paths/routed_paths_osm.rou.xml\""
   ]
  },
  {
   "cell_type": "code",
   "execution_count": 6,
   "id": "c939ede4",
   "metadata": {},
   "outputs": [],
   "source": [
    "# number of vehicles\n",
    "n_totals = 20\n",
    "\n",
    "# number of mixed path for each configuration (number of repetitions)\n",
    "n_reps = 1\n",
    "\n",
    "# output folder\n",
    "demands_folder = \"../sumo_simulation_data/routed_paths/demands_w_factor_osm/\"\n",
    "\n",
    "prefix_nav = \"osm\"\n",
    "\n",
    "# the list of fractions of vehicles that will follow the suggestion of OSM\n",
    "# e.g., 0.4 means that the 40% of vehicles (selected at random) will follow the suggestion of OSM\n",
    "fractions = np.arange(0,1.1,0.1)"
   ]
  },
  {
   "cell_type": "code",
   "execution_count": 7,
   "id": "3f91e8af",
   "metadata": {},
   "outputs": [],
   "source": [
    "for demand_w in demands_ws:\n",
    "            \n",
    "        create_mixed_routed_paths(fractions, n_reps, demands_folder, demand_w, routed_demand_osm_path, \n",
    "                                           n_totals, prefix_nav, specify_w=True)\n",
    "    \n",
    "    "
   ]
  },
  {
   "cell_type": "markdown",
   "id": "1c19810d",
   "metadata": {},
   "source": [
    "### TomTom: Create mixed demands for different w"
   ]
  },
  {
   "cell_type": "code",
   "execution_count": 8,
   "id": "11553844",
   "metadata": {},
   "outputs": [],
   "source": [
    "# routed demand tomtom\n",
    "routed_demand_tomtom_path = \"../sumo_simulation_data/routed_paths/routed_paths_tomtom.rou.xml\""
   ]
  },
  {
   "cell_type": "code",
   "execution_count": 9,
   "id": "fdb70e5a",
   "metadata": {},
   "outputs": [],
   "source": [
    "# number of vehicles\n",
    "n_totals = 20\n",
    "\n",
    "# number of mixed path for each configuration (number of repetitions)\n",
    "n_reps = 1\n",
    "\n",
    "# output folder\n",
    "demands_folder = \"../sumo_simulation_data/routed_paths/demands_w_factor_tomtom/\"\n",
    "\n",
    "prefix_nav = \"tomtom\"\n",
    "\n",
    "# the list of fractions of vehicles that will follow the suggestion of OSM\n",
    "# e.g., 0.4 means that the 40% of vehicles (selected at random) will follow the suggestion of OSM\n",
    "fractions = np.arange(0,1.1,0.1)"
   ]
  },
  {
   "cell_type": "code",
   "execution_count": 11,
   "id": "2d696d76",
   "metadata": {},
   "outputs": [],
   "source": [
    "for demand_w in demands_ws:\n",
    "            \n",
    "        create_mixed_routed_paths(fractions, n_reps, demands_folder, demand_w, routed_demand_tomtom_path, \n",
    "                                           n_totals, prefix_nav, specify_w=True)\n",
    "    \n",
    "    "
   ]
  }
 ],
 "metadata": {
  "kernelspec": {
   "display_name": "Python 3 (ipykernel)",
   "language": "python",
   "name": "python3"
  },
  "language_info": {
   "codemirror_mode": {
    "name": "ipython",
    "version": 3
   },
   "file_extension": ".py",
   "mimetype": "text/x-python",
   "name": "python",
   "nbconvert_exporter": "python",
   "pygments_lexer": "ipython3",
   "version": "3.9.7"
  }
 },
 "nbformat": 4,
 "nbformat_minor": 5
}
