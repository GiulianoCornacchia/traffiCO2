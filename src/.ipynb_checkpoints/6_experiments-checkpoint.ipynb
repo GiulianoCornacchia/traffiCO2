{
 "cells": [
  {
   "cell_type": "code",
   "execution_count": 4,
   "id": "e0b6523a",
   "metadata": {},
   "outputs": [],
   "source": [
    "import os\n",
    "from tqdm import tqdm\n",
    "import json"
   ]
  },
  {
   "cell_type": "code",
   "execution_count": 5,
   "id": "a41e499b",
   "metadata": {},
   "outputs": [],
   "source": [
    "def create_dict_result_tt(folder_experiments, folders, nav_str):\n",
    "    \n",
    "    dict_exps = {}\n",
    "    \n",
    "    for exp in folders:\n",
    "\n",
    "        #retrieve sim parameters\n",
    "        with open(folder_experiments+\"/\"+exp+\"/log.json\") as json_file:\n",
    "            dict_json = json.load(json_file)\n",
    "\n",
    "        demand_name = dict_json['route_filename'].split(\"/\")[-1]\n",
    "        #print(demand_name)\n",
    "        pct_routed = demand_name.split(nav_str+\"_\")[1].split(\"_\")[0]\n",
    "        pct_non_routed = demand_name.split(\"dua_\")[1].split(\"_\")[0]\n",
    "        n_rep = demand_name.split(\"rep_\")[1].split(\"_\")[0]\n",
    "\n",
    "        key_de = pct_routed+\"_\"+pct_non_routed\n",
    "\n",
    "        if key_de in dict_exps:\n",
    "            dict_exps[key_de][n_rep] = exp+\"/traveltimes.json\"\n",
    "        else:\n",
    "            dict_exps[key_de] = {n_rep: exp+\"/traveltimes.json\"}\n",
    "            \n",
    "    return dict_exps"
   ]
  },
  {
   "cell_type": "code",
   "execution_count": 6,
   "id": "23ebd3a2",
   "metadata": {},
   "outputs": [],
   "source": [
    "def create_dict_result_co2(folder_experiments, folders, nav_str):\n",
    "    \n",
    "    dict_exps = {}\n",
    "    \n",
    "    for exp in folders:\n",
    "\n",
    "        #retrieve sim parameters\n",
    "        with open(folder_experiments+\"/\"+exp+\"/log.json\") as json_file:\n",
    "            dict_json = json.load(json_file)\n",
    "\n",
    "        demand_name = dict_json['route_filename'].split(\"/\")[-1]\n",
    "        #print(demand_name)\n",
    "        pct_routed = demand_name.split(nav_str+\"_\")[1].split(\"_\")[0]\n",
    "        pct_non_routed = demand_name.split(\"dua_\")[1].split(\"_\")[0]\n",
    "        n_rep = demand_name.split(\"rep_\")[1].split(\"_\")[0]\n",
    "\n",
    "        key_de = pct_routed+\"_\"+pct_non_routed\n",
    "\n",
    "        if key_de in dict_exps:\n",
    "            dict_exps[key_de][n_rep] = exp+\"/co2_edge.csv\"\n",
    "        else:\n",
    "            dict_exps[key_de] = {n_rep: exp+\"/co2_edge.csv\"}\n",
    "            \n",
    "    return dict_exps"
   ]
  },
  {
   "cell_type": "markdown",
   "id": "66e748ba",
   "metadata": {},
   "source": [
    "# Main Experiments\n",
    "\n",
    "Study the impact of different **percentages of routed vehicle** with respect to CO2 emissions"
   ]
  },
  {
   "cell_type": "markdown",
   "id": "f74d5b36",
   "metadata": {},
   "source": [
    "#### Paths & Parameters"
   ]
  },
  {
   "cell_type": "code",
   "execution_count": 3,
   "id": "f0dcb3a5",
   "metadata": {},
   "outputs": [],
   "source": [
    "# road network path\n",
    "net_path = \"../sumo_simulation_data/milan_road_network.net.xml\"\n",
    "\n",
    "# path to folder containing the sumo simulation script\n",
    "path_sumo_script = \"../sumo_simulation_scripts/\"\n",
    "\n",
    "# SUMO options\n",
    "opt =  '\"-W --ignore-junction-blocker 20 --time-to-impatience 30 --time-to-teleport 120 --scale 1\"'\n",
    "\n",
    "# dict result folder\n",
    "result_folder = \"../results/\""
   ]
  },
  {
   "cell_type": "markdown",
   "id": "b6419af8",
   "metadata": {},
   "source": [
    "## 1. Experiments OSM"
   ]
  },
  {
   "cell_type": "markdown",
   "id": "46c85c2a",
   "metadata": {},
   "source": [
    "### File paths"
   ]
  },
  {
   "cell_type": "code",
   "execution_count": 7,
   "id": "5b4d9da8",
   "metadata": {},
   "outputs": [],
   "source": [
    "# folder containing the mixed OSM routed paths to simulate using SUMO\n",
    "\n",
    "demand_folder_path_osm = \"../sumo_simulation_data/routed_paths/mixed_paths_osm/\"\n",
    "\n",
    "# where to save the simulation oputputs\n",
    "save_dir_osm = \"../sim_outputs/outputs_main_experiment/outputs_main_experiment_osm/\"\n",
    "\n",
    "# the prefix of the folder resulting from a simulation\n",
    "fold_prfx_osm = \"main_exp\""
   ]
  },
  {
   "cell_type": "markdown",
   "id": "22c3e675",
   "metadata": {},
   "source": [
    "### Load the OSM routed paths"
   ]
  },
  {
   "cell_type": "code",
   "execution_count": 8,
   "id": "3a97a8d3",
   "metadata": {},
   "outputs": [
    {
     "name": "stdout",
     "output_type": "stream",
     "text": [
      "Routed Path to simulate: 11\n"
     ]
    }
   ],
   "source": [
    "routed_paths_osm = [demand_folder_path_osm+f for f in os.listdir(demand_folder_path_osm) if \".rou.xml\" in f]\n",
    "\n",
    "print(\"Routed Path to simulate: \"+str(len(routed_paths_osm)))"
   ]
  },
  {
   "cell_type": "markdown",
   "id": "30541cbc",
   "metadata": {},
   "source": [
    "### Launch the OSM experiments"
   ]
  },
  {
   "cell_type": "code",
   "execution_count": 9,
   "id": "5525f9d6",
   "metadata": {},
   "outputs": [
    {
     "name": "stderr",
     "output_type": "stream",
     "text": [
      "100%|██████████████████████████████████████████████████████████████████████████████████| 11/11 [01:25<00:00,  7.79s/it]"
     ]
    }
   ],
   "source": [
    "# traj co2 ttime vpedge\n",
    "\n",
    "pbar = tqdm(total=len(routed_paths_osm))\n",
    "\n",
    "for demand_path in routed_paths_osm:\n",
    "    \n",
    "    !cd {path_sumo_script} && python run_sumo.py {net_path} {demand_path} 0 none real real real {save_dir_osm} {fold_prfx_osm} {opt} >> foo0.txt\n",
    "    pbar.update(1)"
   ]
  },
  {
   "cell_type": "markdown",
   "id": "ef062949",
   "metadata": {},
   "source": [
    "### Create the result dictionaries"
   ]
  },
  {
   "cell_type": "code",
   "execution_count": 11,
   "id": "0f6865de",
   "metadata": {},
   "outputs": [],
   "source": [
    "folders = [f for f in os.listdir(save_dir_osm) if not \"ipynb_checkpoints\" in f]\n",
    "\n",
    "# CO2\n",
    "dict_result_co2_osm = create_dict_result_co2(save_dir_osm, folders, \"osm\")\n",
    "a_file = open(result_folder+\"/dict_exps_osm_co2_filename.json\", \"w\")\n",
    "json.dump(dict_result_co2_osm, a_file)\n",
    "a_file.close()\n",
    "\n",
    "# TravelTime\n",
    "dict_result_tt_osm = create_dict_result_tt(save_dir_osm, folders, \"osm\")\n",
    "a_file = open(result_folder+\"/dict_exps_osm_tt_filename.json\", \"w\")\n",
    "json.dump(dict_result_tt_osm, a_file)\n",
    "a_file.close()"
   ]
  },
  {
   "cell_type": "markdown",
   "id": "b9371798",
   "metadata": {},
   "source": [
    "## 2. Experiments TomTom"
   ]
  },
  {
   "cell_type": "markdown",
   "id": "e6451721",
   "metadata": {},
   "source": [
    "### File paths"
   ]
  },
  {
   "cell_type": "code",
   "execution_count": 12,
   "id": "fdd98363",
   "metadata": {},
   "outputs": [],
   "source": [
    "# folder containing the mixed OSM routed paths to simulate using SUMO\n",
    "\n",
    "demand_folder_path_tomtom = \"../sumo_simulation_data/routed_paths/mixed_paths_tomtom/\"\n",
    "\n",
    "# where to save the simulation oputputs\n",
    "save_dir_tomtom = \"../sim_outputs/outputs_main_experiment/outputs_main_experiment_tomtom/\"\n",
    "\n",
    "# the prefix of the folder resulting from a simulation\n",
    "fold_prfx_tomtom = \"main_exp\""
   ]
  },
  {
   "cell_type": "markdown",
   "id": "212166cb",
   "metadata": {},
   "source": [
    "### Load the TomTom routed paths"
   ]
  },
  {
   "cell_type": "code",
   "execution_count": 13,
   "id": "1f5a8060",
   "metadata": {},
   "outputs": [
    {
     "name": "stdout",
     "output_type": "stream",
     "text": [
      "Routed Path to simulate: 11\n"
     ]
    }
   ],
   "source": [
    "routed_paths_tomtom = [demand_folder_path_tomtom+f for f in os.listdir(demand_folder_path_tomtom) if \".rou.xml\" in f]\n",
    "\n",
    "print(\"Routed Path to simulate: \"+str(len(routed_paths_tomtom)))"
   ]
  },
  {
   "cell_type": "markdown",
   "id": "d11b4ccb",
   "metadata": {},
   "source": [
    "### Launch the TomTom experiments"
   ]
  },
  {
   "cell_type": "code",
   "execution_count": 17,
   "id": "4f11abe0",
   "metadata": {},
   "outputs": [
    {
     "name": "stderr",
     "output_type": "stream",
     "text": [
      "\n",
      "100%|██████████████████████████████████████████████████████████████████████████████████| 56/56 [00:37<00:00,  1.47it/s]\u001b[A\n",
      "Impossibile accedere al file. Il file Š utilizzato da un altro processo.\n",
      "Impossibile accedere al file. Il file Š utilizzato da un altro processo.\n",
      "Impossibile accedere al file. Il file Š utilizzato da un altro processo.\n",
      "Impossibile accedere al file. Il file Š utilizzato da un altro processo.\n",
      "Impossibile accedere al file. Il file Š utilizzato da un altro processo.\n",
      "Impossibile accedere al file. Il file Š utilizzato da un altro processo.\n",
      "\n",
      " 11%|████████▉                                                                          | 6/56 [00:00<00:00, 57.67it/s]\u001b[AImpossibile accedere al file. Il file Š utilizzato da un altro processo.\n",
      "Impossibile accedere al file. Il file Š utilizzato da un altro processo.\n",
      "Impossibile accedere al file. Il file Š utilizzato da un altro processo.\n",
      "Impossibile accedere al file. Il file Š utilizzato da un altro processo.\n",
      "Impossibile accedere al file. Il file Š utilizzato da un altro processo.\n"
     ]
    }
   ],
   "source": [
    "# traj co2 ttime vpedge\n",
    "\n",
    "pbar = tqdm(total=len(demand_folder_path_tomtom))\n",
    "\n",
    "for demand_path in routed_paths_tomtom:\n",
    "    \n",
    "    !cd {path_sumo_script} && python run_sumo.py {net_path} {demand_path} 0 none real real real {save_dir_tomtom} {fold_prfx_tomtom} {opt} >> foo0.txt\n",
    "    pbar.update(1)"
   ]
  },
  {
   "cell_type": "markdown",
   "id": "ca05f799",
   "metadata": {},
   "source": [
    "### Create the result dictionaries"
   ]
  },
  {
   "cell_type": "code",
   "execution_count": null,
   "id": "76a8c271",
   "metadata": {},
   "outputs": [],
   "source": [
    "folders = [f for f in os.listdir(save_dir_tomtom) if not \"ipynb_checkpoints\" in f]\n",
    "\n",
    "# CO2\n",
    "dict_result_co2_tomtom = create_dict_result_co2(save_dir_tomtom, folders, \"tomtom\")\n",
    "a_file = open(result_folder+\"/dict_exps_tomtom_co2_filename.json\", \"w\")\n",
    "json.dump(dict_result_co2_tomtom, a_file)\n",
    "a_file.close()\n",
    "\n",
    "# TravelTime\n",
    "dict_result_tt_tomtom = create_dict_result_tt(save_dir_tomtom, folders, \"tomtom\")\n",
    "a_file = open(result_folder+\"/dict_exps_osm_tt_filename.json\", \"w\")\n",
    "json.dump(dict_result_tt_tomtom, a_file)\n",
    "a_file.close()"
   ]
  }
 ],
 "metadata": {
  "kernelspec": {
   "display_name": "Python 3 (ipykernel)",
   "language": "python",
   "name": "python3"
  },
  "language_info": {
   "codemirror_mode": {
    "name": "ipython",
    "version": 3
   },
   "file_extension": ".py",
   "mimetype": "text/x-python",
   "name": "python",
   "nbconvert_exporter": "python",
   "pygments_lexer": "ipython3",
   "version": "3.9.7"
  }
 },
 "nbformat": 4,
 "nbformat_minor": 5
}
