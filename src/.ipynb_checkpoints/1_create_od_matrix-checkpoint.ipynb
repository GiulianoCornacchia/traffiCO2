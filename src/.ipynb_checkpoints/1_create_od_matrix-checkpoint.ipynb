{
 "cells": [
  {
   "cell_type": "code",
   "execution_count": 1,
   "id": "91715cbc",
   "metadata": {},
   "outputs": [],
   "source": [
    "from utils import *\n",
    "import geopandas as gpd\n",
    "import pandas as pd\n",
    "import sumolib\n",
    "from skmob.tessellation import tilers\n",
    "import json\n",
    "\n",
    "import warnings\n",
    "warnings.filterwarnings(\"ignore\")"
   ]
  },
  {
   "cell_type": "markdown",
   "id": "7833db01",
   "metadata": {},
   "source": [
    "# Create the OD Matrix\n",
    "\n",
    "\\* means skip if you want to use the pre-computed OD matrix"
   ]
  },
  {
   "cell_type": "markdown",
   "id": "85d4a11d",
   "metadata": {},
   "source": [
    "#### File paths"
   ]
  },
  {
   "cell_type": "code",
   "execution_count": 4,
   "id": "97f4a0dc",
   "metadata": {},
   "outputs": [],
   "source": [
    "# real mobility data path\n",
    "mobility_data_path = \"../data/milan_dataset_preprocessed.csv\"\n",
    "\n",
    "# road network path\n",
    "road_network_path = \"../sumo_simulation_data/milan_road_network.net.xml\"\n",
    "\n",
    "# shapefile path\n",
    "shapefile_path = \"../data/milan_medium.geojson\"\n",
    "\n",
    "# outputs directories\n",
    "od_matrix_path = \"../data\"\n",
    "dict_tile_edges_path =  \"../data\""
   ]
  },
  {
   "cell_type": "markdown",
   "id": "ba173ac9",
   "metadata": {},
   "source": [
    "#### Load the real mobility data *"
   ]
  },
  {
   "cell_type": "code",
   "execution_count": 6,
   "id": "441ccc99",
   "metadata": {},
   "outputs": [
    {
     "data": {
      "text/html": [
       "<div>\n",
       "<style scoped>\n",
       "    .dataframe tbody tr th:only-of-type {\n",
       "        vertical-align: middle;\n",
       "    }\n",
       "\n",
       "    .dataframe tbody tr th {\n",
       "        vertical-align: top;\n",
       "    }\n",
       "\n",
       "    .dataframe thead th {\n",
       "        text-align: right;\n",
       "    }\n",
       "</style>\n",
       "<table border=\"1\" class=\"dataframe\">\n",
       "  <thead>\n",
       "    <tr style=\"text-align: right;\">\n",
       "      <th></th>\n",
       "      <th>uid</th>\n",
       "      <th>datetime</th>\n",
       "      <th>lat</th>\n",
       "      <th>lng</th>\n",
       "    </tr>\n",
       "  </thead>\n",
       "  <tbody>\n",
       "    <tr>\n",
       "      <th>0</th>\n",
       "      <td>310_0</td>\n",
       "      <td>2007-04-05 04:36:16</td>\n",
       "      <td>45.467644</td>\n",
       "      <td>9.194924</td>\n",
       "    </tr>\n",
       "    <tr>\n",
       "      <th>1</th>\n",
       "      <td>310_0</td>\n",
       "      <td>2007-04-07 23:29:56</td>\n",
       "      <td>45.465998</td>\n",
       "      <td>9.154787</td>\n",
       "    </tr>\n",
       "    <tr>\n",
       "      <th>2</th>\n",
       "      <td>310_0</td>\n",
       "      <td>2007-04-07 23:33:49</td>\n",
       "      <td>45.467588</td>\n",
       "      <td>9.179651</td>\n",
       "    </tr>\n",
       "    <tr>\n",
       "      <th>3</th>\n",
       "      <td>636_2</td>\n",
       "      <td>2007-04-03 14:57:52</td>\n",
       "      <td>45.493434</td>\n",
       "      <td>9.195298</td>\n",
       "    </tr>\n",
       "  </tbody>\n",
       "</table>\n",
       "</div>"
      ],
      "text/plain": [
       "     uid            datetime        lat       lng\n",
       "0  310_0 2007-04-05 04:36:16  45.467644  9.194924\n",
       "1  310_0 2007-04-07 23:29:56  45.465998  9.154787\n",
       "2  310_0 2007-04-07 23:33:49  45.467588  9.179651\n",
       "3  636_2 2007-04-03 14:57:52  45.493434  9.195298"
      ]
     },
     "execution_count": 6,
     "metadata": {},
     "output_type": "execute_result"
    }
   ],
   "source": [
    "traj_D = pd.read_csv(mobility_data_path)\n",
    "traj_D = skmob.TrajDataFrame(traj_D[['uid', 'datetime', 'lat', \"lng\"]], latitude='lat', longitude='lng', \n",
    "                                             user_id='uid', datetime='datetime')\n",
    "traj_D[:4]"
   ]
  },
  {
   "cell_type": "markdown",
   "id": "27a2e14f",
   "metadata": {},
   "source": [
    "#### Load the shapefile of the geographic area of interest"
   ]
  },
  {
   "cell_type": "code",
   "execution_count": 7,
   "id": "4092fa4d",
   "metadata": {},
   "outputs": [],
   "source": [
    "shape = gpd.GeoDataFrame.from_file(shapefile_path)"
   ]
  },
  {
   "cell_type": "markdown",
   "id": "f090965f",
   "metadata": {},
   "source": [
    "#### Create a squared tessellation of the city (size of 1km)"
   ]
  },
  {
   "cell_type": "code",
   "execution_count": 8,
   "id": "36c85c58",
   "metadata": {},
   "outputs": [],
   "source": [
    "tile_size_meters = 1000\n",
    "tessellation = tilers.tiler.get('squared', base_shape=shape, meters=tile_size_meters)"
   ]
  },
  {
   "cell_type": "markdown",
   "id": "11b095f1",
   "metadata": {},
   "source": [
    "#### Compute the OD matrix *"
   ]
  },
  {
   "cell_type": "code",
   "execution_count": 9,
   "id": "7eb10f6d",
   "metadata": {},
   "outputs": [],
   "source": [
    "od_matrix = compute_od_matrix(traj_D, tessellation, traj_id=\"uid\", self_loops=True)"
   ]
  },
  {
   "cell_type": "markdown",
   "id": "48ca5326",
   "metadata": {},
   "source": [
    "#### Save the OD matrix *\n",
    "\n",
    "It will be used later to compute the Mobility Demand"
   ]
  },
  {
   "cell_type": "code",
   "execution_count": 14,
   "id": "d24af419",
   "metadata": {},
   "outputs": [],
   "source": [
    "with open(od_matrix_path+'/od_matrix.npy', 'wb') as f:\n",
    "    np.save(f, od_matrix)"
   ]
  },
  {
   "cell_type": "markdown",
   "id": "c7883762",
   "metadata": {},
   "source": [
    "#### Load the road network"
   ]
  },
  {
   "cell_type": "code",
   "execution_count": 15,
   "id": "2e1865ac",
   "metadata": {},
   "outputs": [],
   "source": [
    "road_network = sumolib.net.readNet(road_network_path, withInternal=False)"
   ]
  },
  {
   "cell_type": "markdown",
   "id": "3f156d9b",
   "metadata": {},
   "source": [
    "#### Assign road network edges to the corresponding tile"
   ]
  },
  {
   "cell_type": "code",
   "execution_count": 16,
   "id": "19c5b4dd",
   "metadata": {},
   "outputs": [],
   "source": [
    "dict_tile_edges = create_dict_tile_edges(road_network, tessellation, exclude_roundabouts=True)"
   ]
  },
  {
   "cell_type": "code",
   "execution_count": 17,
   "id": "868c35c1",
   "metadata": {},
   "outputs": [],
   "source": [
    "output_file = open(dict_tile_edges_path+\"/dict_tile_edges.json\", \"w\")\n",
    "json.dump(dict_tile_edges, output_file)\n",
    "output_file.close()"
   ]
  }
 ],
 "metadata": {
  "kernelspec": {
   "display_name": "Python 3 (ipykernel)",
   "language": "python",
   "name": "python3"
  },
  "language_info": {
   "codemirror_mode": {
    "name": "ipython",
    "version": 3
   },
   "file_extension": ".py",
   "mimetype": "text/x-python",
   "name": "python",
   "nbconvert_exporter": "python",
   "pygments_lexer": "ipython3",
   "version": "3.9.7"
  }
 },
 "nbformat": 4,
 "nbformat_minor": 5
}
