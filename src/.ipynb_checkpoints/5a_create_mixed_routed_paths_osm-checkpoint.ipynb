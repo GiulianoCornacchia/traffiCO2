{
 "cells": [
  {
   "cell_type": "code",
   "execution_count": 4,
   "id": "50d420cb",
   "metadata": {},
   "outputs": [],
   "source": [
    "from utils import create_mixed_routed_paths\n",
    "import numpy as np"
   ]
  },
  {
   "cell_type": "markdown",
   "id": "1181f9d6",
   "metadata": {},
   "source": [
    "#### input paths"
   ]
  },
  {
   "cell_type": "code",
   "execution_count": 2,
   "id": "e90cccae",
   "metadata": {},
   "outputs": [],
   "source": [
    "# output folder\n",
    "demands_folder = \"../sumo_simulation_data/routed_paths/mixed_paths_osm/\"\n",
    "\n",
    "# routed paths duarouted\n",
    "routed_demand_duarouter_path = \"../sumo_simulation_data/routed_paths/routed_paths_duarouter.rou.xml\"\n",
    "\n",
    "# routed demand osm\n",
    "routed_demand_osm_path = \"../sumo_simulation_data/routed_paths/routed_paths_osm.rou.xml\""
   ]
  },
  {
   "cell_type": "markdown",
   "id": "809621e6",
   "metadata": {},
   "source": [
    "#### Parameters"
   ]
  },
  {
   "cell_type": "code",
   "execution_count": 3,
   "id": "3c050020",
   "metadata": {},
   "outputs": [],
   "source": [
    "# number of vehicles\n",
    "n_totals = 20\n",
    "\n",
    "# number of mixed path for each configuration (number of repetitions)\n",
    "n_reps = 1\n",
    "\n",
    "prefix_nav = \"osm\"\n",
    "\n",
    "# the list of fractions of vehicles that will follow the suggestion of OSM\n",
    "# e.g., 0.4 means that the 40% of vehicles (selected at random) will follow the suggestion of OSM\n",
    "fractions = np.arange(0,1.1,0.1)"
   ]
  },
  {
   "cell_type": "markdown",
   "id": "fccc3a09",
   "metadata": {},
   "source": [
    "### Create the mixed routed paths"
   ]
  },
  {
   "cell_type": "code",
   "execution_count": 3,
   "id": "42aecdb3",
   "metadata": {},
   "outputs": [
    {
     "ename": "NameError",
     "evalue": "name 'fractions' is not defined",
     "output_type": "error",
     "traceback": [
      "\u001b[1;31m---------------------------------------------------------------------------\u001b[0m",
      "\u001b[1;31mNameError\u001b[0m                                 Traceback (most recent call last)",
      "\u001b[1;32m<timed eval>\u001b[0m in \u001b[0;36m<module>\u001b[1;34m\u001b[0m\n",
      "\u001b[1;31mNameError\u001b[0m: name 'fractions' is not defined"
     ]
    }
   ],
   "source": [
    "%%time\n",
    "\n",
    "create_mixed_routed_paths(fractions, n_reps, demands_folder, routed_demand_duarouter_path, routed_demand_osm_path, \n",
    "                                           n_totals, prefix_nav)"
   ]
  },
  {
   "cell_type": "code",
   "execution_count": null,
   "id": "10ee8aee",
   "metadata": {},
   "outputs": [],
   "source": []
  }
 ],
 "metadata": {
  "kernelspec": {
   "display_name": "Python 3 (ipykernel)",
   "language": "python",
   "name": "python3"
  },
  "language_info": {
   "codemirror_mode": {
    "name": "ipython",
    "version": 3
   },
   "file_extension": ".py",
   "mimetype": "text/x-python",
   "name": "python",
   "nbconvert_exporter": "python",
   "pygments_lexer": "ipython3",
   "version": "3.9.7"
  }
 },
 "nbformat": 4,
 "nbformat_minor": 5
}
