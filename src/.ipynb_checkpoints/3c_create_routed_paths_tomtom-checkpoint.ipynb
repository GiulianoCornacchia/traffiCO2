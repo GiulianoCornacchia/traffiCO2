{
 "cells": [
  {
   "cell_type": "code",
   "execution_count": 1,
   "id": "f34258b4",
   "metadata": {},
   "outputs": [],
   "source": [
    "from utils import *\n",
    "import json\n",
    "import sumolib\n",
    "\n",
    "import warnings\n",
    "warnings.filterwarnings(\"ignore\")"
   ]
  },
  {
   "cell_type": "markdown",
   "id": "a9ba4aae",
   "metadata": {},
   "source": [
    "## TomTom routing API\n",
    "\n",
    "For obtaining a **key** you need to register at https://developer.tomtom.com/user/register.\n",
    "\n",
    "In the Free plan, you have **2500 free requests daily**. Once registered, on the web profile there is a counter of the daily requests made (the \"free non-tile requests\" in the \"Activity\" section).\n",
    "\n",
    "See https://developer.tomtom.com/routing-api/documentation/routing/common-routing-parameters#section-1-common-routing-parameters for the routing parameters that affect the routing algorithm.\n",
    "\n",
    "The **most important parameter** is `routeType`, which specifies the type of optimization used when calculating routes (can be `fastest`, `shortest`, `short`, `eco`, `thrilling`). Default is `fastest`.\n",
    "- `fastest`: Route calculation is optimized by travel time, while keeping the routes sensible. For example, the calculation may avoid shortcuts along inconvenient side roads or long detours that only save very little time.\n",
    "- `shortest`: Route calculation is optimized by travel distance, while keeping the routes sensible. For example, straight routes are preferred over those incurring turns.\n",
    "- `short`: Route calculation is optimized such that a good compromise between small travel time and short travel distance is achieved.\n",
    "- `eco`: Route calculation is optimized such that a good compromise between small travel time and low fuel or energy consumption is achieved.\n",
    "- `thrilling`: Route calculation is optimized such that routes include interesting or challenging roads and use as few motorways as possible.\n",
    "\n",
    "In our analysis we use `short`.\n",
    "\n",
    "Other parameters are, for example: \n",
    "- `travelMode` (`truck`, `taxi`, `bus`, `pedestrian`, ...). Default is `car`.\n",
    "- `vehicleMaxSpeed`"
   ]
  },
  {
   "cell_type": "markdown",
   "id": "b965e713",
   "metadata": {},
   "source": [
    "#### Load road network"
   ]
  },
  {
   "cell_type": "code",
   "execution_count": 2,
   "id": "de8d99a4",
   "metadata": {},
   "outputs": [],
   "source": [
    "road_network_path = \"../sumo_simulation_data/milan_road_network.net.xml\"\n",
    "road_network = sumolib.net.readNet(road_network_path, withInternal=False)"
   ]
  },
  {
   "cell_type": "markdown",
   "id": "b0baa1a8",
   "metadata": {},
   "source": [
    "#### TomTom routing API"
   ]
  },
  {
   "cell_type": "code",
   "execution_count": 11,
   "id": "adc90169",
   "metadata": {},
   "outputs": [],
   "source": [
    "tomtom_api_key = \"<INSERT-YOUR-KEY-HERE>\""
   ]
  },
  {
   "cell_type": "code",
   "execution_count": 4,
   "id": "5221bb90",
   "metadata": {},
   "outputs": [],
   "source": [
    "# dict mobility demand path\n",
    "\n",
    "dict_mobility_demand_path = \"../data/dict_mobility_demand.json\""
   ]
  },
  {
   "cell_type": "code",
   "execution_count": 5,
   "id": "53a6c5f6",
   "metadata": {},
   "outputs": [],
   "source": [
    "with open(dict_mobility_demand_path) as json_file:\n",
    "    dict_mobility_demand = json.load(json_file)"
   ]
  },
  {
   "cell_type": "code",
   "execution_count": 6,
   "id": "18c84a16",
   "metadata": {},
   "outputs": [],
   "source": [
    "vehicle_list_all = [v_id for v_id in dict_mobility_demand.keys() if \"vehicle\" in v_id]"
   ]
  },
  {
   "cell_type": "code",
   "execution_count": 7,
   "id": "4f80b87e",
   "metadata": {},
   "outputs": [],
   "source": [
    "id_from = 0\n",
    "id_to = len(vehicle_list_all)\n",
    "\n",
    "vehicle_list = vehicle_list_all[id_from:id_to]"
   ]
  },
  {
   "cell_type": "markdown",
   "id": "68052f32",
   "metadata": {},
   "source": [
    "### Get the routing suggestions from TomTom"
   ]
  },
  {
   "cell_type": "code",
   "execution_count": 8,
   "id": "72d01b17",
   "metadata": {},
   "outputs": [],
   "source": [
    "dict_results_tomtom = create_routed_demand_tomtom(dict_mobility_demand, vehicle_list, road_network, tomtom_api_key)"
   ]
  },
  {
   "cell_type": "markdown",
   "id": "6bfcd607",
   "metadata": {},
   "source": [
    "### Visualize some suggestions"
   ]
  },
  {
   "cell_type": "code",
   "execution_count": 9,
   "id": "9d23172e",
   "metadata": {
    "collapsed": true
   },
   "outputs": [
    {
     "data": {
      "text/html": [
       "<div style=\"width:100%;\"><div style=\"position:relative;width:100%;height:0;padding-bottom:60%;\"><span style=\"color:#565656\">Make this Notebook Trusted to load map: File -> Trust Notebook</span><iframe src=\"about:blank\" style=\"position:absolute;width:100%;height:100%;left:0;top:0;border:none !important;\" data-html=%3C%21DOCTYPE%20html%3E%0A%3Chead%3E%20%20%20%20%0A%20%20%20%20%3Cmeta%20http-equiv%3D%22content-type%22%20content%3D%22text/html%3B%20charset%3DUTF-8%22%20/%3E%0A%20%20%20%20%0A%20%20%20%20%20%20%20%20%3Cscript%3E%0A%20%20%20%20%20%20%20%20%20%20%20%20L_NO_TOUCH%20%3D%20false%3B%0A%20%20%20%20%20%20%20%20%20%20%20%20L_DISABLE_3D%20%3D%20false%3B%0A%20%20%20%20%20%20%20%20%3C/script%3E%0A%20%20%20%20%0A%20%20%20%20%3Cstyle%3Ehtml%2C%20body%20%7Bwidth%3A%20100%25%3Bheight%3A%20100%25%3Bmargin%3A%200%3Bpadding%3A%200%3B%7D%3C/style%3E%0A%20%20%20%20%3Cstyle%3E%23map%20%7Bposition%3Aabsolute%3Btop%3A0%3Bbottom%3A0%3Bright%3A0%3Bleft%3A0%3B%7D%3C/style%3E%0A%20%20%20%20%3Cscript%20src%3D%22https%3A//cdn.jsdelivr.net/npm/leaflet%401.6.0/dist/leaflet.js%22%3E%3C/script%3E%0A%20%20%20%20%3Cscript%20src%3D%22https%3A//code.jquery.com/jquery-1.12.4.min.js%22%3E%3C/script%3E%0A%20%20%20%20%3Cscript%20src%3D%22https%3A//maxcdn.bootstrapcdn.com/bootstrap/3.2.0/js/bootstrap.min.js%22%3E%3C/script%3E%0A%20%20%20%20%3Cscript%20src%3D%22https%3A//cdnjs.cloudflare.com/ajax/libs/Leaflet.awesome-markers/2.0.2/leaflet.awesome-markers.js%22%3E%3C/script%3E%0A%20%20%20%20%3Clink%20rel%3D%22stylesheet%22%20href%3D%22https%3A//cdn.jsdelivr.net/npm/leaflet%401.6.0/dist/leaflet.css%22/%3E%0A%20%20%20%20%3Clink%20rel%3D%22stylesheet%22%20href%3D%22https%3A//maxcdn.bootstrapcdn.com/bootstrap/3.2.0/css/bootstrap.min.css%22/%3E%0A%20%20%20%20%3Clink%20rel%3D%22stylesheet%22%20href%3D%22https%3A//maxcdn.bootstrapcdn.com/bootstrap/3.2.0/css/bootstrap-theme.min.css%22/%3E%0A%20%20%20%20%3Clink%20rel%3D%22stylesheet%22%20href%3D%22https%3A//maxcdn.bootstrapcdn.com/font-awesome/4.6.3/css/font-awesome.min.css%22/%3E%0A%20%20%20%20%3Clink%20rel%3D%22stylesheet%22%20href%3D%22https%3A//cdnjs.cloudflare.com/ajax/libs/Leaflet.awesome-markers/2.0.2/leaflet.awesome-markers.css%22/%3E%0A%20%20%20%20%3Clink%20rel%3D%22stylesheet%22%20href%3D%22https%3A//cdn.jsdelivr.net/gh/python-visualization/folium/folium/templates/leaflet.awesome.rotate.min.css%22/%3E%0A%20%20%20%20%0A%20%20%20%20%20%20%20%20%20%20%20%20%3Cmeta%20name%3D%22viewport%22%20content%3D%22width%3Ddevice-width%2C%0A%20%20%20%20%20%20%20%20%20%20%20%20%20%20%20%20initial-scale%3D1.0%2C%20maximum-scale%3D1.0%2C%20user-scalable%3Dno%22%20/%3E%0A%20%20%20%20%20%20%20%20%20%20%20%20%3Cstyle%3E%0A%20%20%20%20%20%20%20%20%20%20%20%20%20%20%20%20%23map_af196f9c2eb0438fa70cafefd1e4c67d%20%7B%0A%20%20%20%20%20%20%20%20%20%20%20%20%20%20%20%20%20%20%20%20position%3A%20relative%3B%0A%20%20%20%20%20%20%20%20%20%20%20%20%20%20%20%20%20%20%20%20width%3A%20100.0%25%3B%0A%20%20%20%20%20%20%20%20%20%20%20%20%20%20%20%20%20%20%20%20height%3A%20100.0%25%3B%0A%20%20%20%20%20%20%20%20%20%20%20%20%20%20%20%20%20%20%20%20left%3A%200.0%25%3B%0A%20%20%20%20%20%20%20%20%20%20%20%20%20%20%20%20%20%20%20%20top%3A%200.0%25%3B%0A%20%20%20%20%20%20%20%20%20%20%20%20%20%20%20%20%7D%0A%20%20%20%20%20%20%20%20%20%20%20%20%3C/style%3E%0A%20%20%20%20%20%20%20%20%0A%3C/head%3E%0A%3Cbody%3E%20%20%20%20%0A%20%20%20%20%0A%20%20%20%20%20%20%20%20%20%20%20%20%3Cdiv%20class%3D%22folium-map%22%20id%3D%22map_af196f9c2eb0438fa70cafefd1e4c67d%22%20%3E%3C/div%3E%0A%20%20%20%20%20%20%20%20%0A%3C/body%3E%0A%3Cscript%3E%20%20%20%20%0A%20%20%20%20%0A%20%20%20%20%20%20%20%20%20%20%20%20var%20map_af196f9c2eb0438fa70cafefd1e4c67d%20%3D%20L.map%28%0A%20%20%20%20%20%20%20%20%20%20%20%20%20%20%20%20%22map_af196f9c2eb0438fa70cafefd1e4c67d%22%2C%0A%20%20%20%20%20%20%20%20%20%20%20%20%20%20%20%20%7B%0A%20%20%20%20%20%20%20%20%20%20%20%20%20%20%20%20%20%20%20%20center%3A%20%5B45.4440151%2C%209.2139884%5D%2C%0A%20%20%20%20%20%20%20%20%20%20%20%20%20%20%20%20%20%20%20%20crs%3A%20L.CRS.EPSG3857%2C%0A%20%20%20%20%20%20%20%20%20%20%20%20%20%20%20%20%20%20%20%20zoom%3A%2013%2C%0A%20%20%20%20%20%20%20%20%20%20%20%20%20%20%20%20%20%20%20%20zoomControl%3A%20true%2C%0A%20%20%20%20%20%20%20%20%20%20%20%20%20%20%20%20%20%20%20%20preferCanvas%3A%20false%2C%0A%20%20%20%20%20%20%20%20%20%20%20%20%20%20%20%20%7D%0A%20%20%20%20%20%20%20%20%20%20%20%20%29%3B%0A%0A%20%20%20%20%20%20%20%20%20%20%20%20%0A%0A%20%20%20%20%20%20%20%20%0A%20%20%20%20%0A%20%20%20%20%20%20%20%20%20%20%20%20var%20tile_layer_abac76f41d754ed4a0a99bd97553e393%20%3D%20L.tileLayer%28%0A%20%20%20%20%20%20%20%20%20%20%20%20%20%20%20%20%22https%3A//cartodb-basemaps-%7Bs%7D.global.ssl.fastly.net/light_all/%7Bz%7D/%7Bx%7D/%7By%7D.png%22%2C%0A%20%20%20%20%20%20%20%20%20%20%20%20%20%20%20%20%7B%22attribution%22%3A%20%22%5Cu0026copy%3B%20%5Cu003ca%20href%3D%5C%22http%3A//www.openstreetmap.org/copyright%5C%22%5Cu003eOpenStreetMap%5Cu003c/a%5Cu003e%20contributors%20%5Cu0026copy%3B%20%5Cu003ca%20href%3D%5C%22http%3A//cartodb.com/attributions%5C%22%5Cu003eCartoDB%5Cu003c/a%5Cu003e%2C%20CartoDB%20%5Cu003ca%20href%20%3D%5C%22http%3A//cartodb.com/attributions%5C%22%5Cu003eattributions%5Cu003c/a%5Cu003e%22%2C%20%22detectRetina%22%3A%20false%2C%20%22maxNativeZoom%22%3A%2018%2C%20%22maxZoom%22%3A%2018%2C%20%22minZoom%22%3A%200%2C%20%22noWrap%22%3A%20false%2C%20%22opacity%22%3A%201%2C%20%22subdomains%22%3A%20%22abc%22%2C%20%22tms%22%3A%20false%7D%0A%20%20%20%20%20%20%20%20%20%20%20%20%29.addTo%28map_af196f9c2eb0438fa70cafefd1e4c67d%29%3B%0A%20%20%20%20%20%20%20%20%0A%20%20%20%20%0A%20%20%20%20%20%20%20%20%20%20%20%20var%20poly_line_e4cc28d25a644b4eb5a7778f4df3e27f%20%3D%20L.polyline%28%0A%20%20%20%20%20%20%20%20%20%20%20%20%20%20%20%20%5B%5B45.4440151%2C%209.2139884%5D%2C%20%5B45.4440048%2C%209.2139137%5D%2C%20%5B45.4437178%2C%209.2140102%5D%2C%20%5B45.4437393%2C%209.2141578%5D%2C%20%5B45.4439726%2C%209.2152065%5D%2C%20%5B45.4439995%2C%209.2153513%5D%2C%20%5B45.4440236%2C%209.2153862%5D%2C%20%5B45.4440638%2C%209.2154291%5D%2C%20%5B45.4441255%2C%209.2154586%5D%2C%20%5B45.4441899%2C%209.2154801%5D%2C%20%5B45.4442999%2C%209.2154935%5D%2C%20%5B45.4443535%2C%209.2153701%5D%2C%20%5B45.4446405%2C%209.21478%5D%2C%20%5B45.4447773%2C%209.2145279%5D%2C%20%5B45.4452601%2C%209.2137232%5D%2C%20%5B45.4456115%2C%209.213168%5D%2C%20%5B45.4457214%2C%209.2129937%5D%2C%20%5B45.4458234%2C%209.2128327%5D%2C%20%5B45.4458609%2C%209.2127737%5D%2C%20%5B45.4459119%2C%209.2126799%5D%2C%20%5B45.4459655%2C%209.2125994%5D%2C%20%5B45.4469311%2C%209.2110491%5D%2C%20%5B45.4471833%2C%209.2106682%5D%2C%20%5B45.4472771%2C%209.2107031%5D%2C%20%5B45.4473764%2C%209.2106977%5D%2C%20%5B45.4474193%2C%209.2106923%5D%2C%20%5B45.4474783%2C%209.2106628%5D%2C%20%5B45.4475239%2C%209.2106333%5D%2C%20%5B45.4475722%2C%209.2105877%5D%2C%20%5B45.4476285%2C%209.2105046%5D%2C%20%5B45.447658%2C%209.2104429%5D%2C%20%5B45.4476821%2C%209.2103732%5D%2C%20%5B45.4476956%2C%209.2103329%5D%2C%20%5B45.4477009%2C%209.2102981%5D%2C%20%5B45.4477063%2C%209.2102283%5D%2C%20%5B45.4477009%2C%209.2101505%5D%2C%20%5B45.4476795%2C%209.2100057%5D%2C%20%5B45.44765%2C%209.2099252%5D%2C%20%5B45.4476097%2C%209.2098528%5D%2C%20%5B45.4475802%2C%209.2098072%5D%2C%20%5B45.4475427%2C%209.2097643%5D%2C%20%5B45.4476178%2C%209.2096597%5D%2C%20%5B45.4477331%2C%209.2094666%5D%2C%20%5B45.4479343%2C%209.2091286%5D%2C%20%5B45.4483339%2C%209.2084581%5D%2C%20%5B45.4486021%2C%209.2080235%5D%2C%20%5B45.449101%2C%209.2072001%5D%2C%20%5B45.4492888%2C%209.2068729%5D%2C%20%5B45.4493585%2C%209.2067575%5D%2C%20%5B45.4494765%2C%209.2065617%5D%2C%20%5B45.44949%2C%209.206543%5D%2C%20%5B45.4496294%2C%209.2063311%5D%2C%20%5B45.4497877%2C%209.2060602%5D%2C%20%5B45.450072%2C%209.2055801%5D%2C%20%5B45.4501954%2C%209.205395%5D%2C%20%5B45.450359%2C%209.2051724%5D%2C%20%5B45.4506648%2C%209.2046681%5D%2C%20%5B45.4510859%2C%209.204019%5D%2C%20%5B45.4515418%2C%209.2032707%5D%2C%20%5B45.4515821%2C%209.2032143%5D%2C%20%5B45.4516223%2C%209.2031527%5D%2C%20%5B45.4516786%2C%209.2031285%5D%2C%20%5B45.4518262%2C%209.2029327%5D%2C%20%5B45.4519603%2C%209.2027128%5D%2C%20%5B45.4520085%2C%209.2026618%5D%2C%20%5B45.4520568%2C%209.2026189%5D%2C%20%5B45.4521534%2C%209.2025357%5D%2C%20%5B45.452309%2C%209.20223%5D%2C%20%5B45.4523411%2C%209.2021763%5D%2C%20%5B45.4523921%2C%209.202053%5D%2C%20%5B45.4524162%2C%209.2019778%5D%2C%20%5B45.4524726%2C%209.2018276%5D%2C%20%5B45.452368%2C%209.2017096%5D%2C%20%5B45.452325%2C%209.2016587%5D%2C%20%5B45.45214%2C%209.2014119%5D%2C%20%5B45.4520354%2C%209.2012376%5D%2C%20%5B45.4519603%2C%209.200913%5D%2C%20%5B45.4519549%2C%209.2008057%5D%2C%20%5B45.4520005%2C%209.2001244%5D%2C%20%5B45.4520193%2C%209.1999286%5D%2C%20%5B45.4521078%2C%209.1989416%5D%2C%20%5B45.4521158%2C%209.1987377%5D%2C%20%5B45.4521158%2C%209.1979331%5D%2C%20%5B45.4520649%2C%209.1965276%5D%2C%20%5B45.4520622%2C%209.1964418%5D%2C%20%5B45.4520488%2C%209.1955137%5D%2C%20%5B45.4520515%2C%209.1951463%5D%2C%20%5B45.4520488%2C%209.1941753%5D%2C%20%5B45.4520488%2C%209.1939822%5D%2C%20%5B45.4520434%2C%209.1937113%5D%2C%20%5B45.452038%2C%209.192743%5D%2C%20%5B45.4520327%2C%209.1918391%5D%2C%20%5B45.4520273%2C%209.1910103%5D%2C%20%5B45.4520193%2C%209.1906536%5D%2C%20%5B45.452022%2C%209.1904765%5D%2C%20%5B45.4520139%2C%209.1900849%5D%2C%20%5B45.4520059%2C%209.1899374%5D%2C%20%5B45.4520327%2C%209.1895458%5D%2C%20%5B45.4521239%2C%209.1886178%5D%2C%20%5B45.4521802%2C%209.1880947%5D%2C%20%5B45.4522043%2C%209.1878587%5D%2C%20%5B45.4522526%2C%209.1875717%5D%2C%20%5B45.4522848%2C%209.1873947%5D%2C%20%5B45.4523546%2C%209.1870326%5D%2C%20%5B45.4524028%2C%209.1867536%5D%2C%20%5B45.4524189%2C%209.1865712%5D%2C%20%5B45.4524565%2C%209.1860026%5D%2C%20%5B45.4525208%2C%209.1850799%5D%2C%20%5B45.4525477%2C%209.1847098%5D%2C%20%5B45.4525611%2C%209.1845703%5D%2C%20%5B45.4525664%2C%209.1845086%5D%2C%20%5B45.4525852%2C%209.1843021%5D%2C%20%5B45.4526067%2C%209.1840178%5D%2C%20%5B45.4526228%2C%209.1837174%5D%2C%20%5B45.4526576%2C%209.1833231%5D%2C%20%5B45.4526925%2C%209.1828805%5D%2C%20%5B45.4527435%2C%209.1822556%5D%2C%20%5B45.452773%2C%209.1821161%5D%2C%20%5B45.4528132%2C%209.181813%5D%2C%20%5B45.4528427%2C%209.1814375%5D%2C%20%5B45.4528561%2C%209.1812658%5D%2C%20%5B45.4528669%2C%209.1811451%5D%2C%20%5B45.4528803%2C%209.1810539%5D%2C%20%5B45.4528964%2C%209.1809762%5D%2C%20%5B45.4529285%2C%209.1808555%5D%2C%20%5B45.4530224%2C%209.1802895%5D%2C%20%5B45.4530385%2C%209.1801339%5D%2C%20%5B45.45306%2C%209.1798952%5D%2C%20%5B45.4530653%2C%209.1795814%5D%2C%20%5B45.4530707%2C%209.1792917%5D%2C%20%5B45.4530519%2C%209.1792032%5D%2C%20%5B45.4530063%2C%209.1786614%5D%2C%20%5B45.4529902%2C%209.1784576%5D%2C%20%5B45.452942%2C%209.1777682%5D%2C%20%5B45.4529312%2C%209.1776127%5D%2C%20%5B45.4529339%2C%209.1775054%5D%2C%20%5B45.45295%2C%209.1773659%5D%2C%20%5B45.4529768%2C%209.1772908%5D%2C%20%5B45.4530197%2C%209.177213%5D%2C%20%5B45.4534435%2C%209.1766953%5D%2C%20%5B45.4534838%2C%209.1766444%5D%2C%20%5B45.4540685%2C%209.1758773%5D%2C%20%5B45.4548302%2C%209.1748607%5D%2C%20%5B45.455305%2C%209.1742036%5D%2C%20%5B45.4553425%2C%209.174158%5D%2C%20%5B45.4554847%2C%209.1740856%5D%2C%20%5B45.4556456%2C%209.1738844%5D%2C%20%5B45.4558951%2C%209.1735759%5D%2C%20%5B45.456343%2C%209.1729349%5D%2C%20%5B45.4563913%2C%209.1728517%5D%2C%20%5B45.4567963%2C%209.172157%5D%2C%20%5B45.4568848%2C%209.1719988%5D%2C%20%5B45.4569653%2C%209.1718835%5D%2C%20%5B45.4570967%2C%209.1716501%5D%2C%20%5B45.4574454%2C%209.1710654%5D%2C%20%5B45.457719%2C%209.1705987%5D%2C%20%5B45.4578263%2C%209.1704243%5D%2C%20%5B45.4579362%2C%209.1702527%5D%2C%20%5B45.4581803%2C%209.1698852%5D%2C%20%5B45.4583439%2C%209.1696197%5D%2C%20%5B45.4585558%2C%209.1692898%5D%2C%20%5B45.459162%2C%209.168351%5D%2C%20%5B45.4596984%2C%209.1675356%5D%2C%20%5B45.4601839%2C%209.1667175%5D%2C%20%5B45.460723%2C%209.1657037%5D%2C%20%5B45.4611978%2C%209.1648185%5D%2C%20%5B45.4613131%2C%209.1645932%5D%2C%20%5B45.4613212%2C%209.1645744%5D%2C%20%5B45.4613641%2C%209.1644859%5D%2C%20%5B45.4614258%2C%209.1644162%5D%2C%20%5B45.4614365%2C%209.1644028%5D%2C%20%5B45.4614767%2C%209.1643786%5D%2C%20%5B45.4615358%2C%209.1643652%5D%2C%20%5B45.4615867%2C%209.1643652%5D%2C%20%5B45.4616511%2C%209.164376%5D%2C%20%5B45.4622948%2C%209.1646013%5D%2C%20%5B45.4623887%2C%209.1646469%5D%2C%20%5B45.4626623%2C%209.1648909%5D%2C%20%5B45.4630512%2C%209.1650438%5D%2C%20%5B45.4633623%2C%209.1651511%5D%2C%20%5B45.4635447%2C%209.1652155%5D%2C%20%5B45.4642206%2C%209.165422%5D%2C%20%5B45.4643467%2C%209.1654649%5D%2C%20%5B45.4647812%2C%209.1656125%5D%2C%20%5B45.4648966%2C%209.16565%5D%2C%20%5B45.4653794%2C%209.1657975%5D%2C%20%5B45.4656932%2C%209.1659021%5D%2C%20%5B45.465897%2C%209.1659692%5D%2C%20%5B45.4660445%2C%209.1660175%5D%2C%20%5B45.466184%2C%209.1660711%5D%2C%20%5B45.4666534%2C%209.1662213%5D%2C%20%5B45.4669887%2C%209.1663259%5D%2C%20%5B45.4673937%2C%209.1664895%5D%2C%20%5B45.4674232%2C%209.1665432%5D%2C%20%5B45.4674661%2C%209.1666156%5D%2C%20%5B45.467501%2C%209.1666612%5D%2C%20%5B45.4675412%2C%209.1666773%5D%2C%20%5B45.4675654%2C%209.16668%5D%2C%20%5B45.4675949%2C%209.1666773%5D%2C%20%5B45.4676405%2C%209.1666639%5D%2C%20%5B45.4676753%2C%209.1666237%5D%2C%20%5B45.4677156%2C%209.1665754%5D%2C%20%5B45.4677343%2C%209.1665459%5D%2C%20%5B45.4677451%2C%209.1664869%5D%2C%20%5B45.467737%2C%209.166393%5D%2C%20%5B45.4677263%2C%209.1663554%5D%2C%20%5B45.4676995%2C%209.1662991%5D%2C%20%5B45.4675117%2C%209.1660389%5D%2C%20%5B45.4675439%2C%209.1657761%5D%2C%20%5B45.4676378%2C%209.1653094%5D%2C%20%5B45.4676995%2C%209.1650143%5D%2C%20%5B45.4677075%2C%209.1649821%5D%2C%20%5B45.467729%2C%209.1649044%5D%2C%20%5B45.4678068%2C%209.1647488%5D%2C%20%5B45.4678363%2C%209.1646388%5D%2C%20%5B45.4680106%2C%209.1643867%5D%2C%20%5B45.4680642%2C%209.1642794%5D%2C%20%5B45.4680857%2C%209.1642258%5D%2C%20%5B45.4681072%2C%209.1641104%5D%2C%20%5B45.4681715%2C%209.1633433%5D%2C%20%5B45.4682279%2C%209.1625977%5D%2C%20%5B45.4683083%2C%209.1615248%5D%2C%20%5B45.4683459%2C%209.161211%5D%2C%20%5B45.4683754%2C%209.1609052%5D%2C%20%5B45.4683968%2C%209.1605833%5D%2C%20%5B45.4684156%2C%209.1603178%5D%2C%20%5B45.4684371%2C%209.1600817%5D%2C%20%5B45.4684585%2C%209.1598108%5D%2C%20%5B45.4684934%2C%209.1597572%5D%2C%20%5B45.4685122%2C%209.1593495%5D%2C%20%5B45.4685444%2C%209.1586414%5D%2C%20%5B45.4686114%2C%209.1580594%5D%2C%20%5B45.4686892%2C%209.1577563%5D%2C%20%5B45.4687402%2C%209.1576248%5D%2C%20%5B45.4687428%2C%209.1575149%5D%2C%20%5B45.4688126%2C%209.1574129%5D%2C%20%5B45.4689547%2C%209.1572037%5D%2C%20%5B45.4692873%2C%209.1567558%5D%2C%20%5B45.4699042%2C%209.1559377%5D%2C%20%5B45.4701403%2C%209.1556132%5D%2C%20%5B45.470202%2C%209.1556507%5D%2C%20%5B45.4702851%2C%209.1556668%5D%2C%20%5B45.4703388%2C%209.1556722%5D%2C%20%5B45.4704058%2C%209.1556641%5D%2C%20%5B45.4704729%2C%209.1556454%5D%2C%20%5B45.4704997%2C%209.155632%5D%2C%20%5B45.4705372%2C%209.1555944%5D%2C%20%5B45.470556%2C%209.1555703%5D%2C%20%5B45.4705828%2C%209.1555139%5D%2C%20%5B45.4705936%2C%209.1554603%5D%2C%20%5B45.4705989%2C%209.155412%5D%2C%20%5B45.4706016%2C%209.1553128%5D%2C%20%5B45.4705989%2C%209.155286%5D%2C%20%5B45.4705882%2C%209.1552323%5D%2C%20%5B45.4705694%2C%209.1551894%5D%2C%20%5B45.470556%2C%209.1551706%5D%2C%20%5B45.4705399%2C%209.1551545%5D%2C%20%5B45.4707116%2C%209.1548917%5D%2C%20%5B45.470784%2C%209.1547871%5D%2C%20%5B45.4708913%2C%209.1546476%5D%2C%20%5B45.4710442%2C%209.1544545%5D%2C%20%5B45.4714492%2C%209.1538939%5D%2C%20%5B45.4717094%2C%209.1535372%5D%2C%20%5B45.4717335%2C%209.1535023%5D%2C%20%5B45.4717764%2C%209.1534486%5D%2C%20%5B45.4718918%2C%209.1532958%5D%2C%20%5B45.4720312%2C%209.1531134%5D%2C%20%5B45.4722056%2C%209.1528881%5D%2C%20%5B45.4725006%2C%209.1525152%5D%2C%20%5B45.4732087%2C%209.1515926%5D%2C%20%5B45.4732865%2C%209.1514906%5D%2C%20%5B45.4734206%2C%209.1512975%5D%2C%20%5B45.4735735%2C%209.151099%5D%2C%20%5B45.4738927%2C%209.1506565%5D%2C%20%5B45.474067%2C%209.1504526%5D%2C%20%5B45.4746464%2C%209.1496855%5D%2C%20%5B45.4752311%2C%209.1489318%5D%2C%20%5B45.4758346%2C%209.1481352%5D%2C%20%5B45.4775915%2C%209.1458312%5D%2C%20%5B45.4779616%2C%209.1463971%5D%2C%20%5B45.478498%2C%209.1472313%5D%2C%20%5B45.4792625%2C%209.1483712%5D%2C%20%5B45.4798767%2C%209.1493663%5D%2C%20%5B45.4800832%2C%209.1496909%5D%2C%20%5B45.4803273%2C%209.1500556%5D%2C%20%5B45.4804426%2C%209.1502193%5D%2C%20%5B45.4805151%2C%209.15034%5D%2C%20%5B45.4805553%2C%209.1504043%5D%2C%20%5B45.4806867%2C%209.1506082%5D%2C%20%5B45.4807618%2C%209.1507155%5D%2C%20%5B45.4809308%2C%209.1509783%5D%2C%20%5B45.481014%2C%209.1511071%5D%2C%20%5B45.4810521%2C%209.1511613%5D%5D%2C%0A%20%20%20%20%20%20%20%20%20%20%20%20%20%20%20%20%7B%22bubblingMouseEvents%22%3A%20true%2C%20%22color%22%3A%20%22blue%22%2C%20%22dashArray%22%3A%20null%2C%20%22dashOffset%22%3A%20null%2C%20%22fill%22%3A%20false%2C%20%22fillColor%22%3A%20%22blue%22%2C%20%22fillOpacity%22%3A%200.2%2C%20%22fillRule%22%3A%20%22evenodd%22%2C%20%22lineCap%22%3A%20%22round%22%2C%20%22lineJoin%22%3A%20%22round%22%2C%20%22noClip%22%3A%20false%2C%20%22opacity%22%3A%201.0%2C%20%22smoothFactor%22%3A%201.0%2C%20%22stroke%22%3A%20true%2C%20%22weight%22%3A%203%7D%0A%20%20%20%20%20%20%20%20%20%20%20%20%29.addTo%28map_af196f9c2eb0438fa70cafefd1e4c67d%29%3B%0A%20%20%20%20%20%20%20%20%0A%3C/script%3E onload=\"this.contentDocument.open();this.contentDocument.write(    decodeURIComponent(this.getAttribute('data-html')));this.contentDocument.close();\" allowfullscreen webkitallowfullscreen mozallowfullscreen></iframe></div></div>"
      ],
      "text/plain": [
       "<folium.folium.Map at 0x2337b2dc1c0>"
      ]
     },
     "execution_count": 9,
     "metadata": {},
     "output_type": "execute_result"
    }
   ],
   "source": [
    "# the identifier of the vehicle's route we want to visualize\n",
    "\n",
    "v_id = \"vehicle_0\"\n",
    "\n",
    "points_traj = dict_results_tomtom[v_id]['points']\n",
    "\n",
    "m = folium.Map(location=[points_traj[0][1], points_traj[0][0]], tiles='cartodbpositron', zoom_start=13)\n",
    "\n",
    "# TomTom Suggestion\n",
    "folium.PolyLine(locations=[list(reversed(coord)) \n",
    "                           for coord in points_traj], weigth=3, color=\"blue\").add_to(m)\n",
    "m"
   ]
  },
  {
   "cell_type": "markdown",
   "id": "ccbf463a",
   "metadata": {},
   "source": [
    "### Save the TomTom results into a dictionary\n",
    "\n",
    "you can merge later several TomTom results with the notebook 3d\n"
   ]
  },
  {
   "cell_type": "code",
   "execution_count": 10,
   "id": "5536b361",
   "metadata": {},
   "outputs": [],
   "source": [
    "a_file = open(\"../data/dicts_suggestion/dict_results_tomtom_[\"+str(id_from)+\"_\"+str(id_to)+\"].json\", \"w\")\n",
    "json.dump(dict_results_tomtom, a_file)\n",
    "a_file.close()"
   ]
  },
  {
   "cell_type": "code",
   "execution_count": null,
   "id": "de621f09",
   "metadata": {},
   "outputs": [],
   "source": []
  }
 ],
 "metadata": {
  "kernelspec": {
   "display_name": "Python 3 (ipykernel)",
   "language": "python",
   "name": "python3"
  },
  "language_info": {
   "codemirror_mode": {
    "name": "ipython",
    "version": 3
   },
   "file_extension": ".py",
   "mimetype": "text/x-python",
   "name": "python",
   "nbconvert_exporter": "python",
   "pygments_lexer": "ipython3",
   "version": "3.9.7"
  }
 },
 "nbformat": 4,
 "nbformat_minor": 5
}
