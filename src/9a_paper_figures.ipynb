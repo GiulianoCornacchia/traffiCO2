{
 "cells": [
  {
   "cell_type": "markdown",
   "id": "d2594088",
   "metadata": {},
   "source": [
    "# 9 Paper Figures\n",
    "\n",
    "The goal of the following notebook is to generate the figures included in our manuscript\n",
    "___"
   ]
  },
  {
   "cell_type": "code",
   "execution_count": null,
   "id": "b0c229df",
   "metadata": {},
   "outputs": [],
   "source": [
    "import pandas as pd\n",
    "import numpy as np\n",
    "import matplotlib.pyplot as plt\n",
    "from matplotlib.ticker import MaxNLocator\n",
    "from glob import glob\n",
    "import json\n",
    "from plot_utils import plot_errorbars"
   ]
  },
  {
   "cell_type": "code",
   "execution_count": null,
   "id": "9b15bf91",
   "metadata": {},
   "outputs": [],
   "source": [
    "OUTPUT_PATH = '../results/imgs'\n",
    "\n",
    "SAVE_FIGS = True"
   ]
  },
  {
   "cell_type": "markdown",
   "id": "71b23293",
   "metadata": {},
   "source": [
    "# Main Experiment"
   ]
  },
  {
   "cell_type": "markdown",
   "id": "a255a56e",
   "metadata": {},
   "source": [
    "#### Parameters"
   ]
  },
  {
   "cell_type": "code",
   "execution_count": null,
   "id": "edc8a1f3",
   "metadata": {},
   "outputs": [],
   "source": [
    "path_results_total_co2_osm = \"../results/dict_total_co2_osm.json\"\n",
    "path_results_total_co2_tomtom = \"../results/dict_total_co2_tomtom.json\"\n",
    "\n",
    "path_results_alpha_osm = \"../results/dict_alpha_co2_osm.json\"\n",
    "path_results_alpha_tomtom = \"../results/dict_alpha_co2_tomtom.json\"\n",
    "\n",
    "path_results_gini_osm = \"../results/dict_gini_co2_osm.json\"\n",
    "path_results_gini_tomtom = \"../results/dict_gini_co2_tomtom.json\""
   ]
  },
  {
   "cell_type": "code",
   "execution_count": null,
   "id": "338b5aac",
   "metadata": {},
   "outputs": [],
   "source": [
    "## Total CO2 and alpha ##\n",
    "\n",
    "map__navig__scenario__overallCO2 = {}\n",
    "map__navig__scenario__alpha = {}\n",
    "map__navig__scenario__gini = {}\n",
    "\n",
    "\n",
    "## Total CO2\n",
    "\n",
    "# OSM\n",
    "f = open(path_results_total_co2_osm)\n",
    "map__scenario__overallco2 = json.load(f)\n",
    "map__navig__scenario__overallCO2['OSM'] = {int(key.split('_')[0]): value for key,value in map__scenario__overallco2.items()}\n",
    "\n",
    "# TomTom\n",
    "f = open(path_results_total_co2_tomtom)\n",
    "map__scenario__overallco2 = json.load(f)\n",
    "map__navig__scenario__overallCO2['TT'] = {int(key.split('_')[0]): value for key,value in map__scenario__overallco2.items()}\n",
    "\n",
    "\n",
    "## Alphas\n",
    "# OSM\n",
    "f = open(path_results_alpha_osm)\n",
    "map__scenario__alpha = json.load(f)\n",
    "map__navig__scenario__alpha['OSM'] = {int(key.split('_')[0]): value for key,value in map__scenario__alpha.items()}\n",
    "\n",
    "# TomTom\n",
    "f = open(path_results_alpha_tomtom)\n",
    "map__scenario__alpha = json.load(f)\n",
    "map__navig__scenario__alpha['TT'] = {int(key.split('_')[0]): value for key,value in map__scenario__alpha.items()}\n",
    "\n",
    "\n",
    "## Ginis\n",
    "\n",
    "# OSM\n",
    "f = open(path_results_gini_osm)\n",
    "map__scenario__gini = json.load(f)\n",
    "map__navig__scenario__gini['OSM'] = {int(key.split('_')[0]): value for key,value in map__scenario__gini.items()}\n",
    "\n",
    "# TomTom\n",
    "f = open(path_results_gini_tomtom)\n",
    "map__scenario__gini = json.load(f)\n",
    "map__navig__scenario__gini['TT'] = {int(key.split('_')[0]): value for key,value in map__scenario__gini.items()}\n",
    "\n"
   ]
  },
  {
   "cell_type": "markdown",
   "id": "f28a6c81",
   "metadata": {},
   "source": [
    "### Gini index\n",
    "Code for plotting Figure 4a."
   ]
  },
  {
   "cell_type": "code",
   "execution_count": null,
   "id": "b503a6c0",
   "metadata": {},
   "outputs": [],
   "source": [
    "from plot_utils import plot_errorbars\n",
    "\n",
    "# modifying the keys [10,...,100] to [1,...,10]\n",
    "map__navig__scenario__overallCO2__ = {}\n",
    "for navig in map__navig__scenario__gini.keys():\n",
    "    map__navig__scenario__overallCO2__[navig] = {int(scenario/10): map__navig__scenario__gini[navig][scenario] for scenario in map__navig__scenario__gini[navig].keys()}\n",
    "#\n",
    "\n",
    "fig, ax = plot_errorbars(map__navig__scenario__gini, \n",
    "                         plot_mean=True, \n",
    "                         x_label=r\"$R$-routed (%)\", #r\"$i$ of $\\overline{D}^{(R)}_{i}$\"\n",
    "                         y_label=r\"Gini\", \n",
    "                         figsize=(6,6))\n",
    "#ax.set_ylim(0.855,0.88)\n",
    "\n",
    "if SAVE_FIGS:\n",
    "    plt.savefig(OUTPUT_PATH + \"plot_errorbars_gini__V2.png\", dpi=300)\n",
    "    plt.savefig(OUTPUT_PATH + \"plot_errorbars_gini__V2.pdf\")"
   ]
  },
  {
   "cell_type": "markdown",
   "id": "4e541e6d",
   "metadata": {},
   "source": [
    "### Total CO$_2$\n",
    "Code for plotting Figure 4b."
   ]
  },
  {
   "cell_type": "code",
   "execution_count": null,
   "id": "340782d5",
   "metadata": {},
   "outputs": [],
   "source": [
    "from plot_utils import plot_errorbars\n",
    "\n",
    "# modifying the keys [10,...,100] to [1,...,10]\n",
    "map__navig__scenario__overallCO2__ = {}\n",
    "for navig in map__navig__scenario__overallCO2.keys():\n",
    "    map__navig__scenario__overallCO2__[navig] = {int(scenario/10): map__navig__scenario__overallCO2[navig][scenario] for scenario in map__navig__scenario__overallCO2[navig].keys()}\n",
    "#\n",
    "\n",
    "fig, ax = plot_errorbars(map__navig__scenario__overallCO2, \n",
    "                         plot_mean=True, \n",
    "                         x_label=r\"$R$-routed (%)\", #r\"$i$ of $\\overline{D}^{(R)}_{i}$\"\n",
    "                         y_label=r\"Total CO$_2$ (mg)\", \n",
    "                         figsize=(6,6))\n",
    "\n",
    "if SAVE_FIGS:\n",
    "    plt.savefig(OUTPUT_PATH + '/plot_errorbars_AVG_total_co2__V2.png', dpi=300)\n",
    "    plt.savefig(OUTPUT_PATH + '/plot_errorbars_AVG_total_co2__V2.pdf')"
   ]
  },
  {
   "cell_type": "markdown",
   "id": "e2d6a856",
   "metadata": {},
   "source": [
    "### Truncated power-law's exponent $\\alpha$\n",
    "Code for plotting Figure A.1."
   ]
  },
  {
   "cell_type": "code",
   "execution_count": null,
   "id": "e10e0f18",
   "metadata": {},
   "outputs": [],
   "source": [
    "from plot_utils import plot_errorbars\n",
    "\n",
    "# modifying the keys [10,...,100] to [1,...,10]\n",
    "map__navig__scenario__alpha__ = {}\n",
    "for navig in map__navig__scenario__alpha.keys():\n",
    "    map__navig__scenario__alpha__[navig] = {int(scenario/10): map__navig__scenario__alpha[navig][scenario] for scenario in map__navig__scenario__alpha[navig].keys()}\n",
    "#\n",
    "\n",
    "fig, ax = plot_errorbars(map__navig__scenario__alpha, \n",
    "                         plot_mean=True, \n",
    "                         x_label=r\"$R$-routed (%)\", #r\"$i$ of $\\overline{D}^{(R)}_{i}$\"\n",
    "                         y_label=r\"Exponent $\\mathbf{\\alpha}$ of tr. power-law\", \n",
    "                         figsize=(6,6))\n",
    "\n",
    "if SAVE_FIGS:\n",
    "    plt.savefig(OUTPUT_PATH + '/plot_errorbars_AVG_alpha__V2.png', dpi=300)\n",
    "    plt.savefig(OUTPUT_PATH + '/plot_errorbars_AVG_alpha__V2.pdf')"
   ]
  },
  {
   "cell_type": "markdown",
   "id": "f1979cdc",
   "metadata": {},
   "source": [
    "# Experiment $w$ factor\n"
   ]
  },
  {
   "cell_type": "code",
   "execution_count": null,
   "id": "ae6267be",
   "metadata": {},
   "outputs": [],
   "source": [
    "ws_to_plot = [1,15]\n",
    "navigators = [\"osm\", \"tomtom\"]"
   ]
  },
  {
   "cell_type": "markdown",
   "id": "435eeca5",
   "metadata": {},
   "source": [
    "#### parameters"
   ]
  },
  {
   "cell_type": "code",
   "execution_count": null,
   "id": "055ad210",
   "metadata": {},
   "outputs": [],
   "source": [
    "path_results_total_co2_osm_w = \"../results/dict_total_co2_osm_w.json\"\n",
    "path_results_total_co2_tomtom_w = \"../results/dict_total_co2_tomtom_w.json\"\n",
    "\n",
    "path_results_alpha_osm_w = \"../results/dict_alpha_osm_w.json\"\n",
    "path_results_alpha_tomtom_w = \"../results/results_alpha_tomtom_w.json\"\n",
    "\n",
    "path_results_gini_osm_w = \"../results/dict_gini_osm_w.json\"\n",
    "path_results_gini_tomtom_w = \"../results/results_gini_tomtom_w.json\""
   ]
  },
  {
   "cell_type": "code",
   "execution_count": null,
   "id": "d34a04c5",
   "metadata": {},
   "outputs": [],
   "source": [
    "dict_ws = {}\n",
    "\n",
    "for navigator in navigators:\n",
    "    \n",
    "    dict_ws[navigator] = {}\n",
    "    dict_ws[navigator][\"total_co2\"] = {}\n",
    "    dict_ws[navigator][\"alpha\"] = {}\n",
    "    dict_ws[navigator][\"gini\"] = {}\n",
    "    dict_ws[navigator][\"traveltime\"] = {}\n",
    "\n",
    "    for w in ws_to_plot:\n",
    "        \n",
    "        f = open(f\"../results/dict_total_co2_{navigator}_w{w}.json\")\n",
    "        d = json.load(f)\n",
    "        d = {int(k.split(\"_\")[0]): d[k] for k in d}\n",
    "        dict_ws[navigator][\"total_co2\"][str(w)] = d\n",
    "         \n",
    "        f = open(f\"../results/dict_alpha_co2_{navigator}_w{w}.json\")\n",
    "        d = json.load(f)\n",
    "        d = {int(k.split(\"_\")[0]): d[k] for k in d}\n",
    "        dict_ws[navigator][\"alpha\"][str(w)] = d\n",
    "        \n",
    "        f = open(f\"../results/dict_gini_co2_{navigator}_w{w}.json\")\n",
    "        d = json.load(f)\n",
    "        d = {int(k.split(\"_\")[0]): d[k] for k in d}\n",
    "        dict_ws[navigator][\"gini\"][str(w)] = d\n",
    "        \n",
    "                \n",
    "        f = open(f\"../results/dict_tt_{navigator}_w{w}.json\")\n",
    "        d = json.load(f)\n",
    "        d = {int(k.split(\"_\")[0]): d[k] for k in d}\n",
    "        dict_ws[navigator][\"traveltime\"][str(w)] = d\n",
    "    \n",
    " "
   ]
  },
  {
   "cell_type": "markdown",
   "id": "df9ab77c",
   "metadata": {},
   "source": [
    "### Gini index\n",
    "Figures 6a and 6d."
   ]
  },
  {
   "cell_type": "markdown",
   "id": "8e1cf770",
   "metadata": {},
   "source": [
    "#### 6a (OSM)"
   ]
  },
  {
   "cell_type": "code",
   "execution_count": null,
   "id": "c87c2f92",
   "metadata": {},
   "outputs": [],
   "source": [
    "navigator = \"osm\"\n",
    "\n",
    "fig, ax = plot_errorbars(dict_ws[navigator][\"gini\"], \n",
    "                         plot_mean=True, \n",
    "                         x_label=r\"%s-routed\" %navigator + \" (%)\",\n",
    "                         y_label=\"Gini\", \n",
    "                         cmap_name='copper_r',\n",
    "                         legend_loc = 'best', legend_title=r'Values of $\\mathcal{w}$', legend_cols=2,\n",
    "                         figsize=(6,6))\n",
    "\n",
    "if SAVE_FIGS:\n",
    "    plt.savefig(OUTPUT_PATH + '/plot_errorbars_w_analysis_gini_%s.png' %navigator, dpi=300)\n",
    "    plt.savefig(OUTPUT_PATH + '/plot_errorbars_w_analysis_gini_%s.pdf' %navigator)"
   ]
  },
  {
   "cell_type": "markdown",
   "id": "060ab095",
   "metadata": {},
   "source": [
    "#### 6d (TomTom)"
   ]
  },
  {
   "cell_type": "code",
   "execution_count": null,
   "id": "507e306f",
   "metadata": {},
   "outputs": [],
   "source": [
    "navigator = \"tomtom\"\n",
    "\n",
    "fig, ax = plot_errorbars(dict_ws[navigator][\"gini\"], \n",
    "                         plot_mean=True, \n",
    "                         x_label=r\"%s-routed\" %navigator + \" (%)\",\n",
    "                         y_label=\"Gini\", \n",
    "                         cmap_name='copper_r',\n",
    "                         legend_loc = 'best', legend_title=r'Values of $\\mathcal{w}$', legend_cols=2,\n",
    "                         figsize=(6,6))\n",
    "\n",
    "if SAVE_FIGS:\n",
    "    plt.savefig(OUTPUT_PATH + '/plot_errorbars_w_analysis_gini_%s.png' %navigator, dpi=300)\n",
    "    plt.savefig(OUTPUT_PATH + '/plot_errorbars_w_analysis_gini_%s.pdf' %navigator)"
   ]
  },
  {
   "cell_type": "markdown",
   "id": "5abf99f5",
   "metadata": {},
   "source": [
    "### Total CO2\n",
    "Figures 6b and 6e."
   ]
  },
  {
   "cell_type": "markdown",
   "id": "447e02b7",
   "metadata": {},
   "source": [
    "#### 6b (OSM)"
   ]
  },
  {
   "cell_type": "code",
   "execution_count": null,
   "id": "929caa68",
   "metadata": {},
   "outputs": [],
   "source": [
    "navigator = \"osm\"\n",
    "    \n",
    "fig, ax = plot_errorbars(dict_ws[navigator][\"total_co2\"], \n",
    "                         plot_mean=True, \n",
    "                         x_label=r\"OSM-routed\" + \" (%)\", #r\"$i$ of $\\overline{D}^{(%s)}_{i}$\" %navigator\n",
    "                         y_label=r\"Total CO$_2$ (mg)\", \n",
    "                         cmap_name='copper_r',\n",
    "                         legend_loc = 'best', legend_title=r'Values of $\\mathcal{w}$', legend_cols=2,\n",
    "                         figsize=(6,6))\n",
    "\n",
    "if SAVE_FIGS:\n",
    "    plt.savefig(OUTPUT_PATH + '/plot_errorbars_w_analysis_totalco2_osm.png', dpi=300)\n",
    "    plt.savefig(OUTPUT_PATH + '/plot_errorbars_w_analysis_totalco2_osm.pdf')"
   ]
  },
  {
   "cell_type": "markdown",
   "id": "5577b511",
   "metadata": {},
   "source": [
    "#### 6e (TomTom)"
   ]
  },
  {
   "cell_type": "code",
   "execution_count": null,
   "id": "bf28b386",
   "metadata": {},
   "outputs": [],
   "source": [
    "navigator = \"osm\"\n",
    "\n",
    "fig, ax = plot_errorbars(dict_ws[navigator][\"total_co2\"], \n",
    "                         plot_mean=True, \n",
    "                         x_label=r\"TT-routed\" + \" (%)\", #r\"$i$ of $\\overline{D}^{(%s)}_{i}$\" %navigator\n",
    "                         y_label=r\"Total CO$_2$ (mg)\", \n",
    "                         cmap_name='copper_r',\n",
    "                         legend_loc = 'best', legend_title=r'Values of $\\mathcal{w}$', legend_cols=2,\n",
    "                         figsize=(6,6))\n",
    "\n",
    "if SAVE_FIGS:\n",
    "    plt.savefig(OUTPUT_PATH + '/plot_errorbars_w_analysis_totalco2_tomtom.png', dpi=300)\n",
    "    plt.savefig(OUTPUT_PATH + '/plot_errorbars_w_analysis_totalco2_tomtom.pdf')"
   ]
  },
  {
   "cell_type": "markdown",
   "id": "dba65cda",
   "metadata": {},
   "source": [
    "### Travel Time\n",
    "Figures 6c and 6f."
   ]
  },
  {
   "cell_type": "markdown",
   "id": "aaf158c4",
   "metadata": {},
   "source": [
    "#### 6c (OSM)"
   ]
  },
  {
   "cell_type": "code",
   "execution_count": null,
   "id": "31438fd8",
   "metadata": {},
   "outputs": [],
   "source": [
    "navigator = \"osm\"\n",
    "\n",
    "fig, ax = plot_errorbars(dict_ws[navigator][\"traveltime\"], \n",
    "                         plot_mean=True, \n",
    "                         x_label=r\"OSM-routed\" + \" (%)\", #r\"$i$ of $\\overline{D}^{(%s)}_{i}$\" %navigator\n",
    "                         y_label=r\"Total CO$_2$ (mg)\", \n",
    "                         cmap_name='copper_r',\n",
    "                         legend_loc = 'best', legend_title=r'Values of $\\mathcal{w}$', legend_cols=2,\n",
    "                         figsize=(6,6))\n",
    "\n",
    "if SAVE_FIGS:\n",
    "    plt.savefig(OUTPUT_PATH + '/plot_errorbars_w_analysis_traveltime_osm.png', dpi=300)\n",
    "    plt.savefig(OUTPUT_PATH + '/plot_errorbars_w_analysis_traveltime_osm.pdf')"
   ]
  },
  {
   "cell_type": "markdown",
   "id": "39ea486b",
   "metadata": {},
   "source": [
    "#### 6f (TomTom)"
   ]
  },
  {
   "cell_type": "code",
   "execution_count": null,
   "id": "2e7ca744",
   "metadata": {},
   "outputs": [],
   "source": [
    "navigator = \"tomtom\"\n",
    "\n",
    "fig, ax = plot_errorbars(dict_ws[navigator][\"traveltime\"], \n",
    "                         plot_mean=True, \n",
    "                         x_label=r\"TT-routed\" + \" (%)\", #r\"$i$ of $\\overline{D}^{(%s)}_{i}$\" %navigator\n",
    "                         y_label=r\"Total CO$_2$ (mg)\", \n",
    "                         cmap_name='copper_r',\n",
    "                         legend_loc = 'best', legend_title=r'Values of $\\mathcal{w}$', legend_cols=2,\n",
    "                         figsize=(6,6))\n",
    "\n",
    "if SAVE_FIGS:\n",
    "    plt.savefig(OUTPUT_PATH + '/plot_errorbars_w_analysis_traveltime_tomtom.png', dpi=300)\n",
    "    plt.savefig(OUTPUT_PATH + '/plot_errorbars_w_analysis_traveltime_tomtom.pdf')"
   ]
  }
 ],
 "metadata": {
  "kernelspec": {
   "display_name": "Python 3 (ipykernel)",
   "language": "python",
   "name": "python3"
  },
  "language_info": {
   "codemirror_mode": {
    "name": "ipython",
    "version": 3
   },
   "file_extension": ".py",
   "mimetype": "text/x-python",
   "name": "python",
   "nbconvert_exporter": "python",
   "pygments_lexer": "ipython3",
   "version": "3.9.7"
  }
 },
 "nbformat": 4,
 "nbformat_minor": 5
}
