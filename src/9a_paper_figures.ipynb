{
 "cells": [
  {
   "cell_type": "markdown",
   "id": "d2594088",
   "metadata": {},
   "source": [
    "# 9 Paper Figures\n",
    "\n",
    "The goal of the following notebook is to generate the figures included in our manuscript\n",
    "___"
   ]
  },
  {
   "cell_type": "code",
   "execution_count": null,
   "id": "b0c229df",
   "metadata": {},
   "outputs": [],
   "source": [
    "import pandas as pd\n",
    "import numpy as np\n",
    "import matplotlib.pyplot as plt\n",
    "from matplotlib.ticker import MaxNLocator\n",
    "from glob import glob\n",
    "import json\n",
    "from plot_utils import plot_errorbars"
   ]
  },
  {
   "cell_type": "code",
   "execution_count": null,
   "id": "9b15bf91",
   "metadata": {},
   "outputs": [],
   "source": [
    "OUTPUT_PATH = '../results/imgs'\n",
    "\n",
    "SAVE_FIGS = True"
   ]
  },
  {
   "cell_type": "markdown",
   "id": "71b23293",
   "metadata": {},
   "source": [
    "# Main Experiment"
   ]
  },
  {
   "cell_type": "markdown",
   "id": "a255a56e",
   "metadata": {},
   "source": [
    "#### Parameters"
   ]
  },
  {
   "cell_type": "code",
   "execution_count": null,
   "id": "edc8a1f3",
   "metadata": {},
   "outputs": [],
   "source": [
    "path_results_total_co2_osm = \"../results/dict_total_co2_osm.json\"\n",
    "path_results_total_co2_tomtom = \"../results/dict_total_co2_tomtom.json\"\n",
    "\n",
    "path_results_alpha_osm = \"../results/dict_alpha_osm.json\"\n",
    "path_results_alpha_tomtom = \"../results/dict_alpha_tomtom.json\"\n",
    "\n",
    "path_results_gini_osm = \"../results/dict_gini_osm.json\"\n",
    "path_results_gini_tomtom = \"../results/dict_gini_tomtom.json\""
   ]
  },
  {
   "cell_type": "markdown",
   "id": "e535c64d",
   "metadata": {},
   "source": [
    "### Loading experiments' results"
   ]
  },
  {
   "cell_type": "code",
   "execution_count": null,
   "id": "3a1e24b1",
   "metadata": {},
   "outputs": [],
   "source": [
    "## CO2 on each road ##\n",
    "\n",
    "navigator = 'OSM'  # specify \"OSM\" or \"TT\"\n",
    "\n",
    "###\n",
    "\n",
    "if navigator == 'OSM':\n",
    "    f = open('../results/dict_exps_filename_osm.json')\n",
    "    dict_exps_filename = json.load(f)\n",
    "    DATA_PATH = '../sim_outputs/outputs_main_experiment/exps_osm/'\n",
    "elif navigator == 'TT':\n",
    "    f = open('../results/tomtom/dict_exps_filename_tomtom.json')\n",
    "    dict_exps_filename = json.load(f)\n",
    "    DATA_PATH = '../sim_outputs/exps_tomtom/'\n",
    "else:\n",
    "    raise ValueError('not a valid navigator.')\n",
    "    \n",
    "\n",
    "map__scenario__results = {}\n",
    "for c_scenario, c_dict_results in dict_exps_filename.items():\n",
    "    c_scenario_number = int(c_scenario.split('_')[0])\n",
    "    c_list_scenario_results = []\n",
    "    for c_rep, c_file in c_dict_results.items():\n",
    "        c_df = pd.read_csv(glob(DATA_PATH + c_file + \"/co2_edge.csv\")[0])\n",
    "        #print(c_df)\n",
    "        c_list_scenario_results.append(list(c_df['total_co2']))\n",
    "    map__scenario__results[c_scenario_number] = c_list_scenario_results\n",
    "\n",
    "    \n",
    "# dict with mean co2 per road across the 10 repetitions\n",
    "map__scenario__mean_results = {scenario: np.array(pd.DataFrame(vec_res).mean()) for scenario, vec_res in map__scenario__results.items()}"
   ]
  },
  {
   "cell_type": "code",
   "execution_count": null,
   "id": "338b5aac",
   "metadata": {},
   "outputs": [],
   "source": [
    "## Total CO2 and alpha ##\n",
    "\n",
    "map__navig__scenario__overallCO2 = {}\n",
    "map__navig__scenario__alpha = {}\n",
    "map__navig__scenario__gini = {}\n",
    "\n",
    "\n",
    "## Total CO2\n",
    "\n",
    "# OSM\n",
    "f = open(path_results_total_co2_osm)\n",
    "map__scenario__overallco2 = json.load(f)\n",
    "map__navig__scenario__overallCO2['OSM'] = {int(key.split('_')[0]): value for key,value in map__scenario__overallco2.items()}\n",
    "\n",
    "# TomTom\n",
    "f = open(path_results_total_co2_tomtom)\n",
    "map__scenario__overallco2 = json.load(f)\n",
    "map__navig__scenario__overallCO2['TT'] = {int(key.split('_')[0]): value for key,value in map__scenario__overallco2.items()}\n",
    "\n",
    "\n",
    "## Alphas\n",
    "# OSM\n",
    "f = open(path_results_alpha_osm)\n",
    "map__scenario__alpha = json.load(f)\n",
    "map__navig__scenario__alpha['OSM'] = {int(key.split('_')[0]): value for key,value in map__scenario__alpha.items()}\n",
    "\n",
    "# TomTom\n",
    "f = open(path_results_alpha_tomtom)\n",
    "map__scenario__alpha = json.load(f)\n",
    "map__navig__scenario__alpha['TT'] = {int(key.split('_')[0]): value for key,value in map__scenario__alpha.items()}\n",
    "\n",
    "\n",
    "## Ginis\n",
    "\n",
    "# OSM\n",
    "f = open(path_results_gini_osm)\n",
    "map__scenario__gini = json.load(f)\n",
    "map__navig__scenario__gini['OSM'] = {int(key.split('_')[0]): value for key,value in map__scenario__gini.items()}\n",
    "\n",
    "# TomTom\n",
    "f = open(path_results_gini_tomtom)\n",
    "map__scenario__gini = json.load(f)\n",
    "map__navig__scenario__gini['TT'] = {int(key.split('_')[0]): value for key,value in map__scenario__gini.items()}\n",
    "\n"
   ]
  },
  {
   "cell_type": "markdown",
   "id": "96e11a2d",
   "metadata": {},
   "source": [
    "### CCDFs\n",
    "Code for plotting Figure 3."
   ]
  },
  {
   "cell_type": "code",
   "execution_count": null,
   "id": "a885e051",
   "metadata": {},
   "outputs": [],
   "source": [
    "from plot_utils import plot_one_ccdf_per_istance\n",
    "\n",
    "# modifying the keys [10,...,100] to [1,...,10]\n",
    "map__scenario_as_int__mean_results = {int(scenario/10): map__scenario__mean_results[scenario] for scenario in map__scenario__mean_results.keys()}\n",
    "\n",
    "fig, ax = plot_one_ccdf_per_istance(map__scenario__mean_results, \n",
    "                                    xaxis_label=r'$CO_2$ per road (mg)', title=None,\n",
    "                                    cmap_name='coolwarm', \n",
    "                                    show_legend=True, \n",
    "                                    legend_title=\"%s-routed \" %navigator + \"\\n(%)\",   #r\"$i$ of $\\overline{D}^{(%s)}_{i}$\" %navigator\n",
    "                                    plot_zoom=True, \n",
    "                                    xlims_zoom=(8*10e6, 10e8), ylims_zoom=(8e-1*10e-5, 2e-1*10e-3), ## play with these pars to change the zoom\n",
    "                                    figsize=(8,6))\n",
    "\n",
    "if SAVE_FIGS: \n",
    "    plt.savefig(OUTPUT_PATH + \"plot_ccdf_%s__AVG_across_repetitions__INSET_ZOOM__V2.png\" %navigator, dpi=300)\n",
    "    plt.savefig(OUTPUT_PATH + \"plot_ccdf_%s__AVG_across_repetitions__INSET_ZOOM__V2.pdf\" %navigator)"
   ]
  },
  {
   "cell_type": "markdown",
   "id": "f28a6c81",
   "metadata": {},
   "source": [
    "### Gini index\n",
    "Code for plotting Figure 4a."
   ]
  },
  {
   "cell_type": "code",
   "execution_count": null,
   "id": "b503a6c0",
   "metadata": {},
   "outputs": [],
   "source": [
    "from plot_utils import plot_errorbars\n",
    "\n",
    "# modifying the keys [10,...,100] to [1,...,10]\n",
    "map__navig__scenario__overallCO2__ = {}\n",
    "for navig in map__navig__scenario__gini.keys():\n",
    "    map__navig__scenario__overallCO2__[navig] = {int(scenario/10): map__navig__scenario__gini[navig][scenario] for scenario in map__navig__scenario__gini[navig].keys()}\n",
    "#\n",
    "\n",
    "fig, ax = plot_errorbars(map__navig__scenario__gini, \n",
    "                         plot_mean=True, \n",
    "                         x_label=r\"$R$-routed (%)\", #r\"$i$ of $\\overline{D}^{(R)}_{i}$\"\n",
    "                         y_label=r\"Gini\", \n",
    "                         figsize=(6,6))\n",
    "ax.set_ylim(0.855,0.88)\n",
    "\n",
    "if SAVE_FIGS:\n",
    "    plt.savefig(OUTPUT_PATH + \"plot_errorbars_gini__V2.png\", dpi=300)\n",
    "    plt.savefig(OUTPUT_PATH + \"plot_errorbars_gini__V2.pdf\")"
   ]
  },
  {
   "cell_type": "markdown",
   "id": "4e541e6d",
   "metadata": {},
   "source": [
    "### Total CO$_2$\n",
    "Code for plotting Figure 4b."
   ]
  },
  {
   "cell_type": "code",
   "execution_count": null,
   "id": "340782d5",
   "metadata": {},
   "outputs": [],
   "source": [
    "from plot_utils import plot_errorbars\n",
    "\n",
    "# modifying the keys [10,...,100] to [1,...,10]\n",
    "map__navig__scenario__overallCO2__ = {}\n",
    "for navig in map__navig__scenario__overallCO2.keys():\n",
    "    map__navig__scenario__overallCO2__[navig] = {int(scenario/10): map__navig__scenario__overallCO2[navig][scenario] for scenario in map__navig__scenario__overallCO2[navig].keys()}\n",
    "#\n",
    "\n",
    "fig, ax = plot_errorbars(map__navig__scenario__overallCO2, \n",
    "                         plot_mean=True, \n",
    "                         x_label=r\"$R$-routed (%)\", #r\"$i$ of $\\overline{D}^{(R)}_{i}$\"\n",
    "                         y_label=r\"Total CO$_2$ (mg)\", \n",
    "                         figsize=(6,6))\n",
    "\n",
    "if SAVE_FIGS:\n",
    "    plt.savefig(OUTPUT_PATH + '/plot_errorbars_AVG_total_co2__V2.png', dpi=300)\n",
    "    plt.savefig(OUTPUT_PATH + '/plot_errorbars_AVG_total_co2__V2.pdf')"
   ]
  },
  {
   "cell_type": "markdown",
   "id": "e2d6a856",
   "metadata": {},
   "source": [
    "### Truncated power-law's exponent $\\alpha$\n",
    "Code for plotting Figure A.1."
   ]
  },
  {
   "cell_type": "code",
   "execution_count": null,
   "id": "e10e0f18",
   "metadata": {},
   "outputs": [],
   "source": [
    "from plot_utils import plot_errorbars\n",
    "\n",
    "# modifying the keys [10,...,100] to [1,...,10]\n",
    "map__navig__scenario__alpha__ = {}\n",
    "for navig in map__navig__scenario__alpha.keys():\n",
    "    map__navig__scenario__alpha__[navig] = {int(scenario/10): map__navig__scenario__alpha[navig][scenario] for scenario in map__navig__scenario__alpha[navig].keys()}\n",
    "#\n",
    "\n",
    "fig, ax = plot_errorbars(map__navig__scenario__alpha, \n",
    "                         plot_mean=True, \n",
    "                         x_label=r\"$R$-routed (%)\", #r\"$i$ of $\\overline{D}^{(R)}_{i}$\"\n",
    "                         y_label=r\"Exponent $\\mathbf{\\alpha}$ of tr. power-law\", \n",
    "                         figsize=(6,6))\n",
    "\n",
    "if SAVE_FIGS:\n",
    "    plt.savefig(OUTPUT_PATH + '/plot_errorbars_AVG_alpha__V2.png', dpi=300)\n",
    "    plt.savefig(OUTPUT_PATH + '/plot_errorbars_AVG_alpha__V2.pdf')"
   ]
  },
  {
   "cell_type": "markdown",
   "id": "f1979cdc",
   "metadata": {},
   "source": [
    "# Experiment $w$ factor\n"
   ]
  },
  {
   "cell_type": "markdown",
   "id": "435eeca5",
   "metadata": {},
   "source": [
    "#### parameters"
   ]
  },
  {
   "cell_type": "code",
   "execution_count": null,
   "id": "055ad210",
   "metadata": {},
   "outputs": [],
   "source": [
    "path_results_total_co2_osm_w = \"../results/dict_total_co2_osm_w.json\"\n",
    "path_results_total_co2_tomtom_w = \"../results/dict_total_co2_tomtom_w.json\"\n",
    "\n",
    "path_results_alpha_osm_w = \"../results/dict_alpha_osm_w.json\"\n",
    "path_results_alpha_tomtom_w = \"../results/results_alpha_tomtom_w.json\"\n",
    "\n",
    "path_results_gini_osm_w = \"../results/dict_gini_osm_w.json\"\n",
    "path_results_gini_tomtom_w = \"../results/results_gini_tomtom_w.json\""
   ]
  },
  {
   "cell_type": "code",
   "execution_count": null,
   "id": "91df037f",
   "metadata": {},
   "outputs": [],
   "source": [
    "## Total CO2\n",
    "map__navig__scenario__overallCO2_osm = {}\n",
    "map__navig__scenario__overallCO2_tomtom = {}\n",
    "\n",
    "# OSM\n",
    "f = open(path_results_total_co2_osm_w)\n",
    "map__scenario__overallco2_osm = json.load(f)\n",
    "\n",
    "# TomTom\n",
    "f = open(path_results_total_co2_tomtom_w)\n",
    "map__scenario__overallco2_tomtom = json.load(f)\n",
    "\n",
    "\n",
    "## Gini\n",
    "map__navig__scenario__overallGINI_osm = {}\n",
    "map__navig__scenario__overallGINI_tomtom = {}\n",
    "\n",
    "# OSM\n",
    "f = open(\"../results/dict_gini_osm_w.json\")\n",
    "map__navig__scenario__gini_osm = json.load(f)\n",
    "\n",
    "# TomTom\n",
    "f = open(\"../results/dict_gini_tomtom_w.json\")\n",
    "map__navig__scenario__gini_tomtom = json.load(f)\n",
    "\n",
    "\n",
    "# Travel Time\n",
    "map__navig__scenario__overallTT_osm = {}\n",
    "map__navig__scenario__overallTT_tomtom = {}\n",
    "\n",
    "# OSM\n",
    "f = open(\"../results/dict_tt_osm_w.json\")\n",
    "map__navig__scenario__tt_osm = json.load(f)\n",
    "\n",
    "# TomTom\n",
    "f = open(\"../results/dict_tt_tomtom_w.json\")\n",
    "map__navig__scenario__tt_tomtom = json.load(f)\n",
    "    "
   ]
  },
  {
   "cell_type": "markdown",
   "id": "df9ab77c",
   "metadata": {},
   "source": [
    "### Gini index\n",
    "Figures 6a and 6d."
   ]
  },
  {
   "cell_type": "markdown",
   "id": "8e1cf770",
   "metadata": {},
   "source": [
    "#### 6a (OSM)"
   ]
  },
  {
   "cell_type": "code",
   "execution_count": null,
   "id": "c87c2f92",
   "metadata": {},
   "outputs": [],
   "source": [
    "navigator = \"OSM\"\n",
    "\n",
    "for w in map__navig__scenario__gini_osm:\n",
    "    map__navig__scenario__overallGINI_osm[w.replace(\"p\",\".\")] = {int(key.split('_')[0]): value for key,value in map__navig__scenario__gini_osm[w].items()}\n",
    "\n",
    "\n",
    "fig, ax = plot_errorbars(map__navig__scenario__overallGINI_osm, \n",
    "                         plot_mean=True, \n",
    "                         x_label=r\"%s-routed\" %navigator + \" (%)\",\n",
    "                         y_label=\"Gini\", \n",
    "                         cmap_name='copper_r',\n",
    "                         legend_loc = 'best', legend_title=r'Values of $\\mathcal{w}$', legend_cols=2,\n",
    "                         figsize=(6,6))\n",
    "\n",
    "if SAVE_FIGS:\n",
    "    plt.savefig(OUTPUT_PATH + '/plot_errorbars_w_analysis_gini_%s.png' %navigator, dpi=300)\n",
    "    plt.savefig(OUTPUT_PATH + '/plot_errorbars_w_analysis_gini_%s.pdf' %navigator)"
   ]
  },
  {
   "cell_type": "markdown",
   "id": "060ab095",
   "metadata": {},
   "source": [
    "#### 6d (TomTom)"
   ]
  },
  {
   "cell_type": "code",
   "execution_count": null,
   "id": "507e306f",
   "metadata": {},
   "outputs": [],
   "source": [
    "navigator = \"TT\"\n",
    "\n",
    "for w in map__navig__scenario__gini_tomtom:\n",
    "    map__navig__scenario__overallGINI_tomtom[w.replace(\"p\",\".\")] = {int(key.split('_')[0]): value for key,value in map__navig__scenario__gini_tomtom[w].items()}\n",
    "\n",
    "\n",
    "fig, ax = plot_errorbars(map__navig__scenario__overallGINI_tomtom, \n",
    "                         plot_mean=True, \n",
    "                         x_label=r\"%s-routed\" %navigator + \" (%)\",\n",
    "                         y_label=\"Gini\", \n",
    "                         cmap_name='copper_r',\n",
    "                         legend_loc = 'best', legend_title=r'Values of $\\mathcal{w}$', legend_cols=2,\n",
    "                         figsize=(6,6))\n",
    "\n",
    "if SAVE_FIGS:\n",
    "    plt.savefig(OUTPUT_PATH + '/plot_errorbars_w_analysis_gini_%s.png' %navigator, dpi=300)\n",
    "    plt.savefig(OUTPUT_PATH + '/plot_errorbars_w_analysis_gini_%s.pdf' %navigator)"
   ]
  },
  {
   "cell_type": "markdown",
   "id": "5abf99f5",
   "metadata": {},
   "source": [
    "### Total CO2\n",
    "Figures 6b and 6e."
   ]
  },
  {
   "cell_type": "markdown",
   "id": "447e02b7",
   "metadata": {},
   "source": [
    "#### 6b (OSM)"
   ]
  },
  {
   "cell_type": "code",
   "execution_count": null,
   "id": "929caa68",
   "metadata": {},
   "outputs": [],
   "source": [
    "for w in map__scenario__overallco2_osm:\n",
    "    map__navig__scenario__overallCO2_osm[w.replace(\"p\",\".\")] = {int(key.split('_')[0]): value for key,value in map__scenario__overallco2_osm[w].items()}\n",
    "    \n",
    "fig, ax = plot_errorbars(map__navig__scenario__overallCO2_osm, \n",
    "                         plot_mean=True, \n",
    "                         x_label=r\"OSM-routed\" + \" (%)\", #r\"$i$ of $\\overline{D}^{(%s)}_{i}$\" %navigator\n",
    "                         y_label=r\"Total CO$_2$ (mg)\", \n",
    "                         cmap_name='copper_r',\n",
    "                         legend_loc = 'best', legend_title=r'Values of $\\mathcal{w}$', legend_cols=2,\n",
    "                         figsize=(6,6))\n",
    "\n",
    "if SAVE_FIGS:\n",
    "    plt.savefig(OUTPUT_PATH + '/plot_errorbars_w_analysis_totalco2_osm.png', dpi=300)\n",
    "    plt.savefig(OUTPUT_PATH + '/plot_errorbars_w_analysis_totalco2_osm.pdf')"
   ]
  },
  {
   "cell_type": "markdown",
   "id": "5577b511",
   "metadata": {},
   "source": [
    "#### 6e (TomTom)"
   ]
  },
  {
   "cell_type": "code",
   "execution_count": null,
   "id": "bf28b386",
   "metadata": {},
   "outputs": [],
   "source": [
    "for w in map__scenario__overallco2_tomtom:\n",
    "    map__navig__scenario__overallCO2_tomtom[w.replace(\"p\",\".\")] = {int(key.split('_')[0]): value for key,value in map__scenario__overallco2_tomtom[w].items()}\n",
    "    \n",
    "fig, ax = plot_errorbars(map__navig__scenario__overallCO2_tomtom, \n",
    "                         plot_mean=True, \n",
    "                         x_label=r\"TT-routed\" + \" (%)\", #r\"$i$ of $\\overline{D}^{(%s)}_{i}$\" %navigator\n",
    "                         y_label=r\"Total CO$_2$ (mg)\", \n",
    "                         cmap_name='copper_r',\n",
    "                         legend_loc = 'best', legend_title=r'Values of $\\mathcal{w}$', legend_cols=2,\n",
    "                         figsize=(6,6))\n",
    "\n",
    "if SAVE_FIGS:\n",
    "    plt.savefig(OUTPUT_PATH + '/plot_errorbars_w_analysis_totalco2_tomtom.png', dpi=300)\n",
    "    plt.savefig(OUTPUT_PATH + '/plot_errorbars_w_analysis_totalco2_tomtom.pdf')"
   ]
  },
  {
   "cell_type": "markdown",
   "id": "dba65cda",
   "metadata": {},
   "source": [
    "### Travel Time\n",
    "Figures 6c and 6f."
   ]
  },
  {
   "cell_type": "markdown",
   "id": "aaf158c4",
   "metadata": {},
   "source": [
    "#### 6c (OSM)"
   ]
  },
  {
   "cell_type": "code",
   "execution_count": null,
   "id": "31438fd8",
   "metadata": {},
   "outputs": [],
   "source": [
    "for w in map__navig__scenario__tt_osm:\n",
    "    map__navig__scenario__overallTT_osm[w.replace(\"p\",\".\")] = {int(key.split('_')[0]): value for key,value in map__navig__scenario__tt_osm[w].items()}\n",
    "    \n",
    "fig, ax = plot_errorbars(map__navig__scenario__overallTT_osm, \n",
    "                         plot_mean=True, \n",
    "                         x_label=r\"OSM-routed\" + \" (%)\", #r\"$i$ of $\\overline{D}^{(%s)}_{i}$\" %navigator\n",
    "                         y_label=r\"Total CO$_2$ (mg)\", \n",
    "                         cmap_name='copper_r',\n",
    "                         legend_loc = 'best', legend_title=r'Values of $\\mathcal{w}$', legend_cols=2,\n",
    "                         figsize=(6,6))\n",
    "\n",
    "if SAVE_FIGS:\n",
    "    plt.savefig(OUTPUT_PATH + '/plot_errorbars_w_analysis_traveltime_osm.png', dpi=300)\n",
    "    plt.savefig(OUTPUT_PATH + '/plot_errorbars_w_analysis_traveltime_osm.pdf')"
   ]
  },
  {
   "cell_type": "markdown",
   "id": "39ea486b",
   "metadata": {},
   "source": [
    "#### 6f (TomTom)"
   ]
  },
  {
   "cell_type": "code",
   "execution_count": null,
   "id": "2e7ca744",
   "metadata": {},
   "outputs": [],
   "source": [
    "for w in map__navig__scenario__tt_tomtom:\n",
    "    map__navig__scenario__overallTT_tomtom[w.replace(\"p\",\".\")] = {int(key.split('_')[0]): value for key,value in map__navig__scenario__tt_tomtom[w].items()}\n",
    "    \n",
    "fig, ax = plot_errorbars(map__navig__scenario__overallTT_tomtom, \n",
    "                         plot_mean=True, \n",
    "                         x_label=r\"TT-routed\" + \" (%)\", #r\"$i$ of $\\overline{D}^{(%s)}_{i}$\" %navigator\n",
    "                         y_label=r\"Total CO$_2$ (mg)\", \n",
    "                         cmap_name='copper_r',\n",
    "                         legend_loc = 'best', legend_title=r'Values of $\\mathcal{w}$', legend_cols=2,\n",
    "                         figsize=(6,6))\n",
    "\n",
    "if SAVE_FIGS:\n",
    "    plt.savefig(OUTPUT_PATH + '/plot_errorbars_w_analysis_traveltime_tomtom.png', dpi=300)\n",
    "    plt.savefig(OUTPUT_PATH + '/plot_errorbars_w_analysis_traveltime_tomtom.pdf')"
   ]
  }
 ],
 "metadata": {
  "kernelspec": {
   "display_name": "Python 3 (ipykernel)",
   "language": "python",
   "name": "python3"
  },
  "language_info": {
   "codemirror_mode": {
    "name": "ipython",
    "version": 3
   },
   "file_extension": ".py",
   "mimetype": "text/x-python",
   "name": "python",
   "nbconvert_exporter": "python",
   "pygments_lexer": "ipython3",
   "version": "3.9.7"
  }
 },
 "nbformat": 4,
 "nbformat_minor": 5
}
