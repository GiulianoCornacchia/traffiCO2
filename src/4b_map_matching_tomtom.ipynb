{
 "cells": [
  {
   "cell_type": "markdown",
   "id": "c243e072",
   "metadata": {},
   "source": [
    "# 4b Map Matching Routed Paths TomTom\n",
    "\n",
    "The goal of the following notebook is to mapmatch the Routed Paths into the SUMO road network.\n",
    "___"
   ]
  },
  {
   "cell_type": "code",
   "execution_count": 1,
   "id": "0b416c23",
   "metadata": {},
   "outputs": [],
   "source": [
    "import json\n",
    "import sumolib\n",
    "from tqdm import tqdm\n",
    "from mapmatch import sumo_map_matching, tdf_from_edgelist\n",
    "from utils import create_xml_vehicles\n",
    "import folium"
   ]
  },
  {
   "cell_type": "markdown",
   "id": "7b326491",
   "metadata": {},
   "source": [
    "#### File paths"
   ]
  },
  {
   "cell_type": "code",
   "execution_count": 5,
   "id": "f36f900c",
   "metadata": {},
   "outputs": [],
   "source": [
    "# road network path\n",
    "road_network_path = \"../sumo_simulation_data/milan_road_network.net.xml\"\n",
    "\n",
    "\n",
    "# tomtom routed paths path\n",
    "tomtom_routed_paths_path = \"../data/dicts_suggestion/dict_results_tomtom_[0_20].json\"\n",
    "\n",
    "\n",
    "# dict mobility demand path\n",
    "dict_mobility_demand_path = \"../data/dict_mobility_demand.json\"\n",
    "\n",
    "\n",
    "# output routed paths path\n",
    "output_routed_paths_filename = \"../sumo_simulation_data/routed_paths/routed_paths_tomtom.rou.xml\""
   ]
  },
  {
   "cell_type": "markdown",
   "id": "4a53075e",
   "metadata": {},
   "source": [
    "####  Load road networks"
   ]
  },
  {
   "cell_type": "code",
   "execution_count": 3,
   "id": "a14baad6",
   "metadata": {},
   "outputs": [],
   "source": [
    "road_network = sumolib.net.readNet(road_network_path, withInternal=False)\n",
    "road_network_int = sumolib.net.readNet(road_network_path, withInternal=True)"
   ]
  },
  {
   "cell_type": "markdown",
   "id": "31f51a27",
   "metadata": {},
   "source": [
    "#### Load the GPS routed paths"
   ]
  },
  {
   "cell_type": "code",
   "execution_count": 6,
   "id": "b4c4046f",
   "metadata": {},
   "outputs": [
    {
     "name": "stdout",
     "output_type": "stream",
     "text": [
      "20 GPS routed paths.\n"
     ]
    }
   ],
   "source": [
    "with open(tomtom_routed_paths_path, 'r') as f:\n",
    "    gps_tomtom_routed_paths = json.load(f)\n",
    "\n",
    "print(str(len(gps_tomtom_routed_paths))+\" GPS routed paths.\")"
   ]
  },
  {
   "cell_type": "markdown",
   "id": "cf2b443a",
   "metadata": {},
   "source": [
    "####  Load mobility demand dictionary"
   ]
  },
  {
   "cell_type": "code",
   "execution_count": 7,
   "id": "ffff5c85",
   "metadata": {},
   "outputs": [
    {
     "name": "stdout",
     "output_type": "stream",
     "text": [
      "20 mobility demands.\n"
     ]
    }
   ],
   "source": [
    "with open(dict_mobility_demand_path) as json_file:\n",
    "    dict_md = json.load(json_file)\n",
    "    \n",
    "print(str(len(dict_md))+\" mobility demands.\")"
   ]
  },
  {
   "cell_type": "code",
   "execution_count": 8,
   "id": "dd69e2b1",
   "metadata": {},
   "outputs": [],
   "source": [
    "list_id_vehicles = [v_id for v_id in dict_md.keys() if \"vehicle\" in v_id]"
   ]
  },
  {
   "cell_type": "code",
   "execution_count": 9,
   "id": "cbb2169c",
   "metadata": {},
   "outputs": [
    {
     "name": "stdout",
     "output_type": "stream",
     "text": [
      "from id 0 to id 20\n"
     ]
    }
   ],
   "source": [
    "#specify the range of vehicles for which to apply the map matching\n",
    "\n",
    "id_from, id_to =  0, len(list_id_vehicles)\n",
    "\n",
    "print(\"from id \"+str(id_from)+\" to id \"+str(id_to))"
   ]
  },
  {
   "cell_type": "markdown",
   "id": "a513fb21",
   "metadata": {},
   "source": [
    "#### Apply the map-matching algorithm"
   ]
  },
  {
   "cell_type": "code",
   "execution_count": 10,
   "id": "7acb1e7d",
   "metadata": {},
   "outputs": [
    {
     "name": "stderr",
     "output_type": "stream",
     "text": [
      "100%|██████████████████████████████████████████████████████████████████████████████████| 20/20 [00:15<00:00,  1.00it/s]"
     ]
    }
   ],
   "source": [
    "dict_map_matched = {}\n",
    "\n",
    "pbar = tqdm(total=len(list_id_vehicles[id_from: id_to]))\n",
    "\n",
    "for v in list_id_vehicles[id_from: id_to]:\n",
    "    \n",
    "    points = gps_tomtom_routed_paths[v]['points']\n",
    "    edge_from = dict_md[v]['edges'][0]\n",
    "    edge_to = dict_md[v]['edges'][1]\n",
    "    \n",
    "    best_edges, sspd_best, length, conf = sumo_map_matching(points, road_network, road_network_path, \n",
    "                                                            road_network_int, edge_from, edge_to, accept_th=5e-5,\n",
    "                                                            early_stop=True)\n",
    "\n",
    "    \n",
    "    dict_map_matched[v] = {'mapped_edges':best_edges, 'length':length, 'sspd':sspd_best,\n",
    "                          'best_conf': conf}\n",
    "    pbar.update(1)"
   ]
  },
  {
   "cell_type": "code",
   "execution_count": 14,
   "id": "e7e287c1",
   "metadata": {},
   "outputs": [],
   "source": [
    "#for k in dict_map_matched:\n",
    "#    print(dict_map_matched[k]['sspd']);"
   ]
  },
  {
   "cell_type": "markdown",
   "id": "b541d4b2",
   "metadata": {},
   "source": [
    "### If you want to visually inspect the map matching use the following cell"
   ]
  },
  {
   "cell_type": "code",
   "execution_count": 13,
   "id": "3d9a7932",
   "metadata": {},
   "outputs": [
    {
     "data": {
      "text/html": [
       "<div style=\"width:100%;\"><div style=\"position:relative;width:100%;height:0;padding-bottom:60%;\"><span style=\"color:#565656\">Make this Notebook Trusted to load map: File -> Trust Notebook</span><iframe src=\"about:blank\" style=\"position:absolute;width:100%;height:100%;left:0;top:0;border:none !important;\" data-html=%3C%21DOCTYPE%20html%3E%0A%3Chead%3E%20%20%20%20%0A%20%20%20%20%3Cmeta%20http-equiv%3D%22content-type%22%20content%3D%22text/html%3B%20charset%3DUTF-8%22%20/%3E%0A%20%20%20%20%0A%20%20%20%20%20%20%20%20%3Cscript%3E%0A%20%20%20%20%20%20%20%20%20%20%20%20L_NO_TOUCH%20%3D%20false%3B%0A%20%20%20%20%20%20%20%20%20%20%20%20L_DISABLE_3D%20%3D%20false%3B%0A%20%20%20%20%20%20%20%20%3C/script%3E%0A%20%20%20%20%0A%20%20%20%20%3Cstyle%3Ehtml%2C%20body%20%7Bwidth%3A%20100%25%3Bheight%3A%20100%25%3Bmargin%3A%200%3Bpadding%3A%200%3B%7D%3C/style%3E%0A%20%20%20%20%3Cstyle%3E%23map%20%7Bposition%3Aabsolute%3Btop%3A0%3Bbottom%3A0%3Bright%3A0%3Bleft%3A0%3B%7D%3C/style%3E%0A%20%20%20%20%3Cscript%20src%3D%22https%3A//cdn.jsdelivr.net/npm/leaflet%401.6.0/dist/leaflet.js%22%3E%3C/script%3E%0A%20%20%20%20%3Cscript%20src%3D%22https%3A//code.jquery.com/jquery-1.12.4.min.js%22%3E%3C/script%3E%0A%20%20%20%20%3Cscript%20src%3D%22https%3A//maxcdn.bootstrapcdn.com/bootstrap/3.2.0/js/bootstrap.min.js%22%3E%3C/script%3E%0A%20%20%20%20%3Cscript%20src%3D%22https%3A//cdnjs.cloudflare.com/ajax/libs/Leaflet.awesome-markers/2.0.2/leaflet.awesome-markers.js%22%3E%3C/script%3E%0A%20%20%20%20%3Clink%20rel%3D%22stylesheet%22%20href%3D%22https%3A//cdn.jsdelivr.net/npm/leaflet%401.6.0/dist/leaflet.css%22/%3E%0A%20%20%20%20%3Clink%20rel%3D%22stylesheet%22%20href%3D%22https%3A//maxcdn.bootstrapcdn.com/bootstrap/3.2.0/css/bootstrap.min.css%22/%3E%0A%20%20%20%20%3Clink%20rel%3D%22stylesheet%22%20href%3D%22https%3A//maxcdn.bootstrapcdn.com/bootstrap/3.2.0/css/bootstrap-theme.min.css%22/%3E%0A%20%20%20%20%3Clink%20rel%3D%22stylesheet%22%20href%3D%22https%3A//maxcdn.bootstrapcdn.com/font-awesome/4.6.3/css/font-awesome.min.css%22/%3E%0A%20%20%20%20%3Clink%20rel%3D%22stylesheet%22%20href%3D%22https%3A//cdnjs.cloudflare.com/ajax/libs/Leaflet.awesome-markers/2.0.2/leaflet.awesome-markers.css%22/%3E%0A%20%20%20%20%3Clink%20rel%3D%22stylesheet%22%20href%3D%22https%3A//cdn.jsdelivr.net/gh/python-visualization/folium/folium/templates/leaflet.awesome.rotate.min.css%22/%3E%0A%20%20%20%20%0A%20%20%20%20%20%20%20%20%20%20%20%20%3Cmeta%20name%3D%22viewport%22%20content%3D%22width%3Ddevice-width%2C%0A%20%20%20%20%20%20%20%20%20%20%20%20%20%20%20%20initial-scale%3D1.0%2C%20maximum-scale%3D1.0%2C%20user-scalable%3Dno%22%20/%3E%0A%20%20%20%20%20%20%20%20%20%20%20%20%3Cstyle%3E%0A%20%20%20%20%20%20%20%20%20%20%20%20%20%20%20%20%23map_13af0bcda7574261b001420f285ab830%20%7B%0A%20%20%20%20%20%20%20%20%20%20%20%20%20%20%20%20%20%20%20%20position%3A%20relative%3B%0A%20%20%20%20%20%20%20%20%20%20%20%20%20%20%20%20%20%20%20%20width%3A%20100.0%25%3B%0A%20%20%20%20%20%20%20%20%20%20%20%20%20%20%20%20%20%20%20%20height%3A%20100.0%25%3B%0A%20%20%20%20%20%20%20%20%20%20%20%20%20%20%20%20%20%20%20%20left%3A%200.0%25%3B%0A%20%20%20%20%20%20%20%20%20%20%20%20%20%20%20%20%20%20%20%20top%3A%200.0%25%3B%0A%20%20%20%20%20%20%20%20%20%20%20%20%20%20%20%20%7D%0A%20%20%20%20%20%20%20%20%20%20%20%20%3C/style%3E%0A%20%20%20%20%20%20%20%20%0A%3C/head%3E%0A%3Cbody%3E%20%20%20%20%0A%20%20%20%20%0A%20%20%20%20%20%20%20%20%20%20%20%20%3Cdiv%20class%3D%22folium-map%22%20id%3D%22map_13af0bcda7574261b001420f285ab830%22%20%3E%3C/div%3E%0A%20%20%20%20%20%20%20%20%0A%3C/body%3E%0A%3Cscript%3E%20%20%20%20%0A%20%20%20%20%0A%20%20%20%20%20%20%20%20%20%20%20%20var%20map_13af0bcda7574261b001420f285ab830%20%3D%20L.map%28%0A%20%20%20%20%20%20%20%20%20%20%20%20%20%20%20%20%22map_13af0bcda7574261b001420f285ab830%22%2C%0A%20%20%20%20%20%20%20%20%20%20%20%20%20%20%20%20%7B%0A%20%20%20%20%20%20%20%20%20%20%20%20%20%20%20%20%20%20%20%20center%3A%20%5B45.4978915%2C%209.197762%5D%2C%0A%20%20%20%20%20%20%20%20%20%20%20%20%20%20%20%20%20%20%20%20crs%3A%20L.CRS.EPSG3857%2C%0A%20%20%20%20%20%20%20%20%20%20%20%20%20%20%20%20%20%20%20%20zoom%3A%2013%2C%0A%20%20%20%20%20%20%20%20%20%20%20%20%20%20%20%20%20%20%20%20zoomControl%3A%20true%2C%0A%20%20%20%20%20%20%20%20%20%20%20%20%20%20%20%20%20%20%20%20preferCanvas%3A%20false%2C%0A%20%20%20%20%20%20%20%20%20%20%20%20%20%20%20%20%7D%0A%20%20%20%20%20%20%20%20%20%20%20%20%29%3B%0A%0A%20%20%20%20%20%20%20%20%20%20%20%20%0A%0A%20%20%20%20%20%20%20%20%0A%20%20%20%20%0A%20%20%20%20%20%20%20%20%20%20%20%20var%20tile_layer_555fd689dd2449fc8c67227cd031b3e7%20%3D%20L.tileLayer%28%0A%20%20%20%20%20%20%20%20%20%20%20%20%20%20%20%20%22https%3A//cartodb-basemaps-%7Bs%7D.global.ssl.fastly.net/light_all/%7Bz%7D/%7Bx%7D/%7By%7D.png%22%2C%0A%20%20%20%20%20%20%20%20%20%20%20%20%20%20%20%20%7B%22attribution%22%3A%20%22%5Cu0026copy%3B%20%5Cu003ca%20href%3D%5C%22http%3A//www.openstreetmap.org/copyright%5C%22%5Cu003eOpenStreetMap%5Cu003c/a%5Cu003e%20contributors%20%5Cu0026copy%3B%20%5Cu003ca%20href%3D%5C%22http%3A//cartodb.com/attributions%5C%22%5Cu003eCartoDB%5Cu003c/a%5Cu003e%2C%20CartoDB%20%5Cu003ca%20href%20%3D%5C%22http%3A//cartodb.com/attributions%5C%22%5Cu003eattributions%5Cu003c/a%5Cu003e%22%2C%20%22detectRetina%22%3A%20false%2C%20%22maxNativeZoom%22%3A%2018%2C%20%22maxZoom%22%3A%2018%2C%20%22minZoom%22%3A%200%2C%20%22noWrap%22%3A%20false%2C%20%22opacity%22%3A%201%2C%20%22subdomains%22%3A%20%22abc%22%2C%20%22tms%22%3A%20false%7D%0A%20%20%20%20%20%20%20%20%20%20%20%20%29.addTo%28map_13af0bcda7574261b001420f285ab830%29%3B%0A%20%20%20%20%20%20%20%20%0A%20%20%20%20%0A%20%20%20%20%20%20%20%20%20%20%20%20var%20poly_line_2e625ed8302e483f9b4ac65d56cea4fd%20%3D%20L.polyline%28%0A%20%20%20%20%20%20%20%20%20%20%20%20%20%20%20%20%5B%5B45.4978915%2C%209.197762%5D%2C%20%5B45.497523%2C%209.1975549%5D%2C%20%5B45.4973486%2C%209.1974556%5D%2C%20%5B45.4972011%2C%209.1973644%5D%2C%20%5B45.4962757%2C%209.1968468%5D%2C%20%5B45.4955783%2C%209.1964498%5D%2C%20%5B45.4953584%2C%209.1963318%5D%2C%20%5B45.4952055%2C%209.1962299%5D%2C%20%5B45.4953074%2C%209.1958597%5D%2C%20%5B45.4955086%2C%209.1951114%5D%2C%20%5B45.4955301%2C%209.1950417%5D%2C%20%5B45.4955623%2C%209.1949317%5D%2C%20%5B45.4955837%2C%209.1948459%5D%2C%20%5B45.4956427%2C%209.1946474%5D%2C%20%5B45.4956803%2C%209.1944999%5D%2C%20%5B45.4955059%2C%209.1943899%5D%2C%20%5B45.4954469%2C%209.194355%5D%2C%20%5B45.4940844%2C%209.1935745%5D%2C%20%5B45.4926789%2C%209.1927993%5D%2C%20%5B45.4925957%2C%209.1927564%5D%2C%20%5B45.4925099%2C%209.1927108%5D%2C%20%5B45.4919359%2C%209.1924024%5D%2C%20%5B45.4904714%2C%209.1915682%5D%2C%20%5B45.4900557%2C%209.1913241%5D%2C%20%5B45.4900637%2C%209.1912517%5D%2C%20%5B45.4900664%2C%209.19108%5D%2C%20%5B45.4900208%2C%209.1908896%5D%2C%20%5B45.4899672%2C%209.1907582%5D%2C%20%5B45.4899216%2C%209.1906804%5D%2C%20%5B45.4898626%2C%209.1906133%5D%2C%20%5B45.4898036%2C%209.1905785%5D%2C%20%5B45.4897258%2C%209.1905704%5D%2C%20%5B45.4896587%2C%209.1905758%5D%2C%20%5B45.4894415%2C%209.1906911%5D%2C%20%5B45.4893771%2C%209.190616%5D%2C%20%5B45.4889962%2C%209.1903961%5D%2C%20%5B45.4889667%2C%209.1889906%5D%2C%20%5B45.4890525%2C%209.1878989%5D%2C%20%5B45.4890847%2C%209.1875154%5D%2C%20%5B45.4881862%2C%209.187274%5D%2C%20%5B45.488213%2C%209.1870996%5D%2C%20%5B45.4882666%2C%209.1867483%5D%2C%20%5B45.4884142%2C%209.1856164%5D%2C%20%5B45.4880847%2C%209.1855357%5D%5D%2C%0A%20%20%20%20%20%20%20%20%20%20%20%20%20%20%20%20%7B%22bubblingMouseEvents%22%3A%20true%2C%20%22color%22%3A%20%22blue%22%2C%20%22dashArray%22%3A%20null%2C%20%22dashOffset%22%3A%20null%2C%20%22fill%22%3A%20false%2C%20%22fillColor%22%3A%20%22blue%22%2C%20%22fillOpacity%22%3A%200.2%2C%20%22fillRule%22%3A%20%22evenodd%22%2C%20%22lineCap%22%3A%20%22round%22%2C%20%22lineJoin%22%3A%20%22round%22%2C%20%22noClip%22%3A%20false%2C%20%22opacity%22%3A%201.0%2C%20%22smoothFactor%22%3A%201.0%2C%20%22stroke%22%3A%20true%2C%20%22weight%22%3A%203%7D%0A%20%20%20%20%20%20%20%20%20%20%20%20%29.addTo%28map_13af0bcda7574261b001420f285ab830%29%3B%0A%20%20%20%20%20%20%20%20%0A%20%20%20%20%0A%20%20%20%20%20%20%20%20%20%20%20%20var%20poly_line_f2251d95658b40269347a7f396de7841%20%3D%20L.polyline%28%0A%20%20%20%20%20%20%20%20%20%20%20%20%20%20%20%20%5B%5B45.49840843891057%2C%209.198046950218854%5D%2C%20%5B45.49735970718925%2C%209.197584297827277%5D%2C%20%5B45.49735970718925%2C%209.197584297827277%5D%2C%20%5B45.4971061624449%2C%209.197313863099568%5D%2C%20%5B45.4971061624449%2C%209.197313863099568%5D%2C%20%5B45.4962734593334%2C%209.196848660048547%5D%2C%20%5B45.4962734593334%2C%209.196848660048547%5D%2C%20%5B45.495574844674486%2C%209.196451258004865%5D%2C%20%5B45.495574844674486%2C%209.196451258004865%5D%2C%20%5B45.49511047929901%2C%209.196187272133159%5D%2C%20%5B45.49511047929901%2C%209.196187272133159%5D%2C%20%5B45.494645569251574%2C%209.195925592453861%5D%2C%20%5B45.494645569251574%2C%209.195925592453861%5D%2C%20%5B45.493618381174684%2C%209.195334206532474%5D%2C%20%5B45.493618381174684%2C%209.195334206532474%5D%2C%20%5B45.492466339691035%2C%209.194692499678013%5D%2C%20%5B45.492466339691035%2C%209.194692499678013%5D%2C%20%5B45.492397424759055%2C%209.194514114292579%5D%2C%20%5B45.492397424759055%2C%209.194514114292579%5D%2C%20%5B45.49238304791445%2C%209.19434078014387%5D%2C%20%5B45.49238304791445%2C%209.19434078014387%5D%2C%20%5B45.492305688312676%2C%209.194205367589745%5D%2C%20%5B45.492305688312676%2C%209.194205367589745%5D%2C%20%5B45.492578289436445%2C%209.193169408526455%5D%2C%20%5B45.492578289436445%2C%209.193169408526455%5D%2C%20%5B45.492575604770394%2C%209.192840490125288%5D%2C%20%5B45.492575604770394%2C%209.192840490125288%5D%2C%20%5B45.490083455929025%2C%209.191341977267124%5D%2C%20%5B45.490083455929025%2C%209.191341977267124%5D%2C%20%5B45.49004250713451%2C%209.191069252919373%5D%2C%20%5B45.49004250713451%2C%209.191069252919373%5D%2C%20%5B45.48982354476268%2C%209.190616892301938%5D%2C%20%5B45.48982354476268%2C%209.190616892301938%5D%2C%20%5B45.48950847658875%2C%209.19068749459751%5D%2C%20%5B45.48950847658875%2C%209.19068749459751%5D%2C%20%5B45.48900773751192%2C%209.190420646646139%5D%2C%20%5B45.48900773751192%2C%209.190420646646139%5D%2C%20%5B45.488985512178395%2C%209.18900699181243%5D%2C%20%5B45.488985512178395%2C%209.18900699181243%5D%2C%20%5B45.4890997367358%2C%209.187532492274768%5D%2C%20%5B45.4890997367358%2C%209.187532492274768%5D%2C%20%5B45.488193975900984%2C%209.187297604413144%5D%2C%20%5B45.488193975900984%2C%209.187297604413144%5D%2C%20%5B45.488213925126864%2C%209.187153191987488%5D%2C%20%5B45.488213925126864%2C%209.187153191987488%5D%2C%20%5B45.48823206473071%2C%209.187014404169567%5D%2C%20%5B45.48823206473071%2C%209.187014404169567%5D%2C%20%5B45.48841658067445%2C%209.185639584363724%5D%2C%20%5B45.48841658067445%2C%209.185639584363724%5D%2C%20%5B45.48774691491181%2C%209.185460914965157%5D%5D%2C%0A%20%20%20%20%20%20%20%20%20%20%20%20%20%20%20%20%7B%22bubblingMouseEvents%22%3A%20true%2C%20%22color%22%3A%20%22orange%22%2C%20%22dashArray%22%3A%20null%2C%20%22dashOffset%22%3A%20null%2C%20%22fill%22%3A%20false%2C%20%22fillColor%22%3A%20%22orange%22%2C%20%22fillOpacity%22%3A%200.2%2C%20%22fillRule%22%3A%20%22evenodd%22%2C%20%22lineCap%22%3A%20%22round%22%2C%20%22lineJoin%22%3A%20%22round%22%2C%20%22noClip%22%3A%20false%2C%20%22opacity%22%3A%201.0%2C%20%22smoothFactor%22%3A%201.0%2C%20%22stroke%22%3A%20true%2C%20%22weight%22%3A%203%7D%0A%20%20%20%20%20%20%20%20%20%20%20%20%29.addTo%28map_13af0bcda7574261b001420f285ab830%29%3B%0A%20%20%20%20%20%20%20%20%0A%3C/script%3E onload=\"this.contentDocument.open();this.contentDocument.write(    decodeURIComponent(this.getAttribute('data-html')));this.contentDocument.close();\" allowfullscreen webkitallowfullscreen mozallowfullscreen></iframe></div></div>"
      ],
      "text/plain": [
       "<folium.folium.Map at 0x23f25ca4d00>"
      ]
     },
     "execution_count": 13,
     "metadata": {},
     "output_type": "execute_result"
    }
   ],
   "source": [
    "v_id = \"vehicle_1\"\n",
    "\n",
    "points_traj = gps_tomtom_routed_paths[v_id]['points']\n",
    "\n",
    "m = folium.Map(location=[points_traj[0][1], points_traj[0][0]], tiles='cartodbpositron', zoom_start=13)\n",
    "\n",
    "# TOMTOM path\n",
    "folium.PolyLine(locations=[list(reversed(coord)) \n",
    "                           for coord in points_traj], weigth=3, color=\"blue\").add_to(m)\n",
    "\n",
    "# map matched path\n",
    "tdf_mapmatched = tdf_from_edgelist(dict_map_matched[v_id]['mapped_edges'], road_network)\n",
    "points_mapmatched = tdf_mapmatched[['lng','lat']].values\n",
    "\n",
    "folium.PolyLine(locations=[list(reversed(coord)) \n",
    "                           for coord in points_mapmatched], weigth=3, color=\"orange\").add_to(m)\n",
    "\n",
    "m"
   ]
  },
  {
   "cell_type": "markdown",
   "id": "12ad6a28",
   "metadata": {},
   "source": [
    "### Create a dictionary describing the mapped edges for each vehicle"
   ]
  },
  {
   "cell_type": "code",
   "execution_count": 15,
   "id": "d0e534d2",
   "metadata": {},
   "outputs": [],
   "source": [
    "dict_sumo_tomtom = {}\n",
    "\n",
    "for ind, v_id in enumerate(list(dict_md.keys())):      \n",
    "    if \"vehicle\" in v_id:\n",
    "        new_id = \"tomtom_\"+v_id.split(\"_\")[1]\n",
    "        dep_time = dict_md[v_id]['time']\n",
    "        edges_v = dict_map_matched[v_id]['mapped_edges']\n",
    "        \n",
    "        dict_sumo_tomtom[new_id] = {'edges':str(edges_v).replace(\",\",\"\").replace(\"'\",\"\")[1:-1], 'time': dep_time}"
   ]
  },
  {
   "cell_type": "markdown",
   "id": "e41cee0b",
   "metadata": {},
   "source": [
    "### Create a SUMO xml file that described the TomTom routed paths"
   ]
  },
  {
   "cell_type": "code",
   "execution_count": 16,
   "id": "9cdb4a5b",
   "metadata": {},
   "outputs": [],
   "source": [
    "create_xml_vehicles(dict_sumo_tomtom, output_routed_paths_filename);"
   ]
  },
  {
   "cell_type": "code",
   "execution_count": null,
   "id": "51e86fa2",
   "metadata": {},
   "outputs": [],
   "source": []
  }
 ],
 "metadata": {
  "kernelspec": {
   "display_name": "Python 3 (ipykernel)",
   "language": "python",
   "name": "python3"
  },
  "language_info": {
   "codemirror_mode": {
    "name": "ipython",
    "version": 3
   },
   "file_extension": ".py",
   "mimetype": "text/x-python",
   "name": "python",
   "nbconvert_exporter": "python",
   "pygments_lexer": "ipython3",
   "version": "3.9.7"
  }
 },
 "nbformat": 4,
 "nbformat_minor": 5
}
