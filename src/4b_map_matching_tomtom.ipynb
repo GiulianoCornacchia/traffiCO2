{
 "cells": [
  {
   "cell_type": "code",
   "execution_count": 4,
   "id": "0b416c23",
   "metadata": {},
   "outputs": [],
   "source": [
    "import json\n",
    "import sumolib\n",
    "from tqdm import tqdm\n",
    "from mapmatch import sumo_map_matching, tdf_from_edgelist\n",
    "from utils import create_xml_vehicles\n",
    "import folium"
   ]
  },
  {
   "cell_type": "markdown",
   "id": "7b326491",
   "metadata": {},
   "source": [
    "#### File paths"
   ]
  },
  {
   "cell_type": "code",
   "execution_count": 5,
   "id": "f36f900c",
   "metadata": {},
   "outputs": [],
   "source": [
    "# road network path\n",
    "road_network_path = \"../sumo_simulation_data/milan_road_network.net.xml\"\n",
    "\n",
    "\n",
    "# tomtom routed paths path\n",
    "tomtom_routed_paths_path = \"../data/dicts_suggestion/dict_results_tomtom_[0_50].json\"\n",
    "\n",
    "\n",
    "# dict mobility demand path\n",
    "dict_mobility_demand_path = \"../data/dict_mobility_demand.json\"\n",
    "\n",
    "\n",
    "# output routed paths path\n",
    "output_routed_paths_filename = \"../sumo_simulation_data/routed_paths/routed_paths_tomtom.rou.xml\""
   ]
  },
  {
   "cell_type": "markdown",
   "id": "4a53075e",
   "metadata": {},
   "source": [
    "####  Load road networks"
   ]
  },
  {
   "cell_type": "code",
   "execution_count": 6,
   "id": "a14baad6",
   "metadata": {},
   "outputs": [],
   "source": [
    "road_network = sumolib.net.readNet(road_network_path, withInternal=False)\n",
    "road_network_int = sumolib.net.readNet(road_network_path, withInternal=True)"
   ]
  },
  {
   "cell_type": "markdown",
   "id": "31f51a27",
   "metadata": {},
   "source": [
    "#### Load the GPS routed paths"
   ]
  },
  {
   "cell_type": "code",
   "execution_count": 7,
   "id": "b4c4046f",
   "metadata": {},
   "outputs": [
    {
     "name": "stdout",
     "output_type": "stream",
     "text": [
      "50 GPS routed paths.\n"
     ]
    }
   ],
   "source": [
    "with open(tomtom_routed_paths_path, 'r') as f:\n",
    "    gps_tomtom_routed_paths = json.load(f)\n",
    "\n",
    "print(str(len(gps_tomtom_routed_paths))+\" GPS routed paths.\")"
   ]
  },
  {
   "cell_type": "markdown",
   "id": "cf2b443a",
   "metadata": {},
   "source": [
    "####  Load mobility demand dictionary"
   ]
  },
  {
   "cell_type": "code",
   "execution_count": 8,
   "id": "ffff5c85",
   "metadata": {},
   "outputs": [
    {
     "name": "stdout",
     "output_type": "stream",
     "text": [
      "50 mobility demands.\n"
     ]
    }
   ],
   "source": [
    "with open(dict_mobility_demand_path) as json_file:\n",
    "    dict_md = json.load(json_file)\n",
    "    \n",
    "print(str(len(dict_md))+\" mobility demands.\")"
   ]
  },
  {
   "cell_type": "code",
   "execution_count": 9,
   "id": "dd69e2b1",
   "metadata": {},
   "outputs": [],
   "source": [
    "list_id_vehicles = [v_id for v_id in dict_md.keys() if \"vehicle\" in v_id]"
   ]
  },
  {
   "cell_type": "code",
   "execution_count": 11,
   "id": "cbb2169c",
   "metadata": {},
   "outputs": [
    {
     "name": "stdout",
     "output_type": "stream",
     "text": [
      "from id 0 to id 50\n"
     ]
    }
   ],
   "source": [
    "#specify the range of vehicles for which to apply the map matching\n",
    "\n",
    "id_from, id_to =  0, len(list_id_vehicles)\n",
    "\n",
    "print(\"from id \"+str(id_from)+\" to id \"+str(id_to))"
   ]
  },
  {
   "cell_type": "markdown",
   "id": "a513fb21",
   "metadata": {},
   "source": [
    "#### Apply the map-matching algorithm"
   ]
  },
  {
   "cell_type": "code",
   "execution_count": 12,
   "id": "7acb1e7d",
   "metadata": {},
   "outputs": [
    {
     "name": "stderr",
     "output_type": "stream",
     "text": [
      "100%|██████████████████████████████████████████████████████████████████████████████████| 50/50 [00:28<00:00,  1.47it/s]"
     ]
    }
   ],
   "source": [
    "dict_map_matched = {}\n",
    "\n",
    "pbar = tqdm(total=len(list_id_vehicles[id_from: id_to]))\n",
    "\n",
    "for v in list_id_vehicles[id_from: id_to]:\n",
    "    \n",
    "    points = gps_tomtom_routed_paths[v]['points']\n",
    "    edge_from = dict_md[v]['edges'][0]\n",
    "    edge_to = dict_md[v]['edges'][1]\n",
    "    \n",
    "    best_edges, sspd_best, length, conf = sumo_map_matching(points, road_network, road_network_path, \n",
    "                                                            road_network_int, edge_from, edge_to, accept_th=5e-5,\n",
    "                                                            early_stop=True)\n",
    "\n",
    "    \n",
    "    dict_map_matched[v] = {'mapped_edges':best_edges, 'length':length, 'sspd':sspd_best,\n",
    "                          'best_conf': conf}\n",
    "    pbar.update(1)"
   ]
  },
  {
   "cell_type": "code",
   "execution_count": 14,
   "id": "e7e287c1",
   "metadata": {},
   "outputs": [],
   "source": [
    "#for k in dict_map_matched:\n",
    "#    print(dict_map_matched[k]['sspd']);"
   ]
  },
  {
   "cell_type": "markdown",
   "id": "b541d4b2",
   "metadata": {},
   "source": [
    "### If you want to visually inspect the map matching use the following cell"
   ]
  },
  {
   "cell_type": "code",
   "execution_count": 15,
   "id": "3d9a7932",
   "metadata": {
    "collapsed": true
   },
   "outputs": [
    {
     "data": {
      "text/html": [
       "<div style=\"width:100%;\"><div style=\"position:relative;width:100%;height:0;padding-bottom:60%;\"><span style=\"color:#565656\">Make this Notebook Trusted to load map: File -> Trust Notebook</span><iframe src=\"about:blank\" style=\"position:absolute;width:100%;height:100%;left:0;top:0;border:none !important;\" data-html=%3C%21DOCTYPE%20html%3E%0A%3Chead%3E%20%20%20%20%0A%20%20%20%20%3Cmeta%20http-equiv%3D%22content-type%22%20content%3D%22text/html%3B%20charset%3DUTF-8%22%20/%3E%0A%20%20%20%20%0A%20%20%20%20%20%20%20%20%3Cscript%3E%0A%20%20%20%20%20%20%20%20%20%20%20%20L_NO_TOUCH%20%3D%20false%3B%0A%20%20%20%20%20%20%20%20%20%20%20%20L_DISABLE_3D%20%3D%20false%3B%0A%20%20%20%20%20%20%20%20%3C/script%3E%0A%20%20%20%20%0A%20%20%20%20%3Cstyle%3Ehtml%2C%20body%20%7Bwidth%3A%20100%25%3Bheight%3A%20100%25%3Bmargin%3A%200%3Bpadding%3A%200%3B%7D%3C/style%3E%0A%20%20%20%20%3Cstyle%3E%23map%20%7Bposition%3Aabsolute%3Btop%3A0%3Bbottom%3A0%3Bright%3A0%3Bleft%3A0%3B%7D%3C/style%3E%0A%20%20%20%20%3Cscript%20src%3D%22https%3A//cdn.jsdelivr.net/npm/leaflet%401.6.0/dist/leaflet.js%22%3E%3C/script%3E%0A%20%20%20%20%3Cscript%20src%3D%22https%3A//code.jquery.com/jquery-1.12.4.min.js%22%3E%3C/script%3E%0A%20%20%20%20%3Cscript%20src%3D%22https%3A//maxcdn.bootstrapcdn.com/bootstrap/3.2.0/js/bootstrap.min.js%22%3E%3C/script%3E%0A%20%20%20%20%3Cscript%20src%3D%22https%3A//cdnjs.cloudflare.com/ajax/libs/Leaflet.awesome-markers/2.0.2/leaflet.awesome-markers.js%22%3E%3C/script%3E%0A%20%20%20%20%3Clink%20rel%3D%22stylesheet%22%20href%3D%22https%3A//cdn.jsdelivr.net/npm/leaflet%401.6.0/dist/leaflet.css%22/%3E%0A%20%20%20%20%3Clink%20rel%3D%22stylesheet%22%20href%3D%22https%3A//maxcdn.bootstrapcdn.com/bootstrap/3.2.0/css/bootstrap.min.css%22/%3E%0A%20%20%20%20%3Clink%20rel%3D%22stylesheet%22%20href%3D%22https%3A//maxcdn.bootstrapcdn.com/bootstrap/3.2.0/css/bootstrap-theme.min.css%22/%3E%0A%20%20%20%20%3Clink%20rel%3D%22stylesheet%22%20href%3D%22https%3A//maxcdn.bootstrapcdn.com/font-awesome/4.6.3/css/font-awesome.min.css%22/%3E%0A%20%20%20%20%3Clink%20rel%3D%22stylesheet%22%20href%3D%22https%3A//cdnjs.cloudflare.com/ajax/libs/Leaflet.awesome-markers/2.0.2/leaflet.awesome-markers.css%22/%3E%0A%20%20%20%20%3Clink%20rel%3D%22stylesheet%22%20href%3D%22https%3A//cdn.jsdelivr.net/gh/python-visualization/folium/folium/templates/leaflet.awesome.rotate.min.css%22/%3E%0A%20%20%20%20%0A%20%20%20%20%20%20%20%20%20%20%20%20%3Cmeta%20name%3D%22viewport%22%20content%3D%22width%3Ddevice-width%2C%0A%20%20%20%20%20%20%20%20%20%20%20%20%20%20%20%20initial-scale%3D1.0%2C%20maximum-scale%3D1.0%2C%20user-scalable%3Dno%22%20/%3E%0A%20%20%20%20%20%20%20%20%20%20%20%20%3Cstyle%3E%0A%20%20%20%20%20%20%20%20%20%20%20%20%20%20%20%20%23map_685a3e519a6646fe897b338dec370790%20%7B%0A%20%20%20%20%20%20%20%20%20%20%20%20%20%20%20%20%20%20%20%20position%3A%20relative%3B%0A%20%20%20%20%20%20%20%20%20%20%20%20%20%20%20%20%20%20%20%20width%3A%20100.0%25%3B%0A%20%20%20%20%20%20%20%20%20%20%20%20%20%20%20%20%20%20%20%20height%3A%20100.0%25%3B%0A%20%20%20%20%20%20%20%20%20%20%20%20%20%20%20%20%20%20%20%20left%3A%200.0%25%3B%0A%20%20%20%20%20%20%20%20%20%20%20%20%20%20%20%20%20%20%20%20top%3A%200.0%25%3B%0A%20%20%20%20%20%20%20%20%20%20%20%20%20%20%20%20%7D%0A%20%20%20%20%20%20%20%20%20%20%20%20%3C/style%3E%0A%20%20%20%20%20%20%20%20%0A%3C/head%3E%0A%3Cbody%3E%20%20%20%20%0A%20%20%20%20%0A%20%20%20%20%20%20%20%20%20%20%20%20%3Cdiv%20class%3D%22folium-map%22%20id%3D%22map_685a3e519a6646fe897b338dec370790%22%20%3E%3C/div%3E%0A%20%20%20%20%20%20%20%20%0A%3C/body%3E%0A%3Cscript%3E%20%20%20%20%0A%20%20%20%20%0A%20%20%20%20%20%20%20%20%20%20%20%20var%20map_685a3e519a6646fe897b338dec370790%20%3D%20L.map%28%0A%20%20%20%20%20%20%20%20%20%20%20%20%20%20%20%20%22map_685a3e519a6646fe897b338dec370790%22%2C%0A%20%20%20%20%20%20%20%20%20%20%20%20%20%20%20%20%7B%0A%20%20%20%20%20%20%20%20%20%20%20%20%20%20%20%20%20%20%20%20center%3A%20%5B45.4964738%2C%209.1562703%5D%2C%0A%20%20%20%20%20%20%20%20%20%20%20%20%20%20%20%20%20%20%20%20crs%3A%20L.CRS.EPSG3857%2C%0A%20%20%20%20%20%20%20%20%20%20%20%20%20%20%20%20%20%20%20%20zoom%3A%2013%2C%0A%20%20%20%20%20%20%20%20%20%20%20%20%20%20%20%20%20%20%20%20zoomControl%3A%20true%2C%0A%20%20%20%20%20%20%20%20%20%20%20%20%20%20%20%20%20%20%20%20preferCanvas%3A%20false%2C%0A%20%20%20%20%20%20%20%20%20%20%20%20%20%20%20%20%7D%0A%20%20%20%20%20%20%20%20%20%20%20%20%29%3B%0A%0A%20%20%20%20%20%20%20%20%20%20%20%20%0A%0A%20%20%20%20%20%20%20%20%0A%20%20%20%20%0A%20%20%20%20%20%20%20%20%20%20%20%20var%20tile_layer_dd2d43efd0934e8c9087e78fd0abceda%20%3D%20L.tileLayer%28%0A%20%20%20%20%20%20%20%20%20%20%20%20%20%20%20%20%22https%3A//cartodb-basemaps-%7Bs%7D.global.ssl.fastly.net/light_all/%7Bz%7D/%7Bx%7D/%7By%7D.png%22%2C%0A%20%20%20%20%20%20%20%20%20%20%20%20%20%20%20%20%7B%22attribution%22%3A%20%22%5Cu0026copy%3B%20%5Cu003ca%20href%3D%5C%22http%3A//www.openstreetmap.org/copyright%5C%22%5Cu003eOpenStreetMap%5Cu003c/a%5Cu003e%20contributors%20%5Cu0026copy%3B%20%5Cu003ca%20href%3D%5C%22http%3A//cartodb.com/attributions%5C%22%5Cu003eCartoDB%5Cu003c/a%5Cu003e%2C%20CartoDB%20%5Cu003ca%20href%20%3D%5C%22http%3A//cartodb.com/attributions%5C%22%5Cu003eattributions%5Cu003c/a%5Cu003e%22%2C%20%22detectRetina%22%3A%20false%2C%20%22maxNativeZoom%22%3A%2018%2C%20%22maxZoom%22%3A%2018%2C%20%22minZoom%22%3A%200%2C%20%22noWrap%22%3A%20false%2C%20%22opacity%22%3A%201%2C%20%22subdomains%22%3A%20%22abc%22%2C%20%22tms%22%3A%20false%7D%0A%20%20%20%20%20%20%20%20%20%20%20%20%29.addTo%28map_685a3e519a6646fe897b338dec370790%29%3B%0A%20%20%20%20%20%20%20%20%0A%20%20%20%20%0A%20%20%20%20%20%20%20%20%20%20%20%20var%20poly_line_0f527a04946d4eae9aa3e1a748edd6ce%20%3D%20L.polyline%28%0A%20%20%20%20%20%20%20%20%20%20%20%20%20%20%20%20%5B%5B45.4964738%2C%209.1562703%5D%2C%20%5B45.4959217%2C%209.1554254%5D%2C%20%5B45.4958171%2C%209.1552565%5D%2C%20%5B45.4951492%2C%209.1561443%5D%2C%20%5B45.494763%2C%209.1566485%5D%2C%20%5B45.4941916%2C%209.1573942%5D%2C%20%5B45.4941139%2C%209.1574988%5D%2C%20%5B45.4940629%2C%209.1575685%5D%2C%20%5B45.4940066%2C%209.1576409%5D%2C%20%5B45.4939449%2C%209.1577294%5D%2C%20%5B45.4939878%2C%209.1577911%5D%2C%20%5B45.4940549%2C%209.1578957%5D%2C%20%5B45.4942802%2C%209.1582203%5D%2C%20%5B45.4948354%2C%209.1590598%5D%2C%20%5B45.4950204%2C%209.1593388%5D%2C%20%5B45.4954416%2C%209.1599852%5D%2C%20%5B45.4955542%2C%209.1601568%5D%2C%20%5B45.4957929%2C%209.1605243%5D%2C%20%5B45.4959807%2C%209.1607898%5D%2C%20%5B45.4962087%2C%209.1610259%5D%2C%20%5B45.4967612%2C%209.1618654%5D%2C%20%5B45.4967934%2C%209.1619164%5D%2C%20%5B45.4969624%2C%209.1621765%5D%2C%20%5B45.4969919%2C%209.1622248%5D%2C%20%5B45.4970589%2C%209.1623268%5D%2C%20%5B45.4972279%2C%209.1625977%5D%2C%20%5B45.4975632%2C%209.1631261%5D%2C%20%5B45.4976839%2C%209.1633567%5D%2C%20%5B45.4979226%2C%209.1638342%5D%2C%20%5B45.4981881%2C%209.164561%5D%2C%20%5B45.4982498%2C%209.1647863%5D%2C%20%5B45.4982874%2C%209.1649312%5D%2C%20%5B45.4983222%2C%209.1651297%5D%2C%20%5B45.498341%2C%209.1653362%5D%2C%20%5B45.498341%2C%209.1654569%5D%2C%20%5B45.4983383%2C%209.1656795%5D%2C%20%5B45.4983008%2C%209.1660121%5D%2C%20%5B45.4982659%2C%209.1661891%5D%2C%20%5B45.4982391%2C%209.1662642%5D%2C%20%5B45.4981694%2C%209.1664761%5D%2C%20%5B45.4981104%2C%209.1666532%5D%2C%20%5B45.497826%2C%209.1673291%5D%2C%20%5B45.4977107%2C%209.1676188%5D%2C%20%5B45.4973835%2C%209.1683778%5D%2C%20%5B45.4971528%2C%209.1689143%5D%2C%20%5B45.4970026%2C%209.1692361%5D%2C%20%5B45.4969168%2C%209.1694507%5D%2C%20%5B45.4966325%2C%209.170132%5D%2C%20%5B45.4965359%2C%209.1703734%5D%2C%20%5B45.4964527%2C%209.1706389%5D%2C%20%5B45.4964313%2C%209.1707972%5D%2C%20%5B45.4964393%2C%209.1710788%5D%2C%20%5B45.4964608%2C%209.171339%5D%2C%20%5B45.4964823%2C%209.1716233%5D%2C%20%5B45.4964876%2C%209.1717091%5D%2C%20%5B45.4965037%2C%209.1719076%5D%2C%20%5B45.4965439%2C%209.1723689%5D%2C%20%5B45.4965708%2C%209.1728893%5D%2C%20%5B45.4966003%2C%209.1733024%5D%2C%20%5B45.4966298%2C%209.1737315%5D%2C%20%5B45.4966861%2C%209.1746783%5D%2C%20%5B45.4966995%2C%209.1749144%5D%2C%20%5B45.496729%2C%209.1755152%5D%2C%20%5B45.4967558%2C%209.1760328%5D%2C%20%5B45.4968256%2C%209.1773015%5D%2C%20%5B45.4968309%2C%209.1773632%5D%2C%20%5B45.4968336%2C%209.1774276%5D%2C%20%5B45.4969141%2C%209.1787472%5D%2C%20%5B45.4969355%2C%209.1789994%5D%2C%20%5B45.4969543%2C%209.1792515%5D%2C%20%5B45.4969624%2C%209.1794419%5D%2C%20%5B45.4969785%2C%209.1797262%5D%2C%20%5B45.4970294%2C%209.1803244%5D%2C%20%5B45.4971609%2C%209.1818452%5D%2C%20%5B45.4972306%2C%209.1830254%5D%2C%20%5B45.4972655%2C%209.183645%5D%2C%20%5B45.4972816%2C%209.1841197%5D%2C%20%5B45.4972816%2C%209.1844657%5D%2C%20%5B45.4972816%2C%209.1845703%5D%2C%20%5B45.4972816%2C%209.1845891%5D%2C%20%5B45.4972896%2C%209.1847688%5D%2C%20%5B45.4973164%2C%209.1852677%5D%2C%20%5B45.4973352%2C%209.1855332%5D%2C%20%5B45.4973754%2C%209.1860214%5D%2C%20%5B45.4973996%2C%209.1863701%5D%2C%20%5B45.4974103%2C%209.1865391%5D%2C%20%5B45.4974183%2C%209.1871801%5D%2C%20%5B45.4974049%2C%209.1873088%5D%2C%20%5B45.4973781%2C%209.1873974%5D%2C%20%5B45.4972655%2C%209.1878104%5D%2C%20%5B45.4971394%2C%209.1882315%5D%2C%20%5B45.4970106%2C%209.188666%5D%2C%20%5B45.4957259%2C%209.1879418%5D%2C%20%5B45.4956776%2C%209.1879633%5D%2C%20%5B45.4956374%2C%209.1880357%5D%2C%20%5B45.4954094%2C%209.1888458%5D%2C%20%5B45.4957656%2C%209.1890352%5D%5D%2C%0A%20%20%20%20%20%20%20%20%20%20%20%20%20%20%20%20%7B%22bubblingMouseEvents%22%3A%20true%2C%20%22color%22%3A%20%22blue%22%2C%20%22dashArray%22%3A%20null%2C%20%22dashOffset%22%3A%20null%2C%20%22fill%22%3A%20false%2C%20%22fillColor%22%3A%20%22blue%22%2C%20%22fillOpacity%22%3A%200.2%2C%20%22fillRule%22%3A%20%22evenodd%22%2C%20%22lineCap%22%3A%20%22round%22%2C%20%22lineJoin%22%3A%20%22round%22%2C%20%22noClip%22%3A%20false%2C%20%22opacity%22%3A%201.0%2C%20%22smoothFactor%22%3A%201.0%2C%20%22stroke%22%3A%20true%2C%20%22weight%22%3A%203%7D%0A%20%20%20%20%20%20%20%20%20%20%20%20%29.addTo%28map_685a3e519a6646fe897b338dec370790%29%3B%0A%20%20%20%20%20%20%20%20%0A%20%20%20%20%0A%20%20%20%20%20%20%20%20%20%20%20%20var%20poly_line_00252866b3f24ba29273050f64c5378b%20%3D%20L.polyline%28%0A%20%20%20%20%20%20%20%20%20%20%20%20%20%20%20%20%5B%5B45.4970680339892%2C%209.157209084652763%5D%2C%20%5B45.495870713999714%2C%209.155358250568089%5D%2C%20%5B45.495870713999714%2C%209.155358250568089%5D%2C%20%5B45.49408905595977%2C%209.15770223590238%5D%2C%20%5B45.49408905595977%2C%209.15770223590238%5D%2C%20%5B45.49560960882583%2C%209.160296427229554%5D%2C%20%5B45.49560960882583%2C%209.160296427229554%5D%2C%20%5B45.496138157729995%2C%209.160935308593652%5D%2C%20%5B45.496138157729995%2C%209.160935308593652%5D%2C%20%5B45.49797995387943%2C%209.163985368341901%5D%2C%20%5B45.49797995387943%2C%209.163985368341901%5D%2C%20%5B45.49831365041397%2C%209.166024885259214%5D%2C%20%5B45.49831365041397%2C%209.166024885259214%5D%2C%20%5B45.49826826023969%2C%209.166227364999262%5D%2C%20%5B45.49826826023969%2C%209.166227364999262%5D%2C%20%5B45.49818642729924%2C%209.166483238108063%5D%2C%20%5B45.49818642729924%2C%209.166483238108063%5D%2C%20%5B45.496911399461446%2C%209.169311388942077%5D%2C%20%5B45.496911399461446%2C%209.169311388942077%5D%2C%20%5B45.496500163902894%2C%209.170443500295503%5D%2C%20%5B45.496500163902894%2C%209.170443500295503%5D%2C%20%5B45.49656061172353%2C%209.171132392901276%5D%2C%20%5B45.49656061172353%2C%209.171132392901276%5D%2C%20%5B45.49648798134899%2C%209.171666399415495%5D%2C%20%5B45.49648798134899%2C%209.171666399415495%5D%2C%20%5B45.496667531166814%2C%209.174650508426357%5D%2C%20%5B45.496667531166814%2C%209.174650508426357%5D%2C%20%5B45.496760966729994%2C%209.176055356465831%5D%2C%20%5B45.496760966729994%2C%209.176055356465831%5D%2C%20%5B45.49684020485993%2C%209.17737543524476%5D%2C%20%5B45.49684020485993%2C%209.17737543524476%5D%2C%20%5B45.496924083559655%2C%209.178768870728444%5D%2C%20%5B45.496924083559655%2C%209.178768870728444%5D%2C%20%5B45.496952960088684%2C%209.179239325925922%5D%2C%20%5B45.496952960088684%2C%209.179239325925922%5D%2C%20%5B45.49701992015938%2C%209.180331295691486%5D%2C%20%5B45.49701992015938%2C%209.180331295691486%5D%2C%20%5B45.497113545832136%2C%209.181855577664574%5D%2C%20%5B45.497113545832136%2C%209.181855577664574%5D%2C%20%5B45.497229253917915%2C%209.183740870377278%5D%2C%20%5B45.497229253917915%2C%209.183740870377278%5D%2C%20%5B45.49736296874393%2C%209.184158300214206%5D%2C%20%5B45.49736296874393%2C%209.184158300214206%5D%2C%20%5B45.497281668354326%2C%209.185283971165383%5D%2C%20%5B45.497281668354326%2C%209.185283971165383%5D%2C%20%5B45.49755316261886%2C%209.186543786124723%5D%2C%20%5B45.49755316261886%2C%209.186543786124723%5D%2C%20%5B45.49753463517379%2C%209.18719494557441%5D%2C%20%5B45.49753463517379%2C%209.18719494557441%5D%2C%20%5B45.497125011398076%2C%209.188715651910615%5D%2C%20%5B45.497125011398076%2C%209.188715651910615%5D%2C%20%5B45.49567396864424%2C%209.187932258647828%5D%2C%20%5B45.49567396864424%2C%209.187932258647828%5D%2C%20%5B45.49541673392463%2C%209.188849195482456%5D%2C%20%5B45.49541673392463%2C%209.188849195482456%5D%2C%20%5B45.496104070294685%2C%209.189224450649098%5D%5D%2C%0A%20%20%20%20%20%20%20%20%20%20%20%20%20%20%20%20%7B%22bubblingMouseEvents%22%3A%20true%2C%20%22color%22%3A%20%22orange%22%2C%20%22dashArray%22%3A%20null%2C%20%22dashOffset%22%3A%20null%2C%20%22fill%22%3A%20false%2C%20%22fillColor%22%3A%20%22orange%22%2C%20%22fillOpacity%22%3A%200.2%2C%20%22fillRule%22%3A%20%22evenodd%22%2C%20%22lineCap%22%3A%20%22round%22%2C%20%22lineJoin%22%3A%20%22round%22%2C%20%22noClip%22%3A%20false%2C%20%22opacity%22%3A%201.0%2C%20%22smoothFactor%22%3A%201.0%2C%20%22stroke%22%3A%20true%2C%20%22weight%22%3A%203%7D%0A%20%20%20%20%20%20%20%20%20%20%20%20%29.addTo%28map_685a3e519a6646fe897b338dec370790%29%3B%0A%20%20%20%20%20%20%20%20%0A%3C/script%3E onload=\"this.contentDocument.open();this.contentDocument.write(    decodeURIComponent(this.getAttribute('data-html')));this.contentDocument.close();\" allowfullscreen webkitallowfullscreen mozallowfullscreen></iframe></div></div>"
      ],
      "text/plain": [
       "<folium.folium.Map at 0x275329ef7c0>"
      ]
     },
     "execution_count": 15,
     "metadata": {},
     "output_type": "execute_result"
    }
   ],
   "source": [
    "v_id = \"vehicle_1\"\n",
    "\n",
    "points_traj = gps_tomtom_routed_paths[v_id]['points']\n",
    "\n",
    "m = folium.Map(location=[points_traj[0][1], points_traj[0][0]], tiles='cartodbpositron', zoom_start=13)\n",
    "\n",
    "# TOMTOM path\n",
    "folium.PolyLine(locations=[list(reversed(coord)) \n",
    "                           for coord in points_traj], weigth=3, color=\"blue\").add_to(m)\n",
    "\n",
    "# map matched path\n",
    "tdf_mapmatched = tdf_from_edgelist(dict_map_matched[v_id]['mapped_edges'], road_network)\n",
    "points_mapmatched = tdf_mapmatched[['lng','lat']].values\n",
    "\n",
    "folium.PolyLine(locations=[list(reversed(coord)) \n",
    "                           for coord in points_mapmatched], weigth=3, color=\"orange\").add_to(m)\n",
    "\n",
    "m"
   ]
  },
  {
   "cell_type": "markdown",
   "id": "12ad6a28",
   "metadata": {},
   "source": [
    "### Create a dictionary describing the mapped edges for each vehicle"
   ]
  },
  {
   "cell_type": "code",
   "execution_count": 16,
   "id": "d0e534d2",
   "metadata": {},
   "outputs": [],
   "source": [
    "dict_sumo_tomtom = {}\n",
    "\n",
    "for ind, v_id in enumerate(list(dict_md.keys())):      \n",
    "    if \"vehicle\" in v_id:\n",
    "        new_id = \"tomtom_\"+v_id.split(\"_\")[1]\n",
    "        dep_time = dict_md[v_id]['time']\n",
    "        edges_v = dict_map_matched[v_id]['mapped_edges']\n",
    "        \n",
    "        dict_sumo_tomtom[new_id] = {'edges':str(edges_v).replace(\",\",\"\").replace(\"'\",\"\")[1:-1], 'time': dep_time}"
   ]
  },
  {
   "cell_type": "markdown",
   "id": "e41cee0b",
   "metadata": {},
   "source": [
    "### Create a SUMO xml file that described the TomTom routed paths"
   ]
  },
  {
   "cell_type": "code",
   "execution_count": 17,
   "id": "9cdb4a5b",
   "metadata": {},
   "outputs": [],
   "source": [
    "create_xml_vehicles(dict_sumo_tomtom, output_routed_paths_filename);"
   ]
  }
 ],
 "metadata": {
  "kernelspec": {
   "display_name": "Python 3 (ipykernel)",
   "language": "python",
   "name": "python3"
  },
  "language_info": {
   "codemirror_mode": {
    "name": "ipython",
    "version": 3
   },
   "file_extension": ".py",
   "mimetype": "text/x-python",
   "name": "python",
   "nbconvert_exporter": "python",
   "pygments_lexer": "ipython3",
   "version": "3.9.7"
  }
 },
 "nbformat": 4,
 "nbformat_minor": 5
}
