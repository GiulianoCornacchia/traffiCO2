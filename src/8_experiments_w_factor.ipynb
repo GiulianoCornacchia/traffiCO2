{
 "cells": [
  {
   "cell_type": "code",
   "execution_count": 1,
   "id": "febd843e",
   "metadata": {},
   "outputs": [],
   "source": [
    "import os\n",
    "from tqdm import tqdm\n",
    "import json"
   ]
  },
  {
   "cell_type": "markdown",
   "id": "de01c86f",
   "metadata": {},
   "source": [
    "# Experiments w factor\n",
    "\n",
    "Study the impact of duarouter randomisation parameter **w** for different **percentages of routed vehicle** with respect to CO2 emissions"
   ]
  },
  {
   "cell_type": "markdown",
   "id": "eabc58f9",
   "metadata": {},
   "source": [
    "#### Paths & Parameters"
   ]
  },
  {
   "cell_type": "code",
   "execution_count": 2,
   "id": "e8f4345d",
   "metadata": {},
   "outputs": [],
   "source": [
    "# road network path\n",
    "net_path = \"../sumo_simulation_data/milan_road_network.net.xml\"\n",
    "\n",
    "# path to folder containing the sumo simulation script\n",
    "path_sumo_script = \"../sumo_simulation_scripts/\"\n",
    "\n",
    "# SUMO options\n",
    "opt =  '\"-W --ignore-junction-blocker 20 --time-to-impatience 30 --time-to-teleport 120 --scale 1\"'\n",
    "\n",
    "# dict result folder\n",
    "result_folder = \"../results/\""
   ]
  },
  {
   "cell_type": "markdown",
   "id": "bf396f2e",
   "metadata": {},
   "source": [
    "## 1. Experiments OSM"
   ]
  },
  {
   "cell_type": "markdown",
   "id": "0c73fc8a",
   "metadata": {},
   "source": [
    "### File paths"
   ]
  },
  {
   "cell_type": "code",
   "execution_count": 3,
   "id": "2cfcf75d",
   "metadata": {},
   "outputs": [],
   "source": [
    "# folder containing the mixed OSM routed paths to simulate using SUMO\n",
    "demand_folder_path_osm = \"../sumo_simulation_data/routed_paths/demands_w_factor_osm/\"\n",
    "\n",
    "# where to save the simulation oputputs\n",
    "save_dir_osm = \"../sim_outputs/outputs_main_experiment/outputs_w_factor_osm/\"\n",
    "\n",
    "# the prefix of the folder resulting from a simulation\n",
    "fold_prfx_osm = \"w_exp\""
   ]
  },
  {
   "cell_type": "markdown",
   "id": "62c11d15",
   "metadata": {},
   "source": [
    "### Load the OSM routed paths"
   ]
  },
  {
   "cell_type": "code",
   "execution_count": null,
   "id": "cf366b19",
   "metadata": {},
   "outputs": [],
   "source": [
    "routed_paths_osm = [demand_folder_path_osm+f for f in os.listdir(demand_folder_path_osm) if \".rou.xml\" in f]\n",
    "\n",
    "print(\"Routed Path to simulate: \"+str(len(routed_paths_osm)))"
   ]
  },
  {
   "cell_type": "markdown",
   "id": "bd444081",
   "metadata": {},
   "source": [
    "### Launch the OSM experiments"
   ]
  },
  {
   "cell_type": "code",
   "execution_count": null,
   "id": "e4bfd47a",
   "metadata": {},
   "outputs": [],
   "source": [
    "# traj co2 ttime vpedge\n",
    "\n",
    "pbar = tqdm(total=len(routed_paths_osm))\n",
    "\n",
    "for demand_path in routed_paths_osm:\n",
    "    \n",
    "    !cd {path_sumo_script} && python run_sumo.py {net_path} {demand_path} 0 none real real real {save_dir_osm} {fold_prfx_osm} {opt} >> foo0.txt\n",
    "    pbar.update(1)"
   ]
  },
  {
   "cell_type": "code",
   "execution_count": null,
   "id": "760875ae",
   "metadata": {},
   "outputs": [],
   "source": []
  },
  {
   "cell_type": "markdown",
   "id": "c60bdccb",
   "metadata": {},
   "source": [
    "## 2. Experiments TomTom"
   ]
  },
  {
   "cell_type": "markdown",
   "id": "97f61587",
   "metadata": {},
   "source": [
    "### File paths"
   ]
  },
  {
   "cell_type": "code",
   "execution_count": null,
   "id": "a936658a",
   "metadata": {},
   "outputs": [],
   "source": [
    "# folder containing the mixed OSM routed paths to simulate using SUMO\n",
    "demand_folder_path_tomtom = \"../sumo_simulation_data/routed_paths/demands_w_factor_tomtom/\"\n",
    "\n",
    "# where to save the simulation oputputs\n",
    "save_dir_tomtom = \"../sim_outputs/outputs_main_experiment/outputs_w_factor_tomtom/\"\n",
    "\n",
    "# the prefix of the folder resulting from a simulation\n",
    "fold_prfx_tomtom = \"w_exp\""
   ]
  },
  {
   "cell_type": "markdown",
   "id": "562f28bb",
   "metadata": {},
   "source": [
    "### Load the TomTom routed paths"
   ]
  },
  {
   "cell_type": "code",
   "execution_count": null,
   "id": "e51da61d",
   "metadata": {},
   "outputs": [],
   "source": [
    "routed_paths_tomtom = [demand_folder_path_tomtom+f for f in os.listdir(demand_folder_path_tomtom) if \".rou.xml\" in f]\n",
    "\n",
    "print(\"Routed Path to simulate: \"+str(len(routed_paths_tomtom)))"
   ]
  },
  {
   "cell_type": "markdown",
   "id": "cd9c9527",
   "metadata": {},
   "source": [
    "### Launch the TomTom experiments"
   ]
  },
  {
   "cell_type": "code",
   "execution_count": null,
   "id": "75cc0cfe",
   "metadata": {},
   "outputs": [],
   "source": [
    "# traj co2 ttime vpedge\n",
    "\n",
    "pbar = tqdm(total=len(demand_folder_path_tomtom))\n",
    "\n",
    "for demand_path in routed_paths_tomtom:\n",
    "    \n",
    "    !cd {path_sumo_script} && python run_sumo.py {net_path} {demand_path} 0 none real real real {save_dir_tomtom} {fold_prfx_tomtom} {opt} >> foo0.txt\n",
    "    pbar.update(1)"
   ]
  }
 ],
 "metadata": {
  "kernelspec": {
   "display_name": "Python 3 (ipykernel)",
   "language": "python",
   "name": "python3"
  },
  "language_info": {
   "codemirror_mode": {
    "name": "ipython",
    "version": 3
   },
   "file_extension": ".py",
   "mimetype": "text/x-python",
   "name": "python",
   "nbconvert_exporter": "python",
   "pygments_lexer": "ipython3",
   "version": "3.9.7"
  }
 },
 "nbformat": 4,
 "nbformat_minor": 5
}
