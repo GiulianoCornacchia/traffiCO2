{
 "cells": [
  {
   "cell_type": "code",
   "execution_count": 1,
   "id": "f34258b4",
   "metadata": {},
   "outputs": [],
   "source": [
    "from utils import *\n",
    "import json\n",
    "import sumolib\n",
    "\n",
    "import warnings\n",
    "warnings.filterwarnings(\"ignore\")"
   ]
  },
  {
   "cell_type": "markdown",
   "id": "a9ba4aae",
   "metadata": {},
   "source": [
    "INTRO TOMTOM"
   ]
  },
  {
   "cell_type": "markdown",
   "id": "b965e713",
   "metadata": {},
   "source": [
    "#### Load road network"
   ]
  },
  {
   "cell_type": "code",
   "execution_count": 2,
   "id": "de8d99a4",
   "metadata": {},
   "outputs": [],
   "source": [
    "road_network_path = \"../sumo_simulation_data/milan_road_network.net.xml\"\n",
    "road_network = sumolib.net.readNet(road_network_path, withInternal=False)"
   ]
  },
  {
   "cell_type": "markdown",
   "id": "b0baa1a8",
   "metadata": {},
   "source": [
    "#### TomTom routing API"
   ]
  },
  {
   "cell_type": "code",
   "execution_count": 13,
   "id": "adc90169",
   "metadata": {},
   "outputs": [],
   "source": [
    "tomtom_api_key = \"\""
   ]
  },
  {
   "cell_type": "code",
   "execution_count": 14,
   "id": "5221bb90",
   "metadata": {},
   "outputs": [],
   "source": [
    "# dict mobility demand path\n",
    "\n",
    "dict_mobility_demand_path = \"../data/dict_mobility_demand.json\""
   ]
  },
  {
   "cell_type": "code",
   "execution_count": 15,
   "id": "53a6c5f6",
   "metadata": {},
   "outputs": [],
   "source": [
    "with open(dict_mobility_demand_path) as json_file:\n",
    "    dict_mobility_demand = json.load(json_file)"
   ]
  },
  {
   "cell_type": "code",
   "execution_count": 16,
   "id": "18c84a16",
   "metadata": {},
   "outputs": [],
   "source": [
    "vehicle_list_all = [v_id for v_id in dict_mobility_demand.keys() if \"vehicle\" in v_id]"
   ]
  },
  {
   "cell_type": "code",
   "execution_count": 17,
   "id": "4f80b87e",
   "metadata": {},
   "outputs": [],
   "source": [
    "id_from = 0\n",
    "id_to = len(vehicle_list_all)\n",
    "\n",
    "vehicle_list = vehicle_list_all[id_from:id_to]"
   ]
  },
  {
   "cell_type": "markdown",
   "id": "68052f32",
   "metadata": {},
   "source": [
    "### Get the routing suggestions from TomTom"
   ]
  },
  {
   "cell_type": "code",
   "execution_count": 18,
   "id": "72d01b17",
   "metadata": {},
   "outputs": [],
   "source": [
    "dict_results_tomtom = create_routed_demand_tomtom(dict_mobility_demand, vehicle_list, road_network, tomtom_api_key)"
   ]
  },
  {
   "cell_type": "markdown",
   "id": "6bfcd607",
   "metadata": {},
   "source": [
    "### Visualize some suggestions"
   ]
  },
  {
   "cell_type": "code",
   "execution_count": 19,
   "id": "9d23172e",
   "metadata": {},
   "outputs": [
    {
     "data": {
      "text/html": [
       "<div style=\"width:100%;\"><div style=\"position:relative;width:100%;height:0;padding-bottom:60%;\"><span style=\"color:#565656\">Make this Notebook Trusted to load map: File -> Trust Notebook</span><iframe src=\"about:blank\" style=\"position:absolute;width:100%;height:100%;left:0;top:0;border:none !important;\" data-html=%3C%21DOCTYPE%20html%3E%0A%3Chead%3E%20%20%20%20%0A%20%20%20%20%3Cmeta%20http-equiv%3D%22content-type%22%20content%3D%22text/html%3B%20charset%3DUTF-8%22%20/%3E%0A%20%20%20%20%0A%20%20%20%20%20%20%20%20%3Cscript%3E%0A%20%20%20%20%20%20%20%20%20%20%20%20L_NO_TOUCH%20%3D%20false%3B%0A%20%20%20%20%20%20%20%20%20%20%20%20L_DISABLE_3D%20%3D%20false%3B%0A%20%20%20%20%20%20%20%20%3C/script%3E%0A%20%20%20%20%0A%20%20%20%20%3Cstyle%3Ehtml%2C%20body%20%7Bwidth%3A%20100%25%3Bheight%3A%20100%25%3Bmargin%3A%200%3Bpadding%3A%200%3B%7D%3C/style%3E%0A%20%20%20%20%3Cstyle%3E%23map%20%7Bposition%3Aabsolute%3Btop%3A0%3Bbottom%3A0%3Bright%3A0%3Bleft%3A0%3B%7D%3C/style%3E%0A%20%20%20%20%3Cscript%20src%3D%22https%3A//cdn.jsdelivr.net/npm/leaflet%401.6.0/dist/leaflet.js%22%3E%3C/script%3E%0A%20%20%20%20%3Cscript%20src%3D%22https%3A//code.jquery.com/jquery-1.12.4.min.js%22%3E%3C/script%3E%0A%20%20%20%20%3Cscript%20src%3D%22https%3A//maxcdn.bootstrapcdn.com/bootstrap/3.2.0/js/bootstrap.min.js%22%3E%3C/script%3E%0A%20%20%20%20%3Cscript%20src%3D%22https%3A//cdnjs.cloudflare.com/ajax/libs/Leaflet.awesome-markers/2.0.2/leaflet.awesome-markers.js%22%3E%3C/script%3E%0A%20%20%20%20%3Clink%20rel%3D%22stylesheet%22%20href%3D%22https%3A//cdn.jsdelivr.net/npm/leaflet%401.6.0/dist/leaflet.css%22/%3E%0A%20%20%20%20%3Clink%20rel%3D%22stylesheet%22%20href%3D%22https%3A//maxcdn.bootstrapcdn.com/bootstrap/3.2.0/css/bootstrap.min.css%22/%3E%0A%20%20%20%20%3Clink%20rel%3D%22stylesheet%22%20href%3D%22https%3A//maxcdn.bootstrapcdn.com/bootstrap/3.2.0/css/bootstrap-theme.min.css%22/%3E%0A%20%20%20%20%3Clink%20rel%3D%22stylesheet%22%20href%3D%22https%3A//maxcdn.bootstrapcdn.com/font-awesome/4.6.3/css/font-awesome.min.css%22/%3E%0A%20%20%20%20%3Clink%20rel%3D%22stylesheet%22%20href%3D%22https%3A//cdnjs.cloudflare.com/ajax/libs/Leaflet.awesome-markers/2.0.2/leaflet.awesome-markers.css%22/%3E%0A%20%20%20%20%3Clink%20rel%3D%22stylesheet%22%20href%3D%22https%3A//cdn.jsdelivr.net/gh/python-visualization/folium/folium/templates/leaflet.awesome.rotate.min.css%22/%3E%0A%20%20%20%20%0A%20%20%20%20%20%20%20%20%20%20%20%20%3Cmeta%20name%3D%22viewport%22%20content%3D%22width%3Ddevice-width%2C%0A%20%20%20%20%20%20%20%20%20%20%20%20%20%20%20%20initial-scale%3D1.0%2C%20maximum-scale%3D1.0%2C%20user-scalable%3Dno%22%20/%3E%0A%20%20%20%20%20%20%20%20%20%20%20%20%3Cstyle%3E%0A%20%20%20%20%20%20%20%20%20%20%20%20%20%20%20%20%23map_bb52c5b5125f496ca6dd182277619706%20%7B%0A%20%20%20%20%20%20%20%20%20%20%20%20%20%20%20%20%20%20%20%20position%3A%20relative%3B%0A%20%20%20%20%20%20%20%20%20%20%20%20%20%20%20%20%20%20%20%20width%3A%20100.0%25%3B%0A%20%20%20%20%20%20%20%20%20%20%20%20%20%20%20%20%20%20%20%20height%3A%20100.0%25%3B%0A%20%20%20%20%20%20%20%20%20%20%20%20%20%20%20%20%20%20%20%20left%3A%200.0%25%3B%0A%20%20%20%20%20%20%20%20%20%20%20%20%20%20%20%20%20%20%20%20top%3A%200.0%25%3B%0A%20%20%20%20%20%20%20%20%20%20%20%20%20%20%20%20%7D%0A%20%20%20%20%20%20%20%20%20%20%20%20%3C/style%3E%0A%20%20%20%20%20%20%20%20%0A%3C/head%3E%0A%3Cbody%3E%20%20%20%20%0A%20%20%20%20%0A%20%20%20%20%20%20%20%20%20%20%20%20%3Cdiv%20class%3D%22folium-map%22%20id%3D%22map_bb52c5b5125f496ca6dd182277619706%22%20%3E%3C/div%3E%0A%20%20%20%20%20%20%20%20%0A%3C/body%3E%0A%3Cscript%3E%20%20%20%20%0A%20%20%20%20%0A%20%20%20%20%20%20%20%20%20%20%20%20var%20map_bb52c5b5125f496ca6dd182277619706%20%3D%20L.map%28%0A%20%20%20%20%20%20%20%20%20%20%20%20%20%20%20%20%22map_bb52c5b5125f496ca6dd182277619706%22%2C%0A%20%20%20%20%20%20%20%20%20%20%20%20%20%20%20%20%7B%0A%20%20%20%20%20%20%20%20%20%20%20%20%20%20%20%20%20%20%20%20center%3A%20%5B45.463742%2C%209.1420192%5D%2C%0A%20%20%20%20%20%20%20%20%20%20%20%20%20%20%20%20%20%20%20%20crs%3A%20L.CRS.EPSG3857%2C%0A%20%20%20%20%20%20%20%20%20%20%20%20%20%20%20%20%20%20%20%20zoom%3A%2013%2C%0A%20%20%20%20%20%20%20%20%20%20%20%20%20%20%20%20%20%20%20%20zoomControl%3A%20true%2C%0A%20%20%20%20%20%20%20%20%20%20%20%20%20%20%20%20%20%20%20%20preferCanvas%3A%20false%2C%0A%20%20%20%20%20%20%20%20%20%20%20%20%20%20%20%20%7D%0A%20%20%20%20%20%20%20%20%20%20%20%20%29%3B%0A%0A%20%20%20%20%20%20%20%20%20%20%20%20%0A%0A%20%20%20%20%20%20%20%20%0A%20%20%20%20%0A%20%20%20%20%20%20%20%20%20%20%20%20var%20tile_layer_4e570fc3f494435797f9e67cb0a7de34%20%3D%20L.tileLayer%28%0A%20%20%20%20%20%20%20%20%20%20%20%20%20%20%20%20%22https%3A//cartodb-basemaps-%7Bs%7D.global.ssl.fastly.net/light_all/%7Bz%7D/%7Bx%7D/%7By%7D.png%22%2C%0A%20%20%20%20%20%20%20%20%20%20%20%20%20%20%20%20%7B%22attribution%22%3A%20%22%5Cu0026copy%3B%20%5Cu003ca%20href%3D%5C%22http%3A//www.openstreetmap.org/copyright%5C%22%5Cu003eOpenStreetMap%5Cu003c/a%5Cu003e%20contributors%20%5Cu0026copy%3B%20%5Cu003ca%20href%3D%5C%22http%3A//cartodb.com/attributions%5C%22%5Cu003eCartoDB%5Cu003c/a%5Cu003e%2C%20CartoDB%20%5Cu003ca%20href%20%3D%5C%22http%3A//cartodb.com/attributions%5C%22%5Cu003eattributions%5Cu003c/a%5Cu003e%22%2C%20%22detectRetina%22%3A%20false%2C%20%22maxNativeZoom%22%3A%2018%2C%20%22maxZoom%22%3A%2018%2C%20%22minZoom%22%3A%200%2C%20%22noWrap%22%3A%20false%2C%20%22opacity%22%3A%201%2C%20%22subdomains%22%3A%20%22abc%22%2C%20%22tms%22%3A%20false%7D%0A%20%20%20%20%20%20%20%20%20%20%20%20%29.addTo%28map_bb52c5b5125f496ca6dd182277619706%29%3B%0A%20%20%20%20%20%20%20%20%0A%20%20%20%20%0A%20%20%20%20%20%20%20%20%20%20%20%20var%20poly_line_487abe65b341430ca1d2bfd40d7afe57%20%3D%20L.polyline%28%0A%20%20%20%20%20%20%20%20%20%20%20%20%20%20%20%20%5B%5B45.463742%2C%209.1420192%5D%2C%20%5B45.4632148%2C%209.1422746%5D%2C%20%5B45.4628822%2C%209.1424784%5D%2C%20%5B45.4625121%2C%209.1426849%5D%2C%20%5B45.4621419%2C%209.1429049%5D%2C%20%5B45.461584%2C%209.1432294%5D%2C%20%5B45.4620105%2C%209.1446644%5D%2C%20%5B45.4628125%2C%209.1442004%5D%2C%20%5B45.4629466%2C%209.1441253%5D%2C%20%5B45.4636198%2C%209.1437256%5D%2C%20%5B45.4640543%2C%209.1434681%5D%2C%20%5B45.4644942%2C%209.143208%5D%2C%20%5B45.4646391%2C%209.1431248%5D%2C%20%5B45.4648402%2C%209.1430122%5D%2C%20%5B45.4648724%2C%209.1430685%5D%2C%20%5B45.4649127%2C%209.143106%5D%2C%20%5B45.4650494%2C%209.1433635%5D%2C%20%5B45.4651192%2C%209.1434333%5D%2C%20%5B45.4651353%2C%209.143503%5D%2C%20%5B45.4651996%2C%209.1437444%5D%2C%20%5B45.4652721%2C%209.144018%5D%2C%20%5B45.4657227%2C%209.145512%5D%2C%20%5B45.4657736%2C%209.1456997%5D%2C%20%5B45.4658273%2C%209.1458821%5D%2C%20%5B45.4659507%2C%209.1462871%5D%2C%20%5B45.4659668%2C%209.1463676%5D%2C%20%5B45.4660043%2C%209.1464937%5D%2C%20%5B45.4660606%2C%209.1464695%5D%2C%20%5B45.466691%2C%209.1462791%5D%2C%20%5B45.4669511%2C%209.1462013%5D%2C%20%5B45.4672354%2C%209.1461101%5D%2C%20%5B45.4680106%2C%209.1458312%5D%2C%20%5B45.4682735%2C%209.1457507%5D%2C%20%5B45.4686704%2C%209.1456273%5D%2C%20%5B45.4692256%2C%209.1454798%5D%2C%20%5B45.4700705%2C%209.1452169%5D%2C%20%5B45.4701081%2C%209.1453403%5D%2C%20%5B45.4701671%2C%209.1454342%5D%2C%20%5B45.4702073%2C%209.1454852%5D%2C%20%5B45.4702315%2C%209.1455147%5D%2C%20%5B45.4703012%2C%209.1455764%5D%2C%20%5B45.4703602%2C%209.1456085%5D%2C%20%5B45.4704112%2C%209.1456112%5D%2C%20%5B45.4706392%2C%209.1455737%5D%2C%20%5B45.4709047%2C%209.1454986%5D%2C%20%5B45.4709932%2C%209.1454718%5D%2C%20%5B45.4712856%2C%209.1453832%5D%2C%20%5B45.4713929%2C%209.1453269%5D%2C%20%5B45.471417%2C%209.1453055%5D%2C%20%5B45.4714841%2C%209.1452304%5D%2C%20%5B45.4715163%2C%209.1451848%5D%2C%20%5B45.4715458%2C%209.1451338%5D%2C%20%5B45.4716155%2C%209.1449139%5D%2C%20%5B45.4716209%2C%209.1448414%5D%2C%20%5B45.4716235%2C%209.1447368%5D%2C%20%5B45.4721949%2C%209.1445464%5D%2C%20%5B45.4728949%2C%209.1443452%5D%2C%20%5B45.4732892%2C%209.1442245%5D%2C%20%5B45.4736459%2C%209.1441226%5D%2C%20%5B45.4739195%2C%209.1440368%5D%2C%20%5B45.474287%2C%209.1439214%5D%2C%20%5B45.4744023%2C%209.1438839%5D%2C%20%5B45.4745069%2C%209.143849%5D%2C%20%5B45.4749629%2C%209.1436881%5D%2C%20%5B45.4750568%2C%209.1436586%5D%2C%20%5B45.4752553%2C%209.1435862%5D%2C%20%5B45.4757193%2C%209.1434225%5D%2C%20%5B45.4758239%2C%209.1434413%5D%2C%20%5B45.4759097%2C%209.1434574%5D%2C%20%5B45.4759848%2C%209.1434735%5D%2C%20%5B45.4761377%2C%209.1434628%5D%2C%20%5B45.476245%2C%209.1434306%5D%2C%20%5B45.4762986%2C%209.1433957%5D%2C%20%5B45.4763308%2C%209.1433662%5D%2C%20%5B45.4763603%2C%209.1433153%5D%2C%20%5B45.4763791%2C%209.1432536%5D%2C%20%5B45.4769316%2C%209.1431034%5D%2C%20%5B45.4773259%2C%209.1430417%5D%2C%20%5B45.4774868%2C%209.143039%5D%2C%20%5B45.4775593%2C%209.1430336%5D%2C%20%5B45.4777256%2C%209.143039%5D%2C%20%5B45.4787743%2C%209.1430765%5D%2C%20%5B45.4789621%2C%209.1430873%5D%2C%20%5B45.4791579%2C%209.1431034%5D%2C%20%5B45.4791713%2C%209.1433287%5D%2C%20%5B45.4791686%2C%209.1435245%5D%2C%20%5B45.4791766%2C%209.1436237%5D%2C%20%5B45.4791874%2C%209.14368%5D%2C%20%5B45.4792088%2C%209.1437337%5D%2C%20%5B45.4792571%2C%209.1438249%5D%2C%20%5B45.4793403%2C%209.143967%5D%2C%20%5B45.4794019%2C%209.1440797%5D%2C%20%5B45.4794583%2C%209.1441548%5D%2C%20%5B45.4795602%2C%209.1442701%5D%2C%20%5B45.4796433%2C%209.1443157%5D%2C%20%5B45.4797801%2C%209.1443425%5D%2C%20%5B45.4799116%2C%209.1443399%5D%2C%20%5B45.4799759%2C%209.1443184%5D%2C%20%5B45.4800671%2C%209.1444632%5D%2C%20%5B45.4808128%2C%209.1456246%5D%2C%20%5B45.4809925%2C%209.1458929%5D%2C%20%5B45.4810783%2C%209.1460216%5D%2C%20%5B45.4813063%2C%209.1463703%5D%2C%20%5B45.4814565%2C%209.1465956%5D%2C%20%5B45.4818454%2C%209.1471884%5D%2C%20%5B45.4822773%2C%209.1478482%5D%2C%20%5B45.4823658%2C%209.1479769%5D%2C%20%5B45.4826286%2C%209.1483819%5D%2C%20%5B45.4827145%2C%209.1485214%5D%2C%20%5B45.4827923%2C%209.1486421%5D%2C%20%5B45.4828593%2C%209.1487414%5D%2C%20%5B45.4832563%2C%209.149361%5D%2C%20%5B45.4833984%2C%209.1495916%5D%2C%20%5B45.4833984%2C%209.149597%5D%2C%20%5B45.4836425%2C%209.1499805%5D%2C%20%5B45.4837123%2C%209.1500798%5D%2C%20%5B45.4840663%2C%209.1506162%5D%2C%20%5B45.4842702%2C%209.1509274%5D%2C%20%5B45.4845116%2C%209.1512921%5D%2C%20%5B45.4850534%2C%209.1521156%5D%2C%20%5B45.4853243%2C%209.1525394%5D%2C%20%5B45.4855925%2C%209.1529471%5D%2C%20%5B45.4859063%2C%209.1534406%5D%2C%20%5B45.4861209%2C%209.1537651%5D%2C%20%5B45.4864991%2C%209.1543418%5D%2C%20%5B45.486888%2C%209.1549453%5D%2C%20%5B45.4872179%2C%209.1554281%5D%2C%20%5B45.4874003%2C%209.1557312%5D%2C%20%5B45.4876068%2C%209.1560692%5D%2C%20%5B45.48758%2C%209.1561469%5D%2C%20%5B45.4875478%2C%209.1562918%5D%2C%20%5B45.4875532%2C%209.1564232%5D%2C%20%5B45.4875612%2C%209.1565037%5D%2C%20%5B45.4875988%2C%209.1565841%5D%2C%20%5B45.487639%2C%209.1566619%5D%2C%20%5B45.4878455%2C%209.1563401%5D%2C%20%5B45.4880574%2C%209.1559431%5D%2C%20%5B45.4880977%2C%209.1558895%5D%2C%20%5B45.4882318%2C%209.1558546%5D%2C%20%5B45.4882935%2C%209.1557714%5D%2C%20%5B45.4883632%2C%209.1556829%5D%2C%20%5B45.4884383%2C%209.1555864%5D%5D%2C%0A%20%20%20%20%20%20%20%20%20%20%20%20%20%20%20%20%7B%22bubblingMouseEvents%22%3A%20true%2C%20%22color%22%3A%20%22blue%22%2C%20%22dashArray%22%3A%20null%2C%20%22dashOffset%22%3A%20null%2C%20%22fill%22%3A%20false%2C%20%22fillColor%22%3A%20%22blue%22%2C%20%22fillOpacity%22%3A%200.2%2C%20%22fillRule%22%3A%20%22evenodd%22%2C%20%22lineCap%22%3A%20%22round%22%2C%20%22lineJoin%22%3A%20%22round%22%2C%20%22noClip%22%3A%20false%2C%20%22opacity%22%3A%201.0%2C%20%22smoothFactor%22%3A%201.0%2C%20%22stroke%22%3A%20true%2C%20%22weight%22%3A%203%7D%0A%20%20%20%20%20%20%20%20%20%20%20%20%29.addTo%28map_bb52c5b5125f496ca6dd182277619706%29%3B%0A%20%20%20%20%20%20%20%20%0A%3C/script%3E onload=\"this.contentDocument.open();this.contentDocument.write(    decodeURIComponent(this.getAttribute('data-html')));this.contentDocument.close();\" allowfullscreen webkitallowfullscreen mozallowfullscreen></iframe></div></div>"
      ],
      "text/plain": [
       "<folium.folium.Map at 0x1a82085f490>"
      ]
     },
     "execution_count": 19,
     "metadata": {},
     "output_type": "execute_result"
    }
   ],
   "source": [
    "# the identifier of the vehicle's route we want to visualize\n",
    "\n",
    "v_id = \"vehicle_0\"\n",
    "\n",
    "points_traj = dict_results_tomtom[v_id]['points']\n",
    "\n",
    "m = folium.Map(location=[points_traj[0][1], points_traj[0][0]], tiles='cartodbpositron', zoom_start=13)\n",
    "\n",
    "# TomTom Suggestion\n",
    "folium.PolyLine(locations=[list(reversed(coord)) \n",
    "                           for coord in points_traj], weigth=3, color=\"blue\").add_to(m)\n",
    "m"
   ]
  },
  {
   "cell_type": "markdown",
   "id": "ccbf463a",
   "metadata": {},
   "source": [
    "### Save the TomTom results into a dictionary\n",
    "\n",
    "you can merge later several TomTom results with the notebook 3d\n"
   ]
  },
  {
   "cell_type": "code",
   "execution_count": 20,
   "id": "5536b361",
   "metadata": {},
   "outputs": [],
   "source": [
    "a_file = open(\"../data/dicts_suggestion/dict_results_tomtom_[\"+str(id_from)+\"_\"+str(id_to)+\"].json\", \"w\")\n",
    "json.dump(dict_results_tomtom, a_file)\n",
    "a_file.close()"
   ]
  }
 ],
 "metadata": {
  "kernelspec": {
   "display_name": "Python 3 (ipykernel)",
   "language": "python",
   "name": "python3"
  },
  "language_info": {
   "codemirror_mode": {
    "name": "ipython",
    "version": 3
   },
   "file_extension": ".py",
   "mimetype": "text/x-python",
   "name": "python",
   "nbconvert_exporter": "python",
   "pygments_lexer": "ipython3",
   "version": "3.9.7"
  }
 },
 "nbformat": 4,
 "nbformat_minor": 5
}
