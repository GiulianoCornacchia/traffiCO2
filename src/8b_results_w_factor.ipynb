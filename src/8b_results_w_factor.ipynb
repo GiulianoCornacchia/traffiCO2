{
 "cells": [
  {
   "cell_type": "code",
   "execution_count": 1,
   "id": "a2a4ef3f",
   "metadata": {},
   "outputs": [],
   "source": [
    "import json\n",
    "from result_utils import *"
   ]
  },
  {
   "cell_type": "markdown",
   "id": "b1dd2b75",
   "metadata": {},
   "source": [
    "## OpenStreetMap"
   ]
  },
  {
   "cell_type": "markdown",
   "id": "9e03f405",
   "metadata": {},
   "source": [
    "#### parameters"
   ]
  },
  {
   "cell_type": "code",
   "execution_count": 56,
   "id": "bf411694",
   "metadata": {},
   "outputs": [],
   "source": [
    "folder_experiments_osm = \"../sim_outputs/outputs_experiment_w/exps_w_factor_osm/\"\n",
    "nav_str = \"osm\"\n",
    "\n",
    "path_results_exps_osm = \"../results/dict_exps_osm_w.json\"\n",
    "path_results_total_co2_osm = \"../results/dict_total_co2_osm_w.json\"\n",
    "path_results_gini_osm = \"../results/dict_gini_osm_w.json\"\n",
    "path_results_tt_osm = \"../results/dict_tt_osm_w.json\""
   ]
  },
  {
   "cell_type": "markdown",
   "id": "d7d31c88",
   "metadata": {},
   "source": [
    "Create a dictionary that associates configuration and filenames"
   ]
  },
  {
   "cell_type": "code",
   "execution_count": 18,
   "id": "c64ec438",
   "metadata": {},
   "outputs": [],
   "source": [
    "dict_exps_osm = create_dict_exps_w(folder_experiments_osm, nav_str)\n",
    "\n",
    "with open(path_results_exps_osm, 'w') as fp:\n",
    "    json.dump(dict_exps_osm, fp)"
   ]
  },
  {
   "cell_type": "markdown",
   "id": "b16c6b37",
   "metadata": {},
   "source": [
    "#### 1. Total CO2"
   ]
  },
  {
   "cell_type": "code",
   "execution_count": null,
   "id": "4f49f4ec",
   "metadata": {},
   "outputs": [],
   "source": [
    "dict_total_co2_osm = {}\n",
    "\n",
    "for conf in dict_exps_osm:\n",
    "    dict_total_co2_osm[conf] = create_dict_results_co2(dict_exps_osm[conf], folder_experiments_osm)\n",
    "\n",
    "with open(path_results_total_co2_osm, 'w') as fp:\n",
    "    json.dump(dict_total_co2_osm, fp)"
   ]
  },
  {
   "cell_type": "markdown",
   "id": "5a75a367",
   "metadata": {},
   "source": [
    "#### 2. Gini index"
   ]
  },
  {
   "cell_type": "code",
   "execution_count": null,
   "id": "cfeb8438",
   "metadata": {},
   "outputs": [],
   "source": [
    "%%time\n",
    "\n",
    "dict_total_ginis_osm = {}\n",
    "\n",
    "for conf in dict_exps_osm:\n",
    "    dict_total_ginis_osm[conf] = create_dict_results_gini(dict_exps_osm[conf], folder_experiments_osm)\n",
    "\n",
    "with open(path_results_gini_osm, 'w') as fp:\n",
    "    json.dump(dict_total_ginis_osm, fp)"
   ]
  },
  {
   "cell_type": "markdown",
   "id": "81f2dffe",
   "metadata": {},
   "source": [
    "#### 3. Travel time"
   ]
  },
  {
   "cell_type": "code",
   "execution_count": 50,
   "id": "8ab6fb6b",
   "metadata": {},
   "outputs": [
    {
     "name": "stdout",
     "output_type": "stream",
     "text": [
      "Wall time: 11.2 s\n"
     ]
    }
   ],
   "source": [
    "%%time\n",
    "\n",
    "dict_total_tts_osm = {}\n",
    "\n",
    "for conf in dict_exps_osm:\n",
    "    dict_total_tts_osm[conf] = create_dict_results_traveltime(dict_exps_osm[conf], folder_experiments_osm)\n",
    "\n",
    "with open(path_results_tt_osm, 'w') as fp:\n",
    "    json.dump(dict_total_tts_osm, fp)"
   ]
  },
  {
   "cell_type": "markdown",
   "id": "49a52d6d",
   "metadata": {},
   "source": [
    "## TomTom"
   ]
  },
  {
   "cell_type": "markdown",
   "id": "a2797a27",
   "metadata": {},
   "source": [
    "#### parameters"
   ]
  },
  {
   "cell_type": "code",
   "execution_count": 55,
   "id": "c318c7e4",
   "metadata": {},
   "outputs": [],
   "source": [
    "folder_experiments_tomtom = \"../sim_outputs/outputs_experiment_w/exps_w_factor_tomtom/\"\n",
    "nav_str = \"tomtom\"\n",
    "\n",
    "path_results_exps_tomtom = \"../results/dict_exps_tomtom_w.json\"\n",
    "path_results_total_co2_tomtom = \"../results/dict_total_co2_tomtom_w.json\"\n",
    "path_results_gini_tomtom = \"../results/dict_gini_tomtom_w.json\"\n",
    "path_results_tt_tomtom = \"../results/dict_tt_tomtom_w.json\""
   ]
  },
  {
   "cell_type": "markdown",
   "id": "a325890d",
   "metadata": {},
   "source": [
    "Create a dictionary that associates configuration and filenames"
   ]
  },
  {
   "cell_type": "code",
   "execution_count": 3,
   "id": "44a74225",
   "metadata": {},
   "outputs": [],
   "source": [
    "dict_exps_tomtom = create_dict_exps_w(folder_experiments_tomtom, \"tomtom\")\n",
    "\n",
    "with open(path_results_exps_tomtom, 'w') as fp:\n",
    "    json.dump(dict_exps_tomtom, fp)"
   ]
  },
  {
   "cell_type": "markdown",
   "id": "eddf5183",
   "metadata": {},
   "source": [
    "#### 1. Total CO2"
   ]
  },
  {
   "cell_type": "code",
   "execution_count": 11,
   "id": "f39a3253",
   "metadata": {},
   "outputs": [],
   "source": [
    "dict_total_co2_tomtom = {}\n",
    "\n",
    "for conf in dict_exps_tomtom:\n",
    "    dict_total_co2_tomtom[conf] = create_dict_results_co2(dict_exps_tomtom[conf], folder_experiments_tomtom)\n",
    "\n",
    "with open(path_results_total_co2_tomtom, 'w') as fp:\n",
    "    json.dump(dict_total_co2_tomtom, fp)"
   ]
  },
  {
   "cell_type": "markdown",
   "id": "c6749ec5",
   "metadata": {},
   "source": [
    "#### 2. Gini index"
   ]
  },
  {
   "cell_type": "code",
   "execution_count": 14,
   "id": "00673b9a",
   "metadata": {},
   "outputs": [
    {
     "name": "stdout",
     "output_type": "stream",
     "text": [
      "Wall time: 28 s\n"
     ]
    }
   ],
   "source": [
    "%%time\n",
    "\n",
    "dict_ginis_co2_tomtom = {}\n",
    "\n",
    "for conf in dict_exps_tomtom:\n",
    "    dict_ginis_co2_tomtom[conf] = create_dict_results_gini(dict_exps_tomtom[conf], folder_experiments_tomtom)\n",
    "\n",
    "with open(path_results_gini_tomtom, 'w') as fp:\n",
    "    json.dump(dict_ginis_co2_tomtom, fp)"
   ]
  },
  {
   "cell_type": "markdown",
   "id": "7b412c3a",
   "metadata": {},
   "source": [
    "#### 3. Travel time"
   ]
  },
  {
   "cell_type": "code",
   "execution_count": 53,
   "id": "68e57da7",
   "metadata": {},
   "outputs": [
    {
     "name": "stdout",
     "output_type": "stream",
     "text": [
      "Wall time: 11.9 s\n"
     ]
    }
   ],
   "source": [
    "%%time\n",
    "\n",
    "dict_total_tts_tomtom = {}\n",
    "\n",
    "for conf in dict_exps_tomtom:\n",
    "    dict_total_tts_tomtom[conf] = create_dict_results_traveltime(dict_exps_tomtom[conf], folder_experiments_tomtom)\n",
    "\n",
    "with open(path_results_tt_tomtom, 'w') as fp:\n",
    "    json.dump(dict_total_tts_tomtom, fp)"
   ]
  },
  {
   "cell_type": "code",
   "execution_count": null,
   "id": "60a1f210",
   "metadata": {},
   "outputs": [],
   "source": []
  }
 ],
 "metadata": {
  "kernelspec": {
   "display_name": "Python 3 (ipykernel)",
   "language": "python",
   "name": "python3"
  },
  "language_info": {
   "codemirror_mode": {
    "name": "ipython",
    "version": 3
   },
   "file_extension": ".py",
   "mimetype": "text/x-python",
   "name": "python",
   "nbconvert_exporter": "python",
   "pygments_lexer": "ipython3",
   "version": "3.9.7"
  }
 },
 "nbformat": 4,
 "nbformat_minor": 5
}
