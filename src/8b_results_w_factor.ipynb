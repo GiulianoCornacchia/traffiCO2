{
 "cells": [
  {
   "cell_type": "code",
   "execution_count": null,
   "id": "a2a4ef3f",
   "metadata": {},
   "outputs": [],
   "source": [
    "import json\n",
    "from result_utils import *"
   ]
  },
  {
   "cell_type": "markdown",
   "id": "b1dd2b75",
   "metadata": {},
   "source": [
    "## OpenStreetMap & TomTom"
   ]
  },
  {
   "cell_type": "markdown",
   "id": "9e03f405",
   "metadata": {},
   "source": [
    "#### parameters"
   ]
  },
  {
   "cell_type": "code",
   "execution_count": null,
   "id": "3e3d7346",
   "metadata": {},
   "outputs": [],
   "source": [
    "# list of the ws to consider\n",
    "\n",
    "navigators = [\"osm\", \"tomtom\"]\n",
    "\n",
    "w_list = [1, 15]\n",
    "\n",
    "output_folder = \"../results/\""
   ]
  },
  {
   "cell_type": "markdown",
   "id": "d7d31c88",
   "metadata": {},
   "source": [
    "Compute the results and store into dictionaries"
   ]
  },
  {
   "cell_type": "code",
   "execution_count": null,
   "id": "c27bc6c3",
   "metadata": {},
   "outputs": [],
   "source": [
    "for w in w_list:\n",
    "    \n",
    "    for navigator in navigators:\n",
    "        \n",
    "        folder_experiments_nav_w = f\"../sim_outputs/outputs_experiment_w/{navigator}_w{w}/\"\n",
    "        \n",
    "        dict_exps_nav_w = create_dict_exps(folder_experiments_nav_w, navigator)\n",
    "\n",
    "        # 1) Total CO2\n",
    "        dict_total_co2_nav_w = create_dict_results_total(dict_exps_nav_w, folder_experiments_nav_w, \"total_co2\", \"edge\")\n",
    "        with open(f\"{output_folder}dict_total_co2_{navigator}_w{w}.json\", 'w') as fp:\n",
    "            json.dump(dict_total_co2_nav_w, fp)\n",
    "            \n",
    "        # 2) Alpha truncated powerlaw (the execution time may be high)\n",
    "        dict_alphas_co2_nav_w = create_dict_results_alpha(dict_exps_nav_w, folder_experiments_nav_w)\n",
    "        with open(f\"{output_folder}dict_alpha_co2_{navigator}_w{w}.json\", 'w') as fp:\n",
    "            json.dump(dict_alphas_co2_nav_w, fp)\n",
    "            \n",
    "        # 3) Gini Index\n",
    "        dict_ginis_co2_nav_w = create_dict_results_gini(dict_exps_nav_w, folder_experiments_nav_w)\n",
    "        with open(f\"{output_folder}dict_gini_co2_{navigator}_w{w}.json\", 'w') as fp:\n",
    "            json.dump(dict_ginis_co2_nav_w, fp)\n",
    "            \n",
    "        # 4) Travel Time\n",
    "        dict_tt_nav_w = create_dict_results_total(dict_exps_nav_w, folder_experiments_nav_w, \"total_traveltime\", \"vehicle\")\n",
    "        \n",
    "        # to avoid TypeError: Object of type int64 is not JSON serializable\n",
    "        for k in dict_tt_nav_w:\n",
    "            dict_tt_nav_w[k] = [int(tt) for tt in dict_tt_nav_w[k]]\n",
    "            \n",
    "        with open(f\"{output_folder}dict_tt_{navigator}_w{w}.json\", 'w') as fp:\n",
    "            json.dump(dict_tt_nav_w, fp)  "
   ]
  }
 ],
 "metadata": {
  "kernelspec": {
   "display_name": "Python 3 (ipykernel)",
   "language": "python",
   "name": "python3"
  },
  "language_info": {
   "codemirror_mode": {
    "name": "ipython",
    "version": 3
   },
   "file_extension": ".py",
   "mimetype": "text/x-python",
   "name": "python",
   "nbconvert_exporter": "python",
   "pygments_lexer": "ipython3",
   "version": "3.9.7"
  }
 },
 "nbformat": 4,
 "nbformat_minor": 5
}
